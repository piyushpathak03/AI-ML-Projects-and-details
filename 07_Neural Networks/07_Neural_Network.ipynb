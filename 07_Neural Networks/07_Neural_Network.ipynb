{
 "cells": [
  {
   "cell_type": "markdown",
   "metadata": {
    "colab_type": "text",
    "id": "pT3rJzPszHgm"
   },
   "source": [
    "### Author: [Pratik Sharma](https://github.com/sharmapratik88/)\n",
    "## Project 7 - Neural Networks\n",
    "Recognizing multi-digit numbers in photographs captured at street level is an important component of modern-day map making. A classic example of a corpus of such street level photographs is Google’s Street View imagery comprised of hundreds of millions of geo-located 360 degree panoramic images. The ability to automatically transcribe an address number from a geo-located patch of pixels and associate the transcribed number with a known street address helps pinpoint, with a high degree of accuracy, the location of the building it represents. \n",
    "\n",
    "More broadly, recognizing numbers in photographs is a problem of interest to the optical character recognition community. While OCR on constrained domains like document processing is well studied, arbitrary multi-character text recognition in photographs is still highly challenging. This difficulty arises due to the wide variability in the visual appearance of text in the wild on account of a large range of fonts, colors, styles, orientations, and character arrangements. The recognition problem is further complicated by environmental factors such as lighting, shadows, specularities, and occlusions as well as by image acquisition factors such as resolution, motion, and focus blurs.\n",
    "\n",
    "In this project we will use dataset with images centred around a single digit (many of the images do contain some distractors at the sides). Although we are taking a sample of the data which is simpler, it is more complex than MNIST because of the distractors. \n",
    "\n",
    "**The Street View House Numbers (SVHN) Dataset**\n",
    "\n",
    "SVHN is a real-world image dataset for developing machine learning and object recognition algorithms with minimal requirement on data formatting but comes from a significantly harder, unsolved, real world problem (recognizing digits and numbers in natural scene images). SVHN is obtained from house numbers in Google Street View images.\n",
    "\n",
    "[Link to the dataset](https://drive.google.com/file/d/1L2-WXzguhUsCArrFUc8EEkXcj33pahoS/view?usp=sharing)\n",
    "\n",
    "**Acknowledgement for the datasets**\n",
    "\n",
    "Yuval Netzer, Tao Wang, Adam Coates, Alessandro Bissacco, Bo Wu, Andrew Y. Ng Reading Digits in Natural Images with Unsupervised Feature Learning NIPS Workshop on Deep Learning and Unsupervised Feature Learning 2011. PDF http://ufldl.stanford.edu/housenumbers as the URL for this site when necessary.\n",
    "\n",
    "**Objective of the project** is to learn how to implement a simple image classification pipeline based on a deep neural network.\n",
    "\n",
    "* Understand the basic Image Classification pipeline and the data-driven approach (train/predict stages)\n",
    "* Data fetching and understand the train/val/test splits\n",
    "* Implement and apply a deep neural network classifier including (feed forward neural network, RELU, activations)\n",
    "* Understand and be able to implement (vectorized) backpropagation (cost stochastic gradient descent, cross entropy loss, cost functions)\n",
    "* Implement batch normalization for training the neural network\n",
    "* Print the classification accuracy metrics"
   ]
  },
  {
   "cell_type": "code",
   "execution_count": 1,
   "metadata": {
    "colab": {
     "base_uri": "https://localhost:8080/",
     "height": 35
    },
    "colab_type": "code",
    "id": "lz9bffGcyhn8",
    "outputId": "88e7166a-d693-4798-ca57-4e9eca027f89"
   },
   "outputs": [
    {
     "name": "stdout",
     "output_type": "stream",
     "text": [
      "Drive already mounted at /content/drive; to attempt to forcibly remount, call drive.mount(\"/content/drive\", force_remount=True).\n"
     ]
    }
   ],
   "source": [
    "# Mounting Google Drive\n",
    "from google.colab import drive\n",
    "drive.mount('/content/drive')"
   ]
  },
  {
   "cell_type": "code",
   "execution_count": 0,
   "metadata": {
    "colab": {},
    "colab_type": "code",
    "id": "X8PZN4ee1mJI"
   },
   "outputs": [],
   "source": [
    "# Setting the current working directory\n",
    "import os; os.chdir('drive/My Drive/Great Learning/Neural Network')"
   ]
  },
  {
   "cell_type": "markdown",
   "metadata": {
    "colab_type": "text",
    "id": "6DsvU1eB2dJ9"
   },
   "source": [
    "<a id='import'></a>\n",
    "### Import Packages"
   ]
  },
  {
   "cell_type": "code",
   "execution_count": 3,
   "metadata": {
    "colab": {
     "base_uri": "https://localhost:8080/",
     "height": 82
    },
    "colab_type": "code",
    "id": "YdPPqfcR17r5",
    "outputId": "6de7e6c5-07ef-4596-e8f9-08b2861ce82f"
   },
   "outputs": [
    {
     "data": {
      "text/html": [
       "<p style=\"color: red;\">\n",
       "The default version of TensorFlow in Colab will soon switch to TensorFlow 2.x.<br>\n",
       "We recommend you <a href=\"https://www.tensorflow.org/guide/migrate\" target=\"_blank\">upgrade</a> now \n",
       "or ensure your notebook will continue to use TensorFlow 1.x via the <code>%tensorflow_version 1.x</code> magic:\n",
       "<a href=\"https://colab.research.google.com/notebooks/tensorflow_version.ipynb\" target=\"_blank\">more info</a>.</p>\n"
      ],
      "text/plain": [
       "<IPython.core.display.HTML object>"
      ]
     },
     "metadata": {
      "tags": []
     },
     "output_type": "display_data"
    },
    {
     "name": "stdout",
     "output_type": "stream",
     "text": [
      "Found GPU at: /device:GPU:0\n"
     ]
    }
   ],
   "source": [
    "# Imports\n",
    "import pandas as pd, numpy as np, matplotlib.pyplot as plt, seaborn as sns, h5py\n",
    "import matplotlib.style as style; style.use('fivethirtyeight')\n",
    "%matplotlib inline\n",
    "\n",
    "# Metrics and preprocessing\n",
    "from sklearn.metrics import classification_report, accuracy_score, confusion_matrix, precision_score, recall_score, f1_score, precision_recall_curve, auc\n",
    "from sklearn.model_selection import train_test_split\n",
    "from sklearn import preprocessing\n",
    "\n",
    "# TF and Keras\n",
    "from tensorflow.keras.layers import Dense, Dropout, BatchNormalization\n",
    "from tensorflow.keras.layers import Activation, Dense\n",
    "from tensorflow.keras.utils import to_categorical\n",
    "from tensorflow.keras.models import Sequential\n",
    "from tensorflow.keras import optimizers\n",
    "\n",
    "# Checking if GPU is found\n",
    "import tensorflow as tf\n",
    "device_name = tf.test.gpu_device_name()\n",
    "if device_name != '/device:GPU:0':\n",
    "  raise SystemError('GPU device not found')\n",
    "print('Found GPU at: {}'.format(device_name))\n",
    "\n",
    "tf.reset_default_graph()\n",
    "tf.set_random_seed(42)"
   ]
  },
  {
   "cell_type": "code",
   "execution_count": 4,
   "metadata": {
    "colab": {
     "base_uri": "https://localhost:8080/",
     "height": 35
    },
    "colab_type": "code",
    "id": "uWLj6hFH3e36",
    "outputId": "329d6d2a-40ce-4b37-c3aa-4c2937112177"
   },
   "outputs": [
    {
     "name": "stdout",
     "output_type": "stream",
     "text": [
      "'07_Neural Network.ipynb'   SVHN_single_grey1.h5\n"
     ]
    }
   ],
   "source": [
    "!ls '/content/drive/My Drive/Great Learning/Neural Network'"
   ]
  },
  {
   "cell_type": "markdown",
   "metadata": {
    "colab_type": "text",
    "id": "X4jslkxXdFB1"
   },
   "source": [
    "<a id='load'></a>\n",
    "### Load train, val and test datasets from h5py file"
   ]
  },
  {
   "cell_type": "code",
   "execution_count": 5,
   "metadata": {
    "colab": {
     "base_uri": "https://localhost:8080/",
     "height": 159
    },
    "colab_type": "code",
    "id": "kdolI00z7KOf",
    "outputId": "7d3fd2b8-da8b-4c72-f55c-c0868eedb822"
   },
   "outputs": [
    {
     "name": "stdout",
     "output_type": "stream",
     "text": [
      "Training set (42000, 32, 32) (42000,)\n",
      "Validation set (60000, 32, 32) (60000,)\n",
      "Test set (18000, 32, 32) (18000,)\n",
      "\n",
      "\n",
      "Unique labels in y_train: [0 1 2 3 4 5 6 7 8 9]\n",
      "Unique labels in y_val: [0 1 2 3 4 5 6 7 8 9]\n",
      "Unique labels in y_test: [0 1 2 3 4 5 6 7 8 9]\n"
     ]
    }
   ],
   "source": [
    "# Read the h5 file\n",
    "h5_SVH = h5py.File('SVHN_single_grey1.h5', 'r')\n",
    "\n",
    "# Load the training, validation and test sets\n",
    "X_train = h5_SVH['X_train'][:]\n",
    "y_train_o = h5_SVH['y_train'][:]\n",
    "X_val = h5_SVH['X_val'][:]\n",
    "y_val_o = h5_SVH['y_val'][:]\n",
    "X_test = h5_SVH['X_test'][:]\n",
    "y_test_o = h5_SVH['y_test'][:]\n",
    "\n",
    "# Close this file\n",
    "\n",
    "h5_SVH.close()\n",
    "\n",
    "print('Training set', X_train.shape, y_train_o.shape)\n",
    "print('Validation set', X_val.shape, y_val_o.shape)\n",
    "print('Test set', X_test.shape, y_test_o.shape)\n",
    "\n",
    "print('\\n')\n",
    "print('Unique labels in y_train:', np.unique(y_train_o))\n",
    "print('Unique labels in y_val:', np.unique(y_val_o))\n",
    "print('Unique labels in y_test:', np.unique(y_test_o))"
   ]
  },
  {
   "cell_type": "markdown",
   "metadata": {
    "colab_type": "text",
    "id": "OwanQxdD9mBC"
   },
   "source": [
    "<a id='o1'></a>\n",
    "#### Observation 1 - Sets Shape\n",
    "* Length of training sets: 42k, validation sets: 60k, test sets: 18k\n",
    "* Size of the images: 32*32\n",
    "* Number of class: 10"
   ]
  },
  {
   "cell_type": "markdown",
   "metadata": {
    "colab_type": "text",
    "id": "g8Zur6Qxs92_"
   },
   "source": [
    "<a id='visualize'></a>\n",
    "### Visualizing first 10 images"
   ]
  },
  {
   "cell_type": "code",
   "execution_count": 6,
   "metadata": {
    "colab": {
     "base_uri": "https://localhost:8080/",
     "height": 152
    },
    "colab_type": "code",
    "id": "wuXKfSv58lbK",
    "outputId": "4d2bf75c-6b25-4c59-ecd7-0c06aade559e"
   },
   "outputs": [
    {
     "data": {
      "image/png": "[encoded data removed]",
      "text/plain": [
       "<Figure size 1080x324 with 10 Axes>"
      ]
     },
     "metadata": {
      "tags": []
     },
     "output_type": "display_data"
    },
    {
     "name": "stdout",
     "output_type": "stream",
     "text": [
      "Label for each of the above image: [2 6 7 4 4 0 3 0 7 3]\n"
     ]
    }
   ],
   "source": [
    "# Visualizing first 10 images in the dataset and their labels\n",
    "plt.figure(figsize = (15, 4.5))\n",
    "for i in range(10):  \n",
    "    plt.subplot(1, 10, i+1)\n",
    "    plt.imshow(X_train[i].reshape((32, 32)),cmap = plt.cm.binary)\n",
    "    plt.axis('off')\n",
    "plt.subplots_adjust(wspace = -0.1, hspace = -0.1)\n",
    "plt.show()\n",
    "\n",
    "print('Label for each of the above image: %s' % (y_train_o[0 : 10]))"
   ]
  },
  {
   "cell_type": "code",
   "execution_count": 7,
   "metadata": {
    "colab": {
     "base_uri": "https://localhost:8080/",
     "height": 316
    },
    "colab_type": "code",
    "id": "Td7LigoTynL2",
    "outputId": "dea62917-3429-40ac-c813-31b36f8a5f3a"
   },
   "outputs": [
    {
     "name": "stdout",
     "output_type": "stream",
     "text": [
      "Checking first image and label in training set\n",
      "--------------------------------------------------------------------------------\n"
     ]
    },
    {
     "data": {
      "image/png": "[encoded data removed]",
      "text/plain": [
       "<Figure size 432x288 with 1 Axes>"
      ]
     },
     "metadata": {
      "tags": []
     },
     "output_type": "display_data"
    },
    {
     "name": "stdout",
     "output_type": "stream",
     "text": [
      "Label: 2\n"
     ]
    }
   ],
   "source": [
    "print('Checking first image and label in training set'); print('--'*40)\n",
    "plt.imshow(X_train[0], cmap = plt.cm.binary)    \n",
    "plt.show()\n",
    "print('Label:', y_train_o[0])"
   ]
  },
  {
   "cell_type": "code",
   "execution_count": 8,
   "metadata": {
    "colab": {
     "base_uri": "https://localhost:8080/",
     "height": 316
    },
    "colab_type": "code",
    "id": "Bcpa-MFxy0Zt",
    "outputId": "f4593ef0-8dfb-46d5-d06d-3d4c2c88907f"
   },
   "outputs": [
    {
     "name": "stdout",
     "output_type": "stream",
     "text": [
      "Checking first image and label in validation set\n",
      "--------------------------------------------------------------------------------\n"
     ]
    },
    {
     "data": {
      "image/png": "[encoded data removed]",
      "text/plain": [
       "<Figure size 432x288 with 1 Axes>"
      ]
     },
     "metadata": {
      "tags": []
     },
     "output_type": "display_data"
    },
    {
     "name": "stdout",
     "output_type": "stream",
     "text": [
      "Label: 0\n"
     ]
    }
   ],
   "source": [
    "print('Checking first image and label in validation set'); print('--'*40)\n",
    "plt.imshow(X_val[0], cmap = plt.cm.binary)    \n",
    "plt.show()\n",
    "print('Label:', y_val_o[0])"
   ]
  },
  {
   "cell_type": "code",
   "execution_count": 9,
   "metadata": {
    "colab": {
     "base_uri": "https://localhost:8080/",
     "height": 316
    },
    "colab_type": "code",
    "id": "r1OIeig-zHap",
    "outputId": "469be395-b214-4ccb-fdb3-5058f7a2f3f9"
   },
   "outputs": [
    {
     "name": "stdout",
     "output_type": "stream",
     "text": [
      "Checking first image and label in test set\n",
      "--------------------------------------------------------------------------------\n"
     ]
    },
    {
     "data": {
      "image/png": "[encoded data removed]",
      "text/plain": [
       "<Figure size 432x288 with 1 Axes>"
      ]
     },
     "metadata": {
      "tags": []
     },
     "output_type": "display_data"
    },
    {
     "name": "stdout",
     "output_type": "stream",
     "text": [
      "Label: 1\n"
     ]
    }
   ],
   "source": [
    "print('Checking first image and label in test set'); print('--'*40)\n",
    "plt.imshow(X_test[0], cmap = plt.cm.binary)    \n",
    "plt.show()\n",
    "print('Label:', y_test_o[0])"
   ]
  },
  {
   "cell_type": "markdown",
   "metadata": {
    "colab_type": "text",
    "id": "fEQ-CNcVdr-c"
   },
   "source": [
    "<a id='flatten'></a>\n",
    "### Flatten and normalize the images for Keras"
   ]
  },
  {
   "cell_type": "code",
   "execution_count": 10,
   "metadata": {
    "colab": {
     "base_uri": "https://localhost:8080/",
     "height": 159
    },
    "colab_type": "code",
    "id": "t4cfwZ9ldlO0",
    "outputId": "4c4d0e87-bb47-47d7-f016-7bf6347f7ecb"
   },
   "outputs": [
    {
     "name": "stdout",
     "output_type": "stream",
     "text": [
      "Reshaping X data: (n, 32, 32) => (n, 1024)\n",
      "--------------------------------------------------------------------------------\n",
      "Making sure that the values are float so that we can get decimal points after division\n",
      "--------------------------------------------------------------------------------\n",
      "Normalizing the RGB codes by dividing it to the max RGB value\n",
      "--------------------------------------------------------------------------------\n",
      "Converting y data into categorical (one-hot encoding)\n",
      "--------------------------------------------------------------------------------\n"
     ]
    }
   ],
   "source": [
    "print('Reshaping X data: (n, 32, 32) => (n, 1024)'); print('--'*40)\n",
    "X_train = X_train.reshape((X_train.shape[0], -1))\n",
    "X_val = X_val.reshape((X_val.shape[0], -1))\n",
    "X_test = X_test.reshape((X_test.shape[0], -1))\n",
    "\n",
    "print('Making sure that the values are float so that we can get decimal points after division'); print('--'*40)\n",
    "X_train = X_train.astype('float32')\n",
    "X_val = X_val.astype('float32')\n",
    "X_test = X_test.astype('float32')\n",
    "\n",
    "print('Normalizing the RGB codes by dividing it to the max RGB value'); print('--'*40)\n",
    "X_train /= 255\n",
    "X_val /= 255\n",
    "X_test /= 255\n",
    "\n",
    "print('Converting y data into categorical (one-hot encoding)'); print('--'*40)\n",
    "y_train = to_categorical(y_train_o)\n",
    "y_val = to_categorical(y_val_o)\n",
    "y_test = to_categorical(y_test_o)"
   ]
  },
  {
   "cell_type": "code",
   "execution_count": 11,
   "metadata": {
    "colab": {
     "base_uri": "https://localhost:8080/",
     "height": 248
    },
    "colab_type": "code",
    "id": "evUXte-cnfRN",
    "outputId": "9f9be675-0b9e-4a14-dd97-1f4bd4d4efa0"
   },
   "outputs": [
    {
     "name": "stdout",
     "output_type": "stream",
     "text": [
      "X_train shape: (42000, 1024)\n",
      "X_val shape: (60000, 1024)\n",
      "X_test shape: (18000, 1024)\n",
      "\n",
      "\n",
      "y_train shape: (42000, 10)\n",
      "y_val shape: (60000, 10)\n",
      "y_test shape: (18000, 10)\n",
      "\n",
      "\n",
      "Number of images in X_train 42000\n",
      "Number of images in X_val 60000\n",
      "Number of images in X_test 18000\n"
     ]
    }
   ],
   "source": [
    "print('X_train shape:', X_train.shape)\n",
    "print('X_val shape:', X_val.shape)\n",
    "print('X_test shape:', X_test.shape)\n",
    "\n",
    "print('\\n')\n",
    "print('y_train shape:', y_train.shape)\n",
    "print('y_val shape:', y_val.shape)\n",
    "print('y_test shape:', y_test.shape)\n",
    "\n",
    "print('\\n')\n",
    "print('Number of images in X_train', X_train.shape[0])\n",
    "print('Number of images in X_val', X_val.shape[0])\n",
    "print('Number of images in X_test', X_test.shape[0])"
   ]
  },
  {
   "cell_type": "markdown",
   "metadata": {
    "colab_type": "text",
    "id": "fGKy-ZD1YAWv"
   },
   "source": [
    "<a id='Baby'></a>\n",
    "### Modelling - Baby sitting the learning process"
   ]
  },
  {
   "cell_type": "markdown",
   "metadata": {
    "colab_type": "text",
    "id": "JX35qWq_AyLZ"
   },
   "source": [
    "#### Fully connected linear layer"
   ]
  },
  {
   "cell_type": "code",
   "execution_count": 0,
   "metadata": {
    "colab": {},
    "colab_type": "code",
    "id": "nyQvFvwMX_pI"
   },
   "outputs": [],
   "source": [
    "class Linear():\n",
    "    def __init__(self, in_size, out_size):\n",
    "        self.W = np.random.randn(in_size, out_size) * 0.01\n",
    "        self.b = np.zeros((1, out_size))\n",
    "        self.params = [self.W, self.b]\n",
    "        self.gradW = None\n",
    "        self.gradB = None\n",
    "        self.gradInput = None        \n",
    "\n",
    "    def forward(self, X):\n",
    "        self.X = X\n",
    "        self.output = np.dot(X, self.W) + self.b\n",
    "        return self.output\n",
    "\n",
    "    def backward(self, nextgrad):\n",
    "        self.gradW = np.dot(self.X.T, nextgrad)\n",
    "        self.gradB = np.sum(nextgrad, axis=0)\n",
    "        self.gradInput = np.dot(nextgrad, self.W.T)\n",
    "        return self.gradInput, [self.gradW, self.gradB]"
   ]
  },
  {
   "cell_type": "markdown",
   "metadata": {
    "colab_type": "text",
    "id": "CQegqIQXA1Wi"
   },
   "source": [
    "#### ReLU"
   ]
  },
  {
   "cell_type": "code",
   "execution_count": 0,
   "metadata": {
    "colab": {},
    "colab_type": "code",
    "id": "A0HxN2PnaaaM"
   },
   "outputs": [],
   "source": [
    "class ReLU():\n",
    "    def __init__(self):\n",
    "        self.params = []\n",
    "        self.gradInput = None\n",
    "\n",
    "    def forward(self, X):\n",
    "        self.output = np.maximum(X, 0)\n",
    "        return self.output\n",
    "\n",
    "    def backward(self, nextgrad):\n",
    "        self.gradInput = nextgrad.copy()\n",
    "        self.gradInput[self.output <=0] = 0\n",
    "        return self.gradInput, []"
   ]
  },
  {
   "cell_type": "markdown",
   "metadata": {
    "colab_type": "text",
    "id": "5CwuYJdhA7sz"
   },
   "source": [
    "#### Softmax function"
   ]
  },
  {
   "cell_type": "code",
   "execution_count": 0,
   "metadata": {
    "colab": {},
    "colab_type": "code",
    "id": "5AxCBE9fagiP"
   },
   "outputs": [],
   "source": [
    "def softmax(x):\n",
    "    exp_x = np.exp(x - np.max(x, axis=1, keepdims=True))\n",
    "    return exp_x / np.sum(exp_x, axis=1, keepdims=True)"
   ]
  },
  {
   "cell_type": "markdown",
   "metadata": {
    "colab_type": "text",
    "id": "x6X9_AZeA-61"
   },
   "source": [
    "#### Cross entropy loss"
   ]
  },
  {
   "cell_type": "code",
   "execution_count": 0,
   "metadata": {
    "colab": {},
    "colab_type": "code",
    "id": "tbjl_6qYaq80"
   },
   "outputs": [],
   "source": [
    "class CrossEntropy:\n",
    "    def forward(self, X, y):\n",
    "        self.m = y.shape[0]\n",
    "        self.p = softmax(X)\n",
    "        cross_entropy = -np.log(self.p[range(self.m), y]+1e-16)\n",
    "        loss = np.sum(cross_entropy) / self.m\n",
    "        return loss\n",
    "    \n",
    "    def backward(self, X, y):\n",
    "        y_idx = y.argmax()        \n",
    "        grad = softmax(X)\n",
    "        grad[range(self.m), y] -= 1\n",
    "        grad /= self.m\n",
    "        return grad"
   ]
  },
  {
   "cell_type": "markdown",
   "metadata": {
    "colab_type": "text",
    "id": "g-dLPKqbBCuT"
   },
   "source": [
    "#### NN class that enables the forward prop and backward propagation of the entire network"
   ]
  },
  {
   "cell_type": "code",
   "execution_count": 0,
   "metadata": {
    "colab": {},
    "colab_type": "code",
    "id": "aOUQbEfIawH0"
   },
   "outputs": [],
   "source": [
    "class NN():\n",
    "    def __init__(self, lossfunc = CrossEntropy(), mode = 'train'):\n",
    "        self.params = []\n",
    "        self.layers = []\n",
    "        self.loss_func = lossfunc\n",
    "        self.grads = []\n",
    "        self.mode = mode\n",
    "        \n",
    "    def add_layer(self, layer):\n",
    "        self.layers.append(layer)\n",
    "        self.params.append(layer.params)\n",
    "\n",
    "    def forward(self, X):\n",
    "        for layer in self.layers:\n",
    "            X = layer.forward(X)\n",
    "        return X\n",
    "    \n",
    "    def backward(self, nextgrad):\n",
    "        self.clear_grad_param()\n",
    "        for layer in reversed(self.layers):\n",
    "            nextgrad, grad = layer.backward(nextgrad)\n",
    "            self.grads.append(grad)\n",
    "        return self.grads\n",
    "    \n",
    "    def train_step(self, X, y):\n",
    "        out = self.forward(X)\n",
    "        loss = self.loss_func.forward(out,y)\n",
    "        nextgrad = self.loss_func.backward(out,y)\n",
    "        grads = self.backward(nextgrad)\n",
    "        return loss, grads\n",
    "    \n",
    "    def predict(self, X):\n",
    "        X = self.forward(X)\n",
    "        p = softmax(X)\n",
    "        return np.argmax(p, axis=1)\n",
    "    \n",
    "    def predict_scores(self, X):\n",
    "        X = self.forward(X)\n",
    "        p = softmax(X)\n",
    "        return p\n",
    "    \n",
    "    def clear_grad_param(self):\n",
    "        self.grads = []"
   ]
  },
  {
   "cell_type": "markdown",
   "metadata": {
    "colab_type": "text",
    "id": "mHLu_qtoBGYg"
   },
   "source": [
    "#### Update function SGD with momentum"
   ]
  },
  {
   "cell_type": "code",
   "execution_count": 0,
   "metadata": {
    "colab": {},
    "colab_type": "code",
    "id": "XpEjX7qqbN9q"
   },
   "outputs": [],
   "source": [
    "def update(velocity, params, grads, learning_rate=0.01, mu=0.9):\n",
    "    for v, p, g, in zip(velocity, params, reversed(grads)):\n",
    "        for i in range(len(g)):\n",
    "            v[i] = (mu * v[i]) - (learning_rate * g[i])\n",
    "            p[i] += v[i]"
   ]
  },
  {
   "cell_type": "markdown",
   "metadata": {
    "colab_type": "text",
    "id": "YQnT5wBFBJUH"
   },
   "source": [
    "#### Get minibatches"
   ]
  },
  {
   "cell_type": "code",
   "execution_count": 0,
   "metadata": {
    "colab": {},
    "colab_type": "code",
    "id": "xYxPXK7Fbfgk"
   },
   "outputs": [],
   "source": [
    "def minibatch(X, y, minibatch_size):\n",
    "    n = X.shape[0]\n",
    "    minibatches = []\n",
    "    permutation = np.random.permutation(X.shape[0])\n",
    "    X = X[permutation]\n",
    "    y = y[permutation]\n",
    "    \n",
    "    for i in range(0, n , minibatch_size):\n",
    "        X_batch = X[i:i + minibatch_size, :]\n",
    "        y_batch = y[i:i + minibatch_size, ]\n",
    "        minibatches.append((X_batch, y_batch))\n",
    "        \n",
    "    return minibatches"
   ]
  },
  {
   "cell_type": "markdown",
   "metadata": {
    "colab_type": "text",
    "id": "ScfG6m51BQfz"
   },
   "source": [
    "#### The training loop"
   ]
  },
  {
   "cell_type": "code",
   "execution_count": 0,
   "metadata": {
    "colab": {},
    "colab_type": "code",
    "id": "y6F3W-wfbpqC"
   },
   "outputs": [],
   "source": [
    "def train(net, X_train, y_train, minibatch_size, epoch, learning_rate, mu = 0.9, X_val = None, y_val = None, Lambda = 0, verb = True):\n",
    "    val_loss_epoch = []\n",
    "    minibatches = minibatch(X_train, y_train, minibatch_size)\n",
    "    minibatches_val = minibatch(X_val, y_val, minibatch_size)\n",
    "    \n",
    "    for i in range(epoch):\n",
    "        loss_batch = []\n",
    "        val_loss_batch = []\n",
    "        velocity = []\n",
    "        for param_layer in net.params:\n",
    "            p = [np.zeros_like(param) for param in list(param_layer)]\n",
    "            velocity.append(p)\n",
    "            \n",
    "        # iterate over mini batches\n",
    "        for X_mini, y_mini in minibatches:\n",
    "            loss, grads = net.train_step(X_mini, y_mini)\n",
    "            loss_batch.append(loss)\n",
    "            update(velocity, net.params, grads, learning_rate=learning_rate, mu=mu)\n",
    "\n",
    "        for X_mini_val, y_mini_val in minibatches_val:\n",
    "            val_loss, _ = net.train_step(X_mini, y_mini)\n",
    "            val_loss_batch.append(val_loss)\n",
    "        \n",
    "        # accuracy of model at end of epoch after all mini batch updates\n",
    "        m_train = X_train.shape[0]\n",
    "        m_val = X_val.shape[0]\n",
    "        y_train_pred = []\n",
    "        y_val_pred = []\n",
    "        y_train1 = []\n",
    "        y_vall = []\n",
    "        for ii in range(0, m_train, minibatch_size):\n",
    "            X_tr = X_train[ii:ii + minibatch_size, : ]\n",
    "            y_tr = y_train[ii:ii + minibatch_size,]\n",
    "            y_train1 = np.append(y_train1, y_tr)\n",
    "            y_train_pred = np.append(y_train_pred, net.predict(X_tr))\n",
    "\n",
    "        for ii in range(0, m_val, minibatch_size):\n",
    "            X_va = X_val[ii:ii + minibatch_size, : ]\n",
    "            y_va = y_val[ii:ii + minibatch_size,]\n",
    "            y_vall = np.append(y_vall, y_va)\n",
    "            y_val_pred = np.append(y_val_pred, net.predict(X_va))\n",
    "            \n",
    "        train_acc = check_accuracy(y_train1, y_train_pred)\n",
    "        val_acc = check_accuracy(y_vall, y_val_pred)\n",
    "        \n",
    "        ## weights\n",
    "        w = np.array(net.params[0][0])\n",
    "        \n",
    "        ## adding regularization to cost\n",
    "        mean_train_loss = (sum(loss_batch) / float(len(loss_batch)))\n",
    "        mean_val_loss = sum(val_loss_batch) / float(len(val_loss_batch))\n",
    "        \n",
    "        val_loss_epoch.append(mean_val_loss)\n",
    "        if verb:\n",
    "            if i%50==0:\n",
    "                print(\"Epoch {3}/{4}: Loss = {0} | Training Accuracy = {1}\".format(mean_train_loss, train_acc, val_acc, i, epoch))\n",
    "    return net, val_acc"
   ]
  },
  {
   "cell_type": "markdown",
   "metadata": {
    "colab_type": "text",
    "id": "kFKQ9JIPBU2L"
   },
   "source": [
    "#### Checking the accuracy of the model"
   ]
  },
  {
   "cell_type": "code",
   "execution_count": 0,
   "metadata": {
    "colab": {},
    "colab_type": "code",
    "id": "gAAOfhBebz8d"
   },
   "outputs": [],
   "source": [
    "def check_accuracy(y_true, y_pred):\n",
    "    return np.mean(y_pred == y_true)"
   ]
  },
  {
   "cell_type": "markdown",
   "metadata": {
    "colab_type": "text",
    "id": "iagKp2kvBaZD"
   },
   "source": [
    "#### Invoking all that we have created until now"
   ]
  },
  {
   "cell_type": "code",
   "execution_count": 0,
   "metadata": {
    "colab": {},
    "colab_type": "code",
    "id": "vA1-5ojib7XH"
   },
   "outputs": [],
   "source": [
    "# Invoking the model\n",
    "## input size\n",
    "input_dim = X_train.shape[1]\n",
    "\n",
    "def train_and_test_loop(iterations, lr, Lambda, verb = True):\n",
    "    ## hyperparameters\n",
    "    iterations = iterations\n",
    "    learning_rate = lr\n",
    "    hidden_nodes1 = 10\n",
    "    output_nodes = 10\n",
    "\n",
    "    ## define neural net\n",
    "    nn = NN()\n",
    "    nn.add_layer(Linear(input_dim, hidden_nodes1))\n",
    "\n",
    "    nn, val_acc = train(nn, X_train, y_train_o, minibatch_size = 200, epoch = iterations, learning_rate = learning_rate,\\\n",
    "                      X_val = X_test, y_val = y_test_o, Lambda = Lambda, verb = verb)\n",
    "    return val_acc"
   ]
  },
  {
   "cell_type": "markdown",
   "metadata": {
    "colab_type": "text",
    "id": "_JhBJRfvBfiC"
   },
   "source": [
    "#### Double Check that the loss is reasonable : Disable the regularization"
   ]
  },
  {
   "cell_type": "code",
   "execution_count": 22,
   "metadata": {
    "colab": {
     "base_uri": "https://localhost:8080/",
     "height": 52
    },
    "colab_type": "code",
    "id": "fjbjgrHl6LBv",
    "outputId": "8dd2b91f-4761-480b-c68e-bdfe4c4a54a2"
   },
   "outputs": [
    {
     "name": "stdout",
     "output_type": "stream",
     "text": [
      "Epoch 0/1: Loss = 2.3117883972138844 | Training Accuracy = 0.09335714285714286\n"
     ]
    },
    {
     "data": {
      "text/plain": [
       "0.09438888888888888"
      ]
     },
     "execution_count": 22,
     "metadata": {
      "tags": []
     },
     "output_type": "execute_result"
    }
   ],
   "source": [
    "lr = 0.00001\n",
    "Lambda = 0\n",
    "train_and_test_loop(1, lr, Lambda)"
   ]
  },
  {
   "cell_type": "markdown",
   "metadata": {
    "colab_type": "text",
    "id": "wFbKNxLpBl7i"
   },
   "source": [
    "#### Now, lets crank up the Lambda(Regularization) and check what it does to our loss function"
   ]
  },
  {
   "cell_type": "code",
   "execution_count": 23,
   "metadata": {
    "colab": {
     "base_uri": "https://localhost:8080/",
     "height": 52
    },
    "colab_type": "code",
    "id": "_OtyvtW39bmm",
    "outputId": "ce84f1ba-9d21-4a36-c881-579f3fa3ba4d"
   },
   "outputs": [
    {
     "name": "stdout",
     "output_type": "stream",
     "text": [
      "Epoch 0/1: Loss = 2.3082000425724667 | Training Accuracy = 0.08478571428571428\n"
     ]
    },
    {
     "data": {
      "text/plain": [
       "0.08188888888888889"
      ]
     },
     "execution_count": 23,
     "metadata": {
      "tags": []
     },
     "output_type": "execute_result"
    }
   ],
   "source": [
    "lr = 0.00001\n",
    "Lambda = 1e3\n",
    "train_and_test_loop(1, lr, Lambda)"
   ]
  },
  {
   "cell_type": "markdown",
   "metadata": {
    "colab_type": "text",
    "id": "7Zq7TGKfBped"
   },
   "source": [
    "#### Now, lets overfit to a small subset of our dataset, in this case 20 images"
   ]
  },
  {
   "cell_type": "code",
   "execution_count": 24,
   "metadata": {
    "colab": {
     "base_uri": "https://localhost:8080/",
     "height": 35
    },
    "colab_type": "code",
    "id": "882INFrA9wSF",
    "outputId": "8f0d13f9-0dc9-40eb-a335-30f87bb8b746"
   },
   "outputs": [
    {
     "data": {
      "text/plain": [
       "((20, 1024), (20,))"
      ]
     },
     "execution_count": 24,
     "metadata": {
      "tags": []
     },
     "output_type": "execute_result"
    }
   ],
   "source": [
    "X_train_subset = X_train[0:20]\n",
    "y_train_subset = y_train_o[0:20]\n",
    "\n",
    "X_train = X_train_subset\n",
    "y_train_o = y_train_subset\n",
    "\n",
    "X_train.shape, y_train_o.shape"
   ]
  },
  {
   "cell_type": "markdown",
   "metadata": {
    "colab_type": "text",
    "id": "fmS0Eicu-T00"
   },
   "source": [
    "#### Make sure that you can overfit very small portion of the training data\n",
    "So, set a small learning rate and turn regularization off\n",
    "In the code below:\n",
    "* Take the first 20 examples\n",
    "* turn off regularization(reg=0.0)\n",
    "* use simple vanilla 'sgd'"
   ]
  },
  {
   "cell_type": "code",
   "execution_count": 25,
   "metadata": {
    "colab": {
     "base_uri": "https://localhost:8080/",
     "height": 1000
    },
    "colab_type": "code",
    "id": "adxWZ2NO-OrY",
    "outputId": "1a35adc0-91a8-4603-f953-b6430d9030e9"
   },
   "outputs": [
    {
     "name": "stdout",
     "output_type": "stream",
     "text": [
      "CPU times: user 0 ns, sys: 8 µs, total: 8 µs\n",
      "Wall time: 8.11 µs\n",
      "Epoch 0/5000: Loss = 2.343525441008851 | Training Accuracy = 0.0\n",
      "Epoch 50/5000: Loss = 1.9368840865311359 | Training Accuracy = 0.3\n",
      "Epoch 100/5000: Loss = 1.8502138907049706 | Training Accuracy = 0.3\n",
      "Epoch 150/5000: Loss = 1.795704759770493 | Training Accuracy = 0.35\n",
      "Epoch 200/5000: Loss = 1.7505141963680764 | Training Accuracy = 0.4\n",
      "Epoch 250/5000: Loss = 1.7098591715226046 | Training Accuracy = 0.45\n",
      "Epoch 300/5000: Loss = 1.6720807405140872 | Training Accuracy = 0.45\n",
      "Epoch 350/5000: Loss = 1.6364256819871694 | Training Accuracy = 0.5\n",
      "Epoch 400/5000: Loss = 1.602489808977548 | Training Accuracy = 0.55\n",
      "Epoch 450/5000: Loss = 1.5700278004175436 | Training Accuracy = 0.55\n",
      "Epoch 500/5000: Loss = 1.5388749934942745 | Training Accuracy = 0.6\n",
      "Epoch 550/5000: Loss = 1.5089113416081257 | Training Accuracy = 0.6\n",
      "Epoch 600/5000: Loss = 1.480043412413456 | Training Accuracy = 0.6\n",
      "Epoch 650/5000: Loss = 1.4521947854019437 | Training Accuracy = 0.65\n",
      "Epoch 700/5000: Loss = 1.425300621663516 | Training Accuracy = 0.65\n",
      "Epoch 750/5000: Loss = 1.3993044229509757 | Training Accuracy = 0.65\n",
      "Epoch 800/5000: Loss = 1.3741559975684867 | Training Accuracy = 0.65\n",
      "Epoch 850/5000: Loss = 1.3498101223720105 | Training Accuracy = 0.65\n",
      "Epoch 900/5000: Loss = 1.3262256235641494 | Training Accuracy = 0.65\n",
      "Epoch 950/5000: Loss = 1.303364719491542 | Training Accuracy = 0.65\n",
      "Epoch 1000/5000: Loss = 1.2811925334058236 | Training Accuracy = 0.65\n",
      "Epoch 1050/5000: Loss = 1.2596767202488166 | Training Accuracy = 0.65\n",
      "Epoch 1100/5000: Loss = 1.2387871723562258 | Training Accuracy = 0.65\n",
      "Epoch 1150/5000: Loss = 1.218495781389982 | Training Accuracy = 0.65\n",
      "Epoch 1200/5000: Loss = 1.1987762414312768 | Training Accuracy = 0.7\n",
      "Epoch 1250/5000: Loss = 1.1796038829744615 | Training Accuracy = 0.7\n",
      "Epoch 1300/5000: Loss = 1.1609555306717911 | Training Accuracy = 0.7\n",
      "Epoch 1350/5000: Loss = 1.1428093797371377 | Training Accuracy = 0.7\n",
      "Epoch 1400/5000: Loss = 1.1251448873080339 | Training Accuracy = 0.7\n",
      "Epoch 1450/5000: Loss = 1.1079426760244366 | Training Accuracy = 0.8\n",
      "Epoch 1500/5000: Loss = 1.0911844477557584 | Training Accuracy = 0.85\n",
      "Epoch 1550/5000: Loss = 1.0748529058881875 | Training Accuracy = 0.85\n",
      "Epoch 1600/5000: Loss = 1.058931684932634 | Training Accuracy = 0.85\n",
      "Epoch 1650/5000: Loss = 1.0434052864697851 | Training Accuracy = 0.85\n",
      "Epoch 1700/5000: Loss = 1.0282590206397022 | Training Accuracy = 0.85\n",
      "Epoch 1750/5000: Loss = 1.013478952527564 | Training Accuracy = 0.85\n",
      "Epoch 1800/5000: Loss = 0.9990518529073633 | Training Accuracy = 0.85\n",
      "Epoch 1850/5000: Loss = 0.9849651528906417 | Training Accuracy = 0.85\n",
      "Epoch 1900/5000: Loss = 0.9712069020941513 | Training Accuracy = 0.85\n",
      "Epoch 1950/5000: Loss = 0.9577657299933456 | Training Accuracy = 0.85\n",
      "Epoch 2000/5000: Loss = 0.9446308101711862 | Training Accuracy = 0.85\n",
      "Epoch 2050/5000: Loss = 0.9317918272064819 | Training Accuracy = 0.85\n",
      "Epoch 2100/5000: Loss = 0.9192389459746264 | Training Accuracy = 0.85\n",
      "Epoch 2150/5000: Loss = 0.9069627831576392 | Training Accuracy = 0.85\n",
      "Epoch 2200/5000: Loss = 0.8949543807808057 | Training Accuracy = 0.85\n",
      "Epoch 2250/5000: Loss = 0.8832051816107626 | Training Accuracy = 0.9\n",
      "Epoch 2300/5000: Loss = 0.8717070062651777 | Training Accuracy = 0.95\n",
      "Epoch 2350/5000: Loss = 0.8604520318976363 | Training Accuracy = 0.95\n",
      "Epoch 2400/5000: Loss = 0.849432772333326 | Training Accuracy = 0.95\n",
      "Epoch 2450/5000: Loss = 0.8386420595418531 | Training Accuracy = 0.95\n",
      "Epoch 2500/5000: Loss = 0.828073026343203 | Training Accuracy = 0.95\n",
      "Epoch 2550/5000: Loss = 0.8177190902516587 | Training Accuracy = 0.95\n",
      "Epoch 2600/5000: Loss = 0.8075739383704768 | Training Accuracy = 0.95\n",
      "Epoch 2650/5000: Loss = 0.7976315132574238 | Training Accuracy = 0.95\n",
      "Epoch 2700/5000: Loss = 0.7878859996879619 | Training Accuracy = 0.95\n",
      "Epoch 2750/5000: Loss = 0.778331812248966 | Training Accuracy = 0.95\n",
      "Epoch 2800/5000: Loss = 0.7689635837014647 | Training Accuracy = 1.0\n",
      "Epoch 2850/5000: Loss = 0.7597761540560017 | Training Accuracy = 1.0\n",
      "Epoch 2900/5000: Loss = 0.7507645603089181 | Training Accuracy = 1.0\n",
      "Epoch 2950/5000: Loss = 0.7419240267921232 | Training Accuracy = 1.0\n",
      "Epoch 3000/5000: Loss = 0.7332499560928596 | Training Accuracy = 1.0\n",
      "Epoch 3050/5000: Loss = 0.7247379205035223 | Training Accuracy = 1.0\n",
      "Epoch 3100/5000: Loss = 0.716383653964874 | Training Accuracy = 1.0\n",
      "Epoch 3150/5000: Loss = 0.7081830444689625 | Training Accuracy = 1.0\n",
      "Epoch 3200/5000: Loss = 0.700132126890769 | Training Accuracy = 1.0\n",
      "Epoch 3250/5000: Loss = 0.6922270762200713 | Training Accuracy = 1.0\n",
      "Epoch 3300/5000: Loss = 0.6844642011672761 | Training Accuracy = 1.0\n",
      "Epoch 3350/5000: Loss = 0.6768399381190008 | Training Accuracy = 1.0\n",
      "Epoch 3400/5000: Loss = 0.6693508454210667 | Training Accuracy = 1.0\n",
      "Epoch 3450/5000: Loss = 0.6619935979682519 | Training Accuracy = 1.0\n",
      "Epoch 3500/5000: Loss = 0.6547649820817112 | Training Accuracy = 1.0\n",
      "Epoch 3550/5000: Loss = 0.6476618906563633 | Training Accuracy = 1.0\n",
      "Epoch 3600/5000: Loss = 0.6406813185618502 | Training Accuracy = 1.0\n",
      "Epoch 3650/5000: Loss = 0.6338203582818351 | Training Accuracy = 1.0\n",
      "Epoch 3700/5000: Loss = 0.62707619577748 | Training Accuracy = 1.0\n",
      "Epoch 3750/5000: Loss = 0.6204461065619331 | Training Accuracy = 1.0\n",
      "Epoch 3800/5000: Loss = 0.613927451973544 | Training Accuracy = 1.0\n",
      "Epoch 3850/5000: Loss = 0.6075176756363615 | Training Accuracy = 1.0\n",
      "Epoch 3900/5000: Loss = 0.6012143000972181 | Training Accuracy = 1.0\n",
      "Epoch 3950/5000: Loss = 0.5950149236294051 | Training Accuracy = 1.0\n",
      "Epoch 4000/5000: Loss = 0.5889172171935882 | Training Accuracy = 1.0\n",
      "Epoch 4050/5000: Loss = 0.5829189215472004 | Training Accuracy = 1.0\n",
      "Epoch 4100/5000: Loss = 0.5770178444941011 | Training Accuracy = 1.0\n",
      "Epoch 4150/5000: Loss = 0.5712118582668013 | Training Accuracy = 1.0\n",
      "Epoch 4200/5000: Loss = 0.5654988970340131 | Training Accuracy = 1.0\n",
      "Epoch 4250/5000: Loss = 0.5598769545267331 | Training Accuracy = 1.0\n",
      "Epoch 4300/5000: Loss = 0.5543440817764675 | Training Accuracy = 1.0\n",
      "Epoch 4350/5000: Loss = 0.5488983849595841 | Training Accuracy = 1.0\n",
      "Epoch 4400/5000: Loss = 0.5435380233421363 | Training Accuracy = 1.0\n",
      "Epoch 4450/5000: Loss = 0.538261207319821 | Training Accuracy = 1.0\n",
      "Epoch 4500/5000: Loss = 0.5330661965480605 | Training Accuracy = 1.0\n",
      "Epoch 4550/5000: Loss = 0.5279512981574574 | Training Accuracy = 1.0\n",
      "Epoch 4600/5000: Loss = 0.5229148650501726 | Training Accuracy = 1.0\n",
      "Epoch 4650/5000: Loss = 0.5179552942730058 | Training Accuracy = 1.0\n",
      "Epoch 4700/5000: Loss = 0.513071025463205 | Training Accuracy = 1.0\n",
      "Epoch 4750/5000: Loss = 0.5082605393632545 | Training Accuracy = 1.0\n",
      "Epoch 4800/5000: Loss = 0.5035223564010968 | Training Accuracy = 1.0\n",
      "Epoch 4850/5000: Loss = 0.49885503533244346 | Training Accuracy = 1.0\n",
      "Epoch 4900/5000: Loss = 0.4942571719420129 | Training Accuracy = 1.0\n",
      "Epoch 4950/5000: Loss = 0.4897273978007071 | Training Accuracy = 1.0\n"
     ]
    },
    {
     "data": {
      "text/plain": [
       "0.1381111111111111"
      ]
     },
     "execution_count": 25,
     "metadata": {
      "tags": []
     },
     "output_type": "execute_result"
    }
   ],
   "source": [
    "%time\n",
    "lr = 0.001\n",
    "Lambda = 0\n",
    "train_and_test_loop(5000, lr, Lambda)"
   ]
  },
  {
   "cell_type": "markdown",
   "metadata": {
    "colab_type": "text",
    "id": "BleQhuF6ByTQ"
   },
   "source": [
    "#### Loading the original dataset again"
   ]
  },
  {
   "cell_type": "code",
   "execution_count": 26,
   "metadata": {
    "colab": {
     "base_uri": "https://localhost:8080/",
     "height": 159
    },
    "colab_type": "code",
    "id": "C1iZh7go--Tx",
    "outputId": "688eb4bb-3310-47e0-a01c-39b97ca301f2"
   },
   "outputs": [
    {
     "name": "stdout",
     "output_type": "stream",
     "text": [
      "Reshaping X data: (n, 32, 32) => (n, 1024)\n",
      "--------------------------------------------------------------------------------\n",
      "Making sure that the values are float so that we can get decimal points after division\n",
      "--------------------------------------------------------------------------------\n",
      "Normalizing the RGB codes by dividing it to the max RGB value\n",
      "--------------------------------------------------------------------------------\n",
      "Converting y data into categorical (one-hot encoding)\n",
      "--------------------------------------------------------------------------------\n"
     ]
    }
   ],
   "source": [
    "h5_SVH = h5py.File('SVHN_single_grey1.h5', 'r')\n",
    "# Load the training, validation and test sets\n",
    "X_train = h5_SVH['X_train'][:]\n",
    "y_train_o = h5_SVH['y_train'][:]\n",
    "X_val = h5_SVH['X_val'][:]\n",
    "y_val_o = h5_SVH['y_val'][:]\n",
    "X_test = h5_SVH['X_test'][:]\n",
    "y_test_o = h5_SVH['y_test'][:]\n",
    "\n",
    "print('Reshaping X data: (n, 32, 32) => (n, 1024)'); print('--'*40)\n",
    "X_train = X_train.reshape((X_train.shape[0], -1))\n",
    "X_val = X_val.reshape((X_val.shape[0], -1))\n",
    "X_test = X_test.reshape((X_test.shape[0], -1))\n",
    "\n",
    "print('Making sure that the values are float so that we can get decimal points after division'); print('--'*40)\n",
    "X_train = X_train.astype('float32')\n",
    "X_val = X_val.astype('float32')\n",
    "X_test = X_test.astype('float32')\n",
    "\n",
    "print('Normalizing the RGB codes by dividing it to the max RGB value'); print('--'*40)\n",
    "X_train /= 255\n",
    "X_val /= 255\n",
    "X_test /= 255\n",
    "\n",
    "print('Converting y data into categorical (one-hot encoding)'); print('--'*40)\n",
    "y_train = to_categorical(y_train_o)\n",
    "y_val = to_categorical(y_val_o)\n",
    "y_test = to_categorical(y_test_o)"
   ]
  },
  {
   "cell_type": "markdown",
   "metadata": {
    "colab_type": "text",
    "id": "8qZ1E-lE_vD9"
   },
   "source": [
    "#### Start with small regularization and find learning rate that makes the loss go down.\n",
    "* we start with Lambda(small regularization) = 1e-7\n",
    "* we start with a small learning rate = 1e-7"
   ]
  },
  {
   "cell_type": "code",
   "execution_count": 27,
   "metadata": {
    "colab": {
     "base_uri": "https://localhost:8080/",
     "height": 212
    },
    "colab_type": "code",
    "id": "V7q3hsLT_oDn",
    "outputId": "842b874b-99ea-4eee-efc3-369b5b83f4aa"
   },
   "outputs": [
    {
     "name": "stdout",
     "output_type": "stream",
     "text": [
      "Epoch 0/500: Loss = 2.317728157047642 | Training Accuracy = 0.104\n",
      "Epoch 50/500: Loss = 2.3127425227478797 | Training Accuracy = 0.10471428571428572\n",
      "Epoch 100/500: Loss = 2.3094828415428403 | Training Accuracy = 0.1055\n",
      "Epoch 150/500: Loss = 2.307345836509397 | Training Accuracy = 0.10542857142857143\n",
      "Epoch 200/500: Loss = 2.305942805671862 | Training Accuracy = 0.10428571428571429\n",
      "Epoch 250/500: Loss = 2.3050204802732313 | Training Accuracy = 0.10395238095238095\n",
      "Epoch 300/500: Loss = 2.3044129184583078 | Training Accuracy = 0.10254761904761905\n",
      "Epoch 350/500: Loss = 2.3040111864235984 | Training Accuracy = 0.101\n",
      "Epoch 400/500: Loss = 2.303743794017468 | Training Accuracy = 0.10019047619047619\n",
      "Epoch 450/500: Loss = 2.3035638954300524 | Training Accuracy = 0.09911904761904762\n"
     ]
    },
    {
     "data": {
      "text/plain": [
       "0.09555555555555556"
      ]
     },
     "execution_count": 27,
     "metadata": {
      "tags": []
     },
     "output_type": "execute_result"
    }
   ],
   "source": [
    "lr = 1e-7\n",
    "Lambda = 1e-7\n",
    "train_and_test_loop(500, lr, Lambda)"
   ]
  },
  {
   "cell_type": "markdown",
   "metadata": {
    "colab_type": "text",
    "id": "OtPHH89wB8YE"
   },
   "source": [
    "#### Lets try to train now with a value of learning rate 0.001"
   ]
  },
  {
   "cell_type": "code",
   "execution_count": 28,
   "metadata": {
    "colab": {
     "base_uri": "https://localhost:8080/",
     "height": 212
    },
    "colab_type": "code",
    "id": "7hvRY3b__90J",
    "outputId": "47584191-1536-49b4-ccff-db2e2a597ec8"
   },
   "outputs": [
    {
     "name": "stdout",
     "output_type": "stream",
     "text": [
      "Epoch 0/500: Loss = 2.3045206865294667 | Training Accuracy = 0.11473809523809524\n",
      "Epoch 50/500: Loss = 2.259865884155515 | Training Accuracy = 0.20614285714285716\n",
      "Epoch 100/500: Loss = 2.251416078728257 | Training Accuracy = 0.21633333333333332\n",
      "Epoch 150/500: Loss = 2.2471058220607465 | Training Accuracy = 0.22138095238095237\n",
      "Epoch 200/500: Loss = 2.2442164094973287 | Training Accuracy = 0.22454761904761905\n",
      "Epoch 250/500: Loss = 2.2420426056295346 | Training Accuracy = 0.22678571428571428\n",
      "Epoch 300/500: Loss = 2.240300552374621 | Training Accuracy = 0.22766666666666666\n",
      "Epoch 350/500: Loss = 2.2388468080995563 | Training Accuracy = 0.22914285714285715\n",
      "Epoch 400/500: Loss = 2.237598607772921 | Training Accuracy = 0.2300952380952381\n",
      "Epoch 450/500: Loss = 2.2365039099696107 | Training Accuracy = 0.23076190476190475\n"
     ]
    },
    {
     "data": {
      "text/plain": [
       "0.21433333333333332"
      ]
     },
     "execution_count": 28,
     "metadata": {
      "tags": []
     },
     "output_type": "execute_result"
    }
   ],
   "source": [
    "lr = 0.001\n",
    "Lambda = 1e-7\n",
    "train_and_test_loop(500, lr, Lambda)"
   ]
  },
  {
   "cell_type": "markdown",
   "metadata": {
    "colab_type": "text",
    "id": "gU8B62CzAdTA"
   },
   "source": [
    "#### Hyperparameter Optimization\n",
    "\n"
   ]
  },
  {
   "cell_type": "markdown",
   "metadata": {
    "colab_type": "text",
    "id": "qp_2H1IwCUIY"
   },
   "source": [
    "#### Running a finer search"
   ]
  },
  {
   "cell_type": "code",
   "execution_count": 29,
   "metadata": {
    "colab": {
     "base_uri": "https://localhost:8080/",
     "height": 337
    },
    "colab_type": "code",
    "id": "GZN36etSCUsA",
    "outputId": "9b5791f7-94d4-4134-b18c-f2bb284e340c"
   },
   "outputs": [
    {
     "name": "stdout",
     "output_type": "stream",
     "text": [
      "Try 1/10: Best_val_acc: 0.18288888888888888, lr: 0.005248163657617819, Lambda: 64.48340786832672\n",
      "\n",
      "Try 2/10: Best_val_acc: 0.2053888888888889, lr: 0.006679712019881258, Lambda: 0.3646857771377305\n",
      "\n",
      "Try 3/10: Best_val_acc: 0.18827777777777777, lr: 0.0046008725625766725, Lambda: 0.03253300599381195\n",
      "\n",
      "Try 4/10: Best_val_acc: 0.19616666666666666, lr: 0.004120077105146745, Lambda: 13.396751846027179\n",
      "\n",
      "Try 5/10: Best_val_acc: 0.18988888888888888, lr: 0.0015322728061813945, Lambda: 0.05780821685783054\n",
      "\n",
      "Try 6/10: Best_val_acc: 0.2031111111111111, lr: 0.003223010681924104, Lambda: 19.57233858291238\n",
      "\n",
      "Try 7/10: Best_val_acc: 0.18738888888888888, lr: 0.007976192792141505, Lambda: 0.0004221599617830911\n",
      "\n",
      "Try 8/10: Best_val_acc: 0.19411111111111112, lr: 0.009793789314692974, Lambda: 1.7025515288536694\n",
      "\n",
      "Try 9/10: Best_val_acc: 0.19827777777777778, lr: 0.0023285365617220083, Lambda: 5.1261156557902146\n",
      "\n"
     ]
    }
   ],
   "source": [
    "import math\n",
    "for k in range(1, 10):\n",
    "    lr = math.pow(10, np.random.uniform(-3.0, -2.0))\n",
    "    Lambda = math.pow(10, np.random.uniform(-5, 2))\n",
    "    best_acc = train_and_test_loop(100, lr, Lambda, False)\n",
    "    print(\"Try {0}/{1}: Best_val_acc: {2}, lr: {3}, Lambda: {4}\\n\".format(k, 10, best_acc, lr, Lambda))"
   ]
  },
  {
   "cell_type": "markdown",
   "metadata": {
    "colab_type": "text",
    "id": "lzm9IwhkvrIm"
   },
   "source": [
    "##### Observation 2 - Baby sitting the neural network for SVHN\n",
    "* Best accuracy achieved using this method after hyperparameter optimization: 21%."
   ]
  },
  {
   "cell_type": "markdown",
   "metadata": {
    "colab_type": "text",
    "id": "uwYNz4zM-gob"
   },
   "source": [
    "<a id='BasicNN'></a>\n",
    "### Modelling - Neural Network API"
   ]
  },
  {
   "cell_type": "markdown",
   "metadata": {
    "colab_type": "text",
    "id": "vrFnLj4hP787"
   },
   "source": [
    "#### NN model, sigmoid activations, SGD optimizer"
   ]
  },
  {
   "cell_type": "code",
   "execution_count": 30,
   "metadata": {
    "colab": {
     "base_uri": "https://localhost:8080/",
     "height": 126
    },
    "colab_type": "code",
    "id": "clFSpvEc-fkg",
    "outputId": "4ce26658-e9be-40c6-d6c6-331144bd2345"
   },
   "outputs": [
    {
     "name": "stdout",
     "output_type": "stream",
     "text": [
      "NN model with sigmoid activations\n",
      "--------------------------------------------------------------------------------\n",
      "WARNING:tensorflow:From /usr/local/lib/python3.6/dist-packages/tensorflow_core/python/ops/resource_variable_ops.py:1630: calling BaseResourceVariable.__init__ (from tensorflow.python.ops.resource_variable_ops) with constraint is deprecated and will be removed in a future version.\n",
      "Instructions for updating:\n",
      "If using Keras pass *_constraint arguments to layers.\n"
     ]
    }
   ],
   "source": [
    "print('NN model with sigmoid activations'); print('--'*40)\n",
    "# Initialize the neural network classifier\n",
    "model1 = Sequential()\n",
    "\n",
    "# Input Layer - adding input layer and activation functions sigmoid\n",
    "model1.add(Dense(128, input_shape = (1024, )))\n",
    "# Adding activation function\n",
    "model1.add(Activation('sigmoid'))\n",
    "\n",
    "#Hidden Layer 1 - adding first hidden layer\n",
    "model1.add(Dense(64))\n",
    "# Adding activation function\n",
    "model1.add(Activation('sigmoid'))\n",
    "\n",
    "# Output Layer - adding output layer which is of 10 nodes (digits)\n",
    "model1.add(Dense(10))\n",
    "# Adding activation function - softmax for multiclass classification\n",
    "model1.add(Activation('softmax'))"
   ]
  },
  {
   "cell_type": "code",
   "execution_count": 31,
   "metadata": {
    "colab": {
     "base_uri": "https://localhost:8080/",
     "height": 372
    },
    "colab_type": "code",
    "id": "vYDJ37MPlLiL",
    "outputId": "f3c7951d-68c1-4a5a-a18a-b1e0b246c517"
   },
   "outputs": [
    {
     "name": "stdout",
     "output_type": "stream",
     "text": [
      "Model: \"sequential\"\n",
      "_________________________________________________________________\n",
      "Layer (type)                 Output Shape              Param #   \n",
      "=================================================================\n",
      "dense (Dense)                (None, 128)               131200    \n",
      "_________________________________________________________________\n",
      "activation (Activation)      (None, 128)               0         \n",
      "_________________________________________________________________\n",
      "dense_1 (Dense)              (None, 64)                8256      \n",
      "_________________________________________________________________\n",
      "activation_1 (Activation)    (None, 64)                0         \n",
      "_________________________________________________________________\n",
      "dense_2 (Dense)              (None, 10)                650       \n",
      "_________________________________________________________________\n",
      "activation_2 (Activation)    (None, 10)                0         \n",
      "=================================================================\n",
      "Total params: 140,106\n",
      "Trainable params: 140,106\n",
      "Non-trainable params: 0\n",
      "_________________________________________________________________\n"
     ]
    }
   ],
   "source": [
    "model1.summary()"
   ]
  },
  {
   "cell_type": "code",
   "execution_count": 32,
   "metadata": {
    "colab": {
     "base_uri": "https://localhost:8080/",
     "height": 1000
    },
    "colab_type": "code",
    "id": "RkURmgxTQYhx",
    "outputId": "5a9d0c3d-f955-4493-d0e4-d42618d9401b"
   },
   "outputs": [
    {
     "name": "stdout",
     "output_type": "stream",
     "text": [
      "Train on 42000 samples, validate on 60000 samples\n",
      "Epoch 1/100\n",
      "42000/42000 [==============================] - 3s 64us/sample - loss: 2.3172 - acc: 0.1011 - val_loss: 2.3029 - val_acc: 0.1029\n",
      "Epoch 2/100\n",
      "42000/42000 [==============================] - 1s 26us/sample - loss: 2.3030 - acc: 0.1024 - val_loss: 2.3030 - val_acc: 0.1024\n",
      "Epoch 3/100\n",
      "42000/42000 [==============================] - 1s 26us/sample - loss: 2.3031 - acc: 0.0996 - val_loss: 2.3028 - val_acc: 0.0991\n",
      "Epoch 4/100\n",
      "42000/42000 [==============================] - 1s 26us/sample - loss: 2.3030 - acc: 0.0988 - val_loss: 2.3028 - val_acc: 0.1019\n",
      "Epoch 5/100\n",
      "42000/42000 [==============================] - 1s 26us/sample - loss: 2.3029 - acc: 0.0998 - val_loss: 2.3027 - val_acc: 0.1009\n",
      "Epoch 6/100\n",
      "42000/42000 [==============================] - 1s 25us/sample - loss: 2.3028 - acc: 0.0989 - val_loss: 2.3029 - val_acc: 0.0998\n",
      "Epoch 7/100\n",
      "42000/42000 [==============================] - 1s 25us/sample - loss: 2.3028 - acc: 0.1022 - val_loss: 2.3026 - val_acc: 0.1011\n",
      "Epoch 8/100\n",
      "42000/42000 [==============================] - 1s 27us/sample - loss: 2.3027 - acc: 0.1015 - val_loss: 2.3027 - val_acc: 0.0998\n",
      "Epoch 9/100\n",
      "42000/42000 [==============================] - 1s 28us/sample - loss: 2.3027 - acc: 0.1011 - val_loss: 2.3028 - val_acc: 0.1001\n",
      "Epoch 10/100\n",
      "42000/42000 [==============================] - 1s 26us/sample - loss: 2.3027 - acc: 0.1016 - val_loss: 2.3026 - val_acc: 0.1012\n",
      "Epoch 11/100\n",
      "42000/42000 [==============================] - 1s 25us/sample - loss: 2.3027 - acc: 0.1014 - val_loss: 2.3024 - val_acc: 0.1020\n",
      "Epoch 12/100\n",
      "42000/42000 [==============================] - 1s 25us/sample - loss: 2.3026 - acc: 0.0993 - val_loss: 2.3024 - val_acc: 0.0998\n",
      "Epoch 13/100\n",
      "42000/42000 [==============================] - 1s 26us/sample - loss: 2.3026 - acc: 0.1008 - val_loss: 2.3023 - val_acc: 0.1032\n",
      "Epoch 14/100\n",
      "42000/42000 [==============================] - 1s 26us/sample - loss: 2.3025 - acc: 0.1026 - val_loss: 2.3023 - val_acc: 0.1045\n",
      "Epoch 15/100\n",
      "42000/42000 [==============================] - 1s 25us/sample - loss: 2.3024 - acc: 0.1019 - val_loss: 2.3022 - val_acc: 0.1067\n",
      "Epoch 16/100\n",
      "42000/42000 [==============================] - 1s 26us/sample - loss: 2.3024 - acc: 0.1028 - val_loss: 2.3022 - val_acc: 0.0962\n",
      "Epoch 17/100\n",
      "42000/42000 [==============================] - 1s 26us/sample - loss: 2.3024 - acc: 0.1019 - val_loss: 2.3022 - val_acc: 0.1077\n",
      "Epoch 18/100\n",
      "42000/42000 [==============================] - 1s 26us/sample - loss: 2.3023 - acc: 0.1036 - val_loss: 2.3021 - val_acc: 0.1125\n",
      "Epoch 19/100\n",
      "42000/42000 [==============================] - 1s 26us/sample - loss: 2.3022 - acc: 0.1033 - val_loss: 2.3022 - val_acc: 0.1000\n",
      "Epoch 20/100\n",
      "42000/42000 [==============================] - 1s 25us/sample - loss: 2.3023 - acc: 0.1028 - val_loss: 2.3021 - val_acc: 0.1013\n",
      "Epoch 21/100\n",
      "42000/42000 [==============================] - 1s 26us/sample - loss: 2.3022 - acc: 0.1040 - val_loss: 2.3021 - val_acc: 0.1061\n",
      "Epoch 22/100\n",
      "42000/42000 [==============================] - 1s 26us/sample - loss: 2.3021 - acc: 0.1048 - val_loss: 2.3020 - val_acc: 0.1111\n",
      "Epoch 23/100\n",
      "42000/42000 [==============================] - 1s 26us/sample - loss: 2.3021 - acc: 0.1043 - val_loss: 2.3020 - val_acc: 0.1078\n",
      "Epoch 24/100\n",
      "42000/42000 [==============================] - 1s 27us/sample - loss: 2.3020 - acc: 0.1039 - val_loss: 2.3021 - val_acc: 0.1015\n",
      "Epoch 25/100\n",
      "42000/42000 [==============================] - 1s 25us/sample - loss: 2.3021 - acc: 0.1037 - val_loss: 2.3019 - val_acc: 0.1015\n",
      "Epoch 26/100\n",
      "42000/42000 [==============================] - 1s 26us/sample - loss: 2.3020 - acc: 0.1052 - val_loss: 2.3018 - val_acc: 0.1037\n",
      "Epoch 27/100\n",
      "42000/42000 [==============================] - 1s 27us/sample - loss: 2.3020 - acc: 0.1053 - val_loss: 2.3018 - val_acc: 0.1041\n",
      "Epoch 28/100\n",
      "42000/42000 [==============================] - 1s 26us/sample - loss: 2.3019 - acc: 0.1047 - val_loss: 2.3018 - val_acc: 0.1081\n",
      "Epoch 29/100\n",
      "42000/42000 [==============================] - 1s 26us/sample - loss: 2.3019 - acc: 0.1064 - val_loss: 2.3018 - val_acc: 0.1072\n",
      "Epoch 30/100\n",
      "42000/42000 [==============================] - 1s 25us/sample - loss: 2.3019 - acc: 0.1028 - val_loss: 2.3018 - val_acc: 0.1039\n",
      "Epoch 31/100\n",
      "42000/42000 [==============================] - 1s 27us/sample - loss: 2.3018 - acc: 0.1055 - val_loss: 2.3017 - val_acc: 0.1143\n",
      "Epoch 32/100\n",
      "42000/42000 [==============================] - 1s 26us/sample - loss: 2.3017 - acc: 0.1055 - val_loss: 2.3018 - val_acc: 0.1142\n",
      "Epoch 33/100\n",
      "42000/42000 [==============================] - 1s 25us/sample - loss: 2.3016 - acc: 0.1061 - val_loss: 2.3018 - val_acc: 0.1019\n",
      "Epoch 34/100\n",
      "42000/42000 [==============================] - 1s 28us/sample - loss: 2.3018 - acc: 0.1057 - val_loss: 2.3015 - val_acc: 0.1066\n",
      "Epoch 35/100\n",
      "42000/42000 [==============================] - 1s 26us/sample - loss: 2.3017 - acc: 0.1079 - val_loss: 2.3015 - val_acc: 0.1040\n",
      "Epoch 36/100\n",
      "42000/42000 [==============================] - 1s 25us/sample - loss: 2.3017 - acc: 0.1078 - val_loss: 2.3015 - val_acc: 0.1039\n",
      "Epoch 37/100\n",
      "42000/42000 [==============================] - 1s 26us/sample - loss: 2.3014 - acc: 0.1084 - val_loss: 2.3018 - val_acc: 0.1082\n",
      "Epoch 38/100\n",
      "42000/42000 [==============================] - 1s 27us/sample - loss: 2.3015 - acc: 0.1052 - val_loss: 2.3017 - val_acc: 0.0992\n",
      "Epoch 39/100\n",
      "42000/42000 [==============================] - 1s 25us/sample - loss: 2.3014 - acc: 0.1075 - val_loss: 2.3017 - val_acc: 0.1029\n",
      "Epoch 40/100\n",
      "42000/42000 [==============================] - 1s 25us/sample - loss: 2.3015 - acc: 0.1057 - val_loss: 2.3013 - val_acc: 0.1061\n",
      "Epoch 41/100\n",
      "42000/42000 [==============================] - 1s 25us/sample - loss: 2.3014 - acc: 0.1077 - val_loss: 2.3015 - val_acc: 0.1013\n",
      "Epoch 42/100\n",
      "42000/42000 [==============================] - 1s 26us/sample - loss: 2.3014 - acc: 0.1063 - val_loss: 2.3013 - val_acc: 0.1096\n",
      "Epoch 43/100\n",
      "42000/42000 [==============================] - 1s 26us/sample - loss: 2.3014 - acc: 0.1086 - val_loss: 2.3013 - val_acc: 0.1166\n",
      "Epoch 44/100\n",
      "42000/42000 [==============================] - 1s 26us/sample - loss: 2.3014 - acc: 0.1085 - val_loss: 2.3012 - val_acc: 0.1049\n",
      "Epoch 45/100\n",
      "42000/42000 [==============================] - 1s 25us/sample - loss: 2.3013 - acc: 0.1101 - val_loss: 2.3013 - val_acc: 0.1107\n",
      "Epoch 46/100\n",
      "42000/42000 [==============================] - 1s 26us/sample - loss: 2.3013 - acc: 0.1059 - val_loss: 2.3012 - val_acc: 0.1158\n",
      "Epoch 47/100\n",
      "42000/42000 [==============================] - 1s 28us/sample - loss: 2.3012 - acc: 0.1110 - val_loss: 2.3012 - val_acc: 0.1061\n",
      "Epoch 48/100\n",
      "42000/42000 [==============================] - 1s 26us/sample - loss: 2.3012 - acc: 0.1094 - val_loss: 2.3011 - val_acc: 0.1081\n",
      "Epoch 49/100\n",
      "42000/42000 [==============================] - 1s 26us/sample - loss: 2.3012 - acc: 0.1083 - val_loss: 2.3013 - val_acc: 0.1005\n",
      "Epoch 50/100\n",
      "42000/42000 [==============================] - 1s 25us/sample - loss: 2.3011 - acc: 0.1099 - val_loss: 2.3011 - val_acc: 0.1132\n",
      "Epoch 51/100\n",
      "42000/42000 [==============================] - 1s 26us/sample - loss: 2.3010 - acc: 0.1121 - val_loss: 2.3013 - val_acc: 0.1023\n",
      "Epoch 52/100\n",
      "42000/42000 [==============================] - 1s 26us/sample - loss: 2.3011 - acc: 0.1110 - val_loss: 2.3010 - val_acc: 0.1064\n",
      "Epoch 53/100\n",
      "42000/42000 [==============================] - 1s 26us/sample - loss: 2.3011 - acc: 0.1106 - val_loss: 2.3009 - val_acc: 0.1101\n",
      "Epoch 54/100\n",
      "42000/42000 [==============================] - 1s 26us/sample - loss: 2.3010 - acc: 0.1100 - val_loss: 2.3009 - val_acc: 0.1094\n",
      "Epoch 55/100\n",
      "42000/42000 [==============================] - 1s 25us/sample - loss: 2.3009 - acc: 0.1097 - val_loss: 2.3009 - val_acc: 0.1133\n",
      "Epoch 56/100\n",
      "42000/42000 [==============================] - 1s 26us/sample - loss: 2.3009 - acc: 0.1113 - val_loss: 2.3009 - val_acc: 0.1195\n",
      "Epoch 57/100\n",
      "42000/42000 [==============================] - 1s 25us/sample - loss: 2.3009 - acc: 0.1130 - val_loss: 2.3008 - val_acc: 0.1099\n",
      "Epoch 58/100\n",
      "42000/42000 [==============================] - 1s 26us/sample - loss: 2.3009 - acc: 0.1145 - val_loss: 2.3008 - val_acc: 0.1093\n",
      "Epoch 59/100\n",
      "42000/42000 [==============================] - 1s 25us/sample - loss: 2.3009 - acc: 0.1117 - val_loss: 2.3008 - val_acc: 0.1138\n",
      "Epoch 60/100\n",
      "42000/42000 [==============================] - 1s 25us/sample - loss: 2.3008 - acc: 0.1125 - val_loss: 2.3006 - val_acc: 0.1204\n",
      "Epoch 61/100\n",
      "42000/42000 [==============================] - 1s 25us/sample - loss: 2.3008 - acc: 0.1122 - val_loss: 2.3007 - val_acc: 0.1053\n",
      "Epoch 62/100\n",
      "42000/42000 [==============================] - 1s 26us/sample - loss: 2.3007 - acc: 0.1095 - val_loss: 2.3008 - val_acc: 0.1187\n",
      "Epoch 63/100\n",
      "42000/42000 [==============================] - 1s 26us/sample - loss: 2.3007 - acc: 0.1140 - val_loss: 2.3007 - val_acc: 0.1177\n",
      "Epoch 64/100\n",
      "42000/42000 [==============================] - 1s 28us/sample - loss: 2.3007 - acc: 0.1117 - val_loss: 2.3005 - val_acc: 0.1193\n",
      "Epoch 65/100\n",
      "42000/42000 [==============================] - 1s 26us/sample - loss: 2.3006 - acc: 0.1120 - val_loss: 2.3005 - val_acc: 0.1189\n",
      "Epoch 66/100\n",
      "42000/42000 [==============================] - 1s 26us/sample - loss: 2.3006 - acc: 0.1135 - val_loss: 2.3005 - val_acc: 0.1089\n",
      "Epoch 67/100\n",
      "42000/42000 [==============================] - 1s 25us/sample - loss: 2.3006 - acc: 0.1143 - val_loss: 2.3005 - val_acc: 0.1201\n",
      "Epoch 68/100\n",
      "42000/42000 [==============================] - 1s 25us/sample - loss: 2.3004 - acc: 0.1117 - val_loss: 2.3005 - val_acc: 0.1099\n",
      "Epoch 69/100\n",
      "42000/42000 [==============================] - 1s 25us/sample - loss: 2.3005 - acc: 0.1138 - val_loss: 2.3004 - val_acc: 0.1221\n",
      "Epoch 70/100\n",
      "42000/42000 [==============================] - 1s 25us/sample - loss: 2.3004 - acc: 0.1152 - val_loss: 2.3004 - val_acc: 0.1177\n",
      "Epoch 71/100\n",
      "42000/42000 [==============================] - 1s 26us/sample - loss: 2.3004 - acc: 0.1198 - val_loss: 2.3005 - val_acc: 0.1110\n",
      "Epoch 72/100\n",
      "42000/42000 [==============================] - 1s 26us/sample - loss: 2.3004 - acc: 0.1152 - val_loss: 2.3003 - val_acc: 0.1209\n",
      "Epoch 73/100\n",
      "42000/42000 [==============================] - 1s 26us/sample - loss: 2.3004 - acc: 0.1161 - val_loss: 2.3002 - val_acc: 0.1174\n",
      "Epoch 74/100\n",
      "42000/42000 [==============================] - 1s 25us/sample - loss: 2.3003 - acc: 0.1162 - val_loss: 2.3002 - val_acc: 0.1155\n",
      "Epoch 75/100\n",
      "42000/42000 [==============================] - 1s 26us/sample - loss: 2.3002 - acc: 0.1153 - val_loss: 2.3002 - val_acc: 0.1095\n",
      "Epoch 76/100\n",
      "42000/42000 [==============================] - 1s 26us/sample - loss: 2.3002 - acc: 0.1156 - val_loss: 2.3001 - val_acc: 0.1209\n",
      "Epoch 77/100\n",
      "42000/42000 [==============================] - 1s 26us/sample - loss: 2.3002 - acc: 0.1168 - val_loss: 2.3001 - val_acc: 0.1187\n",
      "Epoch 78/100\n",
      "42000/42000 [==============================] - 1s 26us/sample - loss: 2.3001 - acc: 0.1217 - val_loss: 2.3003 - val_acc: 0.1151\n",
      "Epoch 79/100\n",
      "42000/42000 [==============================] - 1s 26us/sample - loss: 2.3001 - acc: 0.1150 - val_loss: 2.3000 - val_acc: 0.1183\n",
      "Epoch 80/100\n",
      "42000/42000 [==============================] - 1s 25us/sample - loss: 2.3001 - acc: 0.1196 - val_loss: 2.3001 - val_acc: 0.1110\n",
      "Epoch 81/100\n",
      "42000/42000 [==============================] - 1s 26us/sample - loss: 2.3001 - acc: 0.1145 - val_loss: 2.3000 - val_acc: 0.1260\n",
      "Epoch 82/100\n",
      "42000/42000 [==============================] - 1s 26us/sample - loss: 2.3000 - acc: 0.1196 - val_loss: 2.3001 - val_acc: 0.1094\n",
      "Epoch 83/100\n",
      "42000/42000 [==============================] - 1s 25us/sample - loss: 2.3000 - acc: 0.1144 - val_loss: 2.2999 - val_acc: 0.1208\n",
      "Epoch 84/100\n",
      "42000/42000 [==============================] - 1s 26us/sample - loss: 2.2999 - acc: 0.1197 - val_loss: 2.2998 - val_acc: 0.1211\n",
      "Epoch 85/100\n",
      "42000/42000 [==============================] - 1s 25us/sample - loss: 2.2999 - acc: 0.1178 - val_loss: 2.2998 - val_acc: 0.1247\n",
      "Epoch 86/100\n",
      "42000/42000 [==============================] - 1s 28us/sample - loss: 2.2998 - acc: 0.1186 - val_loss: 2.2997 - val_acc: 0.1234\n",
      "Epoch 87/100\n",
      "42000/42000 [==============================] - 1s 25us/sample - loss: 2.2998 - acc: 0.1185 - val_loss: 2.2998 - val_acc: 0.1148\n",
      "Epoch 88/100\n",
      "42000/42000 [==============================] - 1s 26us/sample - loss: 2.2998 - acc: 0.1168 - val_loss: 2.2997 - val_acc: 0.1222\n",
      "Epoch 89/100\n",
      "42000/42000 [==============================] - 1s 28us/sample - loss: 2.2998 - acc: 0.1189 - val_loss: 2.2997 - val_acc: 0.1289\n",
      "Epoch 90/100\n",
      "42000/42000 [==============================] - 1s 26us/sample - loss: 2.2997 - acc: 0.1195 - val_loss: 2.2998 - val_acc: 0.1131\n",
      "Epoch 91/100\n",
      "42000/42000 [==============================] - 1s 26us/sample - loss: 2.2997 - acc: 0.1196 - val_loss: 2.2997 - val_acc: 0.1146\n",
      "Epoch 92/100\n",
      "42000/42000 [==============================] - 1s 25us/sample - loss: 2.2996 - acc: 0.1196 - val_loss: 2.2995 - val_acc: 0.1250\n",
      "Epoch 93/100\n",
      "42000/42000 [==============================] - 1s 26us/sample - loss: 2.2996 - acc: 0.1202 - val_loss: 2.2995 - val_acc: 0.1207\n",
      "Epoch 94/100\n",
      "42000/42000 [==============================] - 1s 26us/sample - loss: 2.2995 - acc: 0.1209 - val_loss: 2.2995 - val_acc: 0.1238\n",
      "Epoch 95/100\n",
      "42000/42000 [==============================] - 1s 26us/sample - loss: 2.2995 - acc: 0.1215 - val_loss: 2.2995 - val_acc: 0.1158\n",
      "Epoch 96/100\n",
      "42000/42000 [==============================] - 1s 25us/sample - loss: 2.2994 - acc: 0.1203 - val_loss: 2.2996 - val_acc: 0.1181\n",
      "Epoch 97/100\n",
      "42000/42000 [==============================] - 1s 26us/sample - loss: 2.2994 - acc: 0.1227 - val_loss: 2.2995 - val_acc: 0.1090\n",
      "Epoch 98/100\n",
      "42000/42000 [==============================] - 1s 25us/sample - loss: 2.2994 - acc: 0.1210 - val_loss: 2.2994 - val_acc: 0.1194\n",
      "Epoch 99/100\n",
      "42000/42000 [==============================] - 1s 26us/sample - loss: 2.2994 - acc: 0.1224 - val_loss: 2.2993 - val_acc: 0.1255\n",
      "Epoch 100/100\n",
      "42000/42000 [==============================] - 1s 25us/sample - loss: 2.2993 - acc: 0.1243 - val_loss: 2.2994 - val_acc: 0.1126\n"
     ]
    }
   ],
   "source": [
    "# compiling the neural network classifier, sgd optimizer\n",
    "sgd = optimizers.SGD(lr = 0.01)\n",
    "model1.compile(optimizer = sgd, loss = 'categorical_crossentropy', metrics = ['accuracy'])\n",
    "\n",
    "# Fitting the neural network for training\n",
    "history = model1.fit(X_train, y_train, validation_data = (X_val, y_val), batch_size = 200, epochs = 100, verbose = 1)"
   ]
  },
  {
   "cell_type": "code",
   "execution_count": 33,
   "metadata": {
    "colab": {
     "base_uri": "https://localhost:8080/",
     "height": 88
    },
    "colab_type": "code",
    "id": "airVUr8-FQJ8",
    "outputId": "6ca2bcf8-d177-43c5-894f-c610cb411f3e"
   },
   "outputs": [
    {
     "name": "stdout",
     "output_type": "stream",
     "text": [
      "Evaluate NN model with sigmoid activations\n",
      "--------------------------------------------------------------------------------\n",
      "60000/60000 [==============================] - 3s 47us/sample - loss: 2.2994 - acc: 0.1126\n",
      "Validation accuracy: 11.26\n"
     ]
    }
   ],
   "source": [
    "print('Evaluate NN model with sigmoid activations'); print('--'*40)\n",
    "results1 = model1.evaluate(X_val, y_val)\n",
    "print('Validation accuracy: {}'.format(round(results1[1]*100, 2), '%'))"
   ]
  },
  {
   "cell_type": "markdown",
   "metadata": {
    "colab_type": "text",
    "id": "o2rIo2V1Q10H"
   },
   "source": [
    "#### NN model, sigmoid activations, SGD optimizer, changing learning rate"
   ]
  },
  {
   "cell_type": "code",
   "execution_count": 34,
   "metadata": {
    "colab": {
     "base_uri": "https://localhost:8080/",
     "height": 1000
    },
    "colab_type": "code",
    "id": "YTbX96-vGjFj",
    "outputId": "275c3e7d-35df-4a15-c2f1-e26a47eba163"
   },
   "outputs": [
    {
     "name": "stdout",
     "output_type": "stream",
     "text": [
      "NN model with sigmoid activations - changing learning rate\n",
      "--------------------------------------------------------------------------------\n",
      "Train on 42000 samples, validate on 60000 samples\n",
      "Epoch 1/100\n",
      "42000/42000 [==============================] - 1s 28us/sample - loss: 2.2991 - acc: 0.1169 - val_loss: 2.2993 - val_acc: 0.1169\n",
      "Epoch 2/100\n",
      "42000/42000 [==============================] - 1s 26us/sample - loss: 2.2990 - acc: 0.1221 - val_loss: 2.2992 - val_acc: 0.1207\n",
      "Epoch 3/100\n",
      "42000/42000 [==============================] - 1s 25us/sample - loss: 2.2990 - acc: 0.1222 - val_loss: 2.2992 - val_acc: 0.1231\n",
      "Epoch 4/100\n",
      "42000/42000 [==============================] - 1s 26us/sample - loss: 2.2990 - acc: 0.1248 - val_loss: 2.2992 - val_acc: 0.1244\n",
      "Epoch 5/100\n",
      "42000/42000 [==============================] - 1s 26us/sample - loss: 2.2990 - acc: 0.1266 - val_loss: 2.2992 - val_acc: 0.1257\n",
      "Epoch 6/100\n",
      "42000/42000 [==============================] - 1s 26us/sample - loss: 2.2990 - acc: 0.1285 - val_loss: 2.2992 - val_acc: 0.1260\n",
      "Epoch 7/100\n",
      "42000/42000 [==============================] - 1s 26us/sample - loss: 2.2990 - acc: 0.1264 - val_loss: 2.2991 - val_acc: 0.1277\n",
      "Epoch 8/100\n",
      "42000/42000 [==============================] - 1s 26us/sample - loss: 2.2990 - acc: 0.1262 - val_loss: 2.2991 - val_acc: 0.1290\n",
      "Epoch 9/100\n",
      "42000/42000 [==============================] - 1s 26us/sample - loss: 2.2990 - acc: 0.1290 - val_loss: 2.2991 - val_acc: 0.1291\n",
      "Epoch 10/100\n",
      "42000/42000 [==============================] - 1s 26us/sample - loss: 2.2990 - acc: 0.1296 - val_loss: 2.2991 - val_acc: 0.1291\n",
      "Epoch 11/100\n",
      "42000/42000 [==============================] - 1s 26us/sample - loss: 2.2990 - acc: 0.1286 - val_loss: 2.2991 - val_acc: 0.1295\n",
      "Epoch 12/100\n",
      "42000/42000 [==============================] - 1s 26us/sample - loss: 2.2989 - acc: 0.1320 - val_loss: 2.2991 - val_acc: 0.1291\n",
      "Epoch 13/100\n",
      "42000/42000 [==============================] - 1s 25us/sample - loss: 2.2989 - acc: 0.1301 - val_loss: 2.2991 - val_acc: 0.1289\n",
      "Epoch 14/100\n",
      "42000/42000 [==============================] - 1s 26us/sample - loss: 2.2989 - acc: 0.1279 - val_loss: 2.2991 - val_acc: 0.1287\n",
      "Epoch 15/100\n",
      "42000/42000 [==============================] - 1s 26us/sample - loss: 2.2989 - acc: 0.1305 - val_loss: 2.2991 - val_acc: 0.1286\n",
      "Epoch 16/100\n",
      "42000/42000 [==============================] - 1s 28us/sample - loss: 2.2989 - acc: 0.1282 - val_loss: 2.2991 - val_acc: 0.1289\n",
      "Epoch 17/100\n",
      "42000/42000 [==============================] - 1s 26us/sample - loss: 2.2989 - acc: 0.1305 - val_loss: 2.2991 - val_acc: 0.1286\n",
      "Epoch 18/100\n",
      "42000/42000 [==============================] - 1s 26us/sample - loss: 2.2989 - acc: 0.1276 - val_loss: 2.2991 - val_acc: 0.1293\n",
      "Epoch 19/100\n",
      "42000/42000 [==============================] - 1s 26us/sample - loss: 2.2989 - acc: 0.1284 - val_loss: 2.2991 - val_acc: 0.1300\n",
      "Epoch 20/100\n",
      "42000/42000 [==============================] - 1s 25us/sample - loss: 2.2989 - acc: 0.1305 - val_loss: 2.2991 - val_acc: 0.1300\n",
      "Epoch 21/100\n",
      "42000/42000 [==============================] - 1s 26us/sample - loss: 2.2989 - acc: 0.1314 - val_loss: 2.2991 - val_acc: 0.1294\n",
      "Epoch 22/100\n",
      "42000/42000 [==============================] - 1s 26us/sample - loss: 2.2989 - acc: 0.1301 - val_loss: 2.2991 - val_acc: 0.1296\n",
      "Epoch 23/100\n",
      "42000/42000 [==============================] - 1s 27us/sample - loss: 2.2989 - acc: 0.1304 - val_loss: 2.2991 - val_acc: 0.1293\n",
      "Epoch 24/100\n",
      "42000/42000 [==============================] - 1s 27us/sample - loss: 2.2989 - acc: 0.1315 - val_loss: 2.2991 - val_acc: 0.1279\n",
      "Epoch 25/100\n",
      "42000/42000 [==============================] - 1s 27us/sample - loss: 2.2989 - acc: 0.1285 - val_loss: 2.2991 - val_acc: 0.1289\n",
      "Epoch 26/100\n",
      "42000/42000 [==============================] - 1s 27us/sample - loss: 2.2989 - acc: 0.1281 - val_loss: 2.2991 - val_acc: 0.1292\n",
      "Epoch 27/100\n",
      "42000/42000 [==============================] - 1s 27us/sample - loss: 2.2989 - acc: 0.1303 - val_loss: 2.2991 - val_acc: 0.1293\n",
      "Epoch 28/100\n",
      "42000/42000 [==============================] - 1s 27us/sample - loss: 2.2989 - acc: 0.1315 - val_loss: 2.2991 - val_acc: 0.1281\n",
      "Epoch 29/100\n",
      "42000/42000 [==============================] - 1s 27us/sample - loss: 2.2989 - acc: 0.1288 - val_loss: 2.2991 - val_acc: 0.1285\n",
      "Epoch 30/100\n",
      "42000/42000 [==============================] - 1s 28us/sample - loss: 2.2989 - acc: 0.1285 - val_loss: 2.2990 - val_acc: 0.1287\n",
      "Epoch 31/100\n",
      "42000/42000 [==============================] - 1s 28us/sample - loss: 2.2989 - acc: 0.1293 - val_loss: 2.2990 - val_acc: 0.1290\n",
      "Epoch 32/100\n",
      "42000/42000 [==============================] - 1s 26us/sample - loss: 2.2989 - acc: 0.1287 - val_loss: 2.2990 - val_acc: 0.1294\n",
      "Epoch 33/100\n",
      "42000/42000 [==============================] - 1s 26us/sample - loss: 2.2989 - acc: 0.1316 - val_loss: 2.2990 - val_acc: 0.1288\n",
      "Epoch 34/100\n",
      "42000/42000 [==============================] - 1s 26us/sample - loss: 2.2989 - acc: 0.1297 - val_loss: 2.2990 - val_acc: 0.1289\n",
      "Epoch 35/100\n",
      "42000/42000 [==============================] - 1s 26us/sample - loss: 2.2989 - acc: 0.1300 - val_loss: 2.2990 - val_acc: 0.1294\n",
      "Epoch 36/100\n",
      "42000/42000 [==============================] - 1s 25us/sample - loss: 2.2989 - acc: 0.1313 - val_loss: 2.2990 - val_acc: 0.1283\n",
      "Epoch 37/100\n",
      "42000/42000 [==============================] - 1s 27us/sample - loss: 2.2988 - acc: 0.1293 - val_loss: 2.2990 - val_acc: 0.1284\n",
      "Epoch 38/100\n",
      "42000/42000 [==============================] - 1s 27us/sample - loss: 2.2988 - acc: 0.1300 - val_loss: 2.2990 - val_acc: 0.1288\n",
      "Epoch 39/100\n",
      "42000/42000 [==============================] - 1s 26us/sample - loss: 2.2988 - acc: 0.1285 - val_loss: 2.2990 - val_acc: 0.1293\n",
      "Epoch 40/100\n",
      "42000/42000 [==============================] - 1s 26us/sample - loss: 2.2988 - acc: 0.1292 - val_loss: 2.2990 - val_acc: 0.1298\n",
      "Epoch 41/100\n",
      "42000/42000 [==============================] - 1s 29us/sample - loss: 2.2988 - acc: 0.1310 - val_loss: 2.2990 - val_acc: 0.1293\n",
      "Epoch 42/100\n",
      "42000/42000 [==============================] - 1s 26us/sample - loss: 2.2988 - acc: 0.1317 - val_loss: 2.2990 - val_acc: 0.1290\n",
      "Epoch 43/100\n",
      "42000/42000 [==============================] - 1s 26us/sample - loss: 2.2988 - acc: 0.1301 - val_loss: 2.2990 - val_acc: 0.1291\n",
      "Epoch 44/100\n",
      "42000/42000 [==============================] - 1s 26us/sample - loss: 2.2988 - acc: 0.1301 - val_loss: 2.2990 - val_acc: 0.1285\n",
      "Epoch 45/100\n",
      "42000/42000 [==============================] - 1s 26us/sample - loss: 2.2988 - acc: 0.1310 - val_loss: 2.2990 - val_acc: 0.1288\n",
      "Epoch 46/100\n",
      "42000/42000 [==============================] - 1s 26us/sample - loss: 2.2988 - acc: 0.1300 - val_loss: 2.2990 - val_acc: 0.1286\n",
      "Epoch 47/100\n",
      "42000/42000 [==============================] - 1s 26us/sample - loss: 2.2988 - acc: 0.1310 - val_loss: 2.2990 - val_acc: 0.1283\n",
      "Epoch 48/100\n",
      "42000/42000 [==============================] - 1s 26us/sample - loss: 2.2988 - acc: 0.1312 - val_loss: 2.2990 - val_acc: 0.1279\n",
      "Epoch 49/100\n",
      "42000/42000 [==============================] - 1s 26us/sample - loss: 2.2988 - acc: 0.1260 - val_loss: 2.2990 - val_acc: 0.1295\n",
      "Epoch 50/100\n",
      "42000/42000 [==============================] - 1s 26us/sample - loss: 2.2988 - acc: 0.1295 - val_loss: 2.2990 - val_acc: 0.1300\n",
      "Epoch 51/100\n",
      "42000/42000 [==============================] - 1s 26us/sample - loss: 2.2988 - acc: 0.1297 - val_loss: 2.2990 - val_acc: 0.1302\n",
      "Epoch 52/100\n",
      "42000/42000 [==============================] - 1s 25us/sample - loss: 2.2988 - acc: 0.1319 - val_loss: 2.2990 - val_acc: 0.1297\n",
      "Epoch 53/100\n",
      "42000/42000 [==============================] - 1s 28us/sample - loss: 2.2988 - acc: 0.1313 - val_loss: 2.2990 - val_acc: 0.1287\n",
      "Epoch 54/100\n",
      "42000/42000 [==============================] - 1s 26us/sample - loss: 2.2988 - acc: 0.1287 - val_loss: 2.2989 - val_acc: 0.1296\n",
      "Epoch 55/100\n",
      "42000/42000 [==============================] - 1s 26us/sample - loss: 2.2988 - acc: 0.1314 - val_loss: 2.2989 - val_acc: 0.1295\n",
      "Epoch 56/100\n",
      "42000/42000 [==============================] - 1s 26us/sample - loss: 2.2988 - acc: 0.1299 - val_loss: 2.2989 - val_acc: 0.1292\n",
      "Epoch 57/100\n",
      "42000/42000 [==============================] - 1s 25us/sample - loss: 2.2988 - acc: 0.1321 - val_loss: 2.2989 - val_acc: 0.1289\n",
      "Epoch 58/100\n",
      "42000/42000 [==============================] - 1s 26us/sample - loss: 2.2988 - acc: 0.1298 - val_loss: 2.2989 - val_acc: 0.1293\n",
      "Epoch 59/100\n",
      "42000/42000 [==============================] - 1s 27us/sample - loss: 2.2988 - acc: 0.1293 - val_loss: 2.2989 - val_acc: 0.1301\n",
      "Epoch 60/100\n",
      "42000/42000 [==============================] - 1s 26us/sample - loss: 2.2988 - acc: 0.1285 - val_loss: 2.2989 - val_acc: 0.1304\n",
      "Epoch 61/100\n",
      "42000/42000 [==============================] - 1s 26us/sample - loss: 2.2987 - acc: 0.1317 - val_loss: 2.2989 - val_acc: 0.1305\n",
      "Epoch 62/100\n",
      "42000/42000 [==============================] - 1s 25us/sample - loss: 2.2987 - acc: 0.1312 - val_loss: 2.2989 - val_acc: 0.1306\n",
      "Epoch 63/100\n",
      "42000/42000 [==============================] - 1s 26us/sample - loss: 2.2987 - acc: 0.1307 - val_loss: 2.2989 - val_acc: 0.1302\n",
      "Epoch 64/100\n",
      "42000/42000 [==============================] - 1s 26us/sample - loss: 2.2987 - acc: 0.1331 - val_loss: 2.2989 - val_acc: 0.1294\n",
      "Epoch 65/100\n",
      "42000/42000 [==============================] - 1s 26us/sample - loss: 2.2987 - acc: 0.1318 - val_loss: 2.2989 - val_acc: 0.1296\n",
      "Epoch 66/100\n",
      "42000/42000 [==============================] - 1s 26us/sample - loss: 2.2987 - acc: 0.1304 - val_loss: 2.2989 - val_acc: 0.1296\n",
      "Epoch 67/100\n",
      "42000/42000 [==============================] - 1s 26us/sample - loss: 2.2987 - acc: 0.1306 - val_loss: 2.2989 - val_acc: 0.1300\n",
      "Epoch 68/100\n",
      "42000/42000 [==============================] - 1s 26us/sample - loss: 2.2987 - acc: 0.1323 - val_loss: 2.2989 - val_acc: 0.1293\n",
      "Epoch 69/100\n",
      "42000/42000 [==============================] - 1s 27us/sample - loss: 2.2987 - acc: 0.1300 - val_loss: 2.2989 - val_acc: 0.1298\n",
      "Epoch 70/100\n",
      "42000/42000 [==============================] - 1s 28us/sample - loss: 2.2987 - acc: 0.1308 - val_loss: 2.2989 - val_acc: 0.1302\n",
      "Epoch 71/100\n",
      "42000/42000 [==============================] - 1s 25us/sample - loss: 2.2987 - acc: 0.1307 - val_loss: 2.2989 - val_acc: 0.1304\n",
      "Epoch 72/100\n",
      "42000/42000 [==============================] - 1s 27us/sample - loss: 2.2987 - acc: 0.1316 - val_loss: 2.2989 - val_acc: 0.1309\n",
      "Epoch 73/100\n",
      "42000/42000 [==============================] - 1s 25us/sample - loss: 2.2987 - acc: 0.1319 - val_loss: 2.2989 - val_acc: 0.1301\n",
      "Epoch 74/100\n",
      "42000/42000 [==============================] - 1s 25us/sample - loss: 2.2987 - acc: 0.1331 - val_loss: 2.2989 - val_acc: 0.1287\n",
      "Epoch 75/100\n",
      "42000/42000 [==============================] - 1s 26us/sample - loss: 2.2987 - acc: 0.1304 - val_loss: 2.2989 - val_acc: 0.1290\n",
      "Epoch 76/100\n",
      "42000/42000 [==============================] - 1s 25us/sample - loss: 2.2987 - acc: 0.1294 - val_loss: 2.2989 - val_acc: 0.1298\n",
      "Epoch 77/100\n",
      "42000/42000 [==============================] - 1s 25us/sample - loss: 2.2987 - acc: 0.1307 - val_loss: 2.2989 - val_acc: 0.1300\n",
      "Epoch 78/100\n",
      "42000/42000 [==============================] - 1s 26us/sample - loss: 2.2987 - acc: 0.1292 - val_loss: 2.2989 - val_acc: 0.1303\n",
      "Epoch 79/100\n",
      "42000/42000 [==============================] - 1s 26us/sample - loss: 2.2987 - acc: 0.1312 - val_loss: 2.2988 - val_acc: 0.1303\n",
      "Epoch 80/100\n",
      "42000/42000 [==============================] - 1s 27us/sample - loss: 2.2987 - acc: 0.1324 - val_loss: 2.2988 - val_acc: 0.1301\n",
      "Epoch 81/100\n",
      "42000/42000 [==============================] - 1s 26us/sample - loss: 2.2987 - acc: 0.1315 - val_loss: 2.2988 - val_acc: 0.1308\n",
      "Epoch 82/100\n",
      "42000/42000 [==============================] - 1s 27us/sample - loss: 2.2987 - acc: 0.1318 - val_loss: 2.2988 - val_acc: 0.1305\n",
      "Epoch 83/100\n",
      "42000/42000 [==============================] - 1s 27us/sample - loss: 2.2987 - acc: 0.1308 - val_loss: 2.2988 - val_acc: 0.1310\n",
      "Epoch 84/100\n",
      "42000/42000 [==============================] - 1s 26us/sample - loss: 2.2987 - acc: 0.1311 - val_loss: 2.2988 - val_acc: 0.1316\n",
      "Epoch 85/100\n",
      "42000/42000 [==============================] - 1s 26us/sample - loss: 2.2986 - acc: 0.1324 - val_loss: 2.2988 - val_acc: 0.1314\n",
      "Epoch 86/100\n",
      "42000/42000 [==============================] - 1s 26us/sample - loss: 2.2986 - acc: 0.1318 - val_loss: 2.2988 - val_acc: 0.1308\n",
      "Epoch 87/100\n",
      "42000/42000 [==============================] - 1s 26us/sample - loss: 2.2986 - acc: 0.1334 - val_loss: 2.2988 - val_acc: 0.1299\n",
      "Epoch 88/100\n",
      "42000/42000 [==============================] - 1s 26us/sample - loss: 2.2986 - acc: 0.1312 - val_loss: 2.2988 - val_acc: 0.1305\n",
      "Epoch 89/100\n",
      "42000/42000 [==============================] - 1s 26us/sample - loss: 2.2986 - acc: 0.1306 - val_loss: 2.2988 - val_acc: 0.1307\n",
      "Epoch 90/100\n",
      "42000/42000 [==============================] - 1s 26us/sample - loss: 2.2986 - acc: 0.1332 - val_loss: 2.2988 - val_acc: 0.1297\n",
      "Epoch 91/100\n",
      "42000/42000 [==============================] - 1s 26us/sample - loss: 2.2986 - acc: 0.1320 - val_loss: 2.2988 - val_acc: 0.1299\n",
      "Epoch 92/100\n",
      "42000/42000 [==============================] - 1s 29us/sample - loss: 2.2986 - acc: 0.1315 - val_loss: 2.2988 - val_acc: 0.1297\n",
      "Epoch 93/100\n",
      "42000/42000 [==============================] - 1s 25us/sample - loss: 2.2986 - acc: 0.1313 - val_loss: 2.2988 - val_acc: 0.1295\n",
      "Epoch 94/100\n",
      "42000/42000 [==============================] - 1s 26us/sample - loss: 2.2986 - acc: 0.1301 - val_loss: 2.2988 - val_acc: 0.1297\n",
      "Epoch 95/100\n",
      "42000/42000 [==============================] - 1s 28us/sample - loss: 2.2986 - acc: 0.1307 - val_loss: 2.2988 - val_acc: 0.1302\n",
      "Epoch 96/100\n",
      "42000/42000 [==============================] - 1s 26us/sample - loss: 2.2986 - acc: 0.1309 - val_loss: 2.2988 - val_acc: 0.1303\n",
      "Epoch 97/100\n",
      "42000/42000 [==============================] - 1s 25us/sample - loss: 2.2986 - acc: 0.1324 - val_loss: 2.2988 - val_acc: 0.1299\n",
      "Epoch 98/100\n",
      "42000/42000 [==============================] - 1s 26us/sample - loss: 2.2986 - acc: 0.1320 - val_loss: 2.2988 - val_acc: 0.1295\n",
      "Epoch 99/100\n",
      "42000/42000 [==============================] - 1s 27us/sample - loss: 2.2986 - acc: 0.1299 - val_loss: 2.2988 - val_acc: 0.1310\n",
      "Epoch 100/100\n",
      "42000/42000 [==============================] - 1s 26us/sample - loss: 2.2986 - acc: 0.1308 - val_loss: 2.2988 - val_acc: 0.1307\n"
     ]
    }
   ],
   "source": [
    "print('NN model with sigmoid activations - changing learning rate'); print('--'*40)\n",
    "# compiling the neural network classifier, sgd optimizer\n",
    "sgd = optimizers.SGD(lr = 0.001)\n",
    "model1.compile(optimizer = sgd, loss = 'categorical_crossentropy', metrics = ['accuracy'])\n",
    "\n",
    "# Fitting the neural network for training\n",
    "history = model1.fit(X_train, y_train, validation_data = (X_val, y_val), batch_size = 200, epochs = 100, verbose = 1)"
   ]
  },
  {
   "cell_type": "code",
   "execution_count": 35,
   "metadata": {
    "colab": {
     "base_uri": "https://localhost:8080/",
     "height": 88
    },
    "colab_type": "code",
    "id": "scbm_YOeJkap",
    "outputId": "a96146ce-4b68-43da-f4b7-7005e0e5e1c5"
   },
   "outputs": [
    {
     "name": "stdout",
     "output_type": "stream",
     "text": [
      "Evaluate NN model with sigmoid activations - changing learning rate\n",
      "--------------------------------------------------------------------------------\n",
      "60000/60000 [==============================] - 3s 45us/sample - loss: 2.2988 - acc: 0.1307\n",
      "Validation accuracy: 13.07\n"
     ]
    }
   ],
   "source": [
    "print('Evaluate NN model with sigmoid activations - changing learning rate'); print('--'*40)\n",
    "results1 = model1.evaluate(X_val, y_val)\n",
    "print('Validation accuracy: {}'.format(round(results1[1]*100, 2), '%'))"
   ]
  },
  {
   "cell_type": "markdown",
   "metadata": {
    "colab_type": "text",
    "id": "7SUgKHYEmt1X"
   },
   "source": [
    "<a id='o3'></a>\n",
    "##### Observation 3 - NN model with sigmoid activations\n",
    "* Validation score is very low, changing learning rate further reduces it.\n",
    "* Optimizing the network in order to better learn the patterns in the dataset.\n",
    "* Best model out of the above is the one with lower learning rate using SGD optimizer and sigmoid activations.\n",
    "* Next, let's use relu activations and see if the score improves."
   ]
  },
  {
   "cell_type": "markdown",
   "metadata": {
    "colab_type": "text",
    "id": "u3qkfHovRFig"
   },
   "source": [
    "#### NN model, relu activations, SGD optimizer"
   ]
  },
  {
   "cell_type": "code",
   "execution_count": 36,
   "metadata": {
    "colab": {
     "base_uri": "https://localhost:8080/",
     "height": 88
    },
    "colab_type": "code",
    "id": "BRsNW7ss_iL9",
    "outputId": "0ba86d89-5f13-4e0e-c9bc-2a96bcbee867"
   },
   "outputs": [
    {
     "name": "stdout",
     "output_type": "stream",
     "text": [
      "CPU times: user 2 µs, sys: 1 µs, total: 3 µs\n",
      "Wall time: 6.68 µs\n",
      "NN model with relu activations and sgd optimizers\n",
      "--------------------------------------------------------------------------------\n"
     ]
    }
   ],
   "source": [
    "%time\n",
    "print('NN model with relu activations and sgd optimizers'); print('--'*40)\n",
    "# Initialize the neural network classifier\n",
    "model2 = Sequential()\n",
    "\n",
    "# Input Layer - adding input layer and activation functions relu\n",
    "model2.add(Dense(128, input_shape = (1024, )))\n",
    "# Adding activation function\n",
    "model2.add(Activation('relu'))\n",
    "\n",
    "#Hidden Layer 1 - adding first hidden layer\n",
    "model2.add(Dense(64))\n",
    "# Adding activation function\n",
    "model2.add(Activation('relu'))\n",
    "\n",
    "# Output Layer - adding output layer which is of 10 nodes (digits)\n",
    "model2.add(Dense(10))\n",
    "# Adding activation function - softmax for multiclass classification\n",
    "model2.add(Activation('softmax'))"
   ]
  },
  {
   "cell_type": "code",
   "execution_count": 37,
   "metadata": {
    "colab": {
     "base_uri": "https://localhost:8080/",
     "height": 372
    },
    "colab_type": "code",
    "id": "x4uIPsDZqi8n",
    "outputId": "b633d453-b0bf-4b57-e252-8e313eb8cf12"
   },
   "outputs": [
    {
     "name": "stdout",
     "output_type": "stream",
     "text": [
      "Model: \"sequential_1\"\n",
      "_________________________________________________________________\n",
      "Layer (type)                 Output Shape              Param #   \n",
      "=================================================================\n",
      "dense_3 (Dense)              (None, 128)               131200    \n",
      "_________________________________________________________________\n",
      "activation_3 (Activation)    (None, 128)               0         \n",
      "_________________________________________________________________\n",
      "dense_4 (Dense)              (None, 64)                8256      \n",
      "_________________________________________________________________\n",
      "activation_4 (Activation)    (None, 64)                0         \n",
      "_________________________________________________________________\n",
      "dense_5 (Dense)              (None, 10)                650       \n",
      "_________________________________________________________________\n",
      "activation_5 (Activation)    (None, 10)                0         \n",
      "=================================================================\n",
      "Total params: 140,106\n",
      "Trainable params: 140,106\n",
      "Non-trainable params: 0\n",
      "_________________________________________________________________\n"
     ]
    }
   ],
   "source": [
    "model2.summary()"
   ]
  },
  {
   "cell_type": "code",
   "execution_count": 38,
   "metadata": {
    "colab": {
     "base_uri": "https://localhost:8080/",
     "height": 1000
    },
    "colab_type": "code",
    "id": "OJzn5I1ORL8q",
    "outputId": "674afc1b-75b8-4cfa-f82e-c27339777082"
   },
   "outputs": [
    {
     "name": "stdout",
     "output_type": "stream",
     "text": [
      "Train on 42000 samples, validate on 60000 samples\n",
      "Epoch 1/100\n",
      "42000/42000 [==============================] - 1s 27us/sample - loss: 2.3001 - acc: 0.1166 - val_loss: 2.2903 - val_acc: 0.1328\n",
      "Epoch 2/100\n",
      "42000/42000 [==============================] - 1s 26us/sample - loss: 2.2854 - acc: 0.1465 - val_loss: 2.2786 - val_acc: 0.1673\n",
      "Epoch 3/100\n",
      "42000/42000 [==============================] - 1s 26us/sample - loss: 2.2722 - acc: 0.1781 - val_loss: 2.2643 - val_acc: 0.1904\n",
      "Epoch 4/100\n",
      "42000/42000 [==============================] - 1s 25us/sample - loss: 2.2561 - acc: 0.2140 - val_loss: 2.2467 - val_acc: 0.2199\n",
      "Epoch 5/100\n",
      "42000/42000 [==============================] - 1s 28us/sample - loss: 2.2369 - acc: 0.2507 - val_loss: 2.2263 - val_acc: 0.2579\n",
      "Epoch 6/100\n",
      "42000/42000 [==============================] - 1s 26us/sample - loss: 2.2128 - acc: 0.2883 - val_loss: 2.1973 - val_acc: 0.3150\n",
      "Epoch 7/100\n",
      "42000/42000 [==============================] - 1s 26us/sample - loss: 2.1828 - acc: 0.3158 - val_loss: 2.1645 - val_acc: 0.3450\n",
      "Epoch 8/100\n",
      "42000/42000 [==============================] - 1s 26us/sample - loss: 2.1463 - acc: 0.3465 - val_loss: 2.1254 - val_acc: 0.3584\n",
      "Epoch 9/100\n",
      "42000/42000 [==============================] - 1s 26us/sample - loss: 2.1025 - acc: 0.3752 - val_loss: 2.0772 - val_acc: 0.3822\n",
      "Epoch 10/100\n",
      "42000/42000 [==============================] - 1s 26us/sample - loss: 2.0490 - acc: 0.4008 - val_loss: 2.0188 - val_acc: 0.4164\n",
      "Epoch 11/100\n",
      "42000/42000 [==============================] - 1s 26us/sample - loss: 1.9873 - acc: 0.4255 - val_loss: 1.9517 - val_acc: 0.4352\n",
      "Epoch 12/100\n",
      "42000/42000 [==============================] - 1s 26us/sample - loss: 1.9183 - acc: 0.4470 - val_loss: 1.8801 - val_acc: 0.4531\n",
      "Epoch 13/100\n",
      "42000/42000 [==============================] - 1s 26us/sample - loss: 1.8455 - acc: 0.4674 - val_loss: 1.8076 - val_acc: 0.4808\n",
      "Epoch 14/100\n",
      "42000/42000 [==============================] - 1s 26us/sample - loss: 1.7732 - acc: 0.4886 - val_loss: 1.7343 - val_acc: 0.4963\n",
      "Epoch 15/100\n",
      "42000/42000 [==============================] - 1s 26us/sample - loss: 1.7041 - acc: 0.5085 - val_loss: 1.6676 - val_acc: 0.5157\n",
      "Epoch 16/100\n",
      "42000/42000 [==============================] - 1s 27us/sample - loss: 1.6407 - acc: 0.5236 - val_loss: 1.6103 - val_acc: 0.5370\n",
      "Epoch 17/100\n",
      "42000/42000 [==============================] - 1s 26us/sample - loss: 1.5833 - acc: 0.5417 - val_loss: 1.5525 - val_acc: 0.5501\n",
      "Epoch 18/100\n",
      "42000/42000 [==============================] - 1s 26us/sample - loss: 1.5326 - acc: 0.5534 - val_loss: 1.5026 - val_acc: 0.5629\n",
      "Epoch 19/100\n",
      "42000/42000 [==============================] - 1s 26us/sample - loss: 1.4851 - acc: 0.5659 - val_loss: 1.4584 - val_acc: 0.5728\n",
      "Epoch 20/100\n",
      "42000/42000 [==============================] - 1s 26us/sample - loss: 1.4431 - acc: 0.5756 - val_loss: 1.4193 - val_acc: 0.5908\n",
      "Epoch 21/100\n",
      "42000/42000 [==============================] - 1s 27us/sample - loss: 1.4061 - acc: 0.5859 - val_loss: 1.3822 - val_acc: 0.5966\n",
      "Epoch 22/100\n",
      "42000/42000 [==============================] - 1s 28us/sample - loss: 1.3737 - acc: 0.5931 - val_loss: 1.3552 - val_acc: 0.5914\n",
      "Epoch 23/100\n",
      "42000/42000 [==============================] - 1s 26us/sample - loss: 1.3442 - acc: 0.6000 - val_loss: 1.3209 - val_acc: 0.6088\n",
      "Epoch 24/100\n",
      "42000/42000 [==============================] - 1s 26us/sample - loss: 1.3146 - acc: 0.6076 - val_loss: 1.2990 - val_acc: 0.6103\n",
      "Epoch 25/100\n",
      "42000/42000 [==============================] - 1s 25us/sample - loss: 1.2933 - acc: 0.6137 - val_loss: 1.2714 - val_acc: 0.6263\n",
      "Epoch 26/100\n",
      "42000/42000 [==============================] - 1s 26us/sample - loss: 1.2681 - acc: 0.6206 - val_loss: 1.2635 - val_acc: 0.6183\n",
      "Epoch 27/100\n",
      "42000/42000 [==============================] - 1s 26us/sample - loss: 1.2485 - acc: 0.6246 - val_loss: 1.2253 - val_acc: 0.6389\n",
      "Epoch 28/100\n",
      "42000/42000 [==============================] - 1s 26us/sample - loss: 1.2259 - acc: 0.6333 - val_loss: 1.2039 - val_acc: 0.6449\n",
      "Epoch 29/100\n",
      "42000/42000 [==============================] - 1s 26us/sample - loss: 1.2094 - acc: 0.6355 - val_loss: 1.1899 - val_acc: 0.6465\n",
      "Epoch 30/100\n",
      "42000/42000 [==============================] - 1s 25us/sample - loss: 1.1919 - acc: 0.6437 - val_loss: 1.1801 - val_acc: 0.6503\n",
      "Epoch 31/100\n",
      "42000/42000 [==============================] - 1s 25us/sample - loss: 1.1786 - acc: 0.6477 - val_loss: 1.1587 - val_acc: 0.6580\n",
      "Epoch 32/100\n",
      "42000/42000 [==============================] - 1s 26us/sample - loss: 1.1616 - acc: 0.6523 - val_loss: 1.1568 - val_acc: 0.6514\n",
      "Epoch 33/100\n",
      "42000/42000 [==============================] - 1s 26us/sample - loss: 1.1512 - acc: 0.6531 - val_loss: 1.1345 - val_acc: 0.6618\n",
      "Epoch 34/100\n",
      "42000/42000 [==============================] - 1s 26us/sample - loss: 1.1352 - acc: 0.6613 - val_loss: 1.1188 - val_acc: 0.6700\n",
      "Epoch 35/100\n",
      "42000/42000 [==============================] - 1s 25us/sample - loss: 1.1242 - acc: 0.6632 - val_loss: 1.1040 - val_acc: 0.6727\n",
      "Epoch 36/100\n",
      "42000/42000 [==============================] - 1s 26us/sample - loss: 1.1088 - acc: 0.6689 - val_loss: 1.0946 - val_acc: 0.6725\n",
      "Epoch 37/100\n",
      "42000/42000 [==============================] - 1s 26us/sample - loss: 1.0974 - acc: 0.6719 - val_loss: 1.0941 - val_acc: 0.6751\n",
      "Epoch 38/100\n",
      "42000/42000 [==============================] - 1s 26us/sample - loss: 1.0869 - acc: 0.6758 - val_loss: 1.0704 - val_acc: 0.6830\n",
      "Epoch 39/100\n",
      "42000/42000 [==============================] - 1s 26us/sample - loss: 1.0775 - acc: 0.6783 - val_loss: 1.0789 - val_acc: 0.6772\n",
      "Epoch 40/100\n",
      "42000/42000 [==============================] - 1s 26us/sample - loss: 1.0685 - acc: 0.6812 - val_loss: 1.0560 - val_acc: 0.6874\n",
      "Epoch 41/100\n",
      "42000/42000 [==============================] - 1s 26us/sample - loss: 1.0565 - acc: 0.6835 - val_loss: 1.0430 - val_acc: 0.6918\n",
      "Epoch 42/100\n",
      "42000/42000 [==============================] - 1s 26us/sample - loss: 1.0457 - acc: 0.6873 - val_loss: 1.0934 - val_acc: 0.6640\n",
      "Epoch 43/100\n",
      "42000/42000 [==============================] - 1s 25us/sample - loss: 1.0348 - acc: 0.6916 - val_loss: 1.0173 - val_acc: 0.6985\n",
      "Epoch 44/100\n",
      "42000/42000 [==============================] - 1s 29us/sample - loss: 1.0230 - acc: 0.6930 - val_loss: 1.0077 - val_acc: 0.7038\n",
      "Epoch 45/100\n",
      "42000/42000 [==============================] - 1s 25us/sample - loss: 1.0125 - acc: 0.6962 - val_loss: 0.9966 - val_acc: 0.7057\n",
      "Epoch 46/100\n",
      "42000/42000 [==============================] - 1s 26us/sample - loss: 1.0083 - acc: 0.6993 - val_loss: 1.0228 - val_acc: 0.6914\n",
      "Epoch 47/100\n",
      "42000/42000 [==============================] - 1s 28us/sample - loss: 0.9951 - acc: 0.7034 - val_loss: 1.0381 - val_acc: 0.6836\n",
      "Epoch 48/100\n",
      "42000/42000 [==============================] - 1s 26us/sample - loss: 0.9866 - acc: 0.7040 - val_loss: 0.9950 - val_acc: 0.7046\n",
      "Epoch 49/100\n",
      "42000/42000 [==============================] - 1s 25us/sample - loss: 0.9829 - acc: 0.7075 - val_loss: 0.9727 - val_acc: 0.7103\n",
      "Epoch 50/100\n",
      "42000/42000 [==============================] - 1s 26us/sample - loss: 0.9720 - acc: 0.7098 - val_loss: 0.9611 - val_acc: 0.7149\n",
      "Epoch 51/100\n",
      "42000/42000 [==============================] - 1s 27us/sample - loss: 0.9621 - acc: 0.7136 - val_loss: 0.9521 - val_acc: 0.7190\n",
      "Epoch 52/100\n",
      "42000/42000 [==============================] - 1s 26us/sample - loss: 0.9557 - acc: 0.7144 - val_loss: 0.9603 - val_acc: 0.7140\n",
      "Epoch 53/100\n",
      "42000/42000 [==============================] - 1s 26us/sample - loss: 0.9464 - acc: 0.7175 - val_loss: 0.9550 - val_acc: 0.7157\n",
      "Epoch 54/100\n",
      "42000/42000 [==============================] - 1s 25us/sample - loss: 0.9408 - acc: 0.7178 - val_loss: 0.9284 - val_acc: 0.7271\n",
      "Epoch 55/100\n",
      "42000/42000 [==============================] - 1s 26us/sample - loss: 0.9319 - acc: 0.7215 - val_loss: 0.9394 - val_acc: 0.7183\n",
      "Epoch 56/100\n",
      "42000/42000 [==============================] - 1s 25us/sample - loss: 0.9281 - acc: 0.7238 - val_loss: 0.9207 - val_acc: 0.7272\n",
      "Epoch 57/100\n",
      "42000/42000 [==============================] - 1s 26us/sample - loss: 0.9127 - acc: 0.7280 - val_loss: 0.9036 - val_acc: 0.7338\n",
      "Epoch 58/100\n",
      "42000/42000 [==============================] - 1s 25us/sample - loss: 0.9087 - acc: 0.7296 - val_loss: 0.9100 - val_acc: 0.7281\n",
      "Epoch 59/100\n",
      "42000/42000 [==============================] - 1s 26us/sample - loss: 0.9039 - acc: 0.7315 - val_loss: 0.9017 - val_acc: 0.7313\n",
      "Epoch 60/100\n",
      "42000/42000 [==============================] - 1s 28us/sample - loss: 0.8953 - acc: 0.7330 - val_loss: 0.8901 - val_acc: 0.7363\n",
      "Epoch 61/100\n",
      "42000/42000 [==============================] - 1s 26us/sample - loss: 0.8903 - acc: 0.7342 - val_loss: 0.9211 - val_acc: 0.7243\n",
      "Epoch 62/100\n",
      "42000/42000 [==============================] - 1s 25us/sample - loss: 0.8842 - acc: 0.7363 - val_loss: 0.8956 - val_acc: 0.7299\n",
      "Epoch 63/100\n",
      "42000/42000 [==============================] - 1s 26us/sample - loss: 0.8779 - acc: 0.7378 - val_loss: 0.8624 - val_acc: 0.7475\n",
      "Epoch 64/100\n",
      "42000/42000 [==============================] - 1s 25us/sample - loss: 0.8720 - acc: 0.7404 - val_loss: 0.8584 - val_acc: 0.7469\n",
      "Epoch 65/100\n",
      "42000/42000 [==============================] - 1s 25us/sample - loss: 0.8632 - acc: 0.7435 - val_loss: 0.8876 - val_acc: 0.7364\n",
      "Epoch 66/100\n",
      "42000/42000 [==============================] - 1s 26us/sample - loss: 0.8595 - acc: 0.7448 - val_loss: 0.8548 - val_acc: 0.7465\n",
      "Epoch 67/100\n",
      "42000/42000 [==============================] - 1s 26us/sample - loss: 0.8490 - acc: 0.7484 - val_loss: 0.8642 - val_acc: 0.7442\n",
      "Epoch 68/100\n",
      "42000/42000 [==============================] - 1s 26us/sample - loss: 0.8486 - acc: 0.7457 - val_loss: 0.8481 - val_acc: 0.7492\n",
      "Epoch 69/100\n",
      "42000/42000 [==============================] - 1s 26us/sample - loss: 0.8393 - acc: 0.7504 - val_loss: 0.8327 - val_acc: 0.7544\n",
      "Epoch 70/100\n",
      "42000/42000 [==============================] - 1s 26us/sample - loss: 0.8353 - acc: 0.7501 - val_loss: 0.8289 - val_acc: 0.7560\n",
      "Epoch 71/100\n",
      "42000/42000 [==============================] - 1s 26us/sample - loss: 0.8261 - acc: 0.7539 - val_loss: 0.8208 - val_acc: 0.7594\n",
      "Epoch 72/100\n",
      "42000/42000 [==============================] - 1s 26us/sample - loss: 0.8244 - acc: 0.7542 - val_loss: 0.8829 - val_acc: 0.7296\n",
      "Epoch 73/100\n",
      "42000/42000 [==============================] - 1s 26us/sample - loss: 0.8219 - acc: 0.7559 - val_loss: 0.8300 - val_acc: 0.7531\n",
      "Epoch 74/100\n",
      "42000/42000 [==============================] - 1s 26us/sample - loss: 0.8139 - acc: 0.7574 - val_loss: 0.8140 - val_acc: 0.7588\n",
      "Epoch 75/100\n",
      "42000/42000 [==============================] - 1s 26us/sample - loss: 0.8078 - acc: 0.7588 - val_loss: 0.8330 - val_acc: 0.7498\n",
      "Epoch 76/100\n",
      "42000/42000 [==============================] - 1s 26us/sample - loss: 0.8063 - acc: 0.7593 - val_loss: 0.7989 - val_acc: 0.7649\n",
      "Epoch 77/100\n",
      "42000/42000 [==============================] - 1s 29us/sample - loss: 0.8026 - acc: 0.7609 - val_loss: 0.8428 - val_acc: 0.7449\n",
      "Epoch 78/100\n",
      "42000/42000 [==============================] - 1s 26us/sample - loss: 0.7969 - acc: 0.7625 - val_loss: 0.8424 - val_acc: 0.7461\n",
      "Epoch 79/100\n",
      "42000/42000 [==============================] - 1s 26us/sample - loss: 0.7871 - acc: 0.7662 - val_loss: 0.8011 - val_acc: 0.7637\n",
      "Epoch 80/100\n",
      "42000/42000 [==============================] - 1s 26us/sample - loss: 0.7874 - acc: 0.7667 - val_loss: 0.7827 - val_acc: 0.7681\n",
      "Epoch 81/100\n",
      "42000/42000 [==============================] - 1s 26us/sample - loss: 0.7836 - acc: 0.7662 - val_loss: 0.7725 - val_acc: 0.7734\n",
      "Epoch 82/100\n",
      "42000/42000 [==============================] - 1s 26us/sample - loss: 0.7790 - acc: 0.7682 - val_loss: 0.7892 - val_acc: 0.7655\n",
      "Epoch 83/100\n",
      "42000/42000 [==============================] - 1s 26us/sample - loss: 0.7736 - acc: 0.7713 - val_loss: 0.7670 - val_acc: 0.7764\n",
      "Epoch 84/100\n",
      "42000/42000 [==============================] - 1s 25us/sample - loss: 0.7643 - acc: 0.7731 - val_loss: 0.7617 - val_acc: 0.7786\n",
      "Epoch 85/100\n",
      "42000/42000 [==============================] - 1s 26us/sample - loss: 0.7653 - acc: 0.7727 - val_loss: 0.7642 - val_acc: 0.7736\n",
      "Epoch 86/100\n",
      "42000/42000 [==============================] - 1s 26us/sample - loss: 0.7625 - acc: 0.7740 - val_loss: 0.7830 - val_acc: 0.7649\n",
      "Epoch 87/100\n",
      "42000/42000 [==============================] - 1s 26us/sample - loss: 0.7564 - acc: 0.7759 - val_loss: 0.7579 - val_acc: 0.7788\n",
      "Epoch 88/100\n",
      "42000/42000 [==============================] - 1s 26us/sample - loss: 0.7540 - acc: 0.7751 - val_loss: 0.7516 - val_acc: 0.7801\n",
      "Epoch 89/100\n",
      "42000/42000 [==============================] - 1s 26us/sample - loss: 0.7418 - acc: 0.7804 - val_loss: 0.7488 - val_acc: 0.7813\n",
      "Epoch 90/100\n",
      "42000/42000 [==============================] - 1s 26us/sample - loss: 0.7452 - acc: 0.7795 - val_loss: 0.7650 - val_acc: 0.7742\n",
      "Epoch 91/100\n",
      "42000/42000 [==============================] - 1s 26us/sample - loss: 0.7419 - acc: 0.7801 - val_loss: 0.7780 - val_acc: 0.7645\n",
      "Epoch 92/100\n",
      "42000/42000 [==============================] - 1s 27us/sample - loss: 0.7399 - acc: 0.7804 - val_loss: 0.7546 - val_acc: 0.7770\n",
      "Epoch 93/100\n",
      "42000/42000 [==============================] - 1s 26us/sample - loss: 0.7336 - acc: 0.7807 - val_loss: 0.7553 - val_acc: 0.7751\n",
      "Epoch 94/100\n",
      "42000/42000 [==============================] - 1s 27us/sample - loss: 0.7345 - acc: 0.7808 - val_loss: 0.7326 - val_acc: 0.7833\n",
      "Epoch 95/100\n",
      "42000/42000 [==============================] - 1s 26us/sample - loss: 0.7269 - acc: 0.7834 - val_loss: 0.7250 - val_acc: 0.7897\n",
      "Epoch 96/100\n",
      "42000/42000 [==============================] - 1s 26us/sample - loss: 0.7175 - acc: 0.7872 - val_loss: 0.7265 - val_acc: 0.7863\n",
      "Epoch 97/100\n",
      "42000/42000 [==============================] - 1s 25us/sample - loss: 0.7217 - acc: 0.7840 - val_loss: 0.7476 - val_acc: 0.7760\n",
      "Epoch 98/100\n",
      "42000/42000 [==============================] - 1s 27us/sample - loss: 0.7156 - acc: 0.7873 - val_loss: 0.7110 - val_acc: 0.7939\n",
      "Epoch 99/100\n",
      "42000/42000 [==============================] - 1s 27us/sample - loss: 0.7118 - acc: 0.7906 - val_loss: 0.7762 - val_acc: 0.7646\n",
      "Epoch 100/100\n",
      "42000/42000 [==============================] - 1s 25us/sample - loss: 0.7070 - acc: 0.7895 - val_loss: 0.7015 - val_acc: 0.7965\n"
     ]
    }
   ],
   "source": [
    "# compiling the neural network classifier, sgd optimizer\n",
    "sgd = optimizers.SGD(lr = 0.01)\n",
    "model2.compile(optimizer = sgd, loss = 'categorical_crossentropy', metrics = ['accuracy'])\n",
    "\n",
    "# Fitting the neural network for training\n",
    "history = model2.fit(X_train, y_train, validation_data = (X_val, y_val), batch_size = 200, epochs = 100, verbose = 1)"
   ]
  },
  {
   "cell_type": "code",
   "execution_count": 39,
   "metadata": {
    "colab": {
     "base_uri": "https://localhost:8080/",
     "height": 88
    },
    "colab_type": "code",
    "id": "RGwKAGtRDEm8",
    "outputId": "071ffd46-eaf6-4cd6-ad9f-d03e610e4ffe"
   },
   "outputs": [
    {
     "name": "stdout",
     "output_type": "stream",
     "text": [
      "Evaluate NN model with relu activations\n",
      "--------------------------------------------------------------------------------\n",
      "60000/60000 [==============================] - 3s 48us/sample - loss: 0.7015 - acc: 0.7965\n",
      "Validation accuracy: 79.65\n"
     ]
    }
   ],
   "source": [
    "print('Evaluate NN model with relu activations'); print('--'*40)\n",
    "results2 = model2.evaluate(X_val, y_val)\n",
    "print('Validation accuracy: {}'.format(round(results2[1]*100, 2), '%'))"
   ]
  },
  {
   "cell_type": "markdown",
   "metadata": {
    "colab_type": "text",
    "id": "4p0ZX0GTRRyG"
   },
   "source": [
    "#### NN model, relu activations, SGD optimizer, changing learning rate"
   ]
  },
  {
   "cell_type": "code",
   "execution_count": 40,
   "metadata": {
    "colab": {
     "base_uri": "https://localhost:8080/",
     "height": 1000
    },
    "colab_type": "code",
    "id": "DWIBrdDdGnDY",
    "outputId": "9bf968c3-4375-4a81-daf3-aa8f6f228898"
   },
   "outputs": [
    {
     "name": "stdout",
     "output_type": "stream",
     "text": [
      "CPU times: user 2 µs, sys: 1e+03 ns, total: 3 µs\n",
      "Wall time: 15.5 µs\n",
      "NN model with relu activations and sgd optimizers - changing learning rate\n",
      "--------------------------------------------------------------------------------\n",
      "Train on 42000 samples, validate on 60000 samples\n",
      "Epoch 1/100\n",
      "42000/42000 [==============================] - 1s 28us/sample - loss: 0.6704 - acc: 0.8051 - val_loss: 0.6922 - val_acc: 0.8003\n",
      "Epoch 2/100\n",
      "42000/42000 [==============================] - 1s 25us/sample - loss: 0.6680 - acc: 0.8054 - val_loss: 0.6917 - val_acc: 0.7996\n",
      "Epoch 3/100\n",
      "42000/42000 [==============================] - 1s 27us/sample - loss: 0.6679 - acc: 0.8055 - val_loss: 0.6901 - val_acc: 0.8005\n",
      "Epoch 4/100\n",
      "42000/42000 [==============================] - 1s 26us/sample - loss: 0.6671 - acc: 0.8058 - val_loss: 0.6899 - val_acc: 0.7997\n",
      "Epoch 5/100\n",
      "42000/42000 [==============================] - 1s 26us/sample - loss: 0.6665 - acc: 0.8065 - val_loss: 0.6900 - val_acc: 0.8002\n",
      "Epoch 6/100\n",
      "42000/42000 [==============================] - 1s 26us/sample - loss: 0.6665 - acc: 0.8061 - val_loss: 0.6891 - val_acc: 0.8007\n",
      "Epoch 7/100\n",
      "42000/42000 [==============================] - 1s 26us/sample - loss: 0.6659 - acc: 0.8061 - val_loss: 0.6901 - val_acc: 0.8005\n",
      "Epoch 8/100\n",
      "42000/42000 [==============================] - 1s 26us/sample - loss: 0.6655 - acc: 0.8067 - val_loss: 0.6885 - val_acc: 0.8010\n",
      "Epoch 9/100\n",
      "42000/42000 [==============================] - 1s 26us/sample - loss: 0.6651 - acc: 0.8063 - val_loss: 0.6880 - val_acc: 0.8008\n",
      "Epoch 10/100\n",
      "42000/42000 [==============================] - 1s 26us/sample - loss: 0.6648 - acc: 0.8069 - val_loss: 0.6878 - val_acc: 0.8016\n",
      "Epoch 11/100\n",
      "42000/42000 [==============================] - 1s 27us/sample - loss: 0.6643 - acc: 0.8066 - val_loss: 0.6878 - val_acc: 0.8010\n",
      "Epoch 12/100\n",
      "42000/42000 [==============================] - 1s 28us/sample - loss: 0.6637 - acc: 0.8069 - val_loss: 0.6871 - val_acc: 0.8013\n",
      "Epoch 13/100\n",
      "42000/42000 [==============================] - 1s 26us/sample - loss: 0.6638 - acc: 0.8066 - val_loss: 0.6866 - val_acc: 0.8017\n",
      "Epoch 14/100\n",
      "42000/42000 [==============================] - 1s 25us/sample - loss: 0.6632 - acc: 0.8067 - val_loss: 0.6865 - val_acc: 0.8019\n",
      "Epoch 15/100\n",
      "42000/42000 [==============================] - 1s 25us/sample - loss: 0.6627 - acc: 0.8073 - val_loss: 0.6869 - val_acc: 0.8012\n",
      "Epoch 16/100\n",
      "42000/42000 [==============================] - 1s 26us/sample - loss: 0.6625 - acc: 0.8076 - val_loss: 0.6858 - val_acc: 0.8022\n",
      "Epoch 17/100\n",
      "42000/42000 [==============================] - 1s 25us/sample - loss: 0.6623 - acc: 0.8075 - val_loss: 0.6851 - val_acc: 0.8023\n",
      "Epoch 18/100\n",
      "42000/42000 [==============================] - 1s 27us/sample - loss: 0.6619 - acc: 0.8079 - val_loss: 0.6852 - val_acc: 0.8011\n",
      "Epoch 19/100\n",
      "42000/42000 [==============================] - 1s 26us/sample - loss: 0.6611 - acc: 0.8081 - val_loss: 0.6861 - val_acc: 0.8014\n",
      "Epoch 20/100\n",
      "42000/42000 [==============================] - 1s 25us/sample - loss: 0.6610 - acc: 0.8076 - val_loss: 0.6847 - val_acc: 0.8024\n",
      "Epoch 21/100\n",
      "42000/42000 [==============================] - 1s 26us/sample - loss: 0.6606 - acc: 0.8094 - val_loss: 0.6845 - val_acc: 0.8022\n",
      "Epoch 22/100\n",
      "42000/42000 [==============================] - 1s 26us/sample - loss: 0.6603 - acc: 0.8082 - val_loss: 0.6841 - val_acc: 0.8021\n",
      "Epoch 23/100\n",
      "42000/42000 [==============================] - 1s 26us/sample - loss: 0.6602 - acc: 0.8080 - val_loss: 0.6833 - val_acc: 0.8022\n",
      "Epoch 24/100\n",
      "42000/42000 [==============================] - 1s 26us/sample - loss: 0.6594 - acc: 0.8084 - val_loss: 0.6835 - val_acc: 0.8027\n",
      "Epoch 25/100\n",
      "42000/42000 [==============================] - 1s 26us/sample - loss: 0.6592 - acc: 0.8084 - val_loss: 0.6834 - val_acc: 0.8022\n",
      "Epoch 26/100\n",
      "42000/42000 [==============================] - 1s 26us/sample - loss: 0.6587 - acc: 0.8086 - val_loss: 0.6830 - val_acc: 0.8022\n",
      "Epoch 27/100\n",
      "42000/42000 [==============================] - 1s 26us/sample - loss: 0.6585 - acc: 0.8086 - val_loss: 0.6827 - val_acc: 0.8020\n",
      "Epoch 28/100\n",
      "42000/42000 [==============================] - 1s 28us/sample - loss: 0.6582 - acc: 0.8083 - val_loss: 0.6815 - val_acc: 0.8029\n",
      "Epoch 29/100\n",
      "42000/42000 [==============================] - 1s 27us/sample - loss: 0.6578 - acc: 0.8085 - val_loss: 0.6820 - val_acc: 0.8035\n",
      "Epoch 30/100\n",
      "42000/42000 [==============================] - 1s 27us/sample - loss: 0.6573 - acc: 0.8087 - val_loss: 0.6811 - val_acc: 0.8037\n",
      "Epoch 31/100\n",
      "42000/42000 [==============================] - 1s 26us/sample - loss: 0.6568 - acc: 0.8087 - val_loss: 0.6810 - val_acc: 0.8034\n",
      "Epoch 32/100\n",
      "42000/42000 [==============================] - 1s 26us/sample - loss: 0.6568 - acc: 0.8094 - val_loss: 0.6814 - val_acc: 0.8037\n",
      "Epoch 33/100\n",
      "42000/42000 [==============================] - 1s 26us/sample - loss: 0.6561 - acc: 0.8095 - val_loss: 0.6820 - val_acc: 0.8025\n",
      "Epoch 34/100\n",
      "42000/42000 [==============================] - 1s 25us/sample - loss: 0.6561 - acc: 0.8091 - val_loss: 0.6800 - val_acc: 0.8039\n",
      "Epoch 35/100\n",
      "42000/42000 [==============================] - 1s 26us/sample - loss: 0.6556 - acc: 0.8095 - val_loss: 0.6815 - val_acc: 0.8023\n",
      "Epoch 36/100\n",
      "42000/42000 [==============================] - 1s 26us/sample - loss: 0.6553 - acc: 0.8102 - val_loss: 0.6793 - val_acc: 0.8039\n",
      "Epoch 37/100\n",
      "42000/42000 [==============================] - 1s 26us/sample - loss: 0.6552 - acc: 0.8091 - val_loss: 0.6786 - val_acc: 0.8048\n",
      "Epoch 38/100\n",
      "42000/42000 [==============================] - 1s 26us/sample - loss: 0.6545 - acc: 0.8091 - val_loss: 0.6787 - val_acc: 0.8039\n",
      "Epoch 39/100\n",
      "42000/42000 [==============================] - 1s 25us/sample - loss: 0.6544 - acc: 0.8102 - val_loss: 0.6791 - val_acc: 0.8040\n",
      "Epoch 40/100\n",
      "42000/42000 [==============================] - 1s 26us/sample - loss: 0.6538 - acc: 0.8104 - val_loss: 0.6795 - val_acc: 0.8035\n",
      "Epoch 41/100\n",
      "42000/42000 [==============================] - 1s 25us/sample - loss: 0.6536 - acc: 0.8103 - val_loss: 0.6788 - val_acc: 0.8041\n",
      "Epoch 42/100\n",
      "42000/42000 [==============================] - 1s 26us/sample - loss: 0.6531 - acc: 0.8098 - val_loss: 0.6793 - val_acc: 0.8042\n",
      "Epoch 43/100\n",
      "42000/42000 [==============================] - 1s 26us/sample - loss: 0.6528 - acc: 0.8108 - val_loss: 0.6783 - val_acc: 0.8041\n",
      "Epoch 44/100\n",
      "42000/42000 [==============================] - 1s 26us/sample - loss: 0.6525 - acc: 0.8099 - val_loss: 0.6770 - val_acc: 0.8048\n",
      "Epoch 45/100\n",
      "42000/42000 [==============================] - 1s 25us/sample - loss: 0.6522 - acc: 0.8120 - val_loss: 0.6772 - val_acc: 0.8040\n",
      "Epoch 46/100\n",
      "42000/42000 [==============================] - 1s 26us/sample - loss: 0.6518 - acc: 0.8104 - val_loss: 0.6773 - val_acc: 0.8048\n",
      "Epoch 47/100\n",
      "42000/42000 [==============================] - 1s 26us/sample - loss: 0.6514 - acc: 0.8103 - val_loss: 0.6762 - val_acc: 0.8050\n",
      "Epoch 48/100\n",
      "42000/42000 [==============================] - 1s 26us/sample - loss: 0.6512 - acc: 0.8111 - val_loss: 0.6762 - val_acc: 0.8047\n",
      "Epoch 49/100\n",
      "42000/42000 [==============================] - 1s 26us/sample - loss: 0.6509 - acc: 0.8113 - val_loss: 0.6750 - val_acc: 0.8047\n",
      "Epoch 50/100\n",
      "42000/42000 [==============================] - 1s 27us/sample - loss: 0.6503 - acc: 0.8108 - val_loss: 0.6763 - val_acc: 0.8041\n",
      "Epoch 51/100\n",
      "42000/42000 [==============================] - 1s 27us/sample - loss: 0.6502 - acc: 0.8111 - val_loss: 0.6752 - val_acc: 0.8049\n",
      "Epoch 52/100\n",
      "42000/42000 [==============================] - 1s 26us/sample - loss: 0.6497 - acc: 0.8110 - val_loss: 0.6747 - val_acc: 0.8061\n",
      "Epoch 53/100\n",
      "42000/42000 [==============================] - 1s 27us/sample - loss: 0.6495 - acc: 0.8118 - val_loss: 0.6739 - val_acc: 0.8058\n",
      "Epoch 54/100\n",
      "42000/42000 [==============================] - 1s 28us/sample - loss: 0.6493 - acc: 0.8111 - val_loss: 0.6742 - val_acc: 0.8049\n",
      "Epoch 55/100\n",
      "42000/42000 [==============================] - 1s 26us/sample - loss: 0.6491 - acc: 0.8117 - val_loss: 0.6735 - val_acc: 0.8054\n",
      "Epoch 56/100\n",
      "42000/42000 [==============================] - 1s 26us/sample - loss: 0.6483 - acc: 0.8115 - val_loss: 0.6735 - val_acc: 0.8059\n",
      "Epoch 57/100\n",
      "42000/42000 [==============================] - 1s 27us/sample - loss: 0.6482 - acc: 0.8117 - val_loss: 0.6736 - val_acc: 0.8061\n",
      "Epoch 58/100\n",
      "42000/42000 [==============================] - 1s 26us/sample - loss: 0.6479 - acc: 0.8123 - val_loss: 0.6735 - val_acc: 0.8053\n",
      "Epoch 59/100\n",
      "42000/42000 [==============================] - 1s 26us/sample - loss: 0.6475 - acc: 0.8125 - val_loss: 0.6731 - val_acc: 0.8060\n",
      "Epoch 60/100\n",
      "42000/42000 [==============================] - 1s 26us/sample - loss: 0.6472 - acc: 0.8123 - val_loss: 0.6724 - val_acc: 0.8061\n",
      "Epoch 61/100\n",
      "42000/42000 [==============================] - 1s 27us/sample - loss: 0.6469 - acc: 0.8119 - val_loss: 0.6721 - val_acc: 0.8064\n",
      "Epoch 62/100\n",
      "42000/42000 [==============================] - 1s 26us/sample - loss: 0.6465 - acc: 0.8119 - val_loss: 0.6723 - val_acc: 0.8060\n",
      "Epoch 63/100\n",
      "42000/42000 [==============================] - 1s 27us/sample - loss: 0.6463 - acc: 0.8126 - val_loss: 0.6713 - val_acc: 0.8056\n",
      "Epoch 64/100\n",
      "42000/42000 [==============================] - 1s 27us/sample - loss: 0.6460 - acc: 0.8130 - val_loss: 0.6707 - val_acc: 0.8064\n",
      "Epoch 65/100\n",
      "42000/42000 [==============================] - 1s 26us/sample - loss: 0.6454 - acc: 0.8123 - val_loss: 0.6711 - val_acc: 0.8061\n",
      "Epoch 66/100\n",
      "42000/42000 [==============================] - 1s 29us/sample - loss: 0.6453 - acc: 0.8136 - val_loss: 0.6703 - val_acc: 0.8069\n",
      "Epoch 67/100\n",
      "42000/42000 [==============================] - 1s 27us/sample - loss: 0.6449 - acc: 0.8130 - val_loss: 0.6699 - val_acc: 0.8062\n",
      "Epoch 68/100\n",
      "42000/42000 [==============================] - 1s 26us/sample - loss: 0.6446 - acc: 0.8127 - val_loss: 0.6698 - val_acc: 0.8075\n",
      "Epoch 69/100\n",
      "42000/42000 [==============================] - 1s 26us/sample - loss: 0.6442 - acc: 0.8132 - val_loss: 0.6693 - val_acc: 0.8071\n",
      "Epoch 70/100\n",
      "42000/42000 [==============================] - 1s 26us/sample - loss: 0.6437 - acc: 0.8129 - val_loss: 0.6696 - val_acc: 0.8058\n",
      "Epoch 71/100\n",
      "42000/42000 [==============================] - 1s 26us/sample - loss: 0.6437 - acc: 0.8131 - val_loss: 0.6694 - val_acc: 0.8057\n",
      "Epoch 72/100\n",
      "42000/42000 [==============================] - 1s 27us/sample - loss: 0.6433 - acc: 0.8131 - val_loss: 0.6692 - val_acc: 0.8067\n",
      "Epoch 73/100\n",
      "42000/42000 [==============================] - 1s 26us/sample - loss: 0.6430 - acc: 0.8137 - val_loss: 0.6687 - val_acc: 0.8073\n",
      "Epoch 74/100\n",
      "42000/42000 [==============================] - 1s 26us/sample - loss: 0.6428 - acc: 0.8131 - val_loss: 0.6690 - val_acc: 0.8073\n",
      "Epoch 75/100\n",
      "42000/42000 [==============================] - 1s 26us/sample - loss: 0.6425 - acc: 0.8139 - val_loss: 0.6676 - val_acc: 0.8073\n",
      "Epoch 76/100\n",
      "42000/42000 [==============================] - 1s 26us/sample - loss: 0.6419 - acc: 0.8140 - val_loss: 0.6672 - val_acc: 0.8077\n",
      "Epoch 77/100\n",
      "42000/42000 [==============================] - 1s 27us/sample - loss: 0.6418 - acc: 0.8141 - val_loss: 0.6672 - val_acc: 0.8074\n",
      "Epoch 78/100\n",
      "42000/42000 [==============================] - 1s 26us/sample - loss: 0.6415 - acc: 0.8141 - val_loss: 0.6676 - val_acc: 0.8061\n",
      "Epoch 79/100\n",
      "42000/42000 [==============================] - 1s 26us/sample - loss: 0.6411 - acc: 0.8145 - val_loss: 0.6669 - val_acc: 0.8072\n",
      "Epoch 80/100\n",
      "42000/42000 [==============================] - 1s 26us/sample - loss: 0.6409 - acc: 0.8139 - val_loss: 0.6685 - val_acc: 0.8061\n",
      "Epoch 81/100\n",
      "42000/42000 [==============================] - 1s 25us/sample - loss: 0.6408 - acc: 0.8138 - val_loss: 0.6668 - val_acc: 0.8075\n",
      "Epoch 82/100\n",
      "42000/42000 [==============================] - 1s 26us/sample - loss: 0.6404 - acc: 0.8141 - val_loss: 0.6655 - val_acc: 0.8078\n",
      "Epoch 83/100\n",
      "42000/42000 [==============================] - 1s 28us/sample - loss: 0.6398 - acc: 0.8137 - val_loss: 0.6651 - val_acc: 0.8077\n",
      "Epoch 84/100\n",
      "42000/42000 [==============================] - 1s 26us/sample - loss: 0.6394 - acc: 0.8151 - val_loss: 0.6666 - val_acc: 0.8076\n",
      "Epoch 85/100\n",
      "42000/42000 [==============================] - 1s 26us/sample - loss: 0.6395 - acc: 0.8140 - val_loss: 0.6655 - val_acc: 0.8083\n",
      "Epoch 86/100\n",
      "42000/42000 [==============================] - 1s 26us/sample - loss: 0.6392 - acc: 0.8147 - val_loss: 0.6653 - val_acc: 0.8075\n",
      "Epoch 87/100\n",
      "42000/42000 [==============================] - 1s 27us/sample - loss: 0.6387 - acc: 0.8147 - val_loss: 0.6643 - val_acc: 0.8076\n",
      "Epoch 88/100\n",
      "42000/42000 [==============================] - 1s 26us/sample - loss: 0.6384 - acc: 0.8151 - val_loss: 0.6646 - val_acc: 0.8078\n",
      "Epoch 89/100\n",
      "42000/42000 [==============================] - 1s 26us/sample - loss: 0.6380 - acc: 0.8145 - val_loss: 0.6636 - val_acc: 0.8078\n",
      "Epoch 90/100\n",
      "42000/42000 [==============================] - 1s 26us/sample - loss: 0.6375 - acc: 0.8148 - val_loss: 0.6638 - val_acc: 0.8083\n",
      "Epoch 91/100\n",
      "42000/42000 [==============================] - 1s 26us/sample - loss: 0.6376 - acc: 0.8157 - val_loss: 0.6637 - val_acc: 0.8088\n",
      "Epoch 92/100\n",
      "42000/42000 [==============================] - 1s 26us/sample - loss: 0.6370 - acc: 0.8152 - val_loss: 0.6632 - val_acc: 0.8087\n",
      "Epoch 93/100\n",
      "42000/42000 [==============================] - 1s 26us/sample - loss: 0.6367 - acc: 0.8152 - val_loss: 0.6636 - val_acc: 0.8081\n",
      "Epoch 94/100\n",
      "42000/42000 [==============================] - 1s 27us/sample - loss: 0.6367 - acc: 0.8140 - val_loss: 0.6623 - val_acc: 0.8089\n",
      "Epoch 95/100\n",
      "42000/42000 [==============================] - 1s 27us/sample - loss: 0.6362 - acc: 0.8158 - val_loss: 0.6631 - val_acc: 0.8092\n",
      "Epoch 96/100\n",
      "42000/42000 [==============================] - 1s 26us/sample - loss: 0.6358 - acc: 0.8150 - val_loss: 0.6630 - val_acc: 0.8080\n",
      "Epoch 97/100\n",
      "42000/42000 [==============================] - 1s 26us/sample - loss: 0.6358 - acc: 0.8151 - val_loss: 0.6615 - val_acc: 0.8091\n",
      "Epoch 98/100\n",
      "42000/42000 [==============================] - 1s 26us/sample - loss: 0.6353 - acc: 0.8160 - val_loss: 0.6622 - val_acc: 0.8086\n",
      "Epoch 99/100\n",
      "42000/42000 [==============================] - 1s 28us/sample - loss: 0.6350 - acc: 0.8152 - val_loss: 0.6614 - val_acc: 0.8087\n",
      "Epoch 100/100\n",
      "42000/42000 [==============================] - 1s 27us/sample - loss: 0.6348 - acc: 0.8156 - val_loss: 0.6611 - val_acc: 0.8088\n"
     ]
    }
   ],
   "source": [
    "%time\n",
    "print('NN model with relu activations and sgd optimizers - changing learning rate'); print('--'*40)\n",
    "# compiling the neural network classifier, sgd optimizer\n",
    "sgd = optimizers.SGD(lr = 0.001)\n",
    "model2.compile(optimizer = sgd, loss = 'categorical_crossentropy', metrics = ['accuracy'])\n",
    "\n",
    "# Fitting the neural network for training\n",
    "history = model2.fit(X_train, y_train, validation_data = (X_val, y_val), batch_size = 200, epochs = 100, verbose = 1)"
   ]
  },
  {
   "cell_type": "code",
   "execution_count": 41,
   "metadata": {
    "colab": {
     "base_uri": "https://localhost:8080/",
     "height": 88
    },
    "colab_type": "code",
    "id": "9O9KhqH5HMWW",
    "outputId": "03347a3f-e86f-45b9-dce0-8d47001f6b07"
   },
   "outputs": [
    {
     "name": "stdout",
     "output_type": "stream",
     "text": [
      "Evaluate NN model with relu activations\n",
      "--------------------------------------------------------------------------------\n",
      "60000/60000 [==============================] - 3s 51us/sample - loss: 0.6611 - acc: 0.8088\n",
      "Validation accuracy: 80.88\n"
     ]
    }
   ],
   "source": [
    "print('Evaluate NN model with relu activations'); print('--'*40)\n",
    "results2 = model2.evaluate(X_val, y_val)\n",
    "print('Validation accuracy: {}'.format(round(results2[1]*100, 2), '%'))"
   ]
  },
  {
   "cell_type": "markdown",
   "metadata": {
    "colab_type": "text",
    "id": "CKJFAr9JRfJJ"
   },
   "source": [
    "#### NN model, relu activations, adam optimizer"
   ]
  },
  {
   "cell_type": "code",
   "execution_count": 42,
   "metadata": {
    "colab": {
     "base_uri": "https://localhost:8080/",
     "height": 1000
    },
    "colab_type": "code",
    "id": "9Q8PtyA-Jw74",
    "outputId": "15020f47-a35d-45bf-9090-cd6556442388"
   },
   "outputs": [
    {
     "name": "stdout",
     "output_type": "stream",
     "text": [
      "CPU times: user 2 µs, sys: 0 ns, total: 2 µs\n",
      "Wall time: 5.01 µs\n",
      "NN model with relu activations and adam optimizer\n",
      "--------------------------------------------------------------------------------\n",
      "Train on 42000 samples, validate on 60000 samples\n",
      "Epoch 1/100\n",
      "42000/42000 [==============================] - 1s 34us/sample - loss: 3.3943 - acc: 0.1031 - val_loss: 2.3027 - val_acc: 0.1000\n",
      "Epoch 2/100\n",
      "42000/42000 [==============================] - 1s 30us/sample - loss: 2.3013 - acc: 0.1004 - val_loss: 2.3027 - val_acc: 0.1014\n",
      "Epoch 3/100\n",
      "42000/42000 [==============================] - 1s 29us/sample - loss: 2.2895 - acc: 0.1191 - val_loss: 2.2743 - val_acc: 0.1331\n",
      "Epoch 4/100\n",
      "42000/42000 [==============================] - 1s 31us/sample - loss: 2.2683 - acc: 0.1293 - val_loss: 2.2518 - val_acc: 0.1432\n",
      "Epoch 5/100\n",
      "42000/42000 [==============================] - 1s 28us/sample - loss: 2.1576 - acc: 0.1853 - val_loss: 2.0355 - val_acc: 0.2498\n",
      "Epoch 6/100\n",
      "42000/42000 [==============================] - 1s 27us/sample - loss: 1.8345 - acc: 0.3417 - val_loss: 1.6677 - val_acc: 0.4254\n",
      "Epoch 7/100\n",
      "42000/42000 [==============================] - 1s 26us/sample - loss: 1.5568 - acc: 0.4742 - val_loss: 1.4540 - val_acc: 0.5070\n",
      "Epoch 8/100\n",
      "42000/42000 [==============================] - 1s 27us/sample - loss: 1.3969 - acc: 0.5453 - val_loss: 1.4334 - val_acc: 0.5188\n",
      "Epoch 9/100\n",
      "42000/42000 [==============================] - 1s 26us/sample - loss: 1.3505 - acc: 0.5663 - val_loss: 1.3200 - val_acc: 0.5760\n",
      "Epoch 10/100\n",
      "42000/42000 [==============================] - 1s 27us/sample - loss: 1.2855 - acc: 0.5901 - val_loss: 1.2031 - val_acc: 0.6226\n",
      "Epoch 11/100\n",
      "42000/42000 [==============================] - 1s 27us/sample - loss: 1.2371 - acc: 0.6069 - val_loss: 1.2411 - val_acc: 0.6005\n",
      "Epoch 12/100\n",
      "42000/42000 [==============================] - 1s 27us/sample - loss: 1.2108 - acc: 0.6166 - val_loss: 1.2598 - val_acc: 0.5979\n",
      "Epoch 13/100\n",
      "42000/42000 [==============================] - 1s 27us/sample - loss: 1.2105 - acc: 0.6179 - val_loss: 1.2068 - val_acc: 0.6124\n",
      "Epoch 14/100\n",
      "42000/42000 [==============================] - 1s 27us/sample - loss: 1.1587 - acc: 0.6356 - val_loss: 1.1786 - val_acc: 0.6265\n",
      "Epoch 15/100\n",
      "42000/42000 [==============================] - 1s 26us/sample - loss: 1.1466 - acc: 0.6399 - val_loss: 1.0966 - val_acc: 0.6581\n",
      "Epoch 16/100\n",
      "42000/42000 [==============================] - 1s 29us/sample - loss: 1.1529 - acc: 0.6390 - val_loss: 1.2340 - val_acc: 0.6092\n",
      "Epoch 17/100\n",
      "42000/42000 [==============================] - 1s 27us/sample - loss: 1.1638 - acc: 0.6342 - val_loss: 1.1474 - val_acc: 0.6446\n",
      "Epoch 18/100\n",
      "42000/42000 [==============================] - 1s 26us/sample - loss: 1.1361 - acc: 0.6437 - val_loss: 1.1375 - val_acc: 0.6424\n",
      "Epoch 19/100\n",
      "42000/42000 [==============================] - 1s 27us/sample - loss: 1.1319 - acc: 0.6441 - val_loss: 1.1487 - val_acc: 0.6376\n",
      "Epoch 20/100\n",
      "42000/42000 [==============================] - 1s 27us/sample - loss: 1.1126 - acc: 0.6519 - val_loss: 1.0731 - val_acc: 0.6636\n",
      "Epoch 21/100\n",
      "42000/42000 [==============================] - 1s 26us/sample - loss: 1.1100 - acc: 0.6529 - val_loss: 1.1204 - val_acc: 0.6526\n",
      "Epoch 22/100\n",
      "42000/42000 [==============================] - 1s 27us/sample - loss: 1.1103 - acc: 0.6528 - val_loss: 1.1775 - val_acc: 0.6292\n",
      "Epoch 23/100\n",
      "42000/42000 [==============================] - 1s 27us/sample - loss: 1.1069 - acc: 0.6525 - val_loss: 1.0985 - val_acc: 0.6520\n",
      "Epoch 24/100\n",
      "42000/42000 [==============================] - 1s 27us/sample - loss: 1.0999 - acc: 0.6546 - val_loss: 1.0967 - val_acc: 0.6591\n",
      "Epoch 25/100\n",
      "42000/42000 [==============================] - 1s 26us/sample - loss: 1.0973 - acc: 0.6555 - val_loss: 1.0405 - val_acc: 0.6792\n",
      "Epoch 26/100\n",
      "42000/42000 [==============================] - 1s 27us/sample - loss: 1.1014 - acc: 0.6541 - val_loss: 1.1677 - val_acc: 0.6265\n",
      "Epoch 27/100\n",
      "42000/42000 [==============================] - 1s 27us/sample - loss: 1.0893 - acc: 0.6584 - val_loss: 1.0540 - val_acc: 0.6711\n",
      "Epoch 28/100\n",
      "42000/42000 [==============================] - 1s 26us/sample - loss: 1.0889 - acc: 0.6568 - val_loss: 1.0725 - val_acc: 0.6622\n",
      "Epoch 29/100\n",
      "42000/42000 [==============================] - 1s 27us/sample - loss: 1.0825 - acc: 0.6615 - val_loss: 1.1438 - val_acc: 0.6394\n",
      "Epoch 30/100\n",
      "42000/42000 [==============================] - 1s 27us/sample - loss: 1.0843 - acc: 0.6596 - val_loss: 1.0277 - val_acc: 0.6816\n",
      "Epoch 31/100\n",
      "42000/42000 [==============================] - 1s 27us/sample - loss: 1.0669 - acc: 0.6661 - val_loss: 1.0409 - val_acc: 0.6762\n",
      "Epoch 32/100\n",
      "42000/42000 [==============================] - 1s 29us/sample - loss: 1.0803 - acc: 0.6599 - val_loss: 1.0849 - val_acc: 0.6575\n",
      "Epoch 33/100\n",
      "42000/42000 [==============================] - 1s 27us/sample - loss: 1.0737 - acc: 0.6627 - val_loss: 1.1215 - val_acc: 0.6391\n",
      "Epoch 34/100\n",
      "42000/42000 [==============================] - 1s 27us/sample - loss: 1.0673 - acc: 0.6649 - val_loss: 1.0624 - val_acc: 0.6672\n",
      "Epoch 35/100\n",
      "42000/42000 [==============================] - 1s 26us/sample - loss: 1.0648 - acc: 0.6656 - val_loss: 1.0486 - val_acc: 0.6743\n",
      "Epoch 36/100\n",
      "42000/42000 [==============================] - 1s 27us/sample - loss: 1.0647 - acc: 0.6647 - val_loss: 1.0660 - val_acc: 0.6658\n",
      "Epoch 37/100\n",
      "42000/42000 [==============================] - 1s 26us/sample - loss: 1.0650 - acc: 0.6636 - val_loss: 1.0980 - val_acc: 0.6513\n",
      "Epoch 38/100\n",
      "42000/42000 [==============================] - 1s 26us/sample - loss: 1.0624 - acc: 0.6673 - val_loss: 1.0543 - val_acc: 0.6686\n",
      "Epoch 39/100\n",
      "42000/42000 [==============================] - 1s 27us/sample - loss: 1.0690 - acc: 0.6653 - val_loss: 1.0335 - val_acc: 0.6793\n",
      "Epoch 40/100\n",
      "42000/42000 [==============================] - 1s 27us/sample - loss: 1.0487 - acc: 0.6729 - val_loss: 1.0449 - val_acc: 0.6762\n",
      "Epoch 41/100\n",
      "42000/42000 [==============================] - 1s 27us/sample - loss: 1.0556 - acc: 0.6700 - val_loss: 1.0483 - val_acc: 0.6722\n",
      "Epoch 42/100\n",
      "42000/42000 [==============================] - 1s 26us/sample - loss: 1.0526 - acc: 0.6711 - val_loss: 1.0227 - val_acc: 0.6811\n",
      "Epoch 43/100\n",
      "42000/42000 [==============================] - 1s 27us/sample - loss: 1.0472 - acc: 0.6733 - val_loss: 1.0363 - val_acc: 0.6783\n",
      "Epoch 44/100\n",
      "42000/42000 [==============================] - 1s 26us/sample - loss: 1.0532 - acc: 0.6717 - val_loss: 1.0223 - val_acc: 0.6808\n",
      "Epoch 45/100\n",
      "42000/42000 [==============================] - 1s 26us/sample - loss: 1.0416 - acc: 0.6732 - val_loss: 1.0771 - val_acc: 0.6583\n",
      "Epoch 46/100\n",
      "42000/42000 [==============================] - 1s 27us/sample - loss: 1.0372 - acc: 0.6736 - val_loss: 1.0675 - val_acc: 0.6671\n",
      "Epoch 47/100\n",
      "42000/42000 [==============================] - 1s 27us/sample - loss: 1.0606 - acc: 0.6655 - val_loss: 1.0282 - val_acc: 0.6787\n",
      "Epoch 48/100\n",
      "42000/42000 [==============================] - 1s 28us/sample - loss: 1.0661 - acc: 0.6638 - val_loss: 1.0242 - val_acc: 0.6798\n",
      "Epoch 49/100\n",
      "42000/42000 [==============================] - 1s 27us/sample - loss: 1.0452 - acc: 0.6718 - val_loss: 1.0708 - val_acc: 0.6636\n",
      "Epoch 50/100\n",
      "42000/42000 [==============================] - 1s 28us/sample - loss: 1.0386 - acc: 0.6764 - val_loss: 1.0317 - val_acc: 0.6770\n",
      "Epoch 51/100\n",
      "42000/42000 [==============================] - 1s 27us/sample - loss: 1.0393 - acc: 0.6755 - val_loss: 1.0551 - val_acc: 0.6654\n",
      "Epoch 52/100\n",
      "42000/42000 [==============================] - 1s 27us/sample - loss: 1.0469 - acc: 0.6717 - val_loss: 1.0547 - val_acc: 0.6689\n",
      "Epoch 53/100\n",
      "42000/42000 [==============================] - 1s 27us/sample - loss: 1.0485 - acc: 0.6729 - val_loss: 1.0864 - val_acc: 0.6599\n",
      "Epoch 54/100\n",
      "42000/42000 [==============================] - 1s 28us/sample - loss: 1.0401 - acc: 0.6743 - val_loss: 0.9906 - val_acc: 0.6897\n",
      "Epoch 55/100\n",
      "42000/42000 [==============================] - 1s 26us/sample - loss: 1.0368 - acc: 0.6735 - val_loss: 1.0132 - val_acc: 0.6853\n",
      "Epoch 56/100\n",
      "42000/42000 [==============================] - 1s 27us/sample - loss: 1.0445 - acc: 0.6722 - val_loss: 1.0171 - val_acc: 0.6813\n",
      "Epoch 57/100\n",
      "42000/42000 [==============================] - 1s 30us/sample - loss: 1.0387 - acc: 0.6763 - val_loss: 1.0498 - val_acc: 0.6689\n",
      "Epoch 58/100\n",
      "42000/42000 [==============================] - 1s 27us/sample - loss: 1.0460 - acc: 0.6731 - val_loss: 1.0686 - val_acc: 0.6675\n",
      "Epoch 59/100\n",
      "42000/42000 [==============================] - 1s 27us/sample - loss: 1.0375 - acc: 0.6751 - val_loss: 1.0465 - val_acc: 0.6723\n",
      "Epoch 60/100\n",
      "42000/42000 [==============================] - 1s 27us/sample - loss: 1.0389 - acc: 0.6742 - val_loss: 1.0595 - val_acc: 0.6651\n",
      "Epoch 61/100\n",
      "42000/42000 [==============================] - 1s 27us/sample - loss: 1.0250 - acc: 0.6791 - val_loss: 1.0227 - val_acc: 0.6823\n",
      "Epoch 62/100\n",
      "42000/42000 [==============================] - 1s 26us/sample - loss: 1.0342 - acc: 0.6758 - val_loss: 1.0227 - val_acc: 0.6824\n",
      "Epoch 63/100\n",
      "42000/42000 [==============================] - 1s 26us/sample - loss: 1.0375 - acc: 0.6764 - val_loss: 1.0060 - val_acc: 0.6898\n",
      "Epoch 64/100\n",
      "42000/42000 [==============================] - 1s 27us/sample - loss: 1.0230 - acc: 0.6793 - val_loss: 1.0115 - val_acc: 0.6835\n",
      "Epoch 65/100\n",
      "42000/42000 [==============================] - 1s 26us/sample - loss: 1.0224 - acc: 0.6798 - val_loss: 1.0603 - val_acc: 0.6657\n",
      "Epoch 66/100\n",
      "42000/42000 [==============================] - 1s 27us/sample - loss: 1.0352 - acc: 0.6760 - val_loss: 1.0281 - val_acc: 0.6746\n",
      "Epoch 67/100\n",
      "42000/42000 [==============================] - 1s 26us/sample - loss: 1.0335 - acc: 0.6775 - val_loss: 0.9844 - val_acc: 0.6960\n",
      "Epoch 68/100\n",
      "42000/42000 [==============================] - 1s 26us/sample - loss: 1.0224 - acc: 0.6811 - val_loss: 1.0320 - val_acc: 0.6740\n",
      "Epoch 69/100\n",
      "42000/42000 [==============================] - 1s 30us/sample - loss: 1.0351 - acc: 0.6750 - val_loss: 1.0805 - val_acc: 0.6631\n",
      "Epoch 70/100\n",
      "42000/42000 [==============================] - 1s 26us/sample - loss: 1.0223 - acc: 0.6813 - val_loss: 1.0350 - val_acc: 0.6804\n",
      "Epoch 71/100\n",
      "42000/42000 [==============================] - 1s 26us/sample - loss: 1.0255 - acc: 0.6781 - val_loss: 1.0166 - val_acc: 0.6827\n",
      "Epoch 72/100\n",
      "42000/42000 [==============================] - 1s 26us/sample - loss: 1.0279 - acc: 0.6781 - val_loss: 1.0422 - val_acc: 0.6733\n",
      "Epoch 73/100\n",
      "42000/42000 [==============================] - 1s 26us/sample - loss: 1.0341 - acc: 0.6777 - val_loss: 0.9790 - val_acc: 0.6986\n",
      "Epoch 74/100\n",
      "42000/42000 [==============================] - 1s 26us/sample - loss: 1.0214 - acc: 0.6818 - val_loss: 1.0892 - val_acc: 0.6592\n",
      "Epoch 75/100\n",
      "42000/42000 [==============================] - 1s 26us/sample - loss: 1.0283 - acc: 0.6802 - val_loss: 1.0154 - val_acc: 0.6855\n",
      "Epoch 76/100\n",
      "42000/42000 [==============================] - 1s 27us/sample - loss: 1.0244 - acc: 0.6779 - val_loss: 1.0062 - val_acc: 0.6894\n",
      "Epoch 77/100\n",
      "42000/42000 [==============================] - 1s 26us/sample - loss: 1.0194 - acc: 0.6811 - val_loss: 1.0128 - val_acc: 0.6851\n",
      "Epoch 78/100\n",
      "42000/42000 [==============================] - 1s 26us/sample - loss: 1.0110 - acc: 0.6831 - val_loss: 1.0117 - val_acc: 0.6898\n",
      "Epoch 79/100\n",
      "42000/42000 [==============================] - 1s 26us/sample - loss: 1.0215 - acc: 0.6807 - val_loss: 1.0087 - val_acc: 0.6883\n",
      "Epoch 80/100\n",
      "42000/42000 [==============================] - 1s 27us/sample - loss: 1.0231 - acc: 0.6806 - val_loss: 1.0040 - val_acc: 0.6889\n",
      "Epoch 81/100\n",
      "42000/42000 [==============================] - 1s 26us/sample - loss: 1.0298 - acc: 0.6776 - val_loss: 1.0346 - val_acc: 0.6800\n",
      "Epoch 82/100\n",
      "42000/42000 [==============================] - 1s 27us/sample - loss: 1.0202 - acc: 0.6811 - val_loss: 1.0856 - val_acc: 0.6620\n",
      "Epoch 83/100\n",
      "42000/42000 [==============================] - 1s 26us/sample - loss: 1.0209 - acc: 0.6805 - val_loss: 0.9843 - val_acc: 0.6952\n",
      "Epoch 84/100\n",
      "42000/42000 [==============================] - 1s 27us/sample - loss: 1.0093 - acc: 0.6862 - val_loss: 1.0686 - val_acc: 0.6638\n",
      "Epoch 85/100\n",
      "42000/42000 [==============================] - 1s 28us/sample - loss: 1.0101 - acc: 0.6857 - val_loss: 0.9739 - val_acc: 0.6989\n",
      "Epoch 86/100\n",
      "42000/42000 [==============================] - 1s 28us/sample - loss: 1.0075 - acc: 0.6861 - val_loss: 0.9899 - val_acc: 0.6946\n",
      "Epoch 87/100\n",
      "42000/42000 [==============================] - 1s 27us/sample - loss: 1.0080 - acc: 0.6878 - val_loss: 1.0014 - val_acc: 0.6913\n",
      "Epoch 88/100\n",
      "42000/42000 [==============================] - 1s 26us/sample - loss: 1.0107 - acc: 0.6852 - val_loss: 1.0051 - val_acc: 0.6876\n",
      "Epoch 89/100\n",
      "42000/42000 [==============================] - 1s 27us/sample - loss: 1.0133 - acc: 0.6821 - val_loss: 1.0165 - val_acc: 0.6839\n",
      "Epoch 90/100\n",
      "42000/42000 [==============================] - 1s 26us/sample - loss: 1.0023 - acc: 0.6889 - val_loss: 0.9863 - val_acc: 0.6931\n",
      "Epoch 91/100\n",
      "42000/42000 [==============================] - 1s 26us/sample - loss: 1.0083 - acc: 0.6878 - val_loss: 0.9998 - val_acc: 0.6890\n",
      "Epoch 92/100\n",
      "42000/42000 [==============================] - 1s 26us/sample - loss: 1.0092 - acc: 0.6862 - val_loss: 0.9811 - val_acc: 0.6973\n",
      "Epoch 93/100\n",
      "42000/42000 [==============================] - 1s 27us/sample - loss: 1.0127 - acc: 0.6836 - val_loss: 1.0062 - val_acc: 0.6899\n",
      "Epoch 94/100\n",
      "42000/42000 [==============================] - 1s 26us/sample - loss: 0.9985 - acc: 0.6901 - val_loss: 0.9626 - val_acc: 0.7035\n",
      "Epoch 95/100\n",
      "42000/42000 [==============================] - 1s 27us/sample - loss: 0.9983 - acc: 0.6881 - val_loss: 0.9701 - val_acc: 0.7008\n",
      "Epoch 96/100\n",
      "42000/42000 [==============================] - 1s 27us/sample - loss: 0.9938 - acc: 0.6915 - val_loss: 0.9868 - val_acc: 0.6932\n",
      "Epoch 97/100\n",
      "42000/42000 [==============================] - 1s 27us/sample - loss: 1.0051 - acc: 0.6875 - val_loss: 1.0199 - val_acc: 0.6880\n",
      "Epoch 98/100\n",
      "42000/42000 [==============================] - 1s 26us/sample - loss: 1.0072 - acc: 0.6864 - val_loss: 0.9687 - val_acc: 0.7041\n",
      "Epoch 99/100\n",
      "42000/42000 [==============================] - 1s 27us/sample - loss: 1.0078 - acc: 0.6880 - val_loss: 0.9660 - val_acc: 0.7028\n",
      "Epoch 100/100\n",
      "42000/42000 [==============================] - 1s 27us/sample - loss: 0.9940 - acc: 0.6921 - val_loss: 1.0037 - val_acc: 0.6911\n"
     ]
    }
   ],
   "source": [
    "%time\n",
    "print('NN model with relu activations and adam optimizer'); print('--'*40)\n",
    "# compiling the neural network classifier, adam optimizer\n",
    "adam = optimizers.Adam(lr = 0.01)\n",
    "model2.compile(optimizer = adam, loss = 'categorical_crossentropy', metrics = ['accuracy'])\n",
    "\n",
    "# Fitting the neural network for training\n",
    "history = model2.fit(X_train, y_train, validation_data = (X_val, y_val), batch_size = 200, epochs = 100, verbose = 1)"
   ]
  },
  {
   "cell_type": "code",
   "execution_count": 43,
   "metadata": {
    "colab": {
     "base_uri": "https://localhost:8080/",
     "height": 88
    },
    "colab_type": "code",
    "id": "pAICaMQJKFE5",
    "outputId": "17b397c4-bf5e-44fc-ae73-4959635540eb"
   },
   "outputs": [
    {
     "name": "stdout",
     "output_type": "stream",
     "text": [
      "Evaluate NN model with relu activations\n",
      "--------------------------------------------------------------------------------\n",
      "60000/60000 [==============================] - 3s 47us/sample - loss: 1.0037 - acc: 0.6911\n",
      "Validation accuracy: 69.11\n"
     ]
    }
   ],
   "source": [
    "print('Evaluate NN model with relu activations'); print('--'*40)\n",
    "results2 = model2.evaluate(X_val, y_val)\n",
    "print('Validation accuracy: {}'.format(round(results2[1]*100, 2), '%'))"
   ]
  },
  {
   "cell_type": "markdown",
   "metadata": {
    "colab_type": "text",
    "id": "JT_j1efHRpGa"
   },
   "source": [
    "#### NN model, relu activations, adam optimizer, changing learning rate"
   ]
  },
  {
   "cell_type": "code",
   "execution_count": 44,
   "metadata": {
    "colab": {
     "base_uri": "https://localhost:8080/",
     "height": 1000
    },
    "colab_type": "code",
    "id": "j6CfiDwmRscX",
    "outputId": "66419ce6-9a33-4623-f0a3-e91822b6004a"
   },
   "outputs": [
    {
     "name": "stdout",
     "output_type": "stream",
     "text": [
      "CPU times: user 2 µs, sys: 1e+03 ns, total: 3 µs\n",
      "Wall time: 4.77 µs\n",
      "NN model with relu activations and adam optimizer\n",
      "--------------------------------------------------------------------------------\n",
      "Train on 42000 samples, validate on 60000 samples\n",
      "Epoch 1/100\n",
      "42000/42000 [==============================] - 1s 30us/sample - loss: 0.9207 - acc: 0.7166 - val_loss: 0.9223 - val_acc: 0.7184\n",
      "Epoch 2/100\n",
      "42000/42000 [==============================] - 1s 27us/sample - loss: 0.9098 - acc: 0.7203 - val_loss: 0.9175 - val_acc: 0.7193\n",
      "Epoch 3/100\n",
      "42000/42000 [==============================] - 1s 27us/sample - loss: 0.9100 - acc: 0.7193 - val_loss: 0.9187 - val_acc: 0.7174\n",
      "Epoch 4/100\n",
      "42000/42000 [==============================] - 1s 29us/sample - loss: 0.9088 - acc: 0.7202 - val_loss: 0.9171 - val_acc: 0.7187\n",
      "Epoch 5/100\n",
      "42000/42000 [==============================] - 1s 26us/sample - loss: 0.9080 - acc: 0.7191 - val_loss: 0.9185 - val_acc: 0.7184\n",
      "Epoch 6/100\n",
      "42000/42000 [==============================] - 1s 26us/sample - loss: 0.9064 - acc: 0.7220 - val_loss: 0.9181 - val_acc: 0.7187\n",
      "Epoch 7/100\n",
      "42000/42000 [==============================] - 1s 30us/sample - loss: 0.9074 - acc: 0.7217 - val_loss: 0.9131 - val_acc: 0.7214\n",
      "Epoch 8/100\n",
      "42000/42000 [==============================] - 1s 27us/sample - loss: 0.9038 - acc: 0.7233 - val_loss: 0.9160 - val_acc: 0.7208\n",
      "Epoch 9/100\n",
      "42000/42000 [==============================] - 1s 27us/sample - loss: 0.9038 - acc: 0.7221 - val_loss: 0.9150 - val_acc: 0.7202\n",
      "Epoch 10/100\n",
      "42000/42000 [==============================] - 1s 27us/sample - loss: 0.9043 - acc: 0.7222 - val_loss: 0.9147 - val_acc: 0.7218\n",
      "Epoch 11/100\n",
      "42000/42000 [==============================] - 1s 27us/sample - loss: 0.9017 - acc: 0.7234 - val_loss: 0.9187 - val_acc: 0.7187\n",
      "Epoch 12/100\n",
      "42000/42000 [==============================] - 1s 27us/sample - loss: 0.9026 - acc: 0.7225 - val_loss: 0.9187 - val_acc: 0.7187\n",
      "Epoch 13/100\n",
      "42000/42000 [==============================] - 1s 26us/sample - loss: 0.9057 - acc: 0.7221 - val_loss: 0.9153 - val_acc: 0.7211\n",
      "Epoch 14/100\n",
      "42000/42000 [==============================] - 1s 27us/sample - loss: 0.9016 - acc: 0.7229 - val_loss: 0.9116 - val_acc: 0.7207\n",
      "Epoch 15/100\n",
      "42000/42000 [==============================] - 1s 26us/sample - loss: 0.9031 - acc: 0.7222 - val_loss: 0.9213 - val_acc: 0.7177\n",
      "Epoch 16/100\n",
      "42000/42000 [==============================] - 1s 26us/sample - loss: 0.9001 - acc: 0.7229 - val_loss: 0.9053 - val_acc: 0.7233\n",
      "Epoch 17/100\n",
      "42000/42000 [==============================] - 1s 27us/sample - loss: 0.9013 - acc: 0.7225 - val_loss: 0.9189 - val_acc: 0.7166\n",
      "Epoch 18/100\n",
      "42000/42000 [==============================] - 1s 26us/sample - loss: 0.8989 - acc: 0.7245 - val_loss: 0.9059 - val_acc: 0.7229\n",
      "Epoch 19/100\n",
      "42000/42000 [==============================] - 1s 29us/sample - loss: 0.9003 - acc: 0.7237 - val_loss: 0.9150 - val_acc: 0.7199\n",
      "Epoch 20/100\n",
      "42000/42000 [==============================] - 1s 28us/sample - loss: 0.9003 - acc: 0.7231 - val_loss: 0.9091 - val_acc: 0.7216\n",
      "Epoch 21/100\n",
      "42000/42000 [==============================] - 1s 27us/sample - loss: 0.8980 - acc: 0.7254 - val_loss: 0.9098 - val_acc: 0.7218\n",
      "Epoch 22/100\n",
      "42000/42000 [==============================] - 1s 27us/sample - loss: 0.8977 - acc: 0.7244 - val_loss: 0.9094 - val_acc: 0.7217\n",
      "Epoch 23/100\n",
      "42000/42000 [==============================] - 1s 27us/sample - loss: 0.8987 - acc: 0.7237 - val_loss: 0.9145 - val_acc: 0.7200\n",
      "Epoch 24/100\n",
      "42000/42000 [==============================] - 1s 26us/sample - loss: 0.8967 - acc: 0.7244 - val_loss: 0.9107 - val_acc: 0.7208\n",
      "Epoch 25/100\n",
      "42000/42000 [==============================] - 1s 27us/sample - loss: 0.8976 - acc: 0.7246 - val_loss: 0.9145 - val_acc: 0.7199\n",
      "Epoch 26/100\n",
      "42000/42000 [==============================] - 1s 27us/sample - loss: 0.8976 - acc: 0.7237 - val_loss: 0.9047 - val_acc: 0.7238\n",
      "Epoch 27/100\n",
      "42000/42000 [==============================] - 1s 27us/sample - loss: 0.8966 - acc: 0.7230 - val_loss: 0.9074 - val_acc: 0.7229\n",
      "Epoch 28/100\n",
      "42000/42000 [==============================] - 1s 27us/sample - loss: 0.8947 - acc: 0.7263 - val_loss: 0.9040 - val_acc: 0.7226\n",
      "Epoch 29/100\n",
      "42000/42000 [==============================] - 1s 26us/sample - loss: 0.8959 - acc: 0.7252 - val_loss: 0.9215 - val_acc: 0.7157\n",
      "Epoch 30/100\n",
      "42000/42000 [==============================] - 1s 27us/sample - loss: 0.8937 - acc: 0.7264 - val_loss: 0.9097 - val_acc: 0.7207\n",
      "Epoch 31/100\n",
      "42000/42000 [==============================] - 1s 27us/sample - loss: 0.8959 - acc: 0.7242 - val_loss: 0.9120 - val_acc: 0.7211\n",
      "Epoch 32/100\n",
      "42000/42000 [==============================] - 1s 27us/sample - loss: 0.8944 - acc: 0.7248 - val_loss: 0.9027 - val_acc: 0.7243\n",
      "Epoch 33/100\n",
      "42000/42000 [==============================] - 1s 26us/sample - loss: 0.8942 - acc: 0.7254 - val_loss: 0.9032 - val_acc: 0.7250\n",
      "Epoch 34/100\n",
      "42000/42000 [==============================] - 1s 27us/sample - loss: 0.8928 - acc: 0.7254 - val_loss: 0.9032 - val_acc: 0.7240\n",
      "Epoch 35/100\n",
      "42000/42000 [==============================] - 1s 27us/sample - loss: 0.8926 - acc: 0.7265 - val_loss: 0.9091 - val_acc: 0.7202\n",
      "Epoch 36/100\n",
      "42000/42000 [==============================] - 1s 27us/sample - loss: 0.8949 - acc: 0.7246 - val_loss: 0.9041 - val_acc: 0.7226\n",
      "Epoch 37/100\n",
      "42000/42000 [==============================] - 1s 28us/sample - loss: 0.8940 - acc: 0.7237 - val_loss: 0.9028 - val_acc: 0.7241\n",
      "Epoch 38/100\n",
      "42000/42000 [==============================] - 1s 27us/sample - loss: 0.8925 - acc: 0.7257 - val_loss: 0.9063 - val_acc: 0.7229\n",
      "Epoch 39/100\n",
      "42000/42000 [==============================] - 1s 27us/sample - loss: 0.8917 - acc: 0.7259 - val_loss: 0.9024 - val_acc: 0.7245\n",
      "Epoch 40/100\n",
      "42000/42000 [==============================] - 1s 27us/sample - loss: 0.8943 - acc: 0.7253 - val_loss: 0.9051 - val_acc: 0.7239\n",
      "Epoch 41/100\n",
      "42000/42000 [==============================] - 1s 27us/sample - loss: 0.8918 - acc: 0.7263 - val_loss: 0.9123 - val_acc: 0.7199\n",
      "Epoch 42/100\n",
      "42000/42000 [==============================] - 1s 26us/sample - loss: 0.8918 - acc: 0.7262 - val_loss: 0.9091 - val_acc: 0.7220\n",
      "Epoch 43/100\n",
      "42000/42000 [==============================] - 1s 26us/sample - loss: 0.8912 - acc: 0.7266 - val_loss: 0.9088 - val_acc: 0.7209\n",
      "Epoch 44/100\n",
      "42000/42000 [==============================] - 1s 26us/sample - loss: 0.8900 - acc: 0.7281 - val_loss: 0.9084 - val_acc: 0.7224\n",
      "Epoch 45/100\n",
      "42000/42000 [==============================] - 1s 26us/sample - loss: 0.8904 - acc: 0.7269 - val_loss: 0.9066 - val_acc: 0.7211\n",
      "Epoch 46/100\n",
      "42000/42000 [==============================] - 1s 26us/sample - loss: 0.8903 - acc: 0.7260 - val_loss: 0.9017 - val_acc: 0.7251\n",
      "Epoch 47/100\n",
      "42000/42000 [==============================] - 1s 27us/sample - loss: 0.8908 - acc: 0.7267 - val_loss: 0.9037 - val_acc: 0.7225\n",
      "Epoch 48/100\n",
      "42000/42000 [==============================] - 1s 27us/sample - loss: 0.8892 - acc: 0.7248 - val_loss: 0.9043 - val_acc: 0.7222\n",
      "Epoch 49/100\n",
      "42000/42000 [==============================] - 1s 27us/sample - loss: 0.8892 - acc: 0.7263 - val_loss: 0.8993 - val_acc: 0.7247\n",
      "Epoch 50/100\n",
      "42000/42000 [==============================] - 1s 26us/sample - loss: 0.8902 - acc: 0.7260 - val_loss: 0.9123 - val_acc: 0.7200\n",
      "Epoch 51/100\n",
      "42000/42000 [==============================] - 1s 27us/sample - loss: 0.8890 - acc: 0.7261 - val_loss: 0.9017 - val_acc: 0.7247\n",
      "Epoch 52/100\n",
      "42000/42000 [==============================] - 1s 26us/sample - loss: 0.8873 - acc: 0.7271 - val_loss: 0.8991 - val_acc: 0.7254\n",
      "Epoch 53/100\n",
      "42000/42000 [==============================] - 1s 26us/sample - loss: 0.8879 - acc: 0.7272 - val_loss: 0.8996 - val_acc: 0.7247\n",
      "Epoch 54/100\n",
      "42000/42000 [==============================] - 1s 27us/sample - loss: 0.8880 - acc: 0.7273 - val_loss: 0.9110 - val_acc: 0.7222\n",
      "Epoch 55/100\n",
      "42000/42000 [==============================] - 1s 27us/sample - loss: 0.8882 - acc: 0.7275 - val_loss: 0.9008 - val_acc: 0.7245\n",
      "Epoch 56/100\n",
      "42000/42000 [==============================] - 1s 27us/sample - loss: 0.8879 - acc: 0.7273 - val_loss: 0.9052 - val_acc: 0.7240\n",
      "Epoch 57/100\n",
      "42000/42000 [==============================] - 1s 29us/sample - loss: 0.8860 - acc: 0.7280 - val_loss: 0.9027 - val_acc: 0.7250\n",
      "Epoch 58/100\n",
      "42000/42000 [==============================] - 1s 27us/sample - loss: 0.8857 - acc: 0.7295 - val_loss: 0.8991 - val_acc: 0.7258\n",
      "Epoch 59/100\n",
      "42000/42000 [==============================] - 1s 27us/sample - loss: 0.8899 - acc: 0.7264 - val_loss: 0.9094 - val_acc: 0.7238\n",
      "Epoch 60/100\n",
      "42000/42000 [==============================] - 1s 29us/sample - loss: 0.8868 - acc: 0.7277 - val_loss: 0.9053 - val_acc: 0.7228\n",
      "Epoch 61/100\n",
      "42000/42000 [==============================] - 1s 27us/sample - loss: 0.8864 - acc: 0.7288 - val_loss: 0.8992 - val_acc: 0.7254\n",
      "Epoch 62/100\n",
      "42000/42000 [==============================] - 1s 26us/sample - loss: 0.8879 - acc: 0.7276 - val_loss: 0.8937 - val_acc: 0.7282\n",
      "Epoch 63/100\n",
      "42000/42000 [==============================] - 1s 27us/sample - loss: 0.8860 - acc: 0.7279 - val_loss: 0.9124 - val_acc: 0.7200\n",
      "Epoch 64/100\n",
      "42000/42000 [==============================] - 1s 27us/sample - loss: 0.8867 - acc: 0.7286 - val_loss: 0.9027 - val_acc: 0.7235\n",
      "Epoch 65/100\n",
      "42000/42000 [==============================] - 1s 27us/sample - loss: 0.8852 - acc: 0.7286 - val_loss: 0.8949 - val_acc: 0.7265\n",
      "Epoch 66/100\n",
      "42000/42000 [==============================] - 1s 27us/sample - loss: 0.8861 - acc: 0.7287 - val_loss: 0.8954 - val_acc: 0.7266\n",
      "Epoch 67/100\n",
      "42000/42000 [==============================] - 1s 27us/sample - loss: 0.8840 - acc: 0.7283 - val_loss: 0.9055 - val_acc: 0.7222\n",
      "Epoch 68/100\n",
      "42000/42000 [==============================] - 1s 27us/sample - loss: 0.8838 - acc: 0.7285 - val_loss: 0.8979 - val_acc: 0.7258\n",
      "Epoch 69/100\n",
      "42000/42000 [==============================] - 1s 27us/sample - loss: 0.8849 - acc: 0.7277 - val_loss: 0.8946 - val_acc: 0.7275\n",
      "Epoch 70/100\n",
      "42000/42000 [==============================] - 1s 27us/sample - loss: 0.8830 - acc: 0.7291 - val_loss: 0.8960 - val_acc: 0.7247\n",
      "Epoch 71/100\n",
      "42000/42000 [==============================] - 1s 27us/sample - loss: 0.8848 - acc: 0.7285 - val_loss: 0.8995 - val_acc: 0.7262\n",
      "Epoch 72/100\n",
      "42000/42000 [==============================] - 1s 29us/sample - loss: 0.8834 - acc: 0.7289 - val_loss: 0.9017 - val_acc: 0.7239\n",
      "Epoch 73/100\n",
      "42000/42000 [==============================] - 1s 27us/sample - loss: 0.8826 - acc: 0.7281 - val_loss: 0.8945 - val_acc: 0.7273\n",
      "Epoch 74/100\n",
      "42000/42000 [==============================] - 1s 26us/sample - loss: 0.8825 - acc: 0.7292 - val_loss: 0.8963 - val_acc: 0.7259\n",
      "Epoch 75/100\n",
      "42000/42000 [==============================] - 1s 26us/sample - loss: 0.8826 - acc: 0.7280 - val_loss: 0.8977 - val_acc: 0.7272\n",
      "Epoch 76/100\n",
      "42000/42000 [==============================] - 1s 27us/sample - loss: 0.8830 - acc: 0.7291 - val_loss: 0.8935 - val_acc: 0.7268\n",
      "Epoch 77/100\n",
      "42000/42000 [==============================] - 1s 27us/sample - loss: 0.8825 - acc: 0.7294 - val_loss: 0.8943 - val_acc: 0.7264\n",
      "Epoch 78/100\n",
      "42000/42000 [==============================] - 1s 27us/sample - loss: 0.8835 - acc: 0.7282 - val_loss: 0.8985 - val_acc: 0.7260\n",
      "Epoch 79/100\n",
      "42000/42000 [==============================] - 1s 27us/sample - loss: 0.8825 - acc: 0.7271 - val_loss: 0.8932 - val_acc: 0.7282\n",
      "Epoch 80/100\n",
      "42000/42000 [==============================] - 1s 26us/sample - loss: 0.8817 - acc: 0.7296 - val_loss: 0.8885 - val_acc: 0.7285\n",
      "Epoch 81/100\n",
      "42000/42000 [==============================] - 1s 26us/sample - loss: 0.8824 - acc: 0.7278 - val_loss: 0.8929 - val_acc: 0.7276\n",
      "Epoch 82/100\n",
      "42000/42000 [==============================] - 1s 26us/sample - loss: 0.8817 - acc: 0.7291 - val_loss: 0.8922 - val_acc: 0.7279\n",
      "Epoch 83/100\n",
      "42000/42000 [==============================] - 1s 27us/sample - loss: 0.8800 - acc: 0.7310 - val_loss: 0.9002 - val_acc: 0.7251\n",
      "Epoch 84/100\n",
      "42000/42000 [==============================] - 1s 26us/sample - loss: 0.8794 - acc: 0.7299 - val_loss: 0.8957 - val_acc: 0.7252\n",
      "Epoch 85/100\n",
      "42000/42000 [==============================] - 1s 26us/sample - loss: 0.8807 - acc: 0.7294 - val_loss: 0.8998 - val_acc: 0.7242\n",
      "Epoch 86/100\n",
      "42000/42000 [==============================] - 1s 27us/sample - loss: 0.8795 - acc: 0.7294 - val_loss: 0.8992 - val_acc: 0.7249\n",
      "Epoch 87/100\n",
      "42000/42000 [==============================] - 1s 27us/sample - loss: 0.8797 - acc: 0.7305 - val_loss: 0.8921 - val_acc: 0.7282\n",
      "Epoch 88/100\n",
      "42000/42000 [==============================] - 1s 29us/sample - loss: 0.8812 - acc: 0.7295 - val_loss: 0.8967 - val_acc: 0.7238\n",
      "Epoch 89/100\n",
      "42000/42000 [==============================] - 1s 27us/sample - loss: 0.8798 - acc: 0.7304 - val_loss: 0.8901 - val_acc: 0.7291\n",
      "Epoch 90/100\n",
      "42000/42000 [==============================] - 1s 28us/sample - loss: 0.8821 - acc: 0.7296 - val_loss: 0.8958 - val_acc: 0.7253\n",
      "Epoch 91/100\n",
      "42000/42000 [==============================] - 1s 26us/sample - loss: 0.8812 - acc: 0.7286 - val_loss: 0.8913 - val_acc: 0.7284\n",
      "Epoch 92/100\n",
      "42000/42000 [==============================] - 1s 27us/sample - loss: 0.8796 - acc: 0.7296 - val_loss: 0.8986 - val_acc: 0.7248\n",
      "Epoch 93/100\n",
      "42000/42000 [==============================] - 1s 26us/sample - loss: 0.8789 - acc: 0.7305 - val_loss: 0.8969 - val_acc: 0.7255\n",
      "Epoch 94/100\n",
      "42000/42000 [==============================] - 1s 26us/sample - loss: 0.8808 - acc: 0.7296 - val_loss: 0.8978 - val_acc: 0.7260\n",
      "Epoch 95/100\n",
      "42000/42000 [==============================] - 1s 27us/sample - loss: 0.8788 - acc: 0.7307 - val_loss: 0.8898 - val_acc: 0.7299\n",
      "Epoch 96/100\n",
      "42000/42000 [==============================] - 1s 27us/sample - loss: 0.8781 - acc: 0.7309 - val_loss: 0.8893 - val_acc: 0.7282\n",
      "Epoch 97/100\n",
      "42000/42000 [==============================] - 1s 27us/sample - loss: 0.8786 - acc: 0.7301 - val_loss: 0.8924 - val_acc: 0.7273\n",
      "Epoch 98/100\n",
      "42000/42000 [==============================] - 1s 26us/sample - loss: 0.8804 - acc: 0.7296 - val_loss: 0.8923 - val_acc: 0.7278\n",
      "Epoch 99/100\n",
      "42000/42000 [==============================] - 1s 26us/sample - loss: 0.8776 - acc: 0.7310 - val_loss: 0.8898 - val_acc: 0.7301\n",
      "Epoch 100/100\n",
      "42000/42000 [==============================] - 1s 27us/sample - loss: 0.8787 - acc: 0.7312 - val_loss: 0.9003 - val_acc: 0.7231\n"
     ]
    }
   ],
   "source": [
    "%time\n",
    "print('NN model with relu activations and adam optimizer'); print('--'*40)\n",
    "# compiling the neural network classifier, adam optimizer\n",
    "adam = optimizers.Adam(lr = 0.001)\n",
    "model2.compile(optimizer = adam, loss = 'categorical_crossentropy', metrics = ['accuracy'])\n",
    "\n",
    "# Fitting the neural network for training\n",
    "history = model2.fit(X_train, y_train, validation_data = (X_val, y_val), batch_size = 200, epochs = 100, verbose = 1)"
   ]
  },
  {
   "cell_type": "code",
   "execution_count": 45,
   "metadata": {
    "colab": {
     "base_uri": "https://localhost:8080/",
     "height": 88
    },
    "colab_type": "code",
    "id": "sERp232wRvAN",
    "outputId": "4e9f4dd0-22bf-4f2a-fc71-d76816807e40"
   },
   "outputs": [
    {
     "name": "stdout",
     "output_type": "stream",
     "text": [
      "Evaluate NN model with relu activations\n",
      "--------------------------------------------------------------------------------\n",
      "60000/60000 [==============================] - 3s 47us/sample - loss: 0.9003 - acc: 0.7231\n",
      "Validation accuracy: 72.31\n"
     ]
    }
   ],
   "source": [
    "print('Evaluate NN model with relu activations'); print('--'*40)\n",
    "results2 = model2.evaluate(X_val, y_val)\n",
    "print('Validation accuracy: {}'.format(round(results2[1]*100, 2), '%'))"
   ]
  },
  {
   "cell_type": "markdown",
   "metadata": {
    "colab_type": "text",
    "id": "HKt6irM6ownA"
   },
   "source": [
    "<a id='o4'></a>\n",
    "##### Observation 4 - NN model with relu activations\n",
    "* Improves the scores considerably.\n",
    "* Best accuracy achieved till now is using relu activations, SGD optimizer, changing learning rate to 0.001.\n",
    "* Next, let's try and change the number of activators and see if the score improves."
   ]
  },
  {
   "cell_type": "markdown",
   "metadata": {
    "colab_type": "text",
    "id": "17b7kG5oR7J_"
   },
   "source": [
    "#### NN model, relu activations, changing number of activators, SGD optimizers"
   ]
  },
  {
   "cell_type": "code",
   "execution_count": 46,
   "metadata": {
    "colab": {
     "base_uri": "https://localhost:8080/",
     "height": 52
    },
    "colab_type": "code",
    "id": "58Iskt9pKB3L",
    "outputId": "13040982-5c85-4d03-daf3-8729d8c3687a"
   },
   "outputs": [
    {
     "name": "stdout",
     "output_type": "stream",
     "text": [
      "NN model with relu activations and changing number of activators\n",
      "--------------------------------------------------------------------------------\n"
     ]
    }
   ],
   "source": [
    "print('NN model with relu activations and changing number of activators'); print('--'*40)\n",
    "# Initialize the neural network classifier\n",
    "model3 = Sequential()\n",
    "\n",
    "# Input Layer - adding input layer and activation functions relu\n",
    "model3.add(Dense(256, input_shape = (1024, )))\n",
    "# Adding activation function\n",
    "model3.add(Activation('relu'))\n",
    "\n",
    "#Hidden Layer 1 - adding first hidden layer\n",
    "model3.add(Dense(128))\n",
    "# Adding activation function\n",
    "model3.add(Activation('relu'))\n",
    "\n",
    "#Hidden Layer 2 - Adding second hidden layer\n",
    "model3.add(Dense(64))\n",
    "# Adding activation function\n",
    "model3.add(Activation('relu'))\n",
    "\n",
    "# Output Layer - adding output layer which is of 10 nodes (digits)\n",
    "model3.add(Dense(10))\n",
    "# Adding activation function - softmax for multiclass classification\n",
    "model3.add(Activation('softmax'))"
   ]
  },
  {
   "cell_type": "code",
   "execution_count": 47,
   "metadata": {
    "colab": {
     "base_uri": "https://localhost:8080/",
     "height": 444
    },
    "colab_type": "code",
    "id": "2q5A5rfawr08",
    "outputId": "a42e0e5e-d814-4ae9-b1a2-facd345a31e2"
   },
   "outputs": [
    {
     "name": "stdout",
     "output_type": "stream",
     "text": [
      "Model: \"sequential_2\"\n",
      "_________________________________________________________________\n",
      "Layer (type)                 Output Shape              Param #   \n",
      "=================================================================\n",
      "dense_6 (Dense)              (None, 256)               262400    \n",
      "_________________________________________________________________\n",
      "activation_6 (Activation)    (None, 256)               0         \n",
      "_________________________________________________________________\n",
      "dense_7 (Dense)              (None, 128)               32896     \n",
      "_________________________________________________________________\n",
      "activation_7 (Activation)    (None, 128)               0         \n",
      "_________________________________________________________________\n",
      "dense_8 (Dense)              (None, 64)                8256      \n",
      "_________________________________________________________________\n",
      "activation_8 (Activation)    (None, 64)                0         \n",
      "_________________________________________________________________\n",
      "dense_9 (Dense)              (None, 10)                650       \n",
      "_________________________________________________________________\n",
      "activation_9 (Activation)    (None, 10)                0         \n",
      "=================================================================\n",
      "Total params: 304,202\n",
      "Trainable params: 304,202\n",
      "Non-trainable params: 0\n",
      "_________________________________________________________________\n"
     ]
    }
   ],
   "source": [
    "model3.summary()"
   ]
  },
  {
   "cell_type": "code",
   "execution_count": 48,
   "metadata": {
    "colab": {
     "base_uri": "https://localhost:8080/",
     "height": 1000
    },
    "colab_type": "code",
    "id": "WbApDf7hTG87",
    "outputId": "141ce0c1-6f66-4e22-f40a-6954dd4636f5"
   },
   "outputs": [
    {
     "name": "stdout",
     "output_type": "stream",
     "text": [
      "Train on 42000 samples, validate on 60000 samples\n",
      "Epoch 1/100\n",
      "42000/42000 [==============================] - 1s 30us/sample - loss: 2.2970 - acc: 0.1352 - val_loss: 2.2856 - val_acc: 0.1681\n",
      "Epoch 2/100\n",
      "42000/42000 [==============================] - 1s 27us/sample - loss: 2.2796 - acc: 0.1758 - val_loss: 2.2716 - val_acc: 0.2027\n",
      "Epoch 3/100\n",
      "42000/42000 [==============================] - 1s 27us/sample - loss: 2.2635 - acc: 0.2046 - val_loss: 2.2535 - val_acc: 0.2214\n",
      "Epoch 4/100\n",
      "42000/42000 [==============================] - 1s 27us/sample - loss: 2.2420 - acc: 0.2349 - val_loss: 2.2278 - val_acc: 0.2569\n",
      "Epoch 5/100\n",
      "42000/42000 [==============================] - 1s 28us/sample - loss: 2.2120 - acc: 0.2681 - val_loss: 2.1917 - val_acc: 0.2880\n",
      "Epoch 6/100\n",
      "42000/42000 [==============================] - 1s 27us/sample - loss: 2.1718 - acc: 0.2916 - val_loss: 2.1462 - val_acc: 0.3122\n",
      "Epoch 7/100\n",
      "42000/42000 [==============================] - 1s 28us/sample - loss: 2.1214 - acc: 0.3206 - val_loss: 2.0898 - val_acc: 0.3460\n",
      "Epoch 8/100\n",
      "42000/42000 [==============================] - 1s 27us/sample - loss: 2.0581 - acc: 0.3461 - val_loss: 2.0236 - val_acc: 0.3535\n",
      "Epoch 9/100\n",
      "42000/42000 [==============================] - 1s 27us/sample - loss: 1.9848 - acc: 0.3783 - val_loss: 1.9432 - val_acc: 0.3811\n",
      "Epoch 10/100\n",
      "42000/42000 [==============================] - 1s 29us/sample - loss: 1.9031 - acc: 0.4055 - val_loss: 1.8582 - val_acc: 0.4124\n",
      "Epoch 11/100\n",
      "42000/42000 [==============================] - 1s 27us/sample - loss: 1.8185 - acc: 0.4314 - val_loss: 1.7743 - val_acc: 0.4404\n",
      "Epoch 12/100\n",
      "42000/42000 [==============================] - 1s 27us/sample - loss: 1.7381 - acc: 0.4524 - val_loss: 1.6980 - val_acc: 0.4704\n",
      "Epoch 13/100\n",
      "42000/42000 [==============================] - 1s 27us/sample - loss: 1.6675 - acc: 0.4743 - val_loss: 1.6228 - val_acc: 0.4852\n",
      "Epoch 14/100\n",
      "42000/42000 [==============================] - 1s 27us/sample - loss: 1.5969 - acc: 0.4995 - val_loss: 1.5545 - val_acc: 0.5227\n",
      "Epoch 15/100\n",
      "42000/42000 [==============================] - 1s 26us/sample - loss: 1.5448 - acc: 0.5187 - val_loss: 1.5015 - val_acc: 0.5362\n",
      "Epoch 16/100\n",
      "42000/42000 [==============================] - 1s 26us/sample - loss: 1.4915 - acc: 0.5380 - val_loss: 1.4665 - val_acc: 0.5372\n",
      "Epoch 17/100\n",
      "42000/42000 [==============================] - 1s 27us/sample - loss: 1.4440 - acc: 0.5557 - val_loss: 1.4270 - val_acc: 0.5549\n",
      "Epoch 18/100\n",
      "42000/42000 [==============================] - 1s 26us/sample - loss: 1.3993 - acc: 0.5724 - val_loss: 1.3648 - val_acc: 0.5817\n",
      "Epoch 19/100\n",
      "42000/42000 [==============================] - 1s 27us/sample - loss: 1.3595 - acc: 0.5881 - val_loss: 1.3138 - val_acc: 0.6082\n",
      "Epoch 20/100\n",
      "42000/42000 [==============================] - 1s 27us/sample - loss: 1.3237 - acc: 0.5979 - val_loss: 1.2766 - val_acc: 0.6204\n",
      "Epoch 21/100\n",
      "42000/42000 [==============================] - 1s 27us/sample - loss: 1.2891 - acc: 0.6102 - val_loss: 1.2549 - val_acc: 0.6227\n",
      "Epoch 22/100\n",
      "42000/42000 [==============================] - 1s 30us/sample - loss: 1.2631 - acc: 0.6179 - val_loss: 1.2217 - val_acc: 0.6326\n",
      "Epoch 23/100\n",
      "42000/42000 [==============================] - 1s 27us/sample - loss: 1.2333 - acc: 0.6262 - val_loss: 1.1897 - val_acc: 0.6449\n",
      "Epoch 24/100\n",
      "42000/42000 [==============================] - 1s 27us/sample - loss: 1.2085 - acc: 0.6334 - val_loss: 1.2089 - val_acc: 0.6307\n",
      "Epoch 25/100\n",
      "42000/42000 [==============================] - 1s 26us/sample - loss: 1.1796 - acc: 0.6431 - val_loss: 1.1399 - val_acc: 0.6573\n",
      "Epoch 26/100\n",
      "42000/42000 [==============================] - 1s 27us/sample - loss: 1.1567 - acc: 0.6515 - val_loss: 1.1690 - val_acc: 0.6470\n",
      "Epoch 27/100\n",
      "42000/42000 [==============================] - 1s 27us/sample - loss: 1.1386 - acc: 0.6560 - val_loss: 1.1205 - val_acc: 0.6615\n",
      "Epoch 28/100\n",
      "42000/42000 [==============================] - 1s 27us/sample - loss: 1.1176 - acc: 0.6613 - val_loss: 1.1342 - val_acc: 0.6515\n",
      "Epoch 29/100\n",
      "42000/42000 [==============================] - 1s 26us/sample - loss: 1.0952 - acc: 0.6679 - val_loss: 1.0826 - val_acc: 0.6724\n",
      "Epoch 30/100\n",
      "42000/42000 [==============================] - 1s 27us/sample - loss: 1.0830 - acc: 0.6719 - val_loss: 1.0669 - val_acc: 0.6750\n",
      "Epoch 31/100\n",
      "42000/42000 [==============================] - 1s 28us/sample - loss: 1.0597 - acc: 0.6795 - val_loss: 1.0353 - val_acc: 0.6884\n",
      "Epoch 32/100\n",
      "42000/42000 [==============================] - 1s 27us/sample - loss: 1.0421 - acc: 0.6851 - val_loss: 1.0258 - val_acc: 0.6925\n",
      "Epoch 33/100\n",
      "42000/42000 [==============================] - 1s 27us/sample - loss: 1.0331 - acc: 0.6867 - val_loss: 1.0104 - val_acc: 0.6980\n",
      "Epoch 34/100\n",
      "42000/42000 [==============================] - 1s 27us/sample - loss: 1.0165 - acc: 0.6934 - val_loss: 1.0069 - val_acc: 0.6970\n",
      "Epoch 35/100\n",
      "42000/42000 [==============================] - 1s 27us/sample - loss: 1.0008 - acc: 0.6960 - val_loss: 0.9970 - val_acc: 0.6992\n",
      "Epoch 36/100\n",
      "42000/42000 [==============================] - 1s 27us/sample - loss: 0.9945 - acc: 0.6982 - val_loss: 0.9940 - val_acc: 0.6965\n",
      "Epoch 37/100\n",
      "42000/42000 [==============================] - 1s 27us/sample - loss: 0.9793 - acc: 0.7029 - val_loss: 0.9624 - val_acc: 0.7110\n",
      "Epoch 38/100\n",
      "42000/42000 [==============================] - 1s 29us/sample - loss: 0.9663 - acc: 0.7077 - val_loss: 1.0115 - val_acc: 0.6923\n",
      "Epoch 39/100\n",
      "42000/42000 [==============================] - 1s 28us/sample - loss: 0.9564 - acc: 0.7122 - val_loss: 0.9731 - val_acc: 0.7039\n",
      "Epoch 40/100\n",
      "42000/42000 [==============================] - 1s 27us/sample - loss: 0.9448 - acc: 0.7154 - val_loss: 0.9362 - val_acc: 0.7169\n",
      "Epoch 41/100\n",
      "42000/42000 [==============================] - 1s 26us/sample - loss: 0.9365 - acc: 0.7180 - val_loss: 0.9292 - val_acc: 0.7188\n",
      "Epoch 42/100\n",
      "42000/42000 [==============================] - 1s 26us/sample - loss: 0.9225 - acc: 0.7215 - val_loss: 0.8999 - val_acc: 0.7302\n",
      "Epoch 43/100\n",
      "42000/42000 [==============================] - 1s 26us/sample - loss: 0.9145 - acc: 0.7238 - val_loss: 0.9025 - val_acc: 0.7299\n",
      "Epoch 44/100\n",
      "42000/42000 [==============================] - 1s 26us/sample - loss: 0.9029 - acc: 0.7281 - val_loss: 1.0152 - val_acc: 0.6853\n",
      "Epoch 45/100\n",
      "42000/42000 [==============================] - 1s 26us/sample - loss: 0.9000 - acc: 0.7281 - val_loss: 0.8805 - val_acc: 0.7349\n",
      "Epoch 46/100\n",
      "42000/42000 [==============================] - 1s 27us/sample - loss: 0.8898 - acc: 0.7289 - val_loss: 0.9236 - val_acc: 0.7178\n",
      "Epoch 47/100\n",
      "42000/42000 [==============================] - 1s 27us/sample - loss: 0.8760 - acc: 0.7355 - val_loss: 0.8661 - val_acc: 0.7407\n",
      "Epoch 48/100\n",
      "42000/42000 [==============================] - 1s 27us/sample - loss: 0.8694 - acc: 0.7385 - val_loss: 0.8628 - val_acc: 0.7422\n",
      "Epoch 49/100\n",
      "42000/42000 [==============================] - 1s 26us/sample - loss: 0.8612 - acc: 0.7381 - val_loss: 0.8997 - val_acc: 0.7266\n",
      "Epoch 50/100\n",
      "42000/42000 [==============================] - 1s 27us/sample - loss: 0.8591 - acc: 0.7398 - val_loss: 0.8416 - val_acc: 0.7478\n",
      "Epoch 51/100\n",
      "42000/42000 [==============================] - 1s 26us/sample - loss: 0.8462 - acc: 0.7453 - val_loss: 0.9037 - val_acc: 0.7258\n",
      "Epoch 52/100\n",
      "42000/42000 [==============================] - 1s 27us/sample - loss: 0.8391 - acc: 0.7459 - val_loss: 0.8628 - val_acc: 0.7382\n",
      "Epoch 53/100\n",
      "42000/42000 [==============================] - 1s 26us/sample - loss: 0.8393 - acc: 0.7460 - val_loss: 0.8461 - val_acc: 0.7462\n",
      "Epoch 54/100\n",
      "42000/42000 [==============================] - 1s 27us/sample - loss: 0.8288 - acc: 0.7493 - val_loss: 0.8156 - val_acc: 0.7549\n",
      "Epoch 55/100\n",
      "42000/42000 [==============================] - 1s 26us/sample - loss: 0.8158 - acc: 0.7539 - val_loss: 0.8001 - val_acc: 0.7626\n",
      "Epoch 56/100\n",
      "42000/42000 [==============================] - 1s 26us/sample - loss: 0.8154 - acc: 0.7545 - val_loss: 0.8082 - val_acc: 0.7612\n",
      "Epoch 57/100\n",
      "42000/42000 [==============================] - 1s 27us/sample - loss: 0.8053 - acc: 0.7569 - val_loss: 0.8299 - val_acc: 0.7492\n",
      "Epoch 58/100\n",
      "42000/42000 [==============================] - 1s 28us/sample - loss: 0.7994 - acc: 0.7599 - val_loss: 0.8095 - val_acc: 0.7570\n",
      "Epoch 59/100\n",
      "42000/42000 [==============================] - 1s 28us/sample - loss: 0.7924 - acc: 0.7619 - val_loss: 0.8090 - val_acc: 0.7562\n",
      "Epoch 60/100\n",
      "42000/42000 [==============================] - 1s 28us/sample - loss: 0.7901 - acc: 0.7609 - val_loss: 0.7917 - val_acc: 0.7615\n",
      "Epoch 61/100\n",
      "42000/42000 [==============================] - 1s 26us/sample - loss: 0.7827 - acc: 0.7656 - val_loss: 0.7713 - val_acc: 0.7694\n",
      "Epoch 62/100\n",
      "42000/42000 [==============================] - 1s 27us/sample - loss: 0.7769 - acc: 0.7650 - val_loss: 0.7830 - val_acc: 0.7661\n",
      "Epoch 63/100\n",
      "42000/42000 [==============================] - 1s 29us/sample - loss: 0.7675 - acc: 0.7671 - val_loss: 0.7965 - val_acc: 0.7606\n",
      "Epoch 64/100\n",
      "42000/42000 [==============================] - 1s 28us/sample - loss: 0.7644 - acc: 0.7679 - val_loss: 0.7599 - val_acc: 0.7731\n",
      "Epoch 65/100\n",
      "42000/42000 [==============================] - 1s 28us/sample - loss: 0.7584 - acc: 0.7713 - val_loss: 0.7570 - val_acc: 0.7728\n",
      "Epoch 66/100\n",
      "42000/42000 [==============================] - 1s 29us/sample - loss: 0.7528 - acc: 0.7725 - val_loss: 0.7684 - val_acc: 0.7698\n",
      "Epoch 67/100\n",
      "42000/42000 [==============================] - 1s 28us/sample - loss: 0.7447 - acc: 0.7757 - val_loss: 0.7679 - val_acc: 0.7717\n",
      "Epoch 68/100\n",
      "42000/42000 [==============================] - 1s 28us/sample - loss: 0.7423 - acc: 0.7766 - val_loss: 0.7558 - val_acc: 0.7750\n",
      "Epoch 69/100\n",
      "42000/42000 [==============================] - 1s 28us/sample - loss: 0.7405 - acc: 0.7773 - val_loss: 0.7588 - val_acc: 0.7726\n",
      "Epoch 70/100\n",
      "42000/42000 [==============================] - 1s 28us/sample - loss: 0.7341 - acc: 0.7778 - val_loss: 0.7447 - val_acc: 0.7783\n",
      "Epoch 71/100\n",
      "42000/42000 [==============================] - 1s 28us/sample - loss: 0.7243 - acc: 0.7812 - val_loss: 0.7490 - val_acc: 0.7745\n",
      "Epoch 72/100\n",
      "42000/42000 [==============================] - 1s 27us/sample - loss: 0.7239 - acc: 0.7818 - val_loss: 0.7168 - val_acc: 0.7861\n",
      "Epoch 73/100\n",
      "42000/42000 [==============================] - 1s 26us/sample - loss: 0.7154 - acc: 0.7850 - val_loss: 0.7268 - val_acc: 0.7806\n",
      "Epoch 74/100\n",
      "42000/42000 [==============================] - 1s 29us/sample - loss: 0.7103 - acc: 0.7860 - val_loss: 0.7208 - val_acc: 0.7813\n",
      "Epoch 75/100\n",
      "42000/42000 [==============================] - 1s 26us/sample - loss: 0.7072 - acc: 0.7857 - val_loss: 0.7144 - val_acc: 0.7858\n",
      "Epoch 76/100\n",
      "42000/42000 [==============================] - 1s 27us/sample - loss: 0.7010 - acc: 0.7887 - val_loss: 0.7003 - val_acc: 0.7927\n",
      "Epoch 77/100\n",
      "42000/42000 [==============================] - 1s 26us/sample - loss: 0.7012 - acc: 0.7879 - val_loss: 0.7082 - val_acc: 0.7896\n",
      "Epoch 78/100\n",
      "42000/42000 [==============================] - 1s 26us/sample - loss: 0.6929 - acc: 0.7915 - val_loss: 0.6906 - val_acc: 0.7964\n",
      "Epoch 79/100\n",
      "42000/42000 [==============================] - 1s 27us/sample - loss: 0.6939 - acc: 0.7909 - val_loss: 0.6842 - val_acc: 0.7974\n",
      "Epoch 80/100\n",
      "42000/42000 [==============================] - 1s 27us/sample - loss: 0.6882 - acc: 0.7921 - val_loss: 0.7020 - val_acc: 0.7897\n",
      "Epoch 81/100\n",
      "42000/42000 [==============================] - 1s 27us/sample - loss: 0.6787 - acc: 0.7941 - val_loss: 0.7151 - val_acc: 0.7848\n",
      "Epoch 82/100\n",
      "42000/42000 [==============================] - 1s 27us/sample - loss: 0.6810 - acc: 0.7929 - val_loss: 0.6744 - val_acc: 0.7991\n",
      "Epoch 83/100\n",
      "42000/42000 [==============================] - 1s 27us/sample - loss: 0.6717 - acc: 0.7963 - val_loss: 0.6813 - val_acc: 0.7977\n",
      "Epoch 84/100\n",
      "42000/42000 [==============================] - 1s 27us/sample - loss: 0.6671 - acc: 0.7987 - val_loss: 0.7453 - val_acc: 0.7745\n",
      "Epoch 85/100\n",
      "42000/42000 [==============================] - 1s 27us/sample - loss: 0.6686 - acc: 0.8000 - val_loss: 0.6739 - val_acc: 0.7992\n",
      "Epoch 86/100\n",
      "42000/42000 [==============================] - 1s 26us/sample - loss: 0.6614 - acc: 0.8003 - val_loss: 0.6793 - val_acc: 0.7975\n",
      "Epoch 87/100\n",
      "42000/42000 [==============================] - 1s 26us/sample - loss: 0.6552 - acc: 0.8014 - val_loss: 0.6969 - val_acc: 0.7904\n",
      "Epoch 88/100\n",
      "42000/42000 [==============================] - 1s 26us/sample - loss: 0.6524 - acc: 0.8022 - val_loss: 0.6672 - val_acc: 0.8000\n",
      "Epoch 89/100\n",
      "42000/42000 [==============================] - 1s 26us/sample - loss: 0.6473 - acc: 0.8039 - val_loss: 0.6661 - val_acc: 0.7994\n",
      "Epoch 90/100\n",
      "42000/42000 [==============================] - 1s 27us/sample - loss: 0.6463 - acc: 0.8042 - val_loss: 0.6901 - val_acc: 0.7949\n",
      "Epoch 91/100\n",
      "42000/42000 [==============================] - 1s 29us/sample - loss: 0.6423 - acc: 0.8070 - val_loss: 0.6594 - val_acc: 0.8036\n",
      "Epoch 92/100\n",
      "42000/42000 [==============================] - 1s 27us/sample - loss: 0.6373 - acc: 0.8077 - val_loss: 0.7119 - val_acc: 0.7857\n",
      "Epoch 93/100\n",
      "42000/42000 [==============================] - 1s 26us/sample - loss: 0.6325 - acc: 0.8087 - val_loss: 0.7002 - val_acc: 0.7896\n",
      "Epoch 94/100\n",
      "42000/42000 [==============================] - 1s 27us/sample - loss: 0.6286 - acc: 0.8102 - val_loss: 0.6647 - val_acc: 0.8014\n",
      "Epoch 95/100\n",
      "42000/42000 [==============================] - 1s 26us/sample - loss: 0.6266 - acc: 0.8102 - val_loss: 0.6754 - val_acc: 0.7953\n",
      "Epoch 96/100\n",
      "42000/42000 [==============================] - 1s 27us/sample - loss: 0.6194 - acc: 0.8131 - val_loss: 0.6490 - val_acc: 0.8067\n",
      "Epoch 97/100\n",
      "42000/42000 [==============================] - 1s 27us/sample - loss: 0.6192 - acc: 0.8125 - val_loss: 0.6230 - val_acc: 0.8147\n",
      "Epoch 98/100\n",
      "42000/42000 [==============================] - 1s 27us/sample - loss: 0.6151 - acc: 0.8145 - val_loss: 0.6406 - val_acc: 0.8116\n",
      "Epoch 99/100\n",
      "42000/42000 [==============================] - 1s 26us/sample - loss: 0.6118 - acc: 0.8143 - val_loss: 0.6255 - val_acc: 0.8143\n",
      "Epoch 100/100\n",
      "42000/42000 [==============================] - 1s 26us/sample - loss: 0.6101 - acc: 0.8161 - val_loss: 0.6550 - val_acc: 0.8033\n"
     ]
    }
   ],
   "source": [
    "# compiling the neural network classifier, sgd optimizer\n",
    "sgd = optimizers.SGD(lr = 0.01)\n",
    "model3.compile(optimizer = sgd, loss = 'categorical_crossentropy', metrics = ['accuracy'])\n",
    "\n",
    "# Fitting the neural network for training\n",
    "history = model3.fit(X_train, y_train, validation_data = (X_val, y_val), batch_size = 200, epochs = 100, verbose = 1)"
   ]
  },
  {
   "cell_type": "code",
   "execution_count": 49,
   "metadata": {
    "colab": {
     "base_uri": "https://localhost:8080/",
     "height": 88
    },
    "colab_type": "code",
    "id": "4nU-fCy5KbwM",
    "outputId": "efbd3096-803c-420b-a9cb-2403397384f4"
   },
   "outputs": [
    {
     "name": "stdout",
     "output_type": "stream",
     "text": [
      "Evaluate NN model with relu activations and changing the number of activators\n",
      "--------------------------------------------------------------------------------\n",
      "60000/60000 [==============================] - 3s 49us/sample - loss: 0.6550 - acc: 0.8033\n",
      "Validation accuracy: 80.33\n"
     ]
    }
   ],
   "source": [
    "print('Evaluate NN model with relu activations and changing the number of activators'); print('--'*40)\n",
    "results3 = model3.evaluate(X_val, y_val)\n",
    "print('Validation accuracy: {}'.format(round(results3[1]*100, 2), '%'))"
   ]
  },
  {
   "cell_type": "markdown",
   "metadata": {
    "colab_type": "text",
    "id": "dCjOofsRTN1K"
   },
   "source": [
    "#### NN model, relu activations, changing number of activators, Adam optimizers"
   ]
  },
  {
   "cell_type": "code",
   "execution_count": 50,
   "metadata": {
    "colab": {
     "base_uri": "https://localhost:8080/",
     "height": 1000
    },
    "colab_type": "code",
    "id": "DhnK4y6VTQAC",
    "outputId": "248d2cc8-22c1-482b-f193-44a2c5025f2d"
   },
   "outputs": [
    {
     "name": "stdout",
     "output_type": "stream",
     "text": [
      "Train on 42000 samples, validate on 60000 samples\n",
      "Epoch 1/100\n",
      "42000/42000 [==============================] - 1s 32us/sample - loss: 0.9431 - acc: 0.7111 - val_loss: 0.7650 - val_acc: 0.7681\n",
      "Epoch 2/100\n",
      "42000/42000 [==============================] - 1s 28us/sample - loss: 0.7697 - acc: 0.7615 - val_loss: 0.8645 - val_acc: 0.7370\n",
      "Epoch 3/100\n",
      "42000/42000 [==============================] - 1s 28us/sample - loss: 0.7513 - acc: 0.7701 - val_loss: 0.7942 - val_acc: 0.7514\n",
      "Epoch 4/100\n",
      "42000/42000 [==============================] - 1s 28us/sample - loss: 0.7354 - acc: 0.7748 - val_loss: 0.7716 - val_acc: 0.7655\n",
      "Epoch 5/100\n",
      "42000/42000 [==============================] - 1s 28us/sample - loss: 0.7217 - acc: 0.7776 - val_loss: 0.7024 - val_acc: 0.7878\n",
      "Epoch 6/100\n",
      "42000/42000 [==============================] - 1s 29us/sample - loss: 0.6969 - acc: 0.7889 - val_loss: 0.7223 - val_acc: 0.7825\n",
      "Epoch 7/100\n",
      "42000/42000 [==============================] - 1s 29us/sample - loss: 0.6787 - acc: 0.7916 - val_loss: 0.6787 - val_acc: 0.7961\n",
      "Epoch 8/100\n",
      "42000/42000 [==============================] - 1s 31us/sample - loss: 0.6733 - acc: 0.7931 - val_loss: 0.6695 - val_acc: 0.7995\n",
      "Epoch 9/100\n",
      "42000/42000 [==============================] - 1s 31us/sample - loss: 0.6702 - acc: 0.7970 - val_loss: 0.6557 - val_acc: 0.7993\n",
      "Epoch 10/100\n",
      "42000/42000 [==============================] - 1s 29us/sample - loss: 0.6459 - acc: 0.8030 - val_loss: 0.6377 - val_acc: 0.8059\n",
      "Epoch 11/100\n",
      "42000/42000 [==============================] - 1s 30us/sample - loss: 0.6307 - acc: 0.8063 - val_loss: 0.6681 - val_acc: 0.7943\n",
      "Epoch 12/100\n",
      "42000/42000 [==============================] - 1s 29us/sample - loss: 0.6220 - acc: 0.8095 - val_loss: 0.6519 - val_acc: 0.7985\n",
      "Epoch 13/100\n",
      "42000/42000 [==============================] - 1s 28us/sample - loss: 0.6159 - acc: 0.8104 - val_loss: 0.5682 - val_acc: 0.8313\n",
      "Epoch 14/100\n",
      "42000/42000 [==============================] - 1s 28us/sample - loss: 0.5888 - acc: 0.8195 - val_loss: 0.6379 - val_acc: 0.8075\n",
      "Epoch 15/100\n",
      "42000/42000 [==============================] - 1s 29us/sample - loss: 0.5854 - acc: 0.8195 - val_loss: 0.6212 - val_acc: 0.8140\n",
      "Epoch 16/100\n",
      "42000/42000 [==============================] - 1s 27us/sample - loss: 0.5868 - acc: 0.8183 - val_loss: 0.6059 - val_acc: 0.8149\n",
      "Epoch 17/100\n",
      "42000/42000 [==============================] - 1s 27us/sample - loss: 0.5652 - acc: 0.8265 - val_loss: 0.6075 - val_acc: 0.8173\n",
      "Epoch 18/100\n",
      "42000/42000 [==============================] - 1s 29us/sample - loss: 0.5573 - acc: 0.8286 - val_loss: 0.5845 - val_acc: 0.8208\n",
      "Epoch 19/100\n",
      "42000/42000 [==============================] - 1s 28us/sample - loss: 0.5520 - acc: 0.8299 - val_loss: 0.6187 - val_acc: 0.8110\n",
      "Epoch 20/100\n",
      "42000/42000 [==============================] - 1s 27us/sample - loss: 0.5610 - acc: 0.8274 - val_loss: 0.5504 - val_acc: 0.8365\n",
      "Epoch 21/100\n",
      "42000/42000 [==============================] - 1s 28us/sample - loss: 0.5195 - acc: 0.8405 - val_loss: 0.5797 - val_acc: 0.8260\n",
      "Epoch 22/100\n",
      "42000/42000 [==============================] - 1s 28us/sample - loss: 0.5315 - acc: 0.8363 - val_loss: 0.5837 - val_acc: 0.8220\n",
      "Epoch 23/100\n",
      "42000/42000 [==============================] - 1s 30us/sample - loss: 0.5184 - acc: 0.8403 - val_loss: 0.5482 - val_acc: 0.8365\n",
      "Epoch 24/100\n",
      "42000/42000 [==============================] - 1s 29us/sample - loss: 0.5084 - acc: 0.8423 - val_loss: 0.5310 - val_acc: 0.8398\n",
      "Epoch 25/100\n",
      "42000/42000 [==============================] - 1s 28us/sample - loss: 0.4920 - acc: 0.8479 - val_loss: 0.5043 - val_acc: 0.8500\n",
      "Epoch 26/100\n",
      "42000/42000 [==============================] - 1s 27us/sample - loss: 0.4861 - acc: 0.8503 - val_loss: 0.5457 - val_acc: 0.8358\n",
      "Epoch 27/100\n",
      "42000/42000 [==============================] - 1s 28us/sample - loss: 0.4943 - acc: 0.8464 - val_loss: 0.5342 - val_acc: 0.8367\n",
      "Epoch 28/100\n",
      "42000/42000 [==============================] - 1s 28us/sample - loss: 0.4859 - acc: 0.8496 - val_loss: 0.4831 - val_acc: 0.8547\n",
      "Epoch 29/100\n",
      "42000/42000 [==============================] - 1s 28us/sample - loss: 0.4807 - acc: 0.8505 - val_loss: 0.5247 - val_acc: 0.8406\n",
      "Epoch 30/100\n",
      "42000/42000 [==============================] - 1s 28us/sample - loss: 0.4695 - acc: 0.8536 - val_loss: 0.5498 - val_acc: 0.8342\n",
      "Epoch 31/100\n",
      "42000/42000 [==============================] - 1s 28us/sample - loss: 0.4653 - acc: 0.8545 - val_loss: 0.5010 - val_acc: 0.8485\n",
      "Epoch 32/100\n",
      "42000/42000 [==============================] - 1s 28us/sample - loss: 0.4577 - acc: 0.8581 - val_loss: 0.4785 - val_acc: 0.8563\n",
      "Epoch 33/100\n",
      "42000/42000 [==============================] - 1s 28us/sample - loss: 0.4566 - acc: 0.8579 - val_loss: 0.5020 - val_acc: 0.8483\n",
      "Epoch 34/100\n",
      "42000/42000 [==============================] - 1s 28us/sample - loss: 0.4525 - acc: 0.8579 - val_loss: 0.5862 - val_acc: 0.8170\n",
      "Epoch 35/100\n",
      "42000/42000 [==============================] - 1s 28us/sample - loss: 0.4355 - acc: 0.8633 - val_loss: 0.4661 - val_acc: 0.8595\n",
      "Epoch 36/100\n",
      "42000/42000 [==============================] - 1s 29us/sample - loss: 0.4291 - acc: 0.8661 - val_loss: 0.5259 - val_acc: 0.8383\n",
      "Epoch 37/100\n",
      "42000/42000 [==============================] - 1s 28us/sample - loss: 0.4338 - acc: 0.8625 - val_loss: 0.6068 - val_acc: 0.8148\n",
      "Epoch 38/100\n",
      "42000/42000 [==============================] - 1s 28us/sample - loss: 0.4325 - acc: 0.8645 - val_loss: 0.4514 - val_acc: 0.8656\n",
      "Epoch 39/100\n",
      "42000/42000 [==============================] - 1s 30us/sample - loss: 0.4294 - acc: 0.8657 - val_loss: 0.4641 - val_acc: 0.8617\n",
      "Epoch 40/100\n",
      "42000/42000 [==============================] - 1s 28us/sample - loss: 0.4239 - acc: 0.8666 - val_loss: 0.5175 - val_acc: 0.8439\n",
      "Epoch 41/100\n",
      "42000/42000 [==============================] - 1s 28us/sample - loss: 0.4266 - acc: 0.8659 - val_loss: 0.5023 - val_acc: 0.8489\n",
      "Epoch 42/100\n",
      "42000/42000 [==============================] - 1s 28us/sample - loss: 0.4206 - acc: 0.8668 - val_loss: 0.4673 - val_acc: 0.8594\n",
      "Epoch 43/100\n",
      "42000/42000 [==============================] - 1s 28us/sample - loss: 0.4083 - acc: 0.8699 - val_loss: 0.4995 - val_acc: 0.8479\n",
      "Epoch 44/100\n",
      "42000/42000 [==============================] - 1s 28us/sample - loss: 0.3917 - acc: 0.8773 - val_loss: 0.4362 - val_acc: 0.8698\n",
      "Epoch 45/100\n",
      "42000/42000 [==============================] - 1s 28us/sample - loss: 0.3893 - acc: 0.8769 - val_loss: 0.5263 - val_acc: 0.8397\n",
      "Epoch 46/100\n",
      "42000/42000 [==============================] - 1s 28us/sample - loss: 0.3958 - acc: 0.8752 - val_loss: 0.4380 - val_acc: 0.8702\n",
      "Epoch 47/100\n",
      "42000/42000 [==============================] - 1s 27us/sample - loss: 0.3959 - acc: 0.8743 - val_loss: 0.4739 - val_acc: 0.8581\n",
      "Epoch 48/100\n",
      "42000/42000 [==============================] - 1s 28us/sample - loss: 0.3956 - acc: 0.8740 - val_loss: 0.4374 - val_acc: 0.8686\n",
      "Epoch 49/100\n",
      "42000/42000 [==============================] - 1s 28us/sample - loss: 0.3933 - acc: 0.8749 - val_loss: 0.4651 - val_acc: 0.8607\n",
      "Epoch 50/100\n",
      "42000/42000 [==============================] - 1s 28us/sample - loss: 0.3671 - acc: 0.8832 - val_loss: 0.4376 - val_acc: 0.8698\n",
      "Epoch 51/100\n",
      "42000/42000 [==============================] - 1s 28us/sample - loss: 0.3662 - acc: 0.8822 - val_loss: 0.4165 - val_acc: 0.8781\n",
      "Epoch 52/100\n",
      "42000/42000 [==============================] - 1s 28us/sample - loss: 0.3612 - acc: 0.8860 - val_loss: 0.4172 - val_acc: 0.8770\n",
      "Epoch 53/100\n",
      "42000/42000 [==============================] - 1s 27us/sample - loss: 0.3767 - acc: 0.8793 - val_loss: 0.4456 - val_acc: 0.8668\n",
      "Epoch 54/100\n",
      "42000/42000 [==============================] - 1s 28us/sample - loss: 0.3575 - acc: 0.8863 - val_loss: 0.4409 - val_acc: 0.8695\n",
      "Epoch 55/100\n",
      "42000/42000 [==============================] - 1s 28us/sample - loss: 0.3584 - acc: 0.8840 - val_loss: 0.4215 - val_acc: 0.8756\n",
      "Epoch 56/100\n",
      "42000/42000 [==============================] - 1s 28us/sample - loss: 0.3558 - acc: 0.8864 - val_loss: 0.4387 - val_acc: 0.8690\n",
      "Epoch 57/100\n",
      "42000/42000 [==============================] - 1s 29us/sample - loss: 0.3602 - acc: 0.8850 - val_loss: 0.4316 - val_acc: 0.8732\n",
      "Epoch 58/100\n",
      "42000/42000 [==============================] - 1s 28us/sample - loss: 0.3350 - acc: 0.8931 - val_loss: 0.4214 - val_acc: 0.8757\n",
      "Epoch 59/100\n",
      "42000/42000 [==============================] - 1s 30us/sample - loss: 0.3381 - acc: 0.8934 - val_loss: 0.4294 - val_acc: 0.8722\n",
      "Epoch 60/100\n",
      "42000/42000 [==============================] - 1s 28us/sample - loss: 0.3374 - acc: 0.8938 - val_loss: 0.4462 - val_acc: 0.8694\n",
      "Epoch 61/100\n",
      "42000/42000 [==============================] - 1s 27us/sample - loss: 0.3499 - acc: 0.8881 - val_loss: 0.4223 - val_acc: 0.8754\n",
      "Epoch 62/100\n",
      "42000/42000 [==============================] - 1s 30us/sample - loss: 0.3301 - acc: 0.8923 - val_loss: 0.4261 - val_acc: 0.8756\n",
      "Epoch 63/100\n",
      "42000/42000 [==============================] - 1s 29us/sample - loss: 0.3302 - acc: 0.8942 - val_loss: 0.4492 - val_acc: 0.8649\n",
      "Epoch 64/100\n",
      "42000/42000 [==============================] - 1s 27us/sample - loss: 0.3206 - acc: 0.8978 - val_loss: 0.3936 - val_acc: 0.8864\n",
      "Epoch 65/100\n",
      "42000/42000 [==============================] - 1s 28us/sample - loss: 0.3162 - acc: 0.8980 - val_loss: 0.3932 - val_acc: 0.8864\n",
      "Epoch 66/100\n",
      "42000/42000 [==============================] - 1s 28us/sample - loss: 0.3092 - acc: 0.9009 - val_loss: 0.4013 - val_acc: 0.8825\n",
      "Epoch 67/100\n",
      "42000/42000 [==============================] - 1s 28us/sample - loss: 0.3158 - acc: 0.8982 - val_loss: 0.4132 - val_acc: 0.8783\n",
      "Epoch 68/100\n",
      "42000/42000 [==============================] - 1s 27us/sample - loss: 0.3189 - acc: 0.8970 - val_loss: 0.3641 - val_acc: 0.8957\n",
      "Epoch 69/100\n",
      "42000/42000 [==============================] - 1s 28us/sample - loss: 0.3035 - acc: 0.9028 - val_loss: 0.4218 - val_acc: 0.8760\n",
      "Epoch 70/100\n",
      "42000/42000 [==============================] - 1s 29us/sample - loss: 0.3131 - acc: 0.8994 - val_loss: 0.4032 - val_acc: 0.8841\n",
      "Epoch 71/100\n",
      "42000/42000 [==============================] - 1s 28us/sample - loss: 0.3009 - acc: 0.9026 - val_loss: 0.4012 - val_acc: 0.8855\n",
      "Epoch 72/100\n",
      "42000/42000 [==============================] - 1s 28us/sample - loss: 0.2948 - acc: 0.9077 - val_loss: 0.3779 - val_acc: 0.8928\n",
      "Epoch 73/100\n",
      "42000/42000 [==============================] - 1s 28us/sample - loss: 0.2957 - acc: 0.9047 - val_loss: 0.4244 - val_acc: 0.8788\n",
      "Epoch 74/100\n",
      "42000/42000 [==============================] - 1s 30us/sample - loss: 0.2927 - acc: 0.9074 - val_loss: 0.4000 - val_acc: 0.8860\n",
      "Epoch 75/100\n",
      "42000/42000 [==============================] - 1s 28us/sample - loss: 0.2952 - acc: 0.9060 - val_loss: 0.4045 - val_acc: 0.8850\n",
      "Epoch 76/100\n",
      "42000/42000 [==============================] - 1s 27us/sample - loss: 0.2872 - acc: 0.9078 - val_loss: 0.4378 - val_acc: 0.8738\n",
      "Epoch 77/100\n",
      "42000/42000 [==============================] - 1s 27us/sample - loss: 0.3008 - acc: 0.9033 - val_loss: 0.3690 - val_acc: 0.8970\n",
      "Epoch 78/100\n",
      "42000/42000 [==============================] - 1s 28us/sample - loss: 0.2724 - acc: 0.9125 - val_loss: 0.3860 - val_acc: 0.8903\n",
      "Epoch 79/100\n",
      "42000/42000 [==============================] - 1s 27us/sample - loss: 0.2974 - acc: 0.9023 - val_loss: 0.4051 - val_acc: 0.8840\n",
      "Epoch 80/100\n",
      "42000/42000 [==============================] - 1s 28us/sample - loss: 0.2782 - acc: 0.9085 - val_loss: 0.3634 - val_acc: 0.9003\n",
      "Epoch 81/100\n",
      "42000/42000 [==============================] - 1s 28us/sample - loss: 0.2770 - acc: 0.9094 - val_loss: 0.3970 - val_acc: 0.8867\n",
      "Epoch 82/100\n",
      "42000/42000 [==============================] - 1s 28us/sample - loss: 0.2813 - acc: 0.9098 - val_loss: 0.3967 - val_acc: 0.8843\n",
      "Epoch 83/100\n",
      "42000/42000 [==============================] - 1s 28us/sample - loss: 0.2933 - acc: 0.9037 - val_loss: 0.4170 - val_acc: 0.8803\n",
      "Epoch 84/100\n",
      "42000/42000 [==============================] - 1s 28us/sample - loss: 0.2803 - acc: 0.9088 - val_loss: 0.3711 - val_acc: 0.8977\n",
      "Epoch 85/100\n",
      "42000/42000 [==============================] - 1s 28us/sample - loss: 0.2688 - acc: 0.9134 - val_loss: 0.4142 - val_acc: 0.8851\n",
      "Epoch 86/100\n",
      "42000/42000 [==============================] - 1s 28us/sample - loss: 0.2594 - acc: 0.9154 - val_loss: 0.3891 - val_acc: 0.8889\n",
      "Epoch 87/100\n",
      "42000/42000 [==============================] - 1s 28us/sample - loss: 0.2721 - acc: 0.9106 - val_loss: 0.4202 - val_acc: 0.8810\n",
      "Epoch 88/100\n",
      "42000/42000 [==============================] - 1s 28us/sample - loss: 0.2624 - acc: 0.9143 - val_loss: 0.4145 - val_acc: 0.8846\n",
      "Epoch 89/100\n",
      "42000/42000 [==============================] - 1s 30us/sample - loss: 0.2672 - acc: 0.9133 - val_loss: 0.4157 - val_acc: 0.8844\n",
      "Epoch 90/100\n",
      "42000/42000 [==============================] - 1s 29us/sample - loss: 0.2453 - acc: 0.9196 - val_loss: 0.3752 - val_acc: 0.8970\n",
      "Epoch 91/100\n",
      "42000/42000 [==============================] - 1s 29us/sample - loss: 0.2564 - acc: 0.9160 - val_loss: 0.3450 - val_acc: 0.9084\n",
      "Epoch 92/100\n",
      "42000/42000 [==============================] - 1s 28us/sample - loss: 0.2401 - acc: 0.9220 - val_loss: 0.4096 - val_acc: 0.8861\n",
      "Epoch 93/100\n",
      "42000/42000 [==============================] - 1s 28us/sample - loss: 0.2460 - acc: 0.9199 - val_loss: 0.3834 - val_acc: 0.8932\n",
      "Epoch 94/100\n",
      "42000/42000 [==============================] - 1s 28us/sample - loss: 0.2424 - acc: 0.9212 - val_loss: 0.3874 - val_acc: 0.8963\n",
      "Epoch 95/100\n",
      "42000/42000 [==============================] - 1s 27us/sample - loss: 0.2699 - acc: 0.9125 - val_loss: 0.3681 - val_acc: 0.9016\n",
      "Epoch 96/100\n",
      "42000/42000 [==============================] - 1s 28us/sample - loss: 0.2392 - acc: 0.9211 - val_loss: 0.4090 - val_acc: 0.8891\n",
      "Epoch 97/100\n",
      "42000/42000 [==============================] - 1s 28us/sample - loss: 0.2432 - acc: 0.9213 - val_loss: 0.3536 - val_acc: 0.9046\n",
      "Epoch 98/100\n",
      "42000/42000 [==============================] - 1s 27us/sample - loss: 0.2430 - acc: 0.9205 - val_loss: 0.3895 - val_acc: 0.8961\n",
      "Epoch 99/100\n",
      "42000/42000 [==============================] - 1s 28us/sample - loss: 0.2386 - acc: 0.9211 - val_loss: 0.3641 - val_acc: 0.9031\n",
      "Epoch 100/100\n",
      "42000/42000 [==============================] - 1s 28us/sample - loss: 0.2458 - acc: 0.9195 - val_loss: 0.3539 - val_acc: 0.9066\n"
     ]
    }
   ],
   "source": [
    "# compiling the neural network classifier, adam optimizer\n",
    "adam = optimizers.Adam(lr = 0.001)\n",
    "model3.compile(optimizer = adam, loss = 'categorical_crossentropy', metrics = ['accuracy'])\n",
    "\n",
    "# Fitting the neural network for training\n",
    "history = model3.fit(X_train, y_train, validation_data = (X_val, y_val), batch_size = 200, epochs = 100, verbose = 1)"
   ]
  },
  {
   "cell_type": "code",
   "execution_count": 51,
   "metadata": {
    "colab": {
     "base_uri": "https://localhost:8080/",
     "height": 88
    },
    "colab_type": "code",
    "id": "sHt5CH17TYgP",
    "outputId": "a1e0b820-8142-414c-c95f-4db5e98130f9"
   },
   "outputs": [
    {
     "name": "stdout",
     "output_type": "stream",
     "text": [
      "Evaluate NN model with relu activations and changing the number of activators\n",
      "--------------------------------------------------------------------------------\n",
      "60000/60000 [==============================] - 3s 49us/sample - loss: 0.3539 - acc: 0.9066\n",
      "Validation accuracy: 90.66\n"
     ]
    }
   ],
   "source": [
    "print('Evaluate NN model with relu activations and changing the number of activators'); print('--'*40)\n",
    "results3 = model3.evaluate(X_val, y_val)\n",
    "print('Validation accuracy: {}'.format(round(results3[1]*100, 2), '%'))"
   ]
  },
  {
   "cell_type": "markdown",
   "metadata": {
    "colab_type": "text",
    "id": "xMH4JH0Aw1Xz"
   },
   "source": [
    "<a id='o5'></a>\n",
    "##### Observation 5 - NN model with relu activations and changing activators\n",
    "* Adding relu activations and changing activators results in improvement of score.\n",
    "* Best accuracy achieved till now is using relu activations, changing number of activators and Adam optimizers with a learning rate of 0.001\n",
    "* Next, let's try adding weight initilization."
   ]
  },
  {
   "cell_type": "markdown",
   "metadata": {
    "colab_type": "text",
    "id": "kermiDSyKAPQ"
   },
   "source": [
    "<a id='Weight'></a>\n",
    "### With Weight Initializers\n",
    "Changing weight initialization scheme can significantly improve training of the model by preventing vanishing gradient problem up to some degree."
   ]
  },
  {
   "cell_type": "markdown",
   "metadata": {
    "colab_type": "text",
    "id": "bdMa80vmVAfU"
   },
   "source": [
    "#### NN model, relu activations, SGD optimizers with weight initializers"
   ]
  },
  {
   "cell_type": "code",
   "execution_count": 52,
   "metadata": {
    "colab": {
     "base_uri": "https://localhost:8080/",
     "height": 52
    },
    "colab_type": "code",
    "id": "jLn1T1HTE5ms",
    "outputId": "ffdb5aa0-c9ef-4033-8453-4f4e3ab775fe"
   },
   "outputs": [
    {
     "name": "stdout",
     "output_type": "stream",
     "text": [
      "NN model with weight initializers\n",
      "--------------------------------------------------------------------------------\n"
     ]
    }
   ],
   "source": [
    "print('NN model with weight initializers'); print('--'*40)\n",
    "# Initialize the neural network classifier\n",
    "model4 = Sequential()\n",
    "\n",
    "# Input Layer - adding input layer and activation functions relu and weight initializer\n",
    "model4.add(Dense(256, input_shape = (1024, ), kernel_initializer = 'he_normal'))\n",
    "# Adding activation function\n",
    "model4.add(Activation('relu'))\n",
    "\n",
    "#Hidden Layer 1 - adding first hidden layer\n",
    "model4.add(Dense(128, kernel_initializer = 'he_normal', bias_initializer = 'he_uniform'))\n",
    "# Adding activation function\n",
    "model4.add(Activation('relu'))\n",
    "\n",
    "#Hidden Layer 2 - adding second hidden layer\n",
    "model4.add(Dense(64, kernel_initializer = 'he_normal', bias_initializer = 'he_uniform'))\n",
    "# Adding activation function\n",
    "model4.add(Activation('relu'))\n",
    "\n",
    "#Hidden Layer 3 - adding third hidden layer\n",
    "model4.add(Dense(32, kernel_initializer = 'he_normal', bias_initializer = 'he_uniform'))\n",
    "# Adding activation function\n",
    "model4.add(Activation('relu'))\n",
    "\n",
    "# Output Layer - adding output layer which is of 10 nodes (digits)\n",
    "model4.add(Dense(10, kernel_initializer = 'he_normal', bias_initializer = 'he_uniform'))\n",
    "# Adding activation function\n",
    "model4.add(Activation('softmax'))"
   ]
  },
  {
   "cell_type": "code",
   "execution_count": 53,
   "metadata": {
    "colab": {
     "base_uri": "https://localhost:8080/",
     "height": 515
    },
    "colab_type": "code",
    "id": "j4Ll9EKlU0Ep",
    "outputId": "918e5dc5-c837-4e54-9ad9-22ee8ec24f1a"
   },
   "outputs": [
    {
     "name": "stdout",
     "output_type": "stream",
     "text": [
      "Model: \"sequential_3\"\n",
      "_________________________________________________________________\n",
      "Layer (type)                 Output Shape              Param #   \n",
      "=================================================================\n",
      "dense_10 (Dense)             (None, 256)               262400    \n",
      "_________________________________________________________________\n",
      "activation_10 (Activation)   (None, 256)               0         \n",
      "_________________________________________________________________\n",
      "dense_11 (Dense)             (None, 128)               32896     \n",
      "_________________________________________________________________\n",
      "activation_11 (Activation)   (None, 128)               0         \n",
      "_________________________________________________________________\n",
      "dense_12 (Dense)             (None, 64)                8256      \n",
      "_________________________________________________________________\n",
      "activation_12 (Activation)   (None, 64)                0         \n",
      "_________________________________________________________________\n",
      "dense_13 (Dense)             (None, 32)                2080      \n",
      "_________________________________________________________________\n",
      "activation_13 (Activation)   (None, 32)                0         \n",
      "_________________________________________________________________\n",
      "dense_14 (Dense)             (None, 10)                330       \n",
      "_________________________________________________________________\n",
      "activation_14 (Activation)   (None, 10)                0         \n",
      "=================================================================\n",
      "Total params: 305,962\n",
      "Trainable params: 305,962\n",
      "Non-trainable params: 0\n",
      "_________________________________________________________________\n"
     ]
    }
   ],
   "source": [
    "model4.summary()"
   ]
  },
  {
   "cell_type": "code",
   "execution_count": 54,
   "metadata": {
    "colab": {
     "base_uri": "https://localhost:8080/",
     "height": 1000
    },
    "colab_type": "code",
    "id": "W8Np2U7LU2vN",
    "outputId": "e6bcfe8a-09e0-4d1f-e43b-3543a24cc155"
   },
   "outputs": [
    {
     "name": "stdout",
     "output_type": "stream",
     "text": [
      "Train on 42000 samples, validate on 60000 samples\n",
      "Epoch 1/100\n",
      "42000/42000 [==============================] - 1s 31us/sample - loss: 2.3023 - acc: 0.1175 - val_loss: 2.2772 - val_acc: 0.1445\n",
      "Epoch 2/100\n",
      "42000/42000 [==============================] - 1s 28us/sample - loss: 2.2583 - acc: 0.1590 - val_loss: 2.2352 - val_acc: 0.1811\n",
      "Epoch 3/100\n",
      "42000/42000 [==============================] - 1s 28us/sample - loss: 2.2025 - acc: 0.1988 - val_loss: 2.1630 - val_acc: 0.2169\n",
      "Epoch 4/100\n",
      "42000/42000 [==============================] - 1s 28us/sample - loss: 2.1205 - acc: 0.2455 - val_loss: 2.0677 - val_acc: 0.2791\n",
      "Epoch 5/100\n",
      "42000/42000 [==============================] - 1s 28us/sample - loss: 2.0151 - acc: 0.3002 - val_loss: 1.9792 - val_acc: 0.2936\n",
      "Epoch 6/100\n",
      "42000/42000 [==============================] - 1s 28us/sample - loss: 1.9102 - acc: 0.3502 - val_loss: 1.8788 - val_acc: 0.3721\n",
      "Epoch 7/100\n",
      "42000/42000 [==============================] - 1s 31us/sample - loss: 1.8119 - acc: 0.3987 - val_loss: 1.7286 - val_acc: 0.4290\n",
      "Epoch 8/100\n",
      "42000/42000 [==============================] - 1s 28us/sample - loss: 1.7188 - acc: 0.4394 - val_loss: 1.6887 - val_acc: 0.4459\n",
      "Epoch 9/100\n",
      "42000/42000 [==============================] - 1s 28us/sample - loss: 1.6454 - acc: 0.4664 - val_loss: 1.5630 - val_acc: 0.4977\n",
      "Epoch 10/100\n",
      "42000/42000 [==============================] - 1s 30us/sample - loss: 1.5575 - acc: 0.5016 - val_loss: 1.4854 - val_acc: 0.5321\n",
      "Epoch 11/100\n",
      "42000/42000 [==============================] - 1s 28us/sample - loss: 1.4950 - acc: 0.5230 - val_loss: 1.4138 - val_acc: 0.5634\n",
      "Epoch 12/100\n",
      "42000/42000 [==============================] - 1s 28us/sample - loss: 1.4227 - acc: 0.5528 - val_loss: 1.3826 - val_acc: 0.5729\n",
      "Epoch 13/100\n",
      "42000/42000 [==============================] - 1s 29us/sample - loss: 1.3695 - acc: 0.5711 - val_loss: 1.3418 - val_acc: 0.5759\n",
      "Epoch 14/100\n",
      "42000/42000 [==============================] - 1s 28us/sample - loss: 1.3157 - acc: 0.5902 - val_loss: 1.2598 - val_acc: 0.6136\n",
      "Epoch 15/100\n",
      "42000/42000 [==============================] - 1s 28us/sample - loss: 1.2658 - acc: 0.6087 - val_loss: 1.2570 - val_acc: 0.6051\n",
      "Epoch 16/100\n",
      "42000/42000 [==============================] - 1s 28us/sample - loss: 1.2305 - acc: 0.6206 - val_loss: 1.1832 - val_acc: 0.6360\n",
      "Epoch 17/100\n",
      "42000/42000 [==============================] - 1s 28us/sample - loss: 1.1781 - acc: 0.6407 - val_loss: 1.1872 - val_acc: 0.6325\n",
      "Epoch 18/100\n",
      "42000/42000 [==============================] - 1s 28us/sample - loss: 1.1564 - acc: 0.6430 - val_loss: 1.1064 - val_acc: 0.6654\n",
      "Epoch 19/100\n",
      "42000/42000 [==============================] - 1s 28us/sample - loss: 1.1314 - acc: 0.6545 - val_loss: 1.1058 - val_acc: 0.6610\n",
      "Epoch 20/100\n",
      "42000/42000 [==============================] - 1s 28us/sample - loss: 1.1027 - acc: 0.6636 - val_loss: 1.0935 - val_acc: 0.6723\n",
      "Epoch 21/100\n",
      "42000/42000 [==============================] - 1s 29us/sample - loss: 1.0788 - acc: 0.6717 - val_loss: 1.0264 - val_acc: 0.6935\n",
      "Epoch 22/100\n",
      "42000/42000 [==============================] - 1s 29us/sample - loss: 1.0554 - acc: 0.6769 - val_loss: 1.0594 - val_acc: 0.6763\n",
      "Epoch 23/100\n",
      "42000/42000 [==============================] - 1s 29us/sample - loss: 1.0394 - acc: 0.6810 - val_loss: 1.0024 - val_acc: 0.6969\n",
      "Epoch 24/100\n",
      "42000/42000 [==============================] - 1s 28us/sample - loss: 1.0207 - acc: 0.6883 - val_loss: 1.0085 - val_acc: 0.6931\n",
      "Epoch 25/100\n",
      "42000/42000 [==============================] - 1s 28us/sample - loss: 1.0036 - acc: 0.6933 - val_loss: 0.9629 - val_acc: 0.7112\n",
      "Epoch 26/100\n",
      "42000/42000 [==============================] - 1s 28us/sample - loss: 0.9817 - acc: 0.7005 - val_loss: 0.9621 - val_acc: 0.7084\n",
      "Epoch 27/100\n",
      "42000/42000 [==============================] - 1s 28us/sample - loss: 0.9767 - acc: 0.7021 - val_loss: 0.9664 - val_acc: 0.7089\n",
      "Epoch 28/100\n",
      "42000/42000 [==============================] - 1s 28us/sample - loss: 0.9630 - acc: 0.7063 - val_loss: 0.9301 - val_acc: 0.7188\n",
      "Epoch 29/100\n",
      "42000/42000 [==============================] - 1s 28us/sample - loss: 0.9437 - acc: 0.7120 - val_loss: 0.9326 - val_acc: 0.7169\n",
      "Epoch 30/100\n",
      "42000/42000 [==============================] - 1s 28us/sample - loss: 0.9364 - acc: 0.7131 - val_loss: 0.9065 - val_acc: 0.7268\n",
      "Epoch 31/100\n",
      "42000/42000 [==============================] - 1s 28us/sample - loss: 0.9258 - acc: 0.7177 - val_loss: 0.9086 - val_acc: 0.7228\n",
      "Epoch 32/100\n",
      "42000/42000 [==============================] - 1s 29us/sample - loss: 0.9093 - acc: 0.7233 - val_loss: 0.9859 - val_acc: 0.6932\n",
      "Epoch 33/100\n",
      "42000/42000 [==============================] - 1s 28us/sample - loss: 0.8930 - acc: 0.7258 - val_loss: 0.8975 - val_acc: 0.7272\n",
      "Epoch 34/100\n",
      "42000/42000 [==============================] - 1s 28us/sample - loss: 0.8898 - acc: 0.7287 - val_loss: 0.9300 - val_acc: 0.7106\n",
      "Epoch 35/100\n",
      "42000/42000 [==============================] - 1s 28us/sample - loss: 0.8749 - acc: 0.7321 - val_loss: 0.8580 - val_acc: 0.7386\n",
      "Epoch 36/100\n",
      "42000/42000 [==============================] - 1s 29us/sample - loss: 0.8671 - acc: 0.7364 - val_loss: 0.8540 - val_acc: 0.7415\n",
      "Epoch 37/100\n",
      "42000/42000 [==============================] - 1s 31us/sample - loss: 0.8604 - acc: 0.7385 - val_loss: 0.8776 - val_acc: 0.7315\n",
      "Epoch 38/100\n",
      "42000/42000 [==============================] - 1s 29us/sample - loss: 0.8520 - acc: 0.7388 - val_loss: 0.8911 - val_acc: 0.7285\n",
      "Epoch 39/100\n",
      "42000/42000 [==============================] - 1s 28us/sample - loss: 0.8411 - acc: 0.7417 - val_loss: 0.8206 - val_acc: 0.7509\n",
      "Epoch 40/100\n",
      "42000/42000 [==============================] - 1s 28us/sample - loss: 0.8298 - acc: 0.7486 - val_loss: 0.8165 - val_acc: 0.7536\n",
      "Epoch 41/100\n",
      "42000/42000 [==============================] - 1s 28us/sample - loss: 0.8214 - acc: 0.7479 - val_loss: 0.8244 - val_acc: 0.7494\n",
      "Epoch 42/100\n",
      "42000/42000 [==============================] - 1s 28us/sample - loss: 0.8155 - acc: 0.7504 - val_loss: 0.8274 - val_acc: 0.7457\n",
      "Epoch 43/100\n",
      "42000/42000 [==============================] - 1s 28us/sample - loss: 0.8055 - acc: 0.7525 - val_loss: 0.7904 - val_acc: 0.7614\n",
      "Epoch 44/100\n",
      "42000/42000 [==============================] - 1s 28us/sample - loss: 0.7994 - acc: 0.7544 - val_loss: 0.8214 - val_acc: 0.7481\n",
      "Epoch 45/100\n",
      "42000/42000 [==============================] - 1s 27us/sample - loss: 0.7903 - acc: 0.7585 - val_loss: 0.7907 - val_acc: 0.7623\n",
      "Epoch 46/100\n",
      "42000/42000 [==============================] - 1s 27us/sample - loss: 0.7772 - acc: 0.7641 - val_loss: 0.7760 - val_acc: 0.7646\n",
      "Epoch 47/100\n",
      "42000/42000 [==============================] - 1s 28us/sample - loss: 0.7708 - acc: 0.7637 - val_loss: 0.7748 - val_acc: 0.7641\n",
      "Epoch 48/100\n",
      "42000/42000 [==============================] - 1s 28us/sample - loss: 0.7647 - acc: 0.7668 - val_loss: 0.7755 - val_acc: 0.7647\n",
      "Epoch 49/100\n",
      "42000/42000 [==============================] - 1s 28us/sample - loss: 0.7619 - acc: 0.7675 - val_loss: 0.8349 - val_acc: 0.7467\n",
      "Epoch 50/100\n",
      "42000/42000 [==============================] - 1s 29us/sample - loss: 0.7527 - acc: 0.7716 - val_loss: 0.8013 - val_acc: 0.7557\n",
      "Epoch 51/100\n",
      "42000/42000 [==============================] - 1s 28us/sample - loss: 0.7460 - acc: 0.7721 - val_loss: 0.8218 - val_acc: 0.7488\n",
      "Epoch 52/100\n",
      "42000/42000 [==============================] - 1s 28us/sample - loss: 0.7374 - acc: 0.7745 - val_loss: 0.7460 - val_acc: 0.7739\n",
      "Epoch 53/100\n",
      "42000/42000 [==============================] - 1s 27us/sample - loss: 0.7298 - acc: 0.7764 - val_loss: 0.7361 - val_acc: 0.7758\n",
      "Epoch 54/100\n",
      "42000/42000 [==============================] - 1s 28us/sample - loss: 0.7241 - acc: 0.7789 - val_loss: 0.7359 - val_acc: 0.7771\n",
      "Epoch 55/100\n",
      "42000/42000 [==============================] - 1s 29us/sample - loss: 0.7231 - acc: 0.7796 - val_loss: 0.7706 - val_acc: 0.7632\n",
      "Epoch 56/100\n",
      "42000/42000 [==============================] - 1s 28us/sample - loss: 0.7154 - acc: 0.7819 - val_loss: 0.6990 - val_acc: 0.7884\n",
      "Epoch 57/100\n",
      "42000/42000 [==============================] - 1s 31us/sample - loss: 0.7089 - acc: 0.7844 - val_loss: 0.7225 - val_acc: 0.7826\n",
      "Epoch 58/100\n",
      "42000/42000 [==============================] - 1s 28us/sample - loss: 0.6965 - acc: 0.7884 - val_loss: 0.7235 - val_acc: 0.7802\n",
      "Epoch 59/100\n",
      "42000/42000 [==============================] - 1s 29us/sample - loss: 0.6945 - acc: 0.7878 - val_loss: 0.6968 - val_acc: 0.7902\n",
      "Epoch 60/100\n",
      "42000/42000 [==============================] - 1s 31us/sample - loss: 0.6934 - acc: 0.7889 - val_loss: 0.6906 - val_acc: 0.7930\n",
      "Epoch 61/100\n",
      "42000/42000 [==============================] - 1s 29us/sample - loss: 0.6812 - acc: 0.7935 - val_loss: 0.7031 - val_acc: 0.7886\n",
      "Epoch 62/100\n",
      "42000/42000 [==============================] - 1s 27us/sample - loss: 0.6734 - acc: 0.7948 - val_loss: 0.6841 - val_acc: 0.7936\n",
      "Epoch 63/100\n",
      "42000/42000 [==============================] - 1s 28us/sample - loss: 0.6704 - acc: 0.7957 - val_loss: 0.7160 - val_acc: 0.7796\n",
      "Epoch 64/100\n",
      "42000/42000 [==============================] - 1s 28us/sample - loss: 0.6639 - acc: 0.7963 - val_loss: 0.7002 - val_acc: 0.7873\n",
      "Epoch 65/100\n",
      "42000/42000 [==============================] - 1s 28us/sample - loss: 0.6635 - acc: 0.7970 - val_loss: 0.6885 - val_acc: 0.7896\n",
      "Epoch 66/100\n",
      "42000/42000 [==============================] - 1s 27us/sample - loss: 0.6577 - acc: 0.7989 - val_loss: 0.6442 - val_acc: 0.8066\n",
      "Epoch 67/100\n",
      "42000/42000 [==============================] - 1s 28us/sample - loss: 0.6460 - acc: 0.8025 - val_loss: 0.6553 - val_acc: 0.8033\n",
      "Epoch 68/100\n",
      "42000/42000 [==============================] - 1s 28us/sample - loss: 0.6456 - acc: 0.8022 - val_loss: 0.6597 - val_acc: 0.8029\n",
      "Epoch 69/100\n",
      "42000/42000 [==============================] - 1s 28us/sample - loss: 0.6428 - acc: 0.8029 - val_loss: 0.6701 - val_acc: 0.7975\n",
      "Epoch 70/100\n",
      "42000/42000 [==============================] - 1s 27us/sample - loss: 0.6438 - acc: 0.8018 - val_loss: 0.6699 - val_acc: 0.7985\n",
      "Epoch 71/100\n",
      "42000/42000 [==============================] - 1s 27us/sample - loss: 0.6290 - acc: 0.8080 - val_loss: 0.6421 - val_acc: 0.8052\n",
      "Epoch 72/100\n",
      "42000/42000 [==============================] - 1s 31us/sample - loss: 0.6306 - acc: 0.8080 - val_loss: 0.7013 - val_acc: 0.7821\n",
      "Epoch 73/100\n",
      "42000/42000 [==============================] - 1s 28us/sample - loss: 0.6264 - acc: 0.8086 - val_loss: 0.6395 - val_acc: 0.8061\n",
      "Epoch 74/100\n",
      "42000/42000 [==============================] - 1s 27us/sample - loss: 0.6162 - acc: 0.8125 - val_loss: 0.6528 - val_acc: 0.8025\n",
      "Epoch 75/100\n",
      "42000/42000 [==============================] - 1s 28us/sample - loss: 0.6137 - acc: 0.8125 - val_loss: 0.6327 - val_acc: 0.8090\n",
      "Epoch 76/100\n",
      "42000/42000 [==============================] - 1s 28us/sample - loss: 0.6107 - acc: 0.8144 - val_loss: 0.6555 - val_acc: 0.8019\n",
      "Epoch 77/100\n",
      "42000/42000 [==============================] - 1s 28us/sample - loss: 0.6071 - acc: 0.8128 - val_loss: 0.6139 - val_acc: 0.8156\n",
      "Epoch 78/100\n",
      "42000/42000 [==============================] - 1s 28us/sample - loss: 0.6012 - acc: 0.8164 - val_loss: 0.6277 - val_acc: 0.8092\n",
      "Epoch 79/100\n",
      "42000/42000 [==============================] - 1s 28us/sample - loss: 0.6028 - acc: 0.8175 - val_loss: 0.6266 - val_acc: 0.8112\n",
      "Epoch 80/100\n",
      "42000/42000 [==============================] - 1s 28us/sample - loss: 0.5946 - acc: 0.8199 - val_loss: 0.6035 - val_acc: 0.8183\n",
      "Epoch 81/100\n",
      "42000/42000 [==============================] - 1s 27us/sample - loss: 0.5892 - acc: 0.8203 - val_loss: 0.6225 - val_acc: 0.8119\n",
      "Epoch 82/100\n",
      "42000/42000 [==============================] - 1s 28us/sample - loss: 0.5836 - acc: 0.8201 - val_loss: 0.6568 - val_acc: 0.8032\n",
      "Epoch 83/100\n",
      "42000/42000 [==============================] - 1s 28us/sample - loss: 0.5772 - acc: 0.8246 - val_loss: 0.6034 - val_acc: 0.8190\n",
      "Epoch 84/100\n",
      "42000/42000 [==============================] - 1s 28us/sample - loss: 0.5778 - acc: 0.8245 - val_loss: 0.6260 - val_acc: 0.8090\n",
      "Epoch 85/100\n",
      "42000/42000 [==============================] - 1s 28us/sample - loss: 0.5757 - acc: 0.8242 - val_loss: 0.5882 - val_acc: 0.8230\n",
      "Epoch 86/100\n",
      "42000/42000 [==============================] - 1s 28us/sample - loss: 0.5666 - acc: 0.8275 - val_loss: 0.6215 - val_acc: 0.8104\n",
      "Epoch 87/100\n",
      "42000/42000 [==============================] - 1s 29us/sample - loss: 0.5657 - acc: 0.8270 - val_loss: 0.5943 - val_acc: 0.8211\n",
      "Epoch 88/100\n",
      "42000/42000 [==============================] - 1s 29us/sample - loss: 0.5611 - acc: 0.8284 - val_loss: 0.5841 - val_acc: 0.8231\n",
      "Epoch 89/100\n",
      "42000/42000 [==============================] - 1s 29us/sample - loss: 0.5546 - acc: 0.8317 - val_loss: 0.5673 - val_acc: 0.8303\n",
      "Epoch 90/100\n",
      "42000/42000 [==============================] - 1s 28us/sample - loss: 0.5512 - acc: 0.8315 - val_loss: 0.5769 - val_acc: 0.8254\n",
      "Epoch 91/100\n",
      "42000/42000 [==============================] - 1s 28us/sample - loss: 0.5524 - acc: 0.8309 - val_loss: 0.5750 - val_acc: 0.8269\n",
      "Epoch 92/100\n",
      "42000/42000 [==============================] - 1s 28us/sample - loss: 0.5496 - acc: 0.8310 - val_loss: 0.5701 - val_acc: 0.8285\n",
      "Epoch 93/100\n",
      "42000/42000 [==============================] - 1s 28us/sample - loss: 0.5473 - acc: 0.8340 - val_loss: 0.5738 - val_acc: 0.8263\n",
      "Epoch 94/100\n",
      "42000/42000 [==============================] - 1s 29us/sample - loss: 0.5401 - acc: 0.8360 - val_loss: 0.5505 - val_acc: 0.8365\n",
      "Epoch 95/100\n",
      "42000/42000 [==============================] - 1s 28us/sample - loss: 0.5413 - acc: 0.8350 - val_loss: 0.6173 - val_acc: 0.8122\n",
      "Epoch 96/100\n",
      "42000/42000 [==============================] - 1s 27us/sample - loss: 0.5368 - acc: 0.8359 - val_loss: 0.5707 - val_acc: 0.8304\n",
      "Epoch 97/100\n",
      "42000/42000 [==============================] - 1s 28us/sample - loss: 0.5295 - acc: 0.8385 - val_loss: 0.5667 - val_acc: 0.8296\n",
      "Epoch 98/100\n",
      "42000/42000 [==============================] - 1s 28us/sample - loss: 0.5249 - acc: 0.8381 - val_loss: 0.5843 - val_acc: 0.8244\n",
      "Epoch 99/100\n",
      "42000/42000 [==============================] - 1s 28us/sample - loss: 0.5273 - acc: 0.8393 - val_loss: 0.5687 - val_acc: 0.8294\n",
      "Epoch 100/100\n",
      "42000/42000 [==============================] - 1s 28us/sample - loss: 0.5213 - acc: 0.8399 - val_loss: 0.5648 - val_acc: 0.8295\n"
     ]
    }
   ],
   "source": [
    "# compiling the neural network classifier, sgd optimizer\n",
    "sgd = optimizers.SGD(lr = 0.01)\n",
    "# Adding activation function - softmax for multiclass classification\n",
    "model4.compile(optimizer = sgd, loss = 'categorical_crossentropy', metrics = ['accuracy'])\n",
    "\n",
    "# Fitting the neural network for training\n",
    "history = model4.fit(X_train, y_train, validation_data = (X_val, y_val), batch_size = 200, epochs = 100, verbose = 1)"
   ]
  },
  {
   "cell_type": "code",
   "execution_count": 55,
   "metadata": {
    "colab": {
     "base_uri": "https://localhost:8080/",
     "height": 88
    },
    "colab_type": "code",
    "id": "xPbRGkQ7NKyW",
    "outputId": "c3f60776-2e5c-4e2f-ea1c-ad478024d792"
   },
   "outputs": [
    {
     "name": "stdout",
     "output_type": "stream",
     "text": [
      "NN with weight initializers\n",
      "--------------------------------------------------------------------------------\n",
      "60000/60000 [==============================] - 3s 51us/sample - loss: 0.5648 - acc: 0.8295\n",
      "Validation accuracy: 82.95\n"
     ]
    }
   ],
   "source": [
    "print('NN with weight initializers'); print('--'*40)\n",
    "results4 = model4.evaluate(X_val, y_val)\n",
    "print('Validation accuracy: {}'.format(round(results4[1]*100, 2), '%'))"
   ]
  },
  {
   "cell_type": "markdown",
   "metadata": {
    "colab_type": "text",
    "id": "BSWZvLlSVgq5"
   },
   "source": [
    "#### NN model, relu activations, Adam optimizers with weight initializers"
   ]
  },
  {
   "cell_type": "code",
   "execution_count": 56,
   "metadata": {
    "colab": {
     "base_uri": "https://localhost:8080/",
     "height": 1000
    },
    "colab_type": "code",
    "id": "ysyBxxvgVjWk",
    "outputId": "450c0d00-c085-45d7-ed52-96360d18e32a"
   },
   "outputs": [
    {
     "name": "stdout",
     "output_type": "stream",
     "text": [
      "Train on 42000 samples, validate on 60000 samples\n",
      "Epoch 1/100\n",
      "42000/42000 [==============================] - 1s 33us/sample - loss: 0.8991 - acc: 0.7259 - val_loss: 0.7777 - val_acc: 0.7567\n",
      "Epoch 2/100\n",
      "42000/42000 [==============================] - 1s 30us/sample - loss: 0.7556 - acc: 0.7651 - val_loss: 0.7145 - val_acc: 0.7837\n",
      "Epoch 3/100\n",
      "42000/42000 [==============================] - 1s 30us/sample - loss: 0.7233 - acc: 0.7769 - val_loss: 0.7429 - val_acc: 0.7717\n",
      "Epoch 4/100\n",
      "42000/42000 [==============================] - 1s 31us/sample - loss: 0.7134 - acc: 0.7808 - val_loss: 0.7203 - val_acc: 0.7836\n",
      "Epoch 5/100\n",
      "42000/42000 [==============================] - 1s 30us/sample - loss: 0.7006 - acc: 0.7834 - val_loss: 0.7579 - val_acc: 0.7643\n",
      "Epoch 6/100\n",
      "42000/42000 [==============================] - 1s 29us/sample - loss: 0.6854 - acc: 0.7876 - val_loss: 0.6947 - val_acc: 0.7862\n",
      "Epoch 7/100\n",
      "42000/42000 [==============================] - 1s 31us/sample - loss: 0.6375 - acc: 0.8048 - val_loss: 0.6920 - val_acc: 0.7847\n",
      "Epoch 8/100\n",
      "42000/42000 [==============================] - 1s 29us/sample - loss: 0.6482 - acc: 0.7993 - val_loss: 0.7172 - val_acc: 0.7798\n",
      "Epoch 9/100\n",
      "42000/42000 [==============================] - 1s 29us/sample - loss: 0.6429 - acc: 0.8015 - val_loss: 0.6664 - val_acc: 0.7970\n",
      "Epoch 10/100\n",
      "42000/42000 [==============================] - 1s 29us/sample - loss: 0.6220 - acc: 0.8086 - val_loss: 0.5867 - val_acc: 0.8212\n",
      "Epoch 11/100\n",
      "42000/42000 [==============================] - 1s 30us/sample - loss: 0.6078 - acc: 0.8123 - val_loss: 0.6032 - val_acc: 0.8152\n",
      "Epoch 12/100\n",
      "42000/42000 [==============================] - 1s 29us/sample - loss: 0.5877 - acc: 0.8190 - val_loss: 0.5871 - val_acc: 0.8198\n",
      "Epoch 13/100\n",
      "42000/42000 [==============================] - 1s 29us/sample - loss: 0.6041 - acc: 0.8137 - val_loss: 0.6405 - val_acc: 0.8071\n",
      "Epoch 14/100\n",
      "42000/42000 [==============================] - 1s 29us/sample - loss: 0.5615 - acc: 0.8272 - val_loss: 0.6205 - val_acc: 0.8112\n",
      "Epoch 15/100\n",
      "42000/42000 [==============================] - 1s 29us/sample - loss: 0.5613 - acc: 0.8273 - val_loss: 0.5388 - val_acc: 0.8364\n",
      "Epoch 16/100\n",
      "42000/42000 [==============================] - 1s 31us/sample - loss: 0.5540 - acc: 0.8296 - val_loss: 0.5700 - val_acc: 0.8283\n",
      "Epoch 17/100\n",
      "42000/42000 [==============================] - 1s 31us/sample - loss: 0.5484 - acc: 0.8299 - val_loss: 0.6048 - val_acc: 0.8130\n",
      "Epoch 18/100\n",
      "42000/42000 [==============================] - 1s 32us/sample - loss: 0.5484 - acc: 0.8280 - val_loss: 0.5539 - val_acc: 0.8290\n",
      "Epoch 19/100\n",
      "42000/42000 [==============================] - 1s 33us/sample - loss: 0.5517 - acc: 0.8289 - val_loss: 0.5933 - val_acc: 0.8200\n",
      "Epoch 20/100\n",
      "42000/42000 [==============================] - 1s 31us/sample - loss: 0.5333 - acc: 0.8333 - val_loss: 0.5172 - val_acc: 0.8419\n",
      "Epoch 21/100\n",
      "42000/42000 [==============================] - 1s 31us/sample - loss: 0.5145 - acc: 0.8397 - val_loss: 0.5776 - val_acc: 0.8227\n",
      "Epoch 22/100\n",
      "42000/42000 [==============================] - 1s 31us/sample - loss: 0.5038 - acc: 0.8428 - val_loss: 0.5885 - val_acc: 0.8203\n",
      "Epoch 23/100\n",
      "42000/42000 [==============================] - 1s 31us/sample - loss: 0.5021 - acc: 0.8435 - val_loss: 0.5563 - val_acc: 0.8313\n",
      "Epoch 24/100\n",
      "42000/42000 [==============================] - 1s 30us/sample - loss: 0.4995 - acc: 0.8436 - val_loss: 0.5187 - val_acc: 0.8443\n",
      "Epoch 25/100\n",
      "42000/42000 [==============================] - 1s 30us/sample - loss: 0.4902 - acc: 0.8461 - val_loss: 0.5196 - val_acc: 0.8422\n",
      "Epoch 26/100\n",
      "42000/42000 [==============================] - 1s 29us/sample - loss: 0.4710 - acc: 0.8533 - val_loss: 0.4911 - val_acc: 0.8530\n",
      "Epoch 27/100\n",
      "42000/42000 [==============================] - 1s 29us/sample - loss: 0.4936 - acc: 0.8451 - val_loss: 0.5424 - val_acc: 0.8342\n",
      "Epoch 28/100\n",
      "42000/42000 [==============================] - 1s 29us/sample - loss: 0.4797 - acc: 0.8485 - val_loss: 0.5177 - val_acc: 0.8429\n",
      "Epoch 29/100\n",
      "42000/42000 [==============================] - 1s 29us/sample - loss: 0.4690 - acc: 0.8533 - val_loss: 0.4953 - val_acc: 0.8504\n",
      "Epoch 30/100\n",
      "42000/42000 [==============================] - 1s 29us/sample - loss: 0.4609 - acc: 0.8557 - val_loss: 0.5042 - val_acc: 0.8469\n",
      "Epoch 31/100\n",
      "42000/42000 [==============================] - 1s 29us/sample - loss: 0.4545 - acc: 0.8564 - val_loss: 0.4685 - val_acc: 0.8587\n",
      "Epoch 32/100\n",
      "42000/42000 [==============================] - 1s 30us/sample - loss: 0.4528 - acc: 0.8584 - val_loss: 0.5315 - val_acc: 0.8411\n",
      "Epoch 33/100\n",
      "42000/42000 [==============================] - 1s 31us/sample - loss: 0.4509 - acc: 0.8584 - val_loss: 0.5534 - val_acc: 0.8298\n",
      "Epoch 34/100\n",
      "42000/42000 [==============================] - 1s 30us/sample - loss: 0.4374 - acc: 0.8635 - val_loss: 0.5036 - val_acc: 0.8473\n",
      "Epoch 35/100\n",
      "42000/42000 [==============================] - 1s 29us/sample - loss: 0.4344 - acc: 0.8632 - val_loss: 0.4816 - val_acc: 0.8529\n",
      "Epoch 36/100\n",
      "42000/42000 [==============================] - 1s 29us/sample - loss: 0.4361 - acc: 0.8620 - val_loss: 0.6043 - val_acc: 0.8112\n",
      "Epoch 37/100\n",
      "42000/42000 [==============================] - 1s 29us/sample - loss: 0.4331 - acc: 0.8619 - val_loss: 0.5036 - val_acc: 0.8474\n",
      "Epoch 38/100\n",
      "42000/42000 [==============================] - 1s 29us/sample - loss: 0.4255 - acc: 0.8643 - val_loss: 0.4520 - val_acc: 0.8638\n",
      "Epoch 39/100\n",
      "42000/42000 [==============================] - 1s 29us/sample - loss: 0.4218 - acc: 0.8663 - val_loss: 0.4762 - val_acc: 0.8538\n",
      "Epoch 40/100\n",
      "42000/42000 [==============================] - 1s 29us/sample - loss: 0.4104 - acc: 0.8693 - val_loss: 0.4917 - val_acc: 0.8511\n",
      "Epoch 41/100\n",
      "42000/42000 [==============================] - 1s 29us/sample - loss: 0.4133 - acc: 0.8700 - val_loss: 0.4658 - val_acc: 0.8579\n",
      "Epoch 42/100\n",
      "42000/42000 [==============================] - 1s 29us/sample - loss: 0.4138 - acc: 0.8682 - val_loss: 0.4311 - val_acc: 0.8703\n",
      "Epoch 43/100\n",
      "42000/42000 [==============================] - 1s 30us/sample - loss: 0.4022 - acc: 0.8722 - val_loss: 0.5085 - val_acc: 0.8441\n",
      "Epoch 44/100\n",
      "42000/42000 [==============================] - 1s 29us/sample - loss: 0.3980 - acc: 0.8724 - val_loss: 0.4468 - val_acc: 0.8643\n",
      "Epoch 45/100\n",
      "42000/42000 [==============================] - 1s 30us/sample - loss: 0.3898 - acc: 0.8754 - val_loss: 0.4190 - val_acc: 0.8749\n",
      "Epoch 46/100\n",
      "42000/42000 [==============================] - 1s 29us/sample - loss: 0.3825 - acc: 0.8784 - val_loss: 0.4479 - val_acc: 0.8654\n",
      "Epoch 47/100\n",
      "42000/42000 [==============================] - 1s 30us/sample - loss: 0.3758 - acc: 0.8804 - val_loss: 0.4472 - val_acc: 0.8663\n",
      "Epoch 48/100\n",
      "42000/42000 [==============================] - 1s 29us/sample - loss: 0.3744 - acc: 0.8803 - val_loss: 0.4578 - val_acc: 0.8621\n",
      "Epoch 49/100\n",
      "42000/42000 [==============================] - 1s 29us/sample - loss: 0.3732 - acc: 0.8777 - val_loss: 0.4057 - val_acc: 0.8789\n",
      "Epoch 50/100\n",
      "42000/42000 [==============================] - 1s 29us/sample - loss: 0.3702 - acc: 0.8817 - val_loss: 0.4784 - val_acc: 0.8530\n",
      "Epoch 51/100\n",
      "42000/42000 [==============================] - 1s 30us/sample - loss: 0.3802 - acc: 0.8784 - val_loss: 0.4168 - val_acc: 0.8766\n",
      "Epoch 52/100\n",
      "42000/42000 [==============================] - 1s 31us/sample - loss: 0.3640 - acc: 0.8855 - val_loss: 0.4354 - val_acc: 0.8693\n",
      "Epoch 53/100\n",
      "42000/42000 [==============================] - 1s 29us/sample - loss: 0.3655 - acc: 0.8817 - val_loss: 0.4408 - val_acc: 0.8706\n",
      "Epoch 54/100\n",
      "42000/42000 [==============================] - 1s 30us/sample - loss: 0.3629 - acc: 0.8839 - val_loss: 0.4955 - val_acc: 0.8507\n",
      "Epoch 55/100\n",
      "42000/42000 [==============================] - 1s 33us/sample - loss: 0.3575 - acc: 0.8848 - val_loss: 0.4405 - val_acc: 0.8676\n",
      "Epoch 56/100\n",
      "42000/42000 [==============================] - 1s 30us/sample - loss: 0.3460 - acc: 0.8889 - val_loss: 0.4270 - val_acc: 0.8721\n",
      "Epoch 57/100\n",
      "42000/42000 [==============================] - 1s 30us/sample - loss: 0.3463 - acc: 0.8882 - val_loss: 0.4216 - val_acc: 0.8741\n",
      "Epoch 58/100\n",
      "42000/42000 [==============================] - 1s 30us/sample - loss: 0.3444 - acc: 0.8886 - val_loss: 0.4267 - val_acc: 0.8738\n",
      "Epoch 59/100\n",
      "42000/42000 [==============================] - 1s 29us/sample - loss: 0.3352 - acc: 0.8926 - val_loss: 0.4318 - val_acc: 0.8720\n",
      "Epoch 60/100\n",
      "42000/42000 [==============================] - 1s 30us/sample - loss: 0.3576 - acc: 0.8835 - val_loss: 0.4341 - val_acc: 0.8686\n",
      "Epoch 61/100\n",
      "42000/42000 [==============================] - 1s 29us/sample - loss: 0.3416 - acc: 0.8905 - val_loss: 0.4321 - val_acc: 0.8719\n",
      "Epoch 62/100\n",
      "42000/42000 [==============================] - 1s 29us/sample - loss: 0.3321 - acc: 0.8934 - val_loss: 0.4097 - val_acc: 0.8776\n",
      "Epoch 63/100\n",
      "42000/42000 [==============================] - 1s 29us/sample - loss: 0.3265 - acc: 0.8952 - val_loss: 0.3944 - val_acc: 0.8839\n",
      "Epoch 64/100\n",
      "42000/42000 [==============================] - 1s 30us/sample - loss: 0.3281 - acc: 0.8930 - val_loss: 0.4291 - val_acc: 0.8740\n",
      "Epoch 65/100\n",
      "42000/42000 [==============================] - 1s 29us/sample - loss: 0.3175 - acc: 0.8973 - val_loss: 0.4325 - val_acc: 0.8718\n",
      "Epoch 66/100\n",
      "42000/42000 [==============================] - 1s 32us/sample - loss: 0.3356 - acc: 0.8910 - val_loss: 0.3925 - val_acc: 0.8855\n",
      "Epoch 67/100\n",
      "42000/42000 [==============================] - 1s 30us/sample - loss: 0.3264 - acc: 0.8937 - val_loss: 0.4110 - val_acc: 0.8832\n",
      "Epoch 68/100\n",
      "42000/42000 [==============================] - 1s 29us/sample - loss: 0.3193 - acc: 0.8961 - val_loss: 0.4201 - val_acc: 0.8763\n",
      "Epoch 69/100\n",
      "42000/42000 [==============================] - 1s 29us/sample - loss: 0.3213 - acc: 0.8955 - val_loss: 0.4312 - val_acc: 0.8732\n",
      "Epoch 70/100\n",
      "42000/42000 [==============================] - 1s 29us/sample - loss: 0.3135 - acc: 0.8977 - val_loss: 0.4648 - val_acc: 0.8613\n",
      "Epoch 71/100\n",
      "42000/42000 [==============================] - 1s 29us/sample - loss: 0.3129 - acc: 0.8984 - val_loss: 0.3997 - val_acc: 0.8838\n",
      "Epoch 72/100\n",
      "42000/42000 [==============================] - 1s 29us/sample - loss: 0.3039 - acc: 0.9007 - val_loss: 0.4164 - val_acc: 0.8781\n",
      "Epoch 73/100\n",
      "42000/42000 [==============================] - 1s 28us/sample - loss: 0.3088 - acc: 0.9005 - val_loss: 0.4063 - val_acc: 0.8815\n",
      "Epoch 74/100\n",
      "42000/42000 [==============================] - 1s 30us/sample - loss: 0.3041 - acc: 0.9022 - val_loss: 0.3704 - val_acc: 0.8949\n",
      "Epoch 75/100\n",
      "42000/42000 [==============================] - 1s 29us/sample - loss: 0.2971 - acc: 0.9039 - val_loss: 0.4283 - val_acc: 0.8779\n",
      "Epoch 76/100\n",
      "42000/42000 [==============================] - 1s 29us/sample - loss: 0.3031 - acc: 0.9018 - val_loss: 0.4305 - val_acc: 0.8752\n",
      "Epoch 77/100\n",
      "42000/42000 [==============================] - 1s 29us/sample - loss: 0.2963 - acc: 0.9041 - val_loss: 0.4077 - val_acc: 0.8816\n",
      "Epoch 78/100\n",
      "42000/42000 [==============================] - 1s 30us/sample - loss: 0.2873 - acc: 0.9086 - val_loss: 0.4098 - val_acc: 0.8811\n",
      "Epoch 79/100\n",
      "42000/42000 [==============================] - 1s 29us/sample - loss: 0.2926 - acc: 0.9044 - val_loss: 0.3991 - val_acc: 0.8887\n",
      "Epoch 80/100\n",
      "42000/42000 [==============================] - 1s 30us/sample - loss: 0.2840 - acc: 0.9085 - val_loss: 0.3795 - val_acc: 0.8923\n",
      "Epoch 81/100\n",
      "42000/42000 [==============================] - 1s 31us/sample - loss: 0.2877 - acc: 0.9056 - val_loss: 0.4328 - val_acc: 0.8731\n",
      "Epoch 82/100\n",
      "42000/42000 [==============================] - 1s 29us/sample - loss: 0.2810 - acc: 0.9073 - val_loss: 0.3815 - val_acc: 0.8924\n",
      "Epoch 83/100\n",
      "42000/42000 [==============================] - 1s 30us/sample - loss: 0.2881 - acc: 0.9066 - val_loss: 0.4516 - val_acc: 0.8707\n",
      "Epoch 84/100\n",
      "42000/42000 [==============================] - 1s 29us/sample - loss: 0.2902 - acc: 0.9050 - val_loss: 0.3960 - val_acc: 0.8873\n",
      "Epoch 85/100\n",
      "42000/42000 [==============================] - 1s 29us/sample - loss: 0.2647 - acc: 0.9148 - val_loss: 0.3972 - val_acc: 0.8877\n",
      "Epoch 86/100\n",
      "42000/42000 [==============================] - 1s 29us/sample - loss: 0.2760 - acc: 0.9100 - val_loss: 0.3952 - val_acc: 0.8874\n",
      "Epoch 87/100\n",
      "42000/42000 [==============================] - 1s 29us/sample - loss: 0.2739 - acc: 0.9095 - val_loss: 0.4250 - val_acc: 0.8813\n",
      "Epoch 88/100\n",
      "42000/42000 [==============================] - 1s 29us/sample - loss: 0.2745 - acc: 0.9099 - val_loss: 0.4271 - val_acc: 0.8791\n",
      "Epoch 89/100\n",
      "42000/42000 [==============================] - 1s 29us/sample - loss: 0.2576 - acc: 0.9163 - val_loss: 0.4173 - val_acc: 0.8834\n",
      "Epoch 90/100\n",
      "42000/42000 [==============================] - 1s 29us/sample - loss: 0.2657 - acc: 0.9130 - val_loss: 0.3729 - val_acc: 0.8973\n",
      "Epoch 91/100\n",
      "42000/42000 [==============================] - 1s 28us/sample - loss: 0.2493 - acc: 0.9177 - val_loss: 0.3755 - val_acc: 0.8954\n",
      "Epoch 92/100\n",
      "42000/42000 [==============================] - 1s 29us/sample - loss: 0.2611 - acc: 0.9147 - val_loss: 0.3596 - val_acc: 0.9012\n",
      "Epoch 93/100\n",
      "42000/42000 [==============================] - 1s 29us/sample - loss: 0.2543 - acc: 0.9182 - val_loss: 0.3893 - val_acc: 0.8908\n",
      "Epoch 94/100\n",
      "42000/42000 [==============================] - 1s 29us/sample - loss: 0.2478 - acc: 0.9176 - val_loss: 0.4036 - val_acc: 0.8882\n",
      "Epoch 95/100\n",
      "42000/42000 [==============================] - 1s 29us/sample - loss: 0.2613 - acc: 0.9129 - val_loss: 0.4178 - val_acc: 0.8851\n",
      "Epoch 96/100\n",
      "42000/42000 [==============================] - 1s 29us/sample - loss: 0.2535 - acc: 0.9170 - val_loss: 0.3966 - val_acc: 0.8928\n",
      "Epoch 97/100\n",
      "42000/42000 [==============================] - 1s 29us/sample - loss: 0.2520 - acc: 0.9163 - val_loss: 0.3765 - val_acc: 0.8971\n",
      "Epoch 98/100\n",
      "42000/42000 [==============================] - 1s 29us/sample - loss: 0.2548 - acc: 0.9166 - val_loss: 0.4093 - val_acc: 0.8857\n",
      "Epoch 99/100\n",
      "42000/42000 [==============================] - 1s 29us/sample - loss: 0.2535 - acc: 0.9170 - val_loss: 0.4349 - val_acc: 0.8797\n",
      "Epoch 100/100\n",
      "42000/42000 [==============================] - 1s 30us/sample - loss: 0.2450 - acc: 0.9200 - val_loss: 0.4037 - val_acc: 0.8873\n"
     ]
    }
   ],
   "source": [
    "# compiling the neural network classifier, adam optimizer\n",
    "adam = optimizers.Adam(lr = 0.001)\n",
    "# Adding activation function - softmax for multiclass classification\n",
    "model4.compile(optimizer = adam, loss = 'categorical_crossentropy', metrics = ['accuracy'])\n",
    "\n",
    "# Fitting the neural network for training\n",
    "history = model4.fit(X_train, y_train, validation_data = (X_val, y_val), batch_size = 200, epochs = 100, verbose = 1)"
   ]
  },
  {
   "cell_type": "code",
   "execution_count": 57,
   "metadata": {
    "colab": {
     "base_uri": "https://localhost:8080/",
     "height": 88
    },
    "colab_type": "code",
    "id": "95vBMvCvVrg0",
    "outputId": "328825e1-3e71-4e25-8e71-3e58733cef83"
   },
   "outputs": [
    {
     "name": "stdout",
     "output_type": "stream",
     "text": [
      "NN with weight initializers\n",
      "--------------------------------------------------------------------------------\n",
      "60000/60000 [==============================] - 3s 53us/sample - loss: 0.4037 - acc: 0.8873\n",
      "Validation accuracy: 88.73\n"
     ]
    }
   ],
   "source": [
    "print('NN with weight initializers'); print('--'*40)\n",
    "results4 = model4.evaluate(X_val, y_val)\n",
    "print('Validation accuracy: {}'.format(round(results4[1]*100, 2), '%'))"
   ]
  },
  {
   "cell_type": "markdown",
   "metadata": {
    "colab_type": "text",
    "id": "gjy8FCIQz_s4"
   },
   "source": [
    "<a id='o6'></a>\n",
    "##### Observation 6 - Weight initializers\n",
    "* Adding weight initialiers didn't result in improvement of score.\n",
    "* relu activations, changing number of activators, Adam optimizers gives the best score out of the ones tried as of now.\n",
    "* Next, let's try batch normalization."
   ]
  },
  {
   "cell_type": "markdown",
   "metadata": {
    "colab_type": "text",
    "id": "nlLYOhj_TNcf"
   },
   "source": [
    "<a id='Batch'></a>\n",
    "### Batch Normalization\n",
    "Batch Normalization, one of the methods to prevent the \"internal covariance shift\" problem, has proven to be highly effective. Normalize each mini-batch before nonlinearity."
   ]
  },
  {
   "cell_type": "markdown",
   "metadata": {
    "colab_type": "text",
    "id": "D8QVHk2dWbgK"
   },
   "source": [
    "#### NN model, relu activations, SGD optimizers with weight initializers and batch normalization"
   ]
  },
  {
   "cell_type": "code",
   "execution_count": 58,
   "metadata": {
    "colab": {
     "base_uri": "https://localhost:8080/",
     "height": 52
    },
    "colab_type": "code",
    "id": "BCATllTeUghF",
    "outputId": "61ca8e1f-aac8-4a3d-f81c-5a9656f7de71"
   },
   "outputs": [
    {
     "name": "stdout",
     "output_type": "stream",
     "text": [
      "NN model with batch normalization\n",
      "--------------------------------------------------------------------------------\n"
     ]
    }
   ],
   "source": [
    "print('NN model with batch normalization'); print('--'*40)\n",
    "# Initialize the neural network classifier\n",
    "model5 = Sequential()\n",
    "\n",
    "# Input Layer - adding input layer and activation functions relu and weight initializer\n",
    "model5.add(Dense(256, input_shape = (1024, ), kernel_initializer = 'he_normal'))\n",
    "# Adding batch normalization\n",
    "model5.add(BatchNormalization())\n",
    "# Adding activation function\n",
    "model5.add(Activation('relu'))\n",
    "\n",
    "#Hidden Layer 1 - adding first hidden layer\n",
    "model5.add(Dense(128, kernel_initializer = 'he_normal', bias_initializer = 'he_uniform'))\n",
    "# Adding batch normalization\n",
    "model5.add(BatchNormalization())\n",
    "# Adding activation function\n",
    "model5.add(Activation('relu'))\n",
    "\n",
    "#Hidden Layer 2 - adding second hidden layer\n",
    "model5.add(Dense(64, kernel_initializer = 'he_normal', bias_initializer = 'he_uniform'))\n",
    "# Adding batch normalization\n",
    "model5.add(BatchNormalization())\n",
    "# Adding activation function\n",
    "model5.add(Activation('relu'))\n",
    "\n",
    "#Hidden Layer 3 - adding third hidden layer\n",
    "model5.add(Dense(32, kernel_initializer = 'he_normal', bias_initializer = 'he_uniform'))\n",
    "# Adding batch normalization\n",
    "model5.add(BatchNormalization())\n",
    "# Adding activation function\n",
    "model5.add(Activation('relu'))\n",
    "\n",
    "# Output Layer - adding output layer which is of 10 nodes (digits)\n",
    "model5.add(Dense(10, kernel_initializer = 'he_normal', bias_initializer = 'he_uniform'))\n",
    "# Adding activation function\n",
    "model5.add(Activation('softmax'))"
   ]
  },
  {
   "cell_type": "code",
   "execution_count": 59,
   "metadata": {
    "colab": {
     "base_uri": "https://localhost:8080/",
     "height": 657
    },
    "colab_type": "code",
    "id": "3Yz93UDo557M",
    "outputId": "b1f09216-291e-4c56-b0b2-466f3ab28aad"
   },
   "outputs": [
    {
     "name": "stdout",
     "output_type": "stream",
     "text": [
      "Model: \"sequential_4\"\n",
      "_________________________________________________________________\n",
      "Layer (type)                 Output Shape              Param #   \n",
      "=================================================================\n",
      "dense_15 (Dense)             (None, 256)               262400    \n",
      "_________________________________________________________________\n",
      "batch_normalization (BatchNo (None, 256)               1024      \n",
      "_________________________________________________________________\n",
      "activation_15 (Activation)   (None, 256)               0         \n",
      "_________________________________________________________________\n",
      "dense_16 (Dense)             (None, 128)               32896     \n",
      "_________________________________________________________________\n",
      "batch_normalization_1 (Batch (None, 128)               512       \n",
      "_________________________________________________________________\n",
      "activation_16 (Activation)   (None, 128)               0         \n",
      "_________________________________________________________________\n",
      "dense_17 (Dense)             (None, 64)                8256      \n",
      "_________________________________________________________________\n",
      "batch_normalization_2 (Batch (None, 64)                256       \n",
      "_________________________________________________________________\n",
      "activation_17 (Activation)   (None, 64)                0         \n",
      "_________________________________________________________________\n",
      "dense_18 (Dense)             (None, 32)                2080      \n",
      "_________________________________________________________________\n",
      "batch_normalization_3 (Batch (None, 32)                128       \n",
      "_________________________________________________________________\n",
      "activation_18 (Activation)   (None, 32)                0         \n",
      "_________________________________________________________________\n",
      "dense_19 (Dense)             (None, 10)                330       \n",
      "_________________________________________________________________\n",
      "activation_19 (Activation)   (None, 10)                0         \n",
      "=================================================================\n",
      "Total params: 307,882\n",
      "Trainable params: 306,922\n",
      "Non-trainable params: 960\n",
      "_________________________________________________________________\n"
     ]
    }
   ],
   "source": [
    "model5.summary()"
   ]
  },
  {
   "cell_type": "code",
   "execution_count": 60,
   "metadata": {
    "colab": {
     "base_uri": "https://localhost:8080/",
     "height": 1000
    },
    "colab_type": "code",
    "id": "lvXUI89PWUcr",
    "outputId": "767307aa-ba57-45b3-c51b-91583fa5592c"
   },
   "outputs": [
    {
     "name": "stdout",
     "output_type": "stream",
     "text": [
      "Train on 42000 samples, validate on 60000 samples\n",
      "Epoch 1/100\n",
      "42000/42000 [==============================] - 2s 58us/sample - loss: 2.3150 - acc: 0.1844 - val_loss: 2.2163 - val_acc: 0.1867\n",
      "Epoch 2/100\n",
      "42000/42000 [==============================] - 2s 48us/sample - loss: 1.8823 - acc: 0.3717 - val_loss: 1.8685 - val_acc: 0.3833\n",
      "Epoch 3/100\n",
      "42000/42000 [==============================] - 2s 47us/sample - loss: 1.6338 - acc: 0.4850 - val_loss: 1.6083 - val_acc: 0.4873\n",
      "Epoch 4/100\n",
      "42000/42000 [==============================] - 2s 48us/sample - loss: 1.4471 - acc: 0.5612 - val_loss: 1.4532 - val_acc: 0.5435\n",
      "Epoch 5/100\n",
      "42000/42000 [==============================] - 2s 47us/sample - loss: 1.3017 - acc: 0.6110 - val_loss: 1.2819 - val_acc: 0.6060\n",
      "Epoch 6/100\n",
      "42000/42000 [==============================] - 2s 48us/sample - loss: 1.1888 - acc: 0.6459 - val_loss: 1.2110 - val_acc: 0.6357\n",
      "Epoch 7/100\n",
      "42000/42000 [==============================] - 2s 51us/sample - loss: 1.0931 - acc: 0.6720 - val_loss: 1.1470 - val_acc: 0.6414\n",
      "Epoch 8/100\n",
      "42000/42000 [==============================] - 2s 48us/sample - loss: 1.0188 - acc: 0.6929 - val_loss: 1.0641 - val_acc: 0.6710\n",
      "Epoch 9/100\n",
      "42000/42000 [==============================] - 2s 48us/sample - loss: 0.9576 - acc: 0.7099 - val_loss: 1.0080 - val_acc: 0.6921\n",
      "Epoch 10/100\n",
      "42000/42000 [==============================] - 2s 47us/sample - loss: 0.9052 - acc: 0.7238 - val_loss: 0.9584 - val_acc: 0.7056\n",
      "Epoch 11/100\n",
      "42000/42000 [==============================] - 2s 49us/sample - loss: 0.8609 - acc: 0.7344 - val_loss: 0.9839 - val_acc: 0.6924\n",
      "Epoch 12/100\n",
      "42000/42000 [==============================] - 2s 49us/sample - loss: 0.8205 - acc: 0.7494 - val_loss: 0.9355 - val_acc: 0.7078\n",
      "Epoch 13/100\n",
      "42000/42000 [==============================] - 2s 47us/sample - loss: 0.7844 - acc: 0.7591 - val_loss: 0.8979 - val_acc: 0.7123\n",
      "Epoch 14/100\n",
      "42000/42000 [==============================] - 2s 47us/sample - loss: 0.7555 - acc: 0.7667 - val_loss: 0.9690 - val_acc: 0.6953\n",
      "Epoch 15/100\n",
      "42000/42000 [==============================] - 2s 49us/sample - loss: 0.7297 - acc: 0.7736 - val_loss: 0.8284 - val_acc: 0.7423\n",
      "Epoch 16/100\n",
      "42000/42000 [==============================] - 2s 50us/sample - loss: 0.7034 - acc: 0.7813 - val_loss: 0.9007 - val_acc: 0.7136\n",
      "Epoch 17/100\n",
      "42000/42000 [==============================] - 2s 49us/sample - loss: 0.6805 - acc: 0.7895 - val_loss: 0.9803 - val_acc: 0.6925\n",
      "Epoch 18/100\n",
      "42000/42000 [==============================] - 2s 46us/sample - loss: 0.6578 - acc: 0.7969 - val_loss: 0.7991 - val_acc: 0.7457\n",
      "Epoch 19/100\n",
      "42000/42000 [==============================] - 2s 47us/sample - loss: 0.6425 - acc: 0.8005 - val_loss: 0.8517 - val_acc: 0.7338\n",
      "Epoch 20/100\n",
      "42000/42000 [==============================] - 2s 49us/sample - loss: 0.6255 - acc: 0.8049 - val_loss: 0.8117 - val_acc: 0.7400\n",
      "Epoch 21/100\n",
      "42000/42000 [==============================] - 2s 48us/sample - loss: 0.6085 - acc: 0.8114 - val_loss: 0.8065 - val_acc: 0.7500\n",
      "Epoch 22/100\n",
      "42000/42000 [==============================] - 2s 46us/sample - loss: 0.5910 - acc: 0.8164 - val_loss: 0.7252 - val_acc: 0.7730\n",
      "Epoch 23/100\n",
      "42000/42000 [==============================] - 2s 47us/sample - loss: 0.5801 - acc: 0.8195 - val_loss: 0.8067 - val_acc: 0.7415\n",
      "Epoch 24/100\n",
      "42000/42000 [==============================] - 2s 47us/sample - loss: 0.5632 - acc: 0.8253 - val_loss: 0.8137 - val_acc: 0.7422\n",
      "Epoch 25/100\n",
      "42000/42000 [==============================] - 2s 47us/sample - loss: 0.5505 - acc: 0.8272 - val_loss: 0.6932 - val_acc: 0.7826\n",
      "Epoch 26/100\n",
      "42000/42000 [==============================] - 2s 48us/sample - loss: 0.5378 - acc: 0.8322 - val_loss: 0.9460 - val_acc: 0.7073\n",
      "Epoch 27/100\n",
      "42000/42000 [==============================] - 2s 46us/sample - loss: 0.5254 - acc: 0.8360 - val_loss: 0.6978 - val_acc: 0.7786\n",
      "Epoch 28/100\n",
      "42000/42000 [==============================] - 2s 51us/sample - loss: 0.5168 - acc: 0.8379 - val_loss: 0.8921 - val_acc: 0.7368\n",
      "Epoch 29/100\n",
      "42000/42000 [==============================] - 2s 47us/sample - loss: 0.5062 - acc: 0.8424 - val_loss: 0.7901 - val_acc: 0.7526\n",
      "Epoch 30/100\n",
      "42000/42000 [==============================] - 2s 52us/sample - loss: 0.4920 - acc: 0.8462 - val_loss: 0.6657 - val_acc: 0.7909\n",
      "Epoch 31/100\n",
      "42000/42000 [==============================] - 2s 48us/sample - loss: 0.4873 - acc: 0.8475 - val_loss: 0.9750 - val_acc: 0.7089\n",
      "Epoch 32/100\n",
      "42000/42000 [==============================] - 2s 47us/sample - loss: 0.4793 - acc: 0.8509 - val_loss: 0.7757 - val_acc: 0.7625\n",
      "Epoch 33/100\n",
      "42000/42000 [==============================] - 2s 47us/sample - loss: 0.4699 - acc: 0.8526 - val_loss: 0.7678 - val_acc: 0.7598\n",
      "Epoch 34/100\n",
      "42000/42000 [==============================] - 2s 46us/sample - loss: 0.4629 - acc: 0.8545 - val_loss: 0.7930 - val_acc: 0.7597\n",
      "Epoch 35/100\n",
      "42000/42000 [==============================] - 2s 48us/sample - loss: 0.4515 - acc: 0.8596 - val_loss: 0.6978 - val_acc: 0.7844\n",
      "Epoch 36/100\n",
      "42000/42000 [==============================] - 2s 48us/sample - loss: 0.4392 - acc: 0.8636 - val_loss: 0.6710 - val_acc: 0.7926\n",
      "Epoch 37/100\n",
      "42000/42000 [==============================] - 2s 52us/sample - loss: 0.4332 - acc: 0.8650 - val_loss: 0.7249 - val_acc: 0.7742\n",
      "Epoch 38/100\n",
      "42000/42000 [==============================] - 2s 47us/sample - loss: 0.4249 - acc: 0.8675 - val_loss: 0.6876 - val_acc: 0.7842\n",
      "Epoch 39/100\n",
      "42000/42000 [==============================] - 2s 47us/sample - loss: 0.4179 - acc: 0.8695 - val_loss: 0.6177 - val_acc: 0.8071\n",
      "Epoch 40/100\n",
      "42000/42000 [==============================] - 2s 47us/sample - loss: 0.4102 - acc: 0.8732 - val_loss: 1.1939 - val_acc: 0.6915\n",
      "Epoch 41/100\n",
      "42000/42000 [==============================] - 2s 47us/sample - loss: 0.4061 - acc: 0.8729 - val_loss: 0.7878 - val_acc: 0.7606\n",
      "Epoch 42/100\n",
      "42000/42000 [==============================] - 2s 47us/sample - loss: 0.4005 - acc: 0.8746 - val_loss: 0.6239 - val_acc: 0.8039\n",
      "Epoch 43/100\n",
      "42000/42000 [==============================] - 2s 48us/sample - loss: 0.3936 - acc: 0.8773 - val_loss: 0.6273 - val_acc: 0.8059\n",
      "Epoch 44/100\n",
      "42000/42000 [==============================] - 2s 46us/sample - loss: 0.3872 - acc: 0.8802 - val_loss: 0.5841 - val_acc: 0.8211\n",
      "Epoch 45/100\n",
      "42000/42000 [==============================] - 2s 48us/sample - loss: 0.3789 - acc: 0.8835 - val_loss: 0.5863 - val_acc: 0.8203\n",
      "Epoch 46/100\n",
      "42000/42000 [==============================] - 2s 50us/sample - loss: 0.3709 - acc: 0.8839 - val_loss: 0.6137 - val_acc: 0.8091\n",
      "Epoch 47/100\n",
      "42000/42000 [==============================] - 2s 47us/sample - loss: 0.3669 - acc: 0.8873 - val_loss: 0.6152 - val_acc: 0.8077\n",
      "Epoch 48/100\n",
      "42000/42000 [==============================] - 2s 46us/sample - loss: 0.3640 - acc: 0.8870 - val_loss: 0.6704 - val_acc: 0.7876\n",
      "Epoch 49/100\n",
      "42000/42000 [==============================] - 2s 48us/sample - loss: 0.3575 - acc: 0.8888 - val_loss: 0.6125 - val_acc: 0.8124\n",
      "Epoch 50/100\n",
      "42000/42000 [==============================] - 2s 49us/sample - loss: 0.3488 - acc: 0.8913 - val_loss: 0.7482 - val_acc: 0.7721\n",
      "Epoch 51/100\n",
      "42000/42000 [==============================] - 2s 46us/sample - loss: 0.3417 - acc: 0.8925 - val_loss: 0.6436 - val_acc: 0.8008\n",
      "Epoch 52/100\n",
      "42000/42000 [==============================] - 2s 47us/sample - loss: 0.3388 - acc: 0.8943 - val_loss: 0.6630 - val_acc: 0.8002\n",
      "Epoch 53/100\n",
      "42000/42000 [==============================] - 2s 49us/sample - loss: 0.3363 - acc: 0.8953 - val_loss: 1.0303 - val_acc: 0.7077\n",
      "Epoch 54/100\n",
      "42000/42000 [==============================] - 2s 49us/sample - loss: 0.3302 - acc: 0.8977 - val_loss: 0.6981 - val_acc: 0.7801\n",
      "Epoch 55/100\n",
      "42000/42000 [==============================] - 2s 48us/sample - loss: 0.3246 - acc: 0.8993 - val_loss: 0.7736 - val_acc: 0.7778\n",
      "Epoch 56/100\n",
      "42000/42000 [==============================] - 2s 48us/sample - loss: 0.3225 - acc: 0.9000 - val_loss: 0.9034 - val_acc: 0.7348\n",
      "Epoch 57/100\n",
      "42000/42000 [==============================] - 2s 48us/sample - loss: 0.3214 - acc: 0.9002 - val_loss: 0.9498 - val_acc: 0.7229\n",
      "Epoch 58/100\n",
      "42000/42000 [==============================] - 2s 49us/sample - loss: 0.3085 - acc: 0.9051 - val_loss: 0.5623 - val_acc: 0.8292\n",
      "Epoch 59/100\n",
      "42000/42000 [==============================] - 2s 50us/sample - loss: 0.3056 - acc: 0.9064 - val_loss: 0.9083 - val_acc: 0.7462\n",
      "Epoch 60/100\n",
      "42000/42000 [==============================] - 2s 49us/sample - loss: 0.3017 - acc: 0.9069 - val_loss: 0.6753 - val_acc: 0.7982\n",
      "Epoch 61/100\n",
      "42000/42000 [==============================] - 2s 47us/sample - loss: 0.2960 - acc: 0.9097 - val_loss: 0.8200 - val_acc: 0.7688\n",
      "Epoch 62/100\n",
      "42000/42000 [==============================] - 2s 47us/sample - loss: 0.2921 - acc: 0.9085 - val_loss: 0.7007 - val_acc: 0.7875\n",
      "Epoch 63/100\n",
      "42000/42000 [==============================] - 2s 46us/sample - loss: 0.2870 - acc: 0.9111 - val_loss: 0.5730 - val_acc: 0.8280\n",
      "Epoch 64/100\n",
      "42000/42000 [==============================] - 2s 49us/sample - loss: 0.2868 - acc: 0.9124 - val_loss: 0.6654 - val_acc: 0.8033\n",
      "Epoch 65/100\n",
      "42000/42000 [==============================] - 2s 48us/sample - loss: 0.2802 - acc: 0.9140 - val_loss: 0.9222 - val_acc: 0.7542\n",
      "Epoch 66/100\n",
      "42000/42000 [==============================] - 2s 49us/sample - loss: 0.2723 - acc: 0.9172 - val_loss: 0.7212 - val_acc: 0.7878\n",
      "Epoch 67/100\n",
      "42000/42000 [==============================] - 2s 49us/sample - loss: 0.2724 - acc: 0.9156 - val_loss: 0.5668 - val_acc: 0.8287\n",
      "Epoch 68/100\n",
      "42000/42000 [==============================] - 2s 46us/sample - loss: 0.2662 - acc: 0.9178 - val_loss: 0.6644 - val_acc: 0.8062\n",
      "Epoch 69/100\n",
      "42000/42000 [==============================] - 2s 47us/sample - loss: 0.2692 - acc: 0.9163 - val_loss: 0.5836 - val_acc: 0.8216\n",
      "Epoch 70/100\n",
      "42000/42000 [==============================] - 2s 49us/sample - loss: 0.2586 - acc: 0.9201 - val_loss: 0.6806 - val_acc: 0.7996\n",
      "Epoch 71/100\n",
      "42000/42000 [==============================] - 2s 50us/sample - loss: 0.2588 - acc: 0.9211 - val_loss: 0.6559 - val_acc: 0.8069\n",
      "Epoch 72/100\n",
      "42000/42000 [==============================] - 2s 47us/sample - loss: 0.2556 - acc: 0.9227 - val_loss: 0.6227 - val_acc: 0.8114\n",
      "Epoch 73/100\n",
      "42000/42000 [==============================] - 2s 47us/sample - loss: 0.2572 - acc: 0.9206 - val_loss: 0.5525 - val_acc: 0.8367\n",
      "Epoch 74/100\n",
      "42000/42000 [==============================] - 2s 47us/sample - loss: 0.2480 - acc: 0.9237 - val_loss: 1.9892 - val_acc: 0.6235\n",
      "Epoch 75/100\n",
      "42000/42000 [==============================] - 2s 50us/sample - loss: 0.2453 - acc: 0.9242 - val_loss: 0.9709 - val_acc: 0.7505\n",
      "Epoch 76/100\n",
      "42000/42000 [==============================] - 2s 48us/sample - loss: 0.2417 - acc: 0.9260 - val_loss: 0.5700 - val_acc: 0.8296\n",
      "Epoch 77/100\n",
      "42000/42000 [==============================] - 2s 47us/sample - loss: 0.2377 - acc: 0.9266 - val_loss: 0.5419 - val_acc: 0.8381\n",
      "Epoch 78/100\n",
      "42000/42000 [==============================] - 2s 46us/sample - loss: 0.2350 - acc: 0.9288 - val_loss: 0.7219 - val_acc: 0.7956\n",
      "Epoch 79/100\n",
      "42000/42000 [==============================] - 2s 47us/sample - loss: 0.2356 - acc: 0.9276 - val_loss: 0.6147 - val_acc: 0.8211\n",
      "Epoch 80/100\n",
      "42000/42000 [==============================] - 2s 48us/sample - loss: 0.2337 - acc: 0.9287 - val_loss: 0.6259 - val_acc: 0.8096\n",
      "Epoch 81/100\n",
      "42000/42000 [==============================] - 2s 46us/sample - loss: 0.2274 - acc: 0.9311 - val_loss: 0.5695 - val_acc: 0.8381\n",
      "Epoch 82/100\n",
      "42000/42000 [==============================] - 2s 47us/sample - loss: 0.2224 - acc: 0.9329 - val_loss: 0.5421 - val_acc: 0.8424\n",
      "Epoch 83/100\n",
      "42000/42000 [==============================] - 2s 47us/sample - loss: 0.2269 - acc: 0.9294 - val_loss: 0.8632 - val_acc: 0.7679\n",
      "Epoch 84/100\n",
      "42000/42000 [==============================] - 2s 47us/sample - loss: 0.2149 - acc: 0.9343 - val_loss: 0.6775 - val_acc: 0.8163\n",
      "Epoch 85/100\n",
      "42000/42000 [==============================] - 2s 49us/sample - loss: 0.2183 - acc: 0.9321 - val_loss: 0.6102 - val_acc: 0.8263\n",
      "Epoch 86/100\n",
      "42000/42000 [==============================] - 2s 47us/sample - loss: 0.2136 - acc: 0.9340 - val_loss: 0.6119 - val_acc: 0.8273\n",
      "Epoch 87/100\n",
      "42000/42000 [==============================] - 2s 48us/sample - loss: 0.2130 - acc: 0.9346 - val_loss: 0.9060 - val_acc: 0.7550\n",
      "Epoch 88/100\n",
      "42000/42000 [==============================] - 2s 49us/sample - loss: 0.2108 - acc: 0.9350 - val_loss: 0.7187 - val_acc: 0.8004\n",
      "Epoch 89/100\n",
      "42000/42000 [==============================] - 2s 49us/sample - loss: 0.2061 - acc: 0.9364 - val_loss: 0.6345 - val_acc: 0.8180\n",
      "Epoch 90/100\n",
      "42000/42000 [==============================] - 2s 48us/sample - loss: 0.2057 - acc: 0.9381 - val_loss: 0.4849 - val_acc: 0.8626\n",
      "Epoch 91/100\n",
      "42000/42000 [==============================] - 2s 47us/sample - loss: 0.1968 - acc: 0.9413 - val_loss: 0.6472 - val_acc: 0.8304\n",
      "Epoch 92/100\n",
      "42000/42000 [==============================] - 2s 48us/sample - loss: 0.1917 - acc: 0.9424 - val_loss: 0.6683 - val_acc: 0.8133\n",
      "Epoch 93/100\n",
      "42000/42000 [==============================] - 2s 47us/sample - loss: 0.1934 - acc: 0.9407 - val_loss: 0.7798 - val_acc: 0.7920\n",
      "Epoch 94/100\n",
      "42000/42000 [==============================] - 2s 49us/sample - loss: 0.1913 - acc: 0.9417 - val_loss: 0.7867 - val_acc: 0.7778\n",
      "Epoch 95/100\n",
      "42000/42000 [==============================] - 2s 48us/sample - loss: 0.1907 - acc: 0.9420 - val_loss: 0.6375 - val_acc: 0.8199\n",
      "Epoch 96/100\n",
      "42000/42000 [==============================] - 2s 51us/sample - loss: 0.1893 - acc: 0.9419 - val_loss: 0.6015 - val_acc: 0.8279\n",
      "Epoch 97/100\n",
      "42000/42000 [==============================] - 2s 48us/sample - loss: 0.1853 - acc: 0.9440 - val_loss: 0.5841 - val_acc: 0.8378\n",
      "Epoch 98/100\n",
      "42000/42000 [==============================] - 2s 47us/sample - loss: 0.1819 - acc: 0.9442 - val_loss: 0.7618 - val_acc: 0.8002\n",
      "Epoch 99/100\n",
      "42000/42000 [==============================] - 2s 46us/sample - loss: 0.1804 - acc: 0.9435 - val_loss: 0.7315 - val_acc: 0.8016\n",
      "Epoch 100/100\n",
      "42000/42000 [==============================] - 2s 50us/sample - loss: 0.1793 - acc: 0.9457 - val_loss: 0.7381 - val_acc: 0.8078\n"
     ]
    }
   ],
   "source": [
    "# compiling the neural network classifier, sgd optimizer\n",
    "sgd = optimizers.SGD(lr = 0.01)\n",
    "# Adding activation function - softmax for multiclass classification\n",
    "model5.compile(optimizer = sgd, loss = 'categorical_crossentropy', metrics = ['accuracy'])\n",
    "\n",
    "# Fitting the neural network for training\n",
    "history = model5.fit(X_train, y_train, validation_data = (X_val, y_val), batch_size = 200, epochs = 100, verbose = 1)"
   ]
  },
  {
   "cell_type": "code",
   "execution_count": 61,
   "metadata": {
    "colab": {
     "base_uri": "https://localhost:8080/",
     "height": 88
    },
    "colab_type": "code",
    "id": "8jMKdIGlU0eG",
    "outputId": "6680e992-5559-4379-de7c-2b80fa37a638"
   },
   "outputs": [
    {
     "name": "stdout",
     "output_type": "stream",
     "text": [
      "NN with batch normalization\n",
      "--------------------------------------------------------------------------------\n",
      "60000/60000 [==============================] - 4s 68us/sample - loss: 0.7381 - acc: 0.8078\n",
      "Validation accuracy: 80.78\n"
     ]
    }
   ],
   "source": [
    "print('NN with batch normalization'); print('--'*40)\n",
    "results5 = model5.evaluate(X_val, y_val)\n",
    "print('Validation accuracy: {}'.format(round(results5[1]*100, 2), '%'))"
   ]
  },
  {
   "cell_type": "markdown",
   "metadata": {
    "colab_type": "text",
    "id": "hvExZp5EXHFf"
   },
   "source": [
    "#### NN model, relu activations, Adam optimizers with weight initializers and batch normalization"
   ]
  },
  {
   "cell_type": "code",
   "execution_count": 62,
   "metadata": {
    "colab": {
     "base_uri": "https://localhost:8080/",
     "height": 1000
    },
    "colab_type": "code",
    "id": "rws18ePgW5HZ",
    "outputId": "1761ca54-9f96-43db-9705-dd67994d8d5a"
   },
   "outputs": [
    {
     "name": "stdout",
     "output_type": "stream",
     "text": [
      "Train on 42000 samples, validate on 60000 samples\n",
      "Epoch 1/100\n",
      "42000/42000 [==============================] - 3s 62us/sample - loss: 0.7504 - acc: 0.7711 - val_loss: 3.2994 - val_acc: 0.3926\n",
      "Epoch 2/100\n",
      "42000/42000 [==============================] - 2s 55us/sample - loss: 0.5840 - acc: 0.8120 - val_loss: 1.2989 - val_acc: 0.5782\n",
      "Epoch 3/100\n",
      "42000/42000 [==============================] - 2s 50us/sample - loss: 0.5254 - acc: 0.8286 - val_loss: 1.5073 - val_acc: 0.5588\n",
      "Epoch 4/100\n",
      "42000/42000 [==============================] - 2s 50us/sample - loss: 0.4785 - acc: 0.8432 - val_loss: 1.4805 - val_acc: 0.5900\n",
      "Epoch 5/100\n",
      "42000/42000 [==============================] - 2s 48us/sample - loss: 0.4628 - acc: 0.8490 - val_loss: 1.5200 - val_acc: 0.5520\n",
      "Epoch 6/100\n",
      "42000/42000 [==============================] - 2s 49us/sample - loss: 0.4416 - acc: 0.8556 - val_loss: 1.1569 - val_acc: 0.6578\n",
      "Epoch 7/100\n",
      "42000/42000 [==============================] - 2s 49us/sample - loss: 0.4216 - acc: 0.8632 - val_loss: 1.1616 - val_acc: 0.6521\n",
      "Epoch 8/100\n",
      "42000/42000 [==============================] - 2s 48us/sample - loss: 0.3979 - acc: 0.8718 - val_loss: 1.0359 - val_acc: 0.6737\n",
      "Epoch 9/100\n",
      "42000/42000 [==============================] - 2s 50us/sample - loss: 0.3967 - acc: 0.8716 - val_loss: 1.4157 - val_acc: 0.6081\n",
      "Epoch 10/100\n",
      "42000/42000 [==============================] - 2s 49us/sample - loss: 0.3868 - acc: 0.8749 - val_loss: 1.1907 - val_acc: 0.6233\n",
      "Epoch 11/100\n",
      "42000/42000 [==============================] - 2s 50us/sample - loss: 0.3657 - acc: 0.8803 - val_loss: 1.0921 - val_acc: 0.6475\n",
      "Epoch 12/100\n",
      "42000/42000 [==============================] - 2s 50us/sample - loss: 0.3518 - acc: 0.8872 - val_loss: 1.0731 - val_acc: 0.6741\n",
      "Epoch 13/100\n",
      "42000/42000 [==============================] - 2s 49us/sample - loss: 0.3442 - acc: 0.8874 - val_loss: 1.1014 - val_acc: 0.6781\n",
      "Epoch 14/100\n",
      "42000/42000 [==============================] - 2s 54us/sample - loss: 0.3349 - acc: 0.8899 - val_loss: 1.2347 - val_acc: 0.6433\n",
      "Epoch 15/100\n",
      "42000/42000 [==============================] - 2s 50us/sample - loss: 0.3198 - acc: 0.8963 - val_loss: 1.0597 - val_acc: 0.6864\n",
      "Epoch 16/100\n",
      "42000/42000 [==============================] - 2s 52us/sample - loss: 0.3151 - acc: 0.8965 - val_loss: 1.3385 - val_acc: 0.6374\n",
      "Epoch 17/100\n",
      "42000/42000 [==============================] - 2s 49us/sample - loss: 0.3006 - acc: 0.9024 - val_loss: 1.2399 - val_acc: 0.6477\n",
      "Epoch 18/100\n",
      "42000/42000 [==============================] - 2s 51us/sample - loss: 0.2937 - acc: 0.9026 - val_loss: 1.7937 - val_acc: 0.6011\n",
      "Epoch 19/100\n",
      "42000/42000 [==============================] - 2s 50us/sample - loss: 0.2807 - acc: 0.9075 - val_loss: 0.8963 - val_acc: 0.7358\n",
      "Epoch 20/100\n",
      "42000/42000 [==============================] - 2s 49us/sample - loss: 0.2783 - acc: 0.9098 - val_loss: 0.9110 - val_acc: 0.7418\n",
      "Epoch 21/100\n",
      "42000/42000 [==============================] - 2s 50us/sample - loss: 0.2730 - acc: 0.9120 - val_loss: 0.9502 - val_acc: 0.7330\n",
      "Epoch 22/100\n",
      "42000/42000 [==============================] - 2s 52us/sample - loss: 0.2706 - acc: 0.9109 - val_loss: 0.9985 - val_acc: 0.7336\n",
      "Epoch 23/100\n",
      "42000/42000 [==============================] - 2s 50us/sample - loss: 0.2596 - acc: 0.9153 - val_loss: 1.4751 - val_acc: 0.6206\n",
      "Epoch 24/100\n",
      "42000/42000 [==============================] - 2s 48us/sample - loss: 0.2459 - acc: 0.9192 - val_loss: 1.0131 - val_acc: 0.7315\n",
      "Epoch 25/100\n",
      "42000/42000 [==============================] - 2s 49us/sample - loss: 0.2410 - acc: 0.9215 - val_loss: 1.3443 - val_acc: 0.6587\n",
      "Epoch 26/100\n",
      "42000/42000 [==============================] - 2s 50us/sample - loss: 0.2471 - acc: 0.9187 - val_loss: 1.0037 - val_acc: 0.7185\n",
      "Epoch 27/100\n",
      "42000/42000 [==============================] - 2s 50us/sample - loss: 0.2468 - acc: 0.9188 - val_loss: 0.8069 - val_acc: 0.7687\n",
      "Epoch 28/100\n",
      "42000/42000 [==============================] - 2s 48us/sample - loss: 0.2256 - acc: 0.9253 - val_loss: 0.7956 - val_acc: 0.7738\n",
      "Epoch 29/100\n",
      "42000/42000 [==============================] - 2s 49us/sample - loss: 0.2232 - acc: 0.9268 - val_loss: 0.9224 - val_acc: 0.7399\n",
      "Epoch 30/100\n",
      "42000/42000 [==============================] - 2s 50us/sample - loss: 0.2189 - acc: 0.9274 - val_loss: 0.8176 - val_acc: 0.7669\n",
      "Epoch 31/100\n",
      "42000/42000 [==============================] - 2s 53us/sample - loss: 0.2169 - acc: 0.9281 - val_loss: 0.8483 - val_acc: 0.7552\n",
      "Epoch 32/100\n",
      "42000/42000 [==============================] - 2s 50us/sample - loss: 0.2185 - acc: 0.9276 - val_loss: 0.9837 - val_acc: 0.7370\n",
      "Epoch 33/100\n",
      "42000/42000 [==============================] - 2s 48us/sample - loss: 0.2079 - acc: 0.9323 - val_loss: 0.8542 - val_acc: 0.7669\n",
      "Epoch 34/100\n",
      "42000/42000 [==============================] - 2s 50us/sample - loss: 0.2026 - acc: 0.9330 - val_loss: 0.9887 - val_acc: 0.7467\n",
      "Epoch 35/100\n",
      "42000/42000 [==============================] - 2s 48us/sample - loss: 0.1968 - acc: 0.9350 - val_loss: 1.0074 - val_acc: 0.7355\n",
      "Epoch 36/100\n",
      "42000/42000 [==============================] - 2s 50us/sample - loss: 0.1947 - acc: 0.9348 - val_loss: 0.8603 - val_acc: 0.7645\n",
      "Epoch 37/100\n",
      "42000/42000 [==============================] - 2s 47us/sample - loss: 0.1904 - acc: 0.9379 - val_loss: 0.7189 - val_acc: 0.7949\n",
      "Epoch 38/100\n",
      "42000/42000 [==============================] - 2s 49us/sample - loss: 0.1789 - acc: 0.9404 - val_loss: 0.9522 - val_acc: 0.7534\n",
      "Epoch 39/100\n",
      "42000/42000 [==============================] - 2s 48us/sample - loss: 0.1776 - acc: 0.9414 - val_loss: 0.7963 - val_acc: 0.8006\n",
      "Epoch 40/100\n",
      "42000/42000 [==============================] - 2s 50us/sample - loss: 0.1767 - acc: 0.9409 - val_loss: 0.9288 - val_acc: 0.7571\n",
      "Epoch 41/100\n",
      "42000/42000 [==============================] - 2s 50us/sample - loss: 0.1766 - acc: 0.9411 - val_loss: 1.1659 - val_acc: 0.7217\n",
      "Epoch 42/100\n",
      "42000/42000 [==============================] - 2s 48us/sample - loss: 0.1626 - acc: 0.9458 - val_loss: 0.9868 - val_acc: 0.7480\n",
      "Epoch 43/100\n",
      "42000/42000 [==============================] - 2s 51us/sample - loss: 0.1718 - acc: 0.9429 - val_loss: 0.7413 - val_acc: 0.7992\n",
      "Epoch 44/100\n",
      "42000/42000 [==============================] - 2s 51us/sample - loss: 0.1626 - acc: 0.9460 - val_loss: 1.3095 - val_acc: 0.6971\n",
      "Epoch 45/100\n",
      "42000/42000 [==============================] - 2s 50us/sample - loss: 0.1561 - acc: 0.9485 - val_loss: 0.8414 - val_acc: 0.7886\n",
      "Epoch 46/100\n",
      "42000/42000 [==============================] - 2s 50us/sample - loss: 0.1580 - acc: 0.9470 - val_loss: 0.7729 - val_acc: 0.8021\n",
      "Epoch 47/100\n",
      "42000/42000 [==============================] - 2s 49us/sample - loss: 0.1604 - acc: 0.9472 - val_loss: 1.3858 - val_acc: 0.7020\n",
      "Epoch 48/100\n",
      "42000/42000 [==============================] - 2s 49us/sample - loss: 0.1538 - acc: 0.9488 - val_loss: 1.4758 - val_acc: 0.6984\n",
      "Epoch 49/100\n",
      "42000/42000 [==============================] - 2s 49us/sample - loss: 0.1425 - acc: 0.9529 - val_loss: 1.3721 - val_acc: 0.7090\n",
      "Epoch 50/100\n",
      "42000/42000 [==============================] - 2s 50us/sample - loss: 0.1504 - acc: 0.9494 - val_loss: 1.0456 - val_acc: 0.7430\n",
      "Epoch 51/100\n",
      "42000/42000 [==============================] - 2s 52us/sample - loss: 0.1506 - acc: 0.9496 - val_loss: 1.0405 - val_acc: 0.7593\n",
      "Epoch 52/100\n",
      "42000/42000 [==============================] - 2s 48us/sample - loss: 0.1414 - acc: 0.9524 - val_loss: 0.8466 - val_acc: 0.7840\n",
      "Epoch 53/100\n",
      "42000/42000 [==============================] - 2s 48us/sample - loss: 0.1373 - acc: 0.9538 - val_loss: 0.9790 - val_acc: 0.7692\n",
      "Epoch 54/100\n",
      "42000/42000 [==============================] - 2s 49us/sample - loss: 0.1469 - acc: 0.9508 - val_loss: 0.6021 - val_acc: 0.8406\n",
      "Epoch 55/100\n",
      "42000/42000 [==============================] - 2s 48us/sample - loss: 0.1327 - acc: 0.9560 - val_loss: 1.0881 - val_acc: 0.7641\n",
      "Epoch 56/100\n",
      "42000/42000 [==============================] - 2s 49us/sample - loss: 0.1317 - acc: 0.9556 - val_loss: 1.0091 - val_acc: 0.7638\n",
      "Epoch 57/100\n",
      "42000/42000 [==============================] - 2s 48us/sample - loss: 0.1291 - acc: 0.9558 - val_loss: 1.0545 - val_acc: 0.7565\n",
      "Epoch 58/100\n",
      "42000/42000 [==============================] - 2s 48us/sample - loss: 0.1291 - acc: 0.9569 - val_loss: 0.6812 - val_acc: 0.8264\n",
      "Epoch 59/100\n",
      "42000/42000 [==============================] - 2s 50us/sample - loss: 0.1252 - acc: 0.9581 - val_loss: 0.8298 - val_acc: 0.8017\n",
      "Epoch 60/100\n",
      "42000/42000 [==============================] - 2s 51us/sample - loss: 0.1217 - acc: 0.9590 - val_loss: 1.1110 - val_acc: 0.7636\n",
      "Epoch 61/100\n",
      "42000/42000 [==============================] - 2s 51us/sample - loss: 0.1219 - acc: 0.9591 - val_loss: 0.8744 - val_acc: 0.7934\n",
      "Epoch 62/100\n",
      "42000/42000 [==============================] - 2s 51us/sample - loss: 0.1249 - acc: 0.9574 - val_loss: 1.2907 - val_acc: 0.7352\n",
      "Epoch 63/100\n",
      "42000/42000 [==============================] - 2s 47us/sample - loss: 0.1188 - acc: 0.9600 - val_loss: 0.9428 - val_acc: 0.7811\n",
      "Epoch 64/100\n",
      "42000/42000 [==============================] - 2s 50us/sample - loss: 0.1189 - acc: 0.9592 - val_loss: 1.0607 - val_acc: 0.7717\n",
      "Epoch 65/100\n",
      "42000/42000 [==============================] - 2s 48us/sample - loss: 0.1173 - acc: 0.9614 - val_loss: 0.8250 - val_acc: 0.8036\n",
      "Epoch 66/100\n",
      "42000/42000 [==============================] - 2s 49us/sample - loss: 0.1102 - acc: 0.9630 - val_loss: 0.8915 - val_acc: 0.7794\n",
      "Epoch 67/100\n",
      "42000/42000 [==============================] - 2s 49us/sample - loss: 0.1150 - acc: 0.9620 - val_loss: 0.8700 - val_acc: 0.7963\n",
      "Epoch 68/100\n",
      "42000/42000 [==============================] - 2s 50us/sample - loss: 0.1051 - acc: 0.9645 - val_loss: 0.8872 - val_acc: 0.7971\n",
      "Epoch 69/100\n",
      "42000/42000 [==============================] - 2s 49us/sample - loss: 0.1120 - acc: 0.9622 - val_loss: 1.2268 - val_acc: 0.7523\n",
      "Epoch 70/100\n",
      "42000/42000 [==============================] - 2s 49us/sample - loss: 0.1117 - acc: 0.9622 - val_loss: 0.8054 - val_acc: 0.8112\n",
      "Epoch 71/100\n",
      "42000/42000 [==============================] - 2s 53us/sample - loss: 0.1154 - acc: 0.9614 - val_loss: 0.8851 - val_acc: 0.7975\n",
      "Epoch 72/100\n",
      "42000/42000 [==============================] - 2s 50us/sample - loss: 0.1071 - acc: 0.9640 - val_loss: 1.2763 - val_acc: 0.7354\n",
      "Epoch 73/100\n",
      "42000/42000 [==============================] - 2s 53us/sample - loss: 0.1113 - acc: 0.9617 - val_loss: 1.0526 - val_acc: 0.7878\n",
      "Epoch 74/100\n",
      "42000/42000 [==============================] - 2s 50us/sample - loss: 0.0973 - acc: 0.9672 - val_loss: 0.9450 - val_acc: 0.7733\n",
      "Epoch 75/100\n",
      "42000/42000 [==============================] - 2s 49us/sample - loss: 0.1012 - acc: 0.9657 - val_loss: 1.3132 - val_acc: 0.7354\n",
      "Epoch 76/100\n",
      "42000/42000 [==============================] - 2s 48us/sample - loss: 0.1073 - acc: 0.9642 - val_loss: 1.2652 - val_acc: 0.7547\n",
      "Epoch 77/100\n",
      "42000/42000 [==============================] - 2s 50us/sample - loss: 0.0974 - acc: 0.9671 - val_loss: 0.6400 - val_acc: 0.8382\n",
      "Epoch 78/100\n",
      "42000/42000 [==============================] - 2s 50us/sample - loss: 0.0929 - acc: 0.9692 - val_loss: 1.3082 - val_acc: 0.7578\n",
      "Epoch 79/100\n",
      "42000/42000 [==============================] - 2s 48us/sample - loss: 0.0951 - acc: 0.9686 - val_loss: 0.6770 - val_acc: 0.8472\n",
      "Epoch 80/100\n",
      "42000/42000 [==============================] - 2s 52us/sample - loss: 0.0961 - acc: 0.9680 - val_loss: 0.8655 - val_acc: 0.8092\n",
      "Epoch 81/100\n",
      "42000/42000 [==============================] - 2s 50us/sample - loss: 0.0991 - acc: 0.9665 - val_loss: 0.8122 - val_acc: 0.8212\n",
      "Epoch 82/100\n",
      "42000/42000 [==============================] - 2s 49us/sample - loss: 0.0931 - acc: 0.9688 - val_loss: 0.7419 - val_acc: 0.8227\n",
      "Epoch 83/100\n",
      "42000/42000 [==============================] - 2s 49us/sample - loss: 0.0910 - acc: 0.9695 - val_loss: 1.1053 - val_acc: 0.7612\n",
      "Epoch 84/100\n",
      "42000/42000 [==============================] - 2s 49us/sample - loss: 0.1015 - acc: 0.9658 - val_loss: 0.8460 - val_acc: 0.8165\n",
      "Epoch 85/100\n",
      "42000/42000 [==============================] - 2s 49us/sample - loss: 0.0871 - acc: 0.9707 - val_loss: 0.8258 - val_acc: 0.8185\n",
      "Epoch 86/100\n",
      "42000/42000 [==============================] - 2s 48us/sample - loss: 0.0931 - acc: 0.9679 - val_loss: 0.7424 - val_acc: 0.8282\n",
      "Epoch 87/100\n",
      "42000/42000 [==============================] - 2s 50us/sample - loss: 0.0896 - acc: 0.9692 - val_loss: 1.8734 - val_acc: 0.7012\n",
      "Epoch 88/100\n",
      "42000/42000 [==============================] - 2s 48us/sample - loss: 0.0949 - acc: 0.9678 - val_loss: 0.9185 - val_acc: 0.7866\n",
      "Epoch 89/100\n",
      "42000/42000 [==============================] - 2s 54us/sample - loss: 0.0945 - acc: 0.9676 - val_loss: 1.1041 - val_acc: 0.7891\n",
      "Epoch 90/100\n",
      "42000/42000 [==============================] - 2s 50us/sample - loss: 0.0850 - acc: 0.9713 - val_loss: 1.0702 - val_acc: 0.7694\n",
      "Epoch 91/100\n",
      "42000/42000 [==============================] - 2s 50us/sample - loss: 0.0888 - acc: 0.9695 - val_loss: 0.8052 - val_acc: 0.8224\n",
      "Epoch 92/100\n",
      "42000/42000 [==============================] - 2s 49us/sample - loss: 0.0860 - acc: 0.9713 - val_loss: 0.7990 - val_acc: 0.8161\n",
      "Epoch 93/100\n",
      "42000/42000 [==============================] - 2s 50us/sample - loss: 0.0729 - acc: 0.9757 - val_loss: 1.1168 - val_acc: 0.7737\n",
      "Epoch 94/100\n",
      "42000/42000 [==============================] - 2s 50us/sample - loss: 0.0783 - acc: 0.9731 - val_loss: 0.7263 - val_acc: 0.8390\n",
      "Epoch 95/100\n",
      "42000/42000 [==============================] - 2s 49us/sample - loss: 0.0854 - acc: 0.9707 - val_loss: 0.6956 - val_acc: 0.8449\n",
      "Epoch 96/100\n",
      "42000/42000 [==============================] - 2s 49us/sample - loss: 0.0763 - acc: 0.9735 - val_loss: 1.0002 - val_acc: 0.8003\n",
      "Epoch 97/100\n",
      "42000/42000 [==============================] - 2s 50us/sample - loss: 0.0863 - acc: 0.9700 - val_loss: 0.9083 - val_acc: 0.8045\n",
      "Epoch 98/100\n",
      "42000/42000 [==============================] - 2s 51us/sample - loss: 0.0833 - acc: 0.9722 - val_loss: 1.1478 - val_acc: 0.7791\n",
      "Epoch 99/100\n",
      "42000/42000 [==============================] - 2s 49us/sample - loss: 0.0819 - acc: 0.9722 - val_loss: 0.9367 - val_acc: 0.8083\n",
      "Epoch 100/100\n",
      "42000/42000 [==============================] - 2s 52us/sample - loss: 0.0795 - acc: 0.9729 - val_loss: 1.1002 - val_acc: 0.7901\n"
     ]
    }
   ],
   "source": [
    "# compiling the neural network classifier, adam optimizer\n",
    "adam = optimizers.Adam(lr = 0.001)\n",
    "# Adding activation function - softmax for multiclass classification\n",
    "model5.compile(optimizer = adam, loss = 'categorical_crossentropy', metrics = ['accuracy'])\n",
    "\n",
    "# Fitting the neural network for training\n",
    "history = model5.fit(X_train, y_train, validation_data = (X_val, y_val), batch_size = 200, epochs = 100, verbose = 1)"
   ]
  },
  {
   "cell_type": "code",
   "execution_count": 63,
   "metadata": {
    "colab": {
     "base_uri": "https://localhost:8080/",
     "height": 88
    },
    "colab_type": "code",
    "id": "x612tS1vXAfv",
    "outputId": "f11fc93f-16ff-47dd-865b-972c3e338684"
   },
   "outputs": [
    {
     "name": "stdout",
     "output_type": "stream",
     "text": [
      "NN with batch normalization\n",
      "--------------------------------------------------------------------------------\n",
      "60000/60000 [==============================] - 4s 68us/sample - loss: 1.1002 - acc: 0.7901\n",
      "Validation accuracy: 79.01\n"
     ]
    }
   ],
   "source": [
    "print('NN with batch normalization'); print('--'*40)\n",
    "results5 = model5.evaluate(X_val, y_val)\n",
    "print('Validation accuracy: {}'.format(round(results5[1]*100, 2), '%'))"
   ]
  },
  {
   "cell_type": "markdown",
   "metadata": {
    "colab_type": "text",
    "id": "zlIflBua6Hie"
   },
   "source": [
    "<a id='o7'></a>\n",
    "##### Observation 7 - Batch Normalization\n",
    "* Batch normalization didn't result in improvement of score.\n",
    "* Relu activations, changing number of activators, Adam optimizers achieved the best score.\n",
    "* Next, let's try batch normalization with dropout."
   ]
  },
  {
   "cell_type": "markdown",
   "metadata": {
    "colab_type": "text",
    "id": "04uo_AzWTq5X"
   },
   "source": [
    "<a id='Dropout'></a>\n",
    "### Dropout"
   ]
  },
  {
   "cell_type": "markdown",
   "metadata": {
    "colab_type": "text",
    "id": "smSh8h6RZthm"
   },
   "source": [
    "#### NN model, relu activations, SGD optimizers with weight initializers,  batch normalization and dropout"
   ]
  },
  {
   "cell_type": "code",
   "execution_count": 64,
   "metadata": {
    "colab": {
     "base_uri": "https://localhost:8080/",
     "height": 52
    },
    "colab_type": "code",
    "id": "xq5p41MtNvui",
    "outputId": "8c1d1307-fc95-40ba-cfdd-e4733b432c15"
   },
   "outputs": [
    {
     "name": "stdout",
     "output_type": "stream",
     "text": [
      "NN model with dropout - sgd optimizer\n",
      "--------------------------------------------------------------------------------\n"
     ]
    }
   ],
   "source": [
    "print('NN model with dropout - sgd optimizer'); print('--'*40)\n",
    "# Initialize the neural network classifier\n",
    "model6 = Sequential()\n",
    "# Input Layer - adding input layer and activation functions relu and weight initializer\n",
    "model6.add(Dense(512, input_shape = (1024, ), kernel_initializer = 'he_normal'))\n",
    "# Adding batch normalization\n",
    "model6.add(BatchNormalization()) \n",
    "# Adding activation function\n",
    "model6.add(Activation('relu'))\n",
    "# Adding dropout layer\n",
    "model6.add(Dropout(0.2))\n",
    "\n",
    "#Hidden Layer 1 - adding first hidden layer\n",
    "model6.add(Dense(256, kernel_initializer = 'he_normal', bias_initializer = 'he_uniform'))\n",
    "# Adding batch normalization\n",
    "model6.add(BatchNormalization())\n",
    "# Adding activation function\n",
    "model6.add(Activation('relu'))\n",
    "# Adding dropout layer\n",
    "model6.add(Dropout(0.2))\n",
    "\n",
    "#Hidden Layer 2 - adding second hidden layer\n",
    "model6.add(Dense(128, kernel_initializer = 'he_normal', bias_initializer = 'he_uniform'))\n",
    "# Adding batch normalization\n",
    "model6.add(BatchNormalization())\n",
    "# Adding activation function\n",
    "model6.add(Activation('relu'))\n",
    "# Adding dropout layer\n",
    "model6.add(Dropout(0.2))\n",
    "\n",
    "#Hidden Layer 3 - adding third hidden layer\n",
    "model6.add(Dense(64, kernel_initializer = 'he_normal', bias_initializer = 'he_uniform'))\n",
    "# Adding batch normalization\n",
    "model6.add(BatchNormalization())\n",
    "# Adding activation function\n",
    "model6.add(Activation('relu'))\n",
    "# Adding dropout layer\n",
    "model6.add(Dropout(0.2))\n",
    "\n",
    "#Hidden Layer 4 - adding fourth hidden layer\n",
    "model6.add(Dense(32, kernel_initializer = 'he_normal', bias_initializer = 'he_uniform'))\n",
    "# Adding batch normalization\n",
    "model6.add(BatchNormalization())\n",
    "# Adding activation function\n",
    "model6.add(Activation('relu'))\n",
    "# Adding dropout layer\n",
    "model6.add(Dropout(0.2))\n",
    "\n",
    "# Output Layer - adding output layer which is of 10 nodes (digits)\n",
    "model6.add(Dense(10, kernel_initializer = 'he_normal',bias_initializer = 'he_uniform'))\n",
    "# Adding activation function\n",
    "model6.add(Activation('softmax'))"
   ]
  },
  {
   "cell_type": "code",
   "execution_count": 65,
   "metadata": {
    "colab": {
     "base_uri": "https://localhost:8080/",
     "height": 941
    },
    "colab_type": "code",
    "id": "IV_EP0rf6n6A",
    "outputId": "3fdbd698-c572-4d46-ee16-acf3ae768c77"
   },
   "outputs": [
    {
     "name": "stdout",
     "output_type": "stream",
     "text": [
      "Model: \"sequential_5\"\n",
      "_________________________________________________________________\n",
      "Layer (type)                 Output Shape              Param #   \n",
      "=================================================================\n",
      "dense_20 (Dense)             (None, 512)               524800    \n",
      "_________________________________________________________________\n",
      "batch_normalization_4 (Batch (None, 512)               2048      \n",
      "_________________________________________________________________\n",
      "activation_20 (Activation)   (None, 512)               0         \n",
      "_________________________________________________________________\n",
      "dropout (Dropout)            (None, 512)               0         \n",
      "_________________________________________________________________\n",
      "dense_21 (Dense)             (None, 256)               131328    \n",
      "_________________________________________________________________\n",
      "batch_normalization_5 (Batch (None, 256)               1024      \n",
      "_________________________________________________________________\n",
      "activation_21 (Activation)   (None, 256)               0         \n",
      "_________________________________________________________________\n",
      "dropout_1 (Dropout)          (None, 256)               0         \n",
      "_________________________________________________________________\n",
      "dense_22 (Dense)             (None, 128)               32896     \n",
      "_________________________________________________________________\n",
      "batch_normalization_6 (Batch (None, 128)               512       \n",
      "_________________________________________________________________\n",
      "activation_22 (Activation)   (None, 128)               0         \n",
      "_________________________________________________________________\n",
      "dropout_2 (Dropout)          (None, 128)               0         \n",
      "_________________________________________________________________\n",
      "dense_23 (Dense)             (None, 64)                8256      \n",
      "_________________________________________________________________\n",
      "batch_normalization_7 (Batch (None, 64)                256       \n",
      "_________________________________________________________________\n",
      "activation_23 (Activation)   (None, 64)                0         \n",
      "_________________________________________________________________\n",
      "dropout_3 (Dropout)          (None, 64)                0         \n",
      "_________________________________________________________________\n",
      "dense_24 (Dense)             (None, 32)                2080      \n",
      "_________________________________________________________________\n",
      "batch_normalization_8 (Batch (None, 32)                128       \n",
      "_________________________________________________________________\n",
      "activation_24 (Activation)   (None, 32)                0         \n",
      "_________________________________________________________________\n",
      "dropout_4 (Dropout)          (None, 32)                0         \n",
      "_________________________________________________________________\n",
      "dense_25 (Dense)             (None, 10)                330       \n",
      "_________________________________________________________________\n",
      "activation_25 (Activation)   (None, 10)                0         \n",
      "=================================================================\n",
      "Total params: 703,658\n",
      "Trainable params: 701,674\n",
      "Non-trainable params: 1,984\n",
      "_________________________________________________________________\n"
     ]
    }
   ],
   "source": [
    "model6.summary()"
   ]
  },
  {
   "cell_type": "code",
   "execution_count": 66,
   "metadata": {
    "colab": {
     "base_uri": "https://localhost:8080/",
     "height": 1000
    },
    "colab_type": "code",
    "id": "E9TPI3fIZGTI",
    "outputId": "2d73d0c6-232d-405f-cbe8-11ea5d49550d"
   },
   "outputs": [
    {
     "name": "stdout",
     "output_type": "stream",
     "text": [
      "Train on 42000 samples, validate on 60000 samples\n",
      "Epoch 1/100\n",
      "42000/42000 [==============================] - 3s 71us/sample - loss: 2.6054 - acc: 0.1100 - val_loss: 2.3237 - val_acc: 0.1209\n",
      "Epoch 2/100\n",
      "42000/42000 [==============================] - 2s 55us/sample - loss: 2.4142 - acc: 0.1332 - val_loss: 2.2139 - val_acc: 0.2095\n",
      "Epoch 3/100\n",
      "42000/42000 [==============================] - 2s 56us/sample - loss: 2.3151 - acc: 0.1548 - val_loss: 2.1209 - val_acc: 0.2677\n",
      "Epoch 4/100\n",
      "42000/42000 [==============================] - 2s 56us/sample - loss: 2.2315 - acc: 0.1876 - val_loss: 2.0331 - val_acc: 0.3157\n",
      "Epoch 5/100\n",
      "42000/42000 [==============================] - 3s 60us/sample - loss: 2.1531 - acc: 0.2181 - val_loss: 1.9579 - val_acc: 0.3408\n",
      "Epoch 6/100\n",
      "42000/42000 [==============================] - 2s 56us/sample - loss: 2.0815 - acc: 0.2495 - val_loss: 1.8626 - val_acc: 0.3965\n",
      "Epoch 7/100\n",
      "42000/42000 [==============================] - 2s 56us/sample - loss: 2.0079 - acc: 0.2789 - val_loss: 1.7922 - val_acc: 0.4313\n",
      "Epoch 8/100\n",
      "42000/42000 [==============================] - 2s 56us/sample - loss: 1.9351 - acc: 0.3115 - val_loss: 1.7376 - val_acc: 0.4426\n",
      "Epoch 9/100\n",
      "42000/42000 [==============================] - 2s 56us/sample - loss: 1.8709 - acc: 0.3382 - val_loss: 1.6199 - val_acc: 0.4975\n",
      "Epoch 10/100\n",
      "42000/42000 [==============================] - 2s 56us/sample - loss: 1.8116 - acc: 0.3619 - val_loss: 1.5512 - val_acc: 0.5238\n",
      "Epoch 11/100\n",
      "42000/42000 [==============================] - 2s 54us/sample - loss: 1.7518 - acc: 0.3841 - val_loss: 1.4736 - val_acc: 0.5408\n",
      "Epoch 12/100\n",
      "42000/42000 [==============================] - 2s 55us/sample - loss: 1.7028 - acc: 0.4066 - val_loss: 1.3984 - val_acc: 0.5655\n",
      "Epoch 13/100\n",
      "42000/42000 [==============================] - 2s 59us/sample - loss: 1.6439 - acc: 0.4270 - val_loss: 1.3576 - val_acc: 0.5828\n",
      "Epoch 14/100\n",
      "42000/42000 [==============================] - 2s 55us/sample - loss: 1.5967 - acc: 0.4430 - val_loss: 1.3111 - val_acc: 0.5965\n",
      "Epoch 15/100\n",
      "42000/42000 [==============================] - 2s 56us/sample - loss: 1.5617 - acc: 0.4607 - val_loss: 1.2542 - val_acc: 0.6111\n",
      "Epoch 16/100\n",
      "42000/42000 [==============================] - 2s 55us/sample - loss: 1.5186 - acc: 0.4753 - val_loss: 1.2091 - val_acc: 0.6265\n",
      "Epoch 17/100\n",
      "42000/42000 [==============================] - 2s 57us/sample - loss: 1.4842 - acc: 0.4868 - val_loss: 1.1793 - val_acc: 0.6374\n",
      "Epoch 18/100\n",
      "42000/42000 [==============================] - 2s 55us/sample - loss: 1.4473 - acc: 0.5011 - val_loss: 1.1519 - val_acc: 0.6433\n",
      "Epoch 19/100\n",
      "42000/42000 [==============================] - 2s 54us/sample - loss: 1.4101 - acc: 0.5162 - val_loss: 1.1057 - val_acc: 0.6606\n",
      "Epoch 20/100\n",
      "42000/42000 [==============================] - 2s 55us/sample - loss: 1.3852 - acc: 0.5309 - val_loss: 1.0990 - val_acc: 0.6641\n",
      "Epoch 21/100\n",
      "42000/42000 [==============================] - 2s 55us/sample - loss: 1.3534 - acc: 0.5418 - val_loss: 1.0614 - val_acc: 0.6762\n",
      "Epoch 22/100\n",
      "42000/42000 [==============================] - 2s 55us/sample - loss: 1.3285 - acc: 0.5496 - val_loss: 1.0304 - val_acc: 0.6890\n",
      "Epoch 23/100\n",
      "42000/42000 [==============================] - 2s 57us/sample - loss: 1.2992 - acc: 0.5609 - val_loss: 1.0085 - val_acc: 0.6887\n",
      "Epoch 24/100\n",
      "42000/42000 [==============================] - 2s 57us/sample - loss: 1.2786 - acc: 0.5706 - val_loss: 0.9750 - val_acc: 0.7053\n",
      "Epoch 25/100\n",
      "42000/42000 [==============================] - 2s 57us/sample - loss: 1.2606 - acc: 0.5766 - val_loss: 0.9636 - val_acc: 0.7069\n",
      "Epoch 26/100\n",
      "42000/42000 [==============================] - 2s 58us/sample - loss: 1.2394 - acc: 0.5840 - val_loss: 0.9422 - val_acc: 0.7091\n",
      "Epoch 27/100\n",
      "42000/42000 [==============================] - 2s 55us/sample - loss: 1.2132 - acc: 0.5979 - val_loss: 0.9353 - val_acc: 0.7169\n",
      "Epoch 28/100\n",
      "42000/42000 [==============================] - 2s 56us/sample - loss: 1.1932 - acc: 0.6047 - val_loss: 0.9152 - val_acc: 0.7215\n",
      "Epoch 29/100\n",
      "42000/42000 [==============================] - 2s 57us/sample - loss: 1.1793 - acc: 0.6109 - val_loss: 0.8742 - val_acc: 0.7368\n",
      "Epoch 30/100\n",
      "42000/42000 [==============================] - 2s 56us/sample - loss: 1.1572 - acc: 0.6158 - val_loss: 0.9592 - val_acc: 0.7013\n",
      "Epoch 31/100\n",
      "42000/42000 [==============================] - 2s 56us/sample - loss: 1.1357 - acc: 0.6254 - val_loss: 0.8361 - val_acc: 0.7450\n",
      "Epoch 32/100\n",
      "42000/42000 [==============================] - 2s 56us/sample - loss: 1.1246 - acc: 0.6317 - val_loss: 0.8718 - val_acc: 0.7318\n",
      "Epoch 33/100\n",
      "42000/42000 [==============================] - 2s 56us/sample - loss: 1.1089 - acc: 0.6334 - val_loss: 0.8291 - val_acc: 0.7463\n",
      "Epoch 34/100\n",
      "42000/42000 [==============================] - 2s 55us/sample - loss: 1.0959 - acc: 0.6414 - val_loss: 0.8557 - val_acc: 0.7293\n",
      "Epoch 35/100\n",
      "42000/42000 [==============================] - 2s 56us/sample - loss: 1.0835 - acc: 0.6456 - val_loss: 0.8170 - val_acc: 0.7472\n",
      "Epoch 36/100\n",
      "42000/42000 [==============================] - 2s 56us/sample - loss: 1.0635 - acc: 0.6545 - val_loss: 0.8103 - val_acc: 0.7564\n",
      "Epoch 37/100\n",
      "42000/42000 [==============================] - 2s 55us/sample - loss: 1.0554 - acc: 0.6572 - val_loss: 0.7692 - val_acc: 0.7686\n",
      "Epoch 38/100\n",
      "42000/42000 [==============================] - 3s 63us/sample - loss: 1.0389 - acc: 0.6655 - val_loss: 0.7873 - val_acc: 0.7632\n",
      "Epoch 39/100\n",
      "42000/42000 [==============================] - 3s 60us/sample - loss: 1.0189 - acc: 0.6723 - val_loss: 0.7743 - val_acc: 0.7618\n",
      "Epoch 40/100\n",
      "42000/42000 [==============================] - 2s 57us/sample - loss: 1.0079 - acc: 0.6775 - val_loss: 0.7309 - val_acc: 0.7797\n",
      "Epoch 41/100\n",
      "42000/42000 [==============================] - 2s 57us/sample - loss: 1.0044 - acc: 0.6761 - val_loss: 0.7411 - val_acc: 0.7771\n",
      "Epoch 42/100\n",
      "42000/42000 [==============================] - 2s 57us/sample - loss: 0.9949 - acc: 0.6807 - val_loss: 0.7256 - val_acc: 0.7826\n",
      "Epoch 43/100\n",
      "42000/42000 [==============================] - 2s 56us/sample - loss: 0.9799 - acc: 0.6888 - val_loss: 0.7309 - val_acc: 0.7801\n",
      "Epoch 44/100\n",
      "42000/42000 [==============================] - 2s 56us/sample - loss: 0.9662 - acc: 0.6906 - val_loss: 0.7218 - val_acc: 0.7818\n",
      "Epoch 45/100\n",
      "42000/42000 [==============================] - 2s 54us/sample - loss: 0.9578 - acc: 0.6942 - val_loss: 0.6908 - val_acc: 0.7904\n",
      "Epoch 46/100\n",
      "42000/42000 [==============================] - 2s 54us/sample - loss: 0.9417 - acc: 0.7012 - val_loss: 0.7344 - val_acc: 0.7721\n",
      "Epoch 47/100\n",
      "42000/42000 [==============================] - 2s 56us/sample - loss: 0.9413 - acc: 0.6993 - val_loss: 0.7060 - val_acc: 0.7821\n",
      "Epoch 48/100\n",
      "42000/42000 [==============================] - 2s 59us/sample - loss: 0.9270 - acc: 0.7054 - val_loss: 0.7181 - val_acc: 0.7824\n",
      "Epoch 49/100\n",
      "42000/42000 [==============================] - 2s 55us/sample - loss: 0.9109 - acc: 0.7130 - val_loss: 0.6612 - val_acc: 0.7988\n",
      "Epoch 50/100\n",
      "42000/42000 [==============================] - 2s 59us/sample - loss: 0.9078 - acc: 0.7140 - val_loss: 0.6873 - val_acc: 0.7903\n",
      "Epoch 51/100\n",
      "42000/42000 [==============================] - 2s 55us/sample - loss: 0.8992 - acc: 0.7155 - val_loss: 0.6665 - val_acc: 0.8009\n",
      "Epoch 52/100\n",
      "42000/42000 [==============================] - 2s 55us/sample - loss: 0.8844 - acc: 0.7209 - val_loss: 0.6310 - val_acc: 0.8111\n",
      "Epoch 53/100\n",
      "42000/42000 [==============================] - 2s 56us/sample - loss: 0.8843 - acc: 0.7214 - val_loss: 0.6561 - val_acc: 0.7992\n",
      "Epoch 54/100\n",
      "42000/42000 [==============================] - 2s 58us/sample - loss: 0.8734 - acc: 0.7273 - val_loss: 0.6311 - val_acc: 0.8083\n",
      "Epoch 55/100\n",
      "42000/42000 [==============================] - 2s 59us/sample - loss: 0.8673 - acc: 0.7281 - val_loss: 0.6193 - val_acc: 0.8108\n",
      "Epoch 56/100\n",
      "42000/42000 [==============================] - 2s 58us/sample - loss: 0.8486 - acc: 0.7355 - val_loss: 0.6420 - val_acc: 0.8012\n",
      "Epoch 57/100\n",
      "42000/42000 [==============================] - 2s 57us/sample - loss: 0.8503 - acc: 0.7352 - val_loss: 0.6994 - val_acc: 0.7861\n",
      "Epoch 58/100\n",
      "42000/42000 [==============================] - 2s 56us/sample - loss: 0.8442 - acc: 0.7357 - val_loss: 0.5837 - val_acc: 0.8247\n",
      "Epoch 59/100\n",
      "42000/42000 [==============================] - 2s 55us/sample - loss: 0.8391 - acc: 0.7389 - val_loss: 0.6363 - val_acc: 0.8028\n",
      "Epoch 60/100\n",
      "42000/42000 [==============================] - 2s 54us/sample - loss: 0.8335 - acc: 0.7413 - val_loss: 0.5961 - val_acc: 0.8199\n",
      "Epoch 61/100\n",
      "42000/42000 [==============================] - 2s 55us/sample - loss: 0.8294 - acc: 0.7413 - val_loss: 0.5941 - val_acc: 0.8199\n",
      "Epoch 62/100\n",
      "42000/42000 [==============================] - 2s 56us/sample - loss: 0.8155 - acc: 0.7469 - val_loss: 0.6761 - val_acc: 0.7928\n",
      "Epoch 63/100\n",
      "42000/42000 [==============================] - 2s 57us/sample - loss: 0.8109 - acc: 0.7496 - val_loss: 0.6227 - val_acc: 0.8094\n",
      "Epoch 64/100\n",
      "42000/42000 [==============================] - 2s 55us/sample - loss: 0.8007 - acc: 0.7499 - val_loss: 0.6400 - val_acc: 0.8033\n",
      "Epoch 65/100\n",
      "42000/42000 [==============================] - 2s 55us/sample - loss: 0.8021 - acc: 0.7507 - val_loss: 0.5850 - val_acc: 0.8219\n",
      "Epoch 66/100\n",
      "42000/42000 [==============================] - 2s 55us/sample - loss: 0.7899 - acc: 0.7548 - val_loss: 0.5739 - val_acc: 0.8261\n",
      "Epoch 67/100\n",
      "42000/42000 [==============================] - 2s 54us/sample - loss: 0.7775 - acc: 0.7590 - val_loss: 0.6175 - val_acc: 0.8099\n",
      "Epoch 68/100\n",
      "42000/42000 [==============================] - 2s 54us/sample - loss: 0.7847 - acc: 0.7580 - val_loss: 0.5935 - val_acc: 0.8196\n",
      "Epoch 69/100\n",
      "42000/42000 [==============================] - 2s 55us/sample - loss: 0.7709 - acc: 0.7607 - val_loss: 0.7921 - val_acc: 0.7597\n",
      "Epoch 70/100\n",
      "42000/42000 [==============================] - 2s 56us/sample - loss: 0.7697 - acc: 0.7607 - val_loss: 0.5952 - val_acc: 0.8155\n",
      "Epoch 71/100\n",
      "42000/42000 [==============================] - 2s 56us/sample - loss: 0.7648 - acc: 0.7630 - val_loss: 0.5414 - val_acc: 0.8394\n",
      "Epoch 72/100\n",
      "42000/42000 [==============================] - 2s 55us/sample - loss: 0.7613 - acc: 0.7660 - val_loss: 0.5473 - val_acc: 0.8335\n",
      "Epoch 73/100\n",
      "42000/42000 [==============================] - 2s 57us/sample - loss: 0.7515 - acc: 0.7674 - val_loss: 0.5540 - val_acc: 0.8316\n",
      "Epoch 74/100\n",
      "42000/42000 [==============================] - 2s 58us/sample - loss: 0.7506 - acc: 0.7693 - val_loss: 0.5334 - val_acc: 0.8379\n",
      "Epoch 75/100\n",
      "42000/42000 [==============================] - 2s 58us/sample - loss: 0.7394 - acc: 0.7717 - val_loss: 0.5623 - val_acc: 0.8301\n",
      "Epoch 76/100\n",
      "42000/42000 [==============================] - 2s 56us/sample - loss: 0.7449 - acc: 0.7692 - val_loss: 0.5112 - val_acc: 0.8475\n",
      "Epoch 77/100\n",
      "42000/42000 [==============================] - 2s 55us/sample - loss: 0.7367 - acc: 0.7758 - val_loss: 0.5499 - val_acc: 0.8302\n",
      "Epoch 78/100\n",
      "42000/42000 [==============================] - 2s 54us/sample - loss: 0.7347 - acc: 0.7757 - val_loss: 0.5693 - val_acc: 0.8232\n",
      "Epoch 79/100\n",
      "42000/42000 [==============================] - 2s 57us/sample - loss: 0.7263 - acc: 0.7772 - val_loss: 0.6090 - val_acc: 0.8162\n",
      "Epoch 80/100\n",
      "42000/42000 [==============================] - 2s 55us/sample - loss: 0.7270 - acc: 0.7768 - val_loss: 0.6102 - val_acc: 0.8118\n",
      "Epoch 81/100\n",
      "42000/42000 [==============================] - 2s 59us/sample - loss: 0.7203 - acc: 0.7798 - val_loss: 0.5505 - val_acc: 0.8335\n",
      "Epoch 82/100\n",
      "42000/42000 [==============================] - 2s 55us/sample - loss: 0.7166 - acc: 0.7812 - val_loss: 0.5441 - val_acc: 0.8350\n",
      "Epoch 83/100\n",
      "42000/42000 [==============================] - 2s 56us/sample - loss: 0.7112 - acc: 0.7829 - val_loss: 0.5885 - val_acc: 0.8156\n",
      "Epoch 84/100\n",
      "42000/42000 [==============================] - 2s 54us/sample - loss: 0.7027 - acc: 0.7845 - val_loss: 0.5343 - val_acc: 0.8360\n",
      "Epoch 85/100\n",
      "42000/42000 [==============================] - 2s 57us/sample - loss: 0.6959 - acc: 0.7876 - val_loss: 0.5293 - val_acc: 0.8361\n",
      "Epoch 86/100\n",
      "42000/42000 [==============================] - 2s 54us/sample - loss: 0.6922 - acc: 0.7890 - val_loss: 0.5124 - val_acc: 0.8444\n",
      "Epoch 87/100\n",
      "42000/42000 [==============================] - 2s 53us/sample - loss: 0.6874 - acc: 0.7903 - val_loss: 0.5271 - val_acc: 0.8380\n",
      "Epoch 88/100\n",
      "42000/42000 [==============================] - 2s 53us/sample - loss: 0.6906 - acc: 0.7891 - val_loss: 0.5241 - val_acc: 0.8409\n",
      "Epoch 89/100\n",
      "42000/42000 [==============================] - 2s 58us/sample - loss: 0.6743 - acc: 0.7943 - val_loss: 0.5262 - val_acc: 0.8401\n",
      "Epoch 90/100\n",
      "42000/42000 [==============================] - 2s 55us/sample - loss: 0.6803 - acc: 0.7909 - val_loss: 0.5525 - val_acc: 0.8313\n",
      "Epoch 91/100\n",
      "42000/42000 [==============================] - 2s 55us/sample - loss: 0.6779 - acc: 0.7928 - val_loss: 0.5164 - val_acc: 0.8436\n",
      "Epoch 92/100\n",
      "42000/42000 [==============================] - 2s 55us/sample - loss: 0.6767 - acc: 0.7927 - val_loss: 0.4986 - val_acc: 0.8492\n",
      "Epoch 93/100\n",
      "42000/42000 [==============================] - 2s 56us/sample - loss: 0.6632 - acc: 0.7985 - val_loss: 0.5105 - val_acc: 0.8431\n",
      "Epoch 94/100\n",
      "42000/42000 [==============================] - 2s 56us/sample - loss: 0.6640 - acc: 0.7991 - val_loss: 0.4897 - val_acc: 0.8518\n",
      "Epoch 95/100\n",
      "42000/42000 [==============================] - 2s 55us/sample - loss: 0.6698 - acc: 0.7959 - val_loss: 0.5073 - val_acc: 0.8418\n",
      "Epoch 96/100\n",
      "42000/42000 [==============================] - 2s 54us/sample - loss: 0.6591 - acc: 0.8000 - val_loss: 0.6676 - val_acc: 0.7981\n",
      "Epoch 97/100\n",
      "42000/42000 [==============================] - 2s 55us/sample - loss: 0.6608 - acc: 0.7998 - val_loss: 0.6813 - val_acc: 0.7984\n",
      "Epoch 98/100\n",
      "42000/42000 [==============================] - 2s 56us/sample - loss: 0.6470 - acc: 0.8018 - val_loss: 0.4924 - val_acc: 0.8505\n",
      "Epoch 99/100\n",
      "42000/42000 [==============================] - 2s 56us/sample - loss: 0.6573 - acc: 0.8001 - val_loss: 0.5130 - val_acc: 0.8419\n",
      "Epoch 100/100\n",
      "42000/42000 [==============================] - 2s 57us/sample - loss: 0.6478 - acc: 0.8029 - val_loss: 0.4758 - val_acc: 0.8560\n"
     ]
    }
   ],
   "source": [
    "# compiling the neural network classifier, sgd optimizer\n",
    "sgd = optimizers.SGD(lr = 0.01)\n",
    "model6.compile(optimizer = sgd, loss = 'categorical_crossentropy', metrics = ['accuracy'])\n",
    "\n",
    "# Adding activation function - softmax for multiclass classification\n",
    "history = model6.fit(X_train, y_train, validation_data = (X_val, y_val), batch_size = 200, epochs = 100, verbose = 1)"
   ]
  },
  {
   "cell_type": "code",
   "execution_count": 67,
   "metadata": {
    "colab": {
     "base_uri": "https://localhost:8080/",
     "height": 88
    },
    "colab_type": "code",
    "id": "JpuSGV5WUUJX",
    "outputId": "880b9b5c-f1da-48a1-c91a-471fd15c30e8"
   },
   "outputs": [
    {
     "name": "stdout",
     "output_type": "stream",
     "text": [
      "NN model with dropout - sgd optimizer\n",
      "--------------------------------------------------------------------------------\n",
      "60000/60000 [==============================] - 4s 73us/sample - loss: 0.4758 - acc: 0.8560\n",
      "Validation accuracy: 85.6\n"
     ]
    }
   ],
   "source": [
    "print('NN model with dropout - sgd optimizer'); print('--'*40)\n",
    "results6 = model6.evaluate(X_val, y_val)\n",
    "print('Validation accuracy: {}'.format(round(results6[1]*100, 2), '%'))"
   ]
  },
  {
   "cell_type": "code",
   "execution_count": 68,
   "metadata": {
    "colab": {
     "base_uri": "https://localhost:8080/",
     "height": 1000
    },
    "colab_type": "code",
    "id": "658feR9fZ353",
    "outputId": "fd0788fc-79ef-4743-f378-54e217eb1095"
   },
   "outputs": [
    {
     "name": "stdout",
     "output_type": "stream",
     "text": [
      "Train on 42000 samples, validate on 60000 samples\n",
      "Epoch 1/100\n",
      "42000/42000 [==============================] - 3s 75us/sample - loss: 1.0483 - acc: 0.6722 - val_loss: 1.5585 - val_acc: 0.4775\n",
      "Epoch 2/100\n",
      "42000/42000 [==============================] - 2s 58us/sample - loss: 0.9086 - acc: 0.7194 - val_loss: 1.3776 - val_acc: 0.5337\n",
      "Epoch 3/100\n",
      "42000/42000 [==============================] - 2s 59us/sample - loss: 0.8480 - acc: 0.7403 - val_loss: 1.0837 - val_acc: 0.6561\n",
      "Epoch 4/100\n",
      "42000/42000 [==============================] - 3s 62us/sample - loss: 0.7984 - acc: 0.7575 - val_loss: 1.1266 - val_acc: 0.6141\n",
      "Epoch 5/100\n",
      "42000/42000 [==============================] - 2s 58us/sample - loss: 0.7714 - acc: 0.7648 - val_loss: 1.2182 - val_acc: 0.5853\n",
      "Epoch 6/100\n",
      "42000/42000 [==============================] - 3s 60us/sample - loss: 0.7336 - acc: 0.7772 - val_loss: 1.0197 - val_acc: 0.6763\n",
      "Epoch 7/100\n",
      "42000/42000 [==============================] - 2s 57us/sample - loss: 0.7149 - acc: 0.7826 - val_loss: 1.1113 - val_acc: 0.6252\n",
      "Epoch 8/100\n",
      "42000/42000 [==============================] - 3s 60us/sample - loss: 0.6941 - acc: 0.7898 - val_loss: 0.9268 - val_acc: 0.7488\n",
      "Epoch 9/100\n",
      "42000/42000 [==============================] - 2s 59us/sample - loss: 0.6799 - acc: 0.7955 - val_loss: 1.3377 - val_acc: 0.5425\n",
      "Epoch 10/100\n",
      "42000/42000 [==============================] - 2s 58us/sample - loss: 0.6518 - acc: 0.8032 - val_loss: 0.8574 - val_acc: 0.7210\n",
      "Epoch 11/100\n",
      "42000/42000 [==============================] - 3s 63us/sample - loss: 0.6379 - acc: 0.8080 - val_loss: 1.2970 - val_acc: 0.5655\n",
      "Epoch 12/100\n",
      "42000/42000 [==============================] - 2s 59us/sample - loss: 0.6319 - acc: 0.8079 - val_loss: 0.9649 - val_acc: 0.7167\n",
      "Epoch 13/100\n",
      "42000/42000 [==============================] - 2s 58us/sample - loss: 0.6119 - acc: 0.8154 - val_loss: 1.2310 - val_acc: 0.5864\n",
      "Epoch 14/100\n",
      "42000/42000 [==============================] - 2s 59us/sample - loss: 0.6004 - acc: 0.8187 - val_loss: 0.8527 - val_acc: 0.7557\n",
      "Epoch 15/100\n",
      "42000/42000 [==============================] - 2s 57us/sample - loss: 0.5864 - acc: 0.8228 - val_loss: 1.2250 - val_acc: 0.5955\n",
      "Epoch 16/100\n",
      "42000/42000 [==============================] - 3s 60us/sample - loss: 0.5891 - acc: 0.8222 - val_loss: 0.9921 - val_acc: 0.6742\n",
      "Epoch 17/100\n",
      "42000/42000 [==============================] - 3s 60us/sample - loss: 0.5695 - acc: 0.8276 - val_loss: 1.0117 - val_acc: 0.6686\n",
      "Epoch 18/100\n",
      "42000/42000 [==============================] - 2s 57us/sample - loss: 0.5593 - acc: 0.8319 - val_loss: 0.8131 - val_acc: 0.7855\n",
      "Epoch 19/100\n",
      "42000/42000 [==============================] - 2s 57us/sample - loss: 0.5542 - acc: 0.8344 - val_loss: 1.1605 - val_acc: 0.6218\n",
      "Epoch 20/100\n",
      "42000/42000 [==============================] - 2s 59us/sample - loss: 0.5464 - acc: 0.8354 - val_loss: 0.9370 - val_acc: 0.6977\n",
      "Epoch 21/100\n",
      "42000/42000 [==============================] - 3s 63us/sample - loss: 0.5382 - acc: 0.8398 - val_loss: 0.7988 - val_acc: 0.7521\n",
      "Epoch 22/100\n",
      "42000/42000 [==============================] - 3s 61us/sample - loss: 0.5289 - acc: 0.8412 - val_loss: 0.9359 - val_acc: 0.6881\n",
      "Epoch 23/100\n",
      "42000/42000 [==============================] - 2s 57us/sample - loss: 0.5178 - acc: 0.8447 - val_loss: 0.8229 - val_acc: 0.7292\n",
      "Epoch 24/100\n",
      "42000/42000 [==============================] - 2s 59us/sample - loss: 0.5133 - acc: 0.8455 - val_loss: 1.0570 - val_acc: 0.6738\n",
      "Epoch 25/100\n",
      "42000/42000 [==============================] - 3s 60us/sample - loss: 0.5046 - acc: 0.8481 - val_loss: 0.7736 - val_acc: 0.7540\n",
      "Epoch 26/100\n",
      "42000/42000 [==============================] - 2s 56us/sample - loss: 0.5038 - acc: 0.8490 - val_loss: 0.8040 - val_acc: 0.7357\n",
      "Epoch 27/100\n",
      "42000/42000 [==============================] - 2s 59us/sample - loss: 0.4964 - acc: 0.8505 - val_loss: 1.0628 - val_acc: 0.6397\n",
      "Epoch 28/100\n",
      "42000/42000 [==============================] - 3s 64us/sample - loss: 0.4956 - acc: 0.8516 - val_loss: 1.0051 - val_acc: 0.6658\n",
      "Epoch 29/100\n",
      "42000/42000 [==============================] - 2s 57us/sample - loss: 0.4762 - acc: 0.8577 - val_loss: 0.9671 - val_acc: 0.6847\n",
      "Epoch 30/100\n",
      "42000/42000 [==============================] - 2s 59us/sample - loss: 0.4803 - acc: 0.8545 - val_loss: 0.9152 - val_acc: 0.7100\n",
      "Epoch 31/100\n",
      "42000/42000 [==============================] - 2s 59us/sample - loss: 0.4699 - acc: 0.8582 - val_loss: 0.7210 - val_acc: 0.7599\n",
      "Epoch 32/100\n",
      "42000/42000 [==============================] - 3s 61us/sample - loss: 0.4675 - acc: 0.8602 - val_loss: 0.7587 - val_acc: 0.7574\n",
      "Epoch 33/100\n",
      "42000/42000 [==============================] - 2s 58us/sample - loss: 0.4615 - acc: 0.8604 - val_loss: 0.7750 - val_acc: 0.7526\n",
      "Epoch 34/100\n",
      "42000/42000 [==============================] - 2s 59us/sample - loss: 0.4583 - acc: 0.8603 - val_loss: 0.8713 - val_acc: 0.7247\n",
      "Epoch 35/100\n",
      "42000/42000 [==============================] - 3s 62us/sample - loss: 0.4579 - acc: 0.8632 - val_loss: 0.7976 - val_acc: 0.7362\n",
      "Epoch 36/100\n",
      "42000/42000 [==============================] - 2s 59us/sample - loss: 0.4483 - acc: 0.8645 - val_loss: 0.7683 - val_acc: 0.7563\n",
      "Epoch 37/100\n",
      "42000/42000 [==============================] - 2s 58us/sample - loss: 0.4392 - acc: 0.8675 - val_loss: 0.7715 - val_acc: 0.7536\n",
      "Epoch 38/100\n",
      "42000/42000 [==============================] - 2s 59us/sample - loss: 0.4412 - acc: 0.8669 - val_loss: 0.8139 - val_acc: 0.7285\n",
      "Epoch 39/100\n",
      "42000/42000 [==============================] - 2s 58us/sample - loss: 0.4326 - acc: 0.8701 - val_loss: 0.6890 - val_acc: 0.7885\n",
      "Epoch 40/100\n",
      "42000/42000 [==============================] - 2s 58us/sample - loss: 0.4206 - acc: 0.8730 - val_loss: 0.8502 - val_acc: 0.7258\n",
      "Epoch 41/100\n",
      "42000/42000 [==============================] - 2s 58us/sample - loss: 0.4262 - acc: 0.8727 - val_loss: 0.6450 - val_acc: 0.7916\n",
      "Epoch 42/100\n",
      "42000/42000 [==============================] - 2s 58us/sample - loss: 0.4188 - acc: 0.8747 - val_loss: 0.5895 - val_acc: 0.8100\n",
      "Epoch 43/100\n",
      "42000/42000 [==============================] - 2s 58us/sample - loss: 0.4113 - acc: 0.8745 - val_loss: 0.7252 - val_acc: 0.7735\n",
      "Epoch 44/100\n",
      "42000/42000 [==============================] - 2s 58us/sample - loss: 0.4156 - acc: 0.8732 - val_loss: 1.1334 - val_acc: 0.6520\n",
      "Epoch 45/100\n",
      "42000/42000 [==============================] - 3s 60us/sample - loss: 0.4083 - acc: 0.8765 - val_loss: 0.6479 - val_acc: 0.7949\n",
      "Epoch 46/100\n",
      "42000/42000 [==============================] - 3s 61us/sample - loss: 0.4091 - acc: 0.8773 - val_loss: 0.7718 - val_acc: 0.7485\n",
      "Epoch 47/100\n",
      "42000/42000 [==============================] - 2s 57us/sample - loss: 0.4042 - acc: 0.8782 - val_loss: 0.7290 - val_acc: 0.7611\n",
      "Epoch 48/100\n",
      "42000/42000 [==============================] - 2s 59us/sample - loss: 0.3953 - acc: 0.8811 - val_loss: 0.6882 - val_acc: 0.7742\n",
      "Epoch 49/100\n",
      "42000/42000 [==============================] - 2s 59us/sample - loss: 0.3882 - acc: 0.8829 - val_loss: 0.8469 - val_acc: 0.7211\n",
      "Epoch 50/100\n",
      "42000/42000 [==============================] - 2s 57us/sample - loss: 0.3840 - acc: 0.8865 - val_loss: 0.6448 - val_acc: 0.7923\n",
      "Epoch 51/100\n",
      "42000/42000 [==============================] - 3s 60us/sample - loss: 0.3824 - acc: 0.8846 - val_loss: 0.7429 - val_acc: 0.7559\n",
      "Epoch 52/100\n",
      "42000/42000 [==============================] - 3s 60us/sample - loss: 0.3770 - acc: 0.8862 - val_loss: 0.6541 - val_acc: 0.7947\n",
      "Epoch 53/100\n",
      "42000/42000 [==============================] - 2s 58us/sample - loss: 0.3806 - acc: 0.8847 - val_loss: 0.7222 - val_acc: 0.7739\n",
      "Epoch 54/100\n",
      "42000/42000 [==============================] - 2s 59us/sample - loss: 0.3762 - acc: 0.8865 - val_loss: 0.6802 - val_acc: 0.7789\n",
      "Epoch 55/100\n",
      "42000/42000 [==============================] - 2s 59us/sample - loss: 0.3678 - acc: 0.8901 - val_loss: 0.5836 - val_acc: 0.8153\n",
      "Epoch 56/100\n",
      "42000/42000 [==============================] - 2s 58us/sample - loss: 0.3635 - acc: 0.8897 - val_loss: 0.7012 - val_acc: 0.7723\n",
      "Epoch 57/100\n",
      "42000/42000 [==============================] - 2s 57us/sample - loss: 0.3637 - acc: 0.8902 - val_loss: 0.5000 - val_acc: 0.8412\n",
      "Epoch 58/100\n",
      "42000/42000 [==============================] - 2s 58us/sample - loss: 0.3613 - acc: 0.8913 - val_loss: 0.7912 - val_acc: 0.7452\n",
      "Epoch 59/100\n",
      "42000/42000 [==============================] - 2s 59us/sample - loss: 0.3617 - acc: 0.8900 - val_loss: 0.7234 - val_acc: 0.7732\n",
      "Epoch 60/100\n",
      "42000/42000 [==============================] - 3s 62us/sample - loss: 0.3663 - acc: 0.8914 - val_loss: 0.7428 - val_acc: 0.7548\n",
      "Epoch 61/100\n",
      "42000/42000 [==============================] - 2s 59us/sample - loss: 0.3541 - acc: 0.8931 - val_loss: 0.4835 - val_acc: 0.8514\n",
      "Epoch 62/100\n",
      "42000/42000 [==============================] - 2s 58us/sample - loss: 0.3497 - acc: 0.8946 - val_loss: 0.9309 - val_acc: 0.7019\n",
      "Epoch 63/100\n",
      "42000/42000 [==============================] - 2s 59us/sample - loss: 0.3509 - acc: 0.8935 - val_loss: 0.6272 - val_acc: 0.8097\n",
      "Epoch 64/100\n",
      "42000/42000 [==============================] - 3s 62us/sample - loss: 0.3499 - acc: 0.8937 - val_loss: 0.6166 - val_acc: 0.8006\n",
      "Epoch 65/100\n",
      "42000/42000 [==============================] - 3s 62us/sample - loss: 0.3408 - acc: 0.8973 - val_loss: 0.5850 - val_acc: 0.8120\n",
      "Epoch 66/100\n",
      "42000/42000 [==============================] - 3s 62us/sample - loss: 0.3443 - acc: 0.8963 - val_loss: 0.5576 - val_acc: 0.8225\n",
      "Epoch 67/100\n",
      "42000/42000 [==============================] - 3s 61us/sample - loss: 0.3357 - acc: 0.8967 - val_loss: 0.5877 - val_acc: 0.8114\n",
      "Epoch 68/100\n",
      "42000/42000 [==============================] - 2s 59us/sample - loss: 0.3436 - acc: 0.8964 - val_loss: 0.8347 - val_acc: 0.7368\n",
      "Epoch 69/100\n",
      "42000/42000 [==============================] - 3s 62us/sample - loss: 0.3296 - acc: 0.8996 - val_loss: 0.5776 - val_acc: 0.8166\n",
      "Epoch 70/100\n",
      "42000/42000 [==============================] - 3s 60us/sample - loss: 0.3298 - acc: 0.9002 - val_loss: 0.7237 - val_acc: 0.7641\n",
      "Epoch 71/100\n",
      "42000/42000 [==============================] - 2s 57us/sample - loss: 0.3314 - acc: 0.8998 - val_loss: 0.7168 - val_acc: 0.7644\n",
      "Epoch 72/100\n",
      "42000/42000 [==============================] - 2s 59us/sample - loss: 0.3229 - acc: 0.9024 - val_loss: 0.6814 - val_acc: 0.7736\n",
      "Epoch 73/100\n",
      "42000/42000 [==============================] - 3s 60us/sample - loss: 0.3281 - acc: 0.8997 - val_loss: 0.5008 - val_acc: 0.8452\n",
      "Epoch 74/100\n",
      "42000/42000 [==============================] - 2s 58us/sample - loss: 0.3208 - acc: 0.9037 - val_loss: 0.5365 - val_acc: 0.8301\n",
      "Epoch 75/100\n",
      "42000/42000 [==============================] - 3s 61us/sample - loss: 0.3230 - acc: 0.9022 - val_loss: 0.6199 - val_acc: 0.8008\n",
      "Epoch 76/100\n",
      "42000/42000 [==============================] - 3s 65us/sample - loss: 0.3145 - acc: 0.9044 - val_loss: 0.5949 - val_acc: 0.8097\n",
      "Epoch 77/100\n",
      "42000/42000 [==============================] - 3s 61us/sample - loss: 0.3178 - acc: 0.9046 - val_loss: 0.6488 - val_acc: 0.7916\n",
      "Epoch 78/100\n",
      "42000/42000 [==============================] - 2s 59us/sample - loss: 0.3136 - acc: 0.9048 - val_loss: 0.5016 - val_acc: 0.8428\n",
      "Epoch 79/100\n",
      "42000/42000 [==============================] - 2s 56us/sample - loss: 0.3124 - acc: 0.9065 - val_loss: 0.6061 - val_acc: 0.8069\n",
      "Epoch 80/100\n",
      "42000/42000 [==============================] - 2s 59us/sample - loss: 0.3083 - acc: 0.9069 - val_loss: 0.5600 - val_acc: 0.8191\n",
      "Epoch 81/100\n",
      "42000/42000 [==============================] - 2s 59us/sample - loss: 0.3097 - acc: 0.9063 - val_loss: 0.5729 - val_acc: 0.8153\n",
      "Epoch 82/100\n",
      "42000/42000 [==============================] - 2s 58us/sample - loss: 0.3036 - acc: 0.9097 - val_loss: 0.4584 - val_acc: 0.8562\n",
      "Epoch 83/100\n",
      "42000/42000 [==============================] - 3s 62us/sample - loss: 0.3066 - acc: 0.9073 - val_loss: 0.5082 - val_acc: 0.8383\n",
      "Epoch 84/100\n",
      "42000/42000 [==============================] - 2s 59us/sample - loss: 0.2970 - acc: 0.9109 - val_loss: 0.7692 - val_acc: 0.7568\n",
      "Epoch 85/100\n",
      "42000/42000 [==============================] - 2s 59us/sample - loss: 0.3044 - acc: 0.9073 - val_loss: 0.6092 - val_acc: 0.8047\n",
      "Epoch 86/100\n",
      "42000/42000 [==============================] - 2s 57us/sample - loss: 0.2958 - acc: 0.9103 - val_loss: 0.4906 - val_acc: 0.8454\n",
      "Epoch 87/100\n",
      "42000/42000 [==============================] - 2s 58us/sample - loss: 0.2953 - acc: 0.9108 - val_loss: 0.4721 - val_acc: 0.8436\n",
      "Epoch 88/100\n",
      "42000/42000 [==============================] - 3s 60us/sample - loss: 0.2943 - acc: 0.9105 - val_loss: 0.6549 - val_acc: 0.7836\n",
      "Epoch 89/100\n",
      "42000/42000 [==============================] - 3s 60us/sample - loss: 0.2943 - acc: 0.9100 - val_loss: 0.6813 - val_acc: 0.7893\n",
      "Epoch 90/100\n",
      "42000/42000 [==============================] - 2s 56us/sample - loss: 0.2928 - acc: 0.9110 - val_loss: 0.7207 - val_acc: 0.7628\n",
      "Epoch 91/100\n",
      "42000/42000 [==============================] - 2s 58us/sample - loss: 0.2925 - acc: 0.9115 - val_loss: 0.8072 - val_acc: 0.7591\n",
      "Epoch 92/100\n",
      "42000/42000 [==============================] - 2s 58us/sample - loss: 0.2900 - acc: 0.9117 - val_loss: 0.8668 - val_acc: 0.7243\n",
      "Epoch 93/100\n",
      "42000/42000 [==============================] - 3s 63us/sample - loss: 0.2853 - acc: 0.9132 - val_loss: 0.5118 - val_acc: 0.8381\n",
      "Epoch 94/100\n",
      "42000/42000 [==============================] - 3s 60us/sample - loss: 0.2833 - acc: 0.9132 - val_loss: 0.6805 - val_acc: 0.7838\n",
      "Epoch 95/100\n",
      "42000/42000 [==============================] - 2s 57us/sample - loss: 0.2863 - acc: 0.9134 - val_loss: 0.5222 - val_acc: 0.8342\n",
      "Epoch 96/100\n",
      "42000/42000 [==============================] - 2s 59us/sample - loss: 0.2776 - acc: 0.9172 - val_loss: 0.6173 - val_acc: 0.7970\n",
      "Epoch 97/100\n",
      "42000/42000 [==============================] - 2s 57us/sample - loss: 0.2856 - acc: 0.9139 - val_loss: 0.4914 - val_acc: 0.8441\n",
      "Epoch 98/100\n",
      "42000/42000 [==============================] - 3s 60us/sample - loss: 0.2740 - acc: 0.9163 - val_loss: 0.4306 - val_acc: 0.8653\n",
      "Epoch 99/100\n",
      "42000/42000 [==============================] - 3s 60us/sample - loss: 0.2711 - acc: 0.9185 - val_loss: 0.6014 - val_acc: 0.8122\n",
      "Epoch 100/100\n",
      "42000/42000 [==============================] - 3s 60us/sample - loss: 0.2757 - acc: 0.9154 - val_loss: 0.5253 - val_acc: 0.8297\n"
     ]
    }
   ],
   "source": [
    "# compiling the neural network classifier, adam optimizer\n",
    "adam = optimizers.Adam(lr = 0.001)\n",
    "model6.compile(optimizer = adam, loss = 'categorical_crossentropy', metrics = ['accuracy'])\n",
    "\n",
    "# Adding activation function - softmax for multiclass classification\n",
    "history = model6.fit(X_train, y_train, validation_data = (X_val, y_val), batch_size = 200, epochs = 100, verbose = 1)"
   ]
  },
  {
   "cell_type": "code",
   "execution_count": 69,
   "metadata": {
    "colab": {
     "base_uri": "https://localhost:8080/",
     "height": 88
    },
    "colab_type": "code",
    "id": "f-n63MmSN9DQ",
    "outputId": "70ff10de-e9d7-4482-b8c5-905e6d835e62"
   },
   "outputs": [
    {
     "name": "stdout",
     "output_type": "stream",
     "text": [
      "NN model with dropout - adam optimizer\n",
      "--------------------------------------------------------------------------------\n",
      "60000/60000 [==============================] - 4s 72us/sample - loss: 0.5253 - acc: 0.8297\n",
      "Validation accuracy: 82.97\n"
     ]
    }
   ],
   "source": [
    "print('NN model with dropout - adam optimizer'); print('--'*40)\n",
    "results6 = model6.evaluate(X_val, y_val)\n",
    "print('Validation accuracy: {}'.format(round(results6[1]*100, 2), '%'))"
   ]
  },
  {
   "cell_type": "markdown",
   "metadata": {
    "colab_type": "text",
    "id": "YEbd6Ynm6wmp"
   },
   "source": [
    "<a id='o8'></a>\n",
    "##### Observation 8 - Batch Normalization and Dropout\n",
    "* Didn't result in any improvement of score.\n",
    "* NN model, relu activations, SGD optimizers with weight initializers and batch normalization is still the best model.\n",
    "* Next, let's try batch normalization and dropout with adam optimizer."
   ]
  },
  {
   "cell_type": "markdown",
   "metadata": {
    "colab_type": "text",
    "id": "H-x-REsa00x7"
   },
   "source": [
    "<a id='Prediction'></a>\n",
    "### Prediction on test dataset using Model 3 - relu activations, Adam optimizers"
   ]
  },
  {
   "cell_type": "code",
   "execution_count": 70,
   "metadata": {
    "colab": {
     "base_uri": "https://localhost:8080/",
     "height": 52
    },
    "colab_type": "code",
    "id": "E3V_MkU-018D",
    "outputId": "3ccf507a-70e3-4d2c-d4b9-d55d887ef826"
   },
   "outputs": [
    {
     "name": "stdout",
     "output_type": "stream",
     "text": [
      "NN model with relu activations and changing number of activators\n",
      "--------------------------------------------------------------------------------\n"
     ]
    }
   ],
   "source": [
    "print('NN model with relu activations and changing number of activators'); print('--'*40)\n",
    "# Initialize the neural network classifier\n",
    "model3 = Sequential()\n",
    "\n",
    "# Input Layer - adding input layer and activation functions relu\n",
    "model3.add(Dense(256, input_shape = (1024, )))\n",
    "# Adding activation function\n",
    "model3.add(Activation('relu'))\n",
    "\n",
    "#Hidden Layer 1 - adding first hidden layer\n",
    "model3.add(Dense(128))\n",
    "# Adding activation function\n",
    "model3.add(Activation('relu'))\n",
    "\n",
    "#Hidden Layer 2 - Adding second hidden layer\n",
    "model3.add(Dense(64))\n",
    "# Adding activation function\n",
    "model3.add(Activation('relu'))\n",
    "\n",
    "# Output Layer - adding output layer which is of 10 nodes (digits)\n",
    "model3.add(Dense(10))\n",
    "# Adding activation function - softmax for multiclass classification\n",
    "model3.add(Activation('softmax'))"
   ]
  },
  {
   "cell_type": "code",
   "execution_count": 71,
   "metadata": {
    "colab": {
     "base_uri": "https://localhost:8080/",
     "height": 1000
    },
    "colab_type": "code",
    "id": "dFUqzgvDL0Gf",
    "outputId": "67f86db0-42f7-4cef-c552-fcc3b20b3287"
   },
   "outputs": [
    {
     "name": "stdout",
     "output_type": "stream",
     "text": [
      "Train on 42000 samples, validate on 60000 samples\n",
      "Epoch 1/100\n",
      "42000/42000 [==============================] - 2s 39us/sample - loss: 2.2450 - acc: 0.1494 - val_loss: 1.9481 - val_acc: 0.3398\n",
      "Epoch 2/100\n",
      "42000/42000 [==============================] - 1s 30us/sample - loss: 1.5502 - acc: 0.4844 - val_loss: 1.3632 - val_acc: 0.5493\n",
      "Epoch 3/100\n",
      "42000/42000 [==============================] - 1s 29us/sample - loss: 1.2826 - acc: 0.5840 - val_loss: 1.1971 - val_acc: 0.6190\n",
      "Epoch 4/100\n",
      "42000/42000 [==============================] - 1s 29us/sample - loss: 1.1456 - acc: 0.6382 - val_loss: 1.0864 - val_acc: 0.6639\n",
      "Epoch 5/100\n",
      "42000/42000 [==============================] - 1s 29us/sample - loss: 1.0588 - acc: 0.6704 - val_loss: 1.0618 - val_acc: 0.6653\n",
      "Epoch 6/100\n",
      "42000/42000 [==============================] - 1s 29us/sample - loss: 1.0035 - acc: 0.6882 - val_loss: 0.9490 - val_acc: 0.7054\n",
      "Epoch 7/100\n",
      "42000/42000 [==============================] - 1s 30us/sample - loss: 0.9524 - acc: 0.7060 - val_loss: 0.9711 - val_acc: 0.7005\n",
      "Epoch 8/100\n",
      "42000/42000 [==============================] - 1s 29us/sample - loss: 0.9115 - acc: 0.7183 - val_loss: 0.8688 - val_acc: 0.7336\n",
      "Epoch 9/100\n",
      "42000/42000 [==============================] - 1s 30us/sample - loss: 0.8822 - acc: 0.7289 - val_loss: 0.8723 - val_acc: 0.7294\n",
      "Epoch 10/100\n",
      "42000/42000 [==============================] - 1s 32us/sample - loss: 0.8557 - acc: 0.7358 - val_loss: 0.8526 - val_acc: 0.7390\n",
      "Epoch 11/100\n",
      "42000/42000 [==============================] - 1s 31us/sample - loss: 0.8294 - acc: 0.7449 - val_loss: 0.8516 - val_acc: 0.7340\n",
      "Epoch 12/100\n",
      "42000/42000 [==============================] - 1s 29us/sample - loss: 0.8123 - acc: 0.7475 - val_loss: 0.7854 - val_acc: 0.7562\n",
      "Epoch 13/100\n",
      "42000/42000 [==============================] - 1s 30us/sample - loss: 0.7956 - acc: 0.7556 - val_loss: 0.8098 - val_acc: 0.7527\n",
      "Epoch 14/100\n",
      "42000/42000 [==============================] - 1s 29us/sample - loss: 0.7827 - acc: 0.7574 - val_loss: 0.7563 - val_acc: 0.7686\n",
      "Epoch 15/100\n",
      "42000/42000 [==============================] - 1s 29us/sample - loss: 0.7541 - acc: 0.7695 - val_loss: 0.7475 - val_acc: 0.7719\n",
      "Epoch 16/100\n",
      "42000/42000 [==============================] - 1s 29us/sample - loss: 0.7410 - acc: 0.7709 - val_loss: 0.7352 - val_acc: 0.7752\n",
      "Epoch 17/100\n",
      "42000/42000 [==============================] - 1s 30us/sample - loss: 0.7287 - acc: 0.7764 - val_loss: 0.7410 - val_acc: 0.7713\n",
      "Epoch 18/100\n",
      "42000/42000 [==============================] - 1s 29us/sample - loss: 0.7150 - acc: 0.7795 - val_loss: 0.7157 - val_acc: 0.7821\n",
      "Epoch 19/100\n",
      "42000/42000 [==============================] - 1s 29us/sample - loss: 0.7025 - acc: 0.7840 - val_loss: 0.7085 - val_acc: 0.7825\n",
      "Epoch 20/100\n",
      "42000/42000 [==============================] - 1s 29us/sample - loss: 0.6890 - acc: 0.7884 - val_loss: 0.7198 - val_acc: 0.7801\n",
      "Epoch 21/100\n",
      "42000/42000 [==============================] - 1s 29us/sample - loss: 0.6722 - acc: 0.7940 - val_loss: 0.7024 - val_acc: 0.7853\n",
      "Epoch 22/100\n",
      "42000/42000 [==============================] - 1s 30us/sample - loss: 0.6632 - acc: 0.7958 - val_loss: 0.7599 - val_acc: 0.7661\n",
      "Epoch 23/100\n",
      "42000/42000 [==============================] - 1s 29us/sample - loss: 0.6577 - acc: 0.7969 - val_loss: 0.6656 - val_acc: 0.7979\n",
      "Epoch 24/100\n",
      "42000/42000 [==============================] - 1s 29us/sample - loss: 0.6323 - acc: 0.8049 - val_loss: 0.6612 - val_acc: 0.7972\n",
      "Epoch 25/100\n",
      "42000/42000 [==============================] - 1s 29us/sample - loss: 0.6246 - acc: 0.8080 - val_loss: 0.6253 - val_acc: 0.8116\n",
      "Epoch 26/100\n",
      "42000/42000 [==============================] - 1s 30us/sample - loss: 0.6241 - acc: 0.8078 - val_loss: 0.6045 - val_acc: 0.8176\n",
      "Epoch 27/100\n",
      "42000/42000 [==============================] - 1s 29us/sample - loss: 0.6085 - acc: 0.8138 - val_loss: 0.6033 - val_acc: 0.8179\n",
      "Epoch 28/100\n",
      "42000/42000 [==============================] - 1s 29us/sample - loss: 0.5945 - acc: 0.8184 - val_loss: 0.5880 - val_acc: 0.8226\n",
      "Epoch 29/100\n",
      "42000/42000 [==============================] - 1s 32us/sample - loss: 0.5854 - acc: 0.8206 - val_loss: 0.5891 - val_acc: 0.8232\n",
      "Epoch 30/100\n",
      "42000/42000 [==============================] - 1s 29us/sample - loss: 0.5819 - acc: 0.8211 - val_loss: 0.5972 - val_acc: 0.8191\n",
      "Epoch 31/100\n",
      "42000/42000 [==============================] - 1s 29us/sample - loss: 0.5704 - acc: 0.8244 - val_loss: 0.5885 - val_acc: 0.8224\n",
      "Epoch 32/100\n",
      "42000/42000 [==============================] - 1s 32us/sample - loss: 0.5728 - acc: 0.8236 - val_loss: 0.5906 - val_acc: 0.8203\n",
      "Epoch 33/100\n",
      "42000/42000 [==============================] - 1s 29us/sample - loss: 0.5547 - acc: 0.8282 - val_loss: 0.5743 - val_acc: 0.8260\n",
      "Epoch 34/100\n",
      "42000/42000 [==============================] - 1s 30us/sample - loss: 0.5482 - acc: 0.8301 - val_loss: 0.5979 - val_acc: 0.8173\n",
      "Epoch 35/100\n",
      "42000/42000 [==============================] - 1s 30us/sample - loss: 0.5397 - acc: 0.8349 - val_loss: 0.5557 - val_acc: 0.8319\n",
      "Epoch 36/100\n",
      "42000/42000 [==============================] - 1s 29us/sample - loss: 0.5328 - acc: 0.8364 - val_loss: 0.5550 - val_acc: 0.8320\n",
      "Epoch 37/100\n",
      "42000/42000 [==============================] - 1s 29us/sample - loss: 0.5315 - acc: 0.8366 - val_loss: 0.5342 - val_acc: 0.8388\n",
      "Epoch 38/100\n",
      "42000/42000 [==============================] - 1s 29us/sample - loss: 0.5190 - acc: 0.8395 - val_loss: 0.5484 - val_acc: 0.8354\n",
      "Epoch 39/100\n",
      "42000/42000 [==============================] - 1s 30us/sample - loss: 0.5133 - acc: 0.8424 - val_loss: 0.5546 - val_acc: 0.8307\n",
      "Epoch 40/100\n",
      "42000/42000 [==============================] - 1s 29us/sample - loss: 0.5245 - acc: 0.8354 - val_loss: 0.5637 - val_acc: 0.8249\n",
      "Epoch 41/100\n",
      "42000/42000 [==============================] - 1s 29us/sample - loss: 0.5054 - acc: 0.8429 - val_loss: 0.5232 - val_acc: 0.8415\n",
      "Epoch 42/100\n",
      "42000/42000 [==============================] - 1s 30us/sample - loss: 0.5053 - acc: 0.8436 - val_loss: 0.5410 - val_acc: 0.8354\n",
      "Epoch 43/100\n",
      "42000/42000 [==============================] - 1s 32us/sample - loss: 0.5047 - acc: 0.8423 - val_loss: 0.5490 - val_acc: 0.8328\n",
      "Epoch 44/100\n",
      "42000/42000 [==============================] - 1s 30us/sample - loss: 0.4911 - acc: 0.8472 - val_loss: 0.5196 - val_acc: 0.8423\n",
      "Epoch 45/100\n",
      "42000/42000 [==============================] - 1s 29us/sample - loss: 0.4943 - acc: 0.8452 - val_loss: 0.5047 - val_acc: 0.8465\n",
      "Epoch 46/100\n",
      "42000/42000 [==============================] - 1s 29us/sample - loss: 0.4728 - acc: 0.8534 - val_loss: 0.5193 - val_acc: 0.8446\n",
      "Epoch 47/100\n",
      "42000/42000 [==============================] - 1s 29us/sample - loss: 0.4728 - acc: 0.8541 - val_loss: 0.5411 - val_acc: 0.8332\n",
      "Epoch 48/100\n",
      "42000/42000 [==============================] - 1s 29us/sample - loss: 0.4783 - acc: 0.8500 - val_loss: 0.5254 - val_acc: 0.8409\n",
      "Epoch 49/100\n",
      "42000/42000 [==============================] - 1s 30us/sample - loss: 0.4661 - acc: 0.8535 - val_loss: 0.4862 - val_acc: 0.8540\n",
      "Epoch 50/100\n",
      "42000/42000 [==============================] - 1s 30us/sample - loss: 0.4548 - acc: 0.8591 - val_loss: 0.4810 - val_acc: 0.8564\n",
      "Epoch 51/100\n",
      "42000/42000 [==============================] - 1s 29us/sample - loss: 0.4544 - acc: 0.8582 - val_loss: 0.5049 - val_acc: 0.8487\n",
      "Epoch 52/100\n",
      "42000/42000 [==============================] - 1s 29us/sample - loss: 0.4551 - acc: 0.8577 - val_loss: 0.4743 - val_acc: 0.8570\n",
      "Epoch 53/100\n",
      "42000/42000 [==============================] - 1s 30us/sample - loss: 0.4540 - acc: 0.8572 - val_loss: 0.4703 - val_acc: 0.8590\n",
      "Epoch 54/100\n",
      "42000/42000 [==============================] - 1s 29us/sample - loss: 0.4449 - acc: 0.8603 - val_loss: 0.5001 - val_acc: 0.8488\n",
      "Epoch 55/100\n",
      "42000/42000 [==============================] - 1s 29us/sample - loss: 0.4390 - acc: 0.8627 - val_loss: 0.4796 - val_acc: 0.8548\n",
      "Epoch 56/100\n",
      "42000/42000 [==============================] - 1s 29us/sample - loss: 0.4353 - acc: 0.8651 - val_loss: 0.4902 - val_acc: 0.8526\n",
      "Epoch 57/100\n",
      "42000/42000 [==============================] - 1s 30us/sample - loss: 0.4404 - acc: 0.8614 - val_loss: 0.5234 - val_acc: 0.8398\n",
      "Epoch 58/100\n",
      "42000/42000 [==============================] - 1s 33us/sample - loss: 0.4391 - acc: 0.8615 - val_loss: 0.4935 - val_acc: 0.8507\n",
      "Epoch 59/100\n",
      "42000/42000 [==============================] - 1s 31us/sample - loss: 0.4318 - acc: 0.8632 - val_loss: 0.4953 - val_acc: 0.8497\n",
      "Epoch 60/100\n",
      "42000/42000 [==============================] - 1s 29us/sample - loss: 0.4265 - acc: 0.8662 - val_loss: 0.5158 - val_acc: 0.8422\n",
      "Epoch 61/100\n",
      "42000/42000 [==============================] - 1s 29us/sample - loss: 0.4205 - acc: 0.8655 - val_loss: 0.5047 - val_acc: 0.8468\n",
      "Epoch 62/100\n",
      "42000/42000 [==============================] - 1s 30us/sample - loss: 0.4207 - acc: 0.8683 - val_loss: 0.4942 - val_acc: 0.8505\n",
      "Epoch 63/100\n",
      "42000/42000 [==============================] - 1s 29us/sample - loss: 0.4136 - acc: 0.8702 - val_loss: 0.4649 - val_acc: 0.8625\n",
      "Epoch 64/100\n",
      "42000/42000 [==============================] - 1s 29us/sample - loss: 0.4127 - acc: 0.8694 - val_loss: 0.4480 - val_acc: 0.8663\n",
      "Epoch 65/100\n",
      "42000/42000 [==============================] - 1s 29us/sample - loss: 0.4169 - acc: 0.8680 - val_loss: 0.4424 - val_acc: 0.8684\n",
      "Epoch 66/100\n",
      "42000/42000 [==============================] - 1s 29us/sample - loss: 0.4004 - acc: 0.8735 - val_loss: 0.4501 - val_acc: 0.8655\n",
      "Epoch 67/100\n",
      "42000/42000 [==============================] - 1s 29us/sample - loss: 0.4046 - acc: 0.8707 - val_loss: 0.4404 - val_acc: 0.8692\n",
      "Epoch 68/100\n",
      "42000/42000 [==============================] - 1s 29us/sample - loss: 0.4078 - acc: 0.8700 - val_loss: 0.4328 - val_acc: 0.8717\n",
      "Epoch 69/100\n",
      "42000/42000 [==============================] - 1s 29us/sample - loss: 0.4011 - acc: 0.8722 - val_loss: 0.4715 - val_acc: 0.8596\n",
      "Epoch 70/100\n",
      "42000/42000 [==============================] - 1s 29us/sample - loss: 0.3974 - acc: 0.8742 - val_loss: 0.4439 - val_acc: 0.8680\n",
      "Epoch 71/100\n",
      "42000/42000 [==============================] - 1s 29us/sample - loss: 0.3904 - acc: 0.8752 - val_loss: 0.4707 - val_acc: 0.8602\n",
      "Epoch 72/100\n",
      "42000/42000 [==============================] - 1s 29us/sample - loss: 0.3903 - acc: 0.8760 - val_loss: 0.4233 - val_acc: 0.8751\n",
      "Epoch 73/100\n",
      "42000/42000 [==============================] - 1s 29us/sample - loss: 0.3848 - acc: 0.8788 - val_loss: 0.4433 - val_acc: 0.8659\n",
      "Epoch 74/100\n",
      "42000/42000 [==============================] - 1s 29us/sample - loss: 0.3820 - acc: 0.8785 - val_loss: 0.4359 - val_acc: 0.8703\n",
      "Epoch 75/100\n",
      "42000/42000 [==============================] - 1s 29us/sample - loss: 0.3744 - acc: 0.8806 - val_loss: 0.4497 - val_acc: 0.8642\n",
      "Epoch 76/100\n",
      "42000/42000 [==============================] - 1s 30us/sample - loss: 0.3889 - acc: 0.8754 - val_loss: 0.4522 - val_acc: 0.8640\n",
      "Epoch 77/100\n",
      "42000/42000 [==============================] - 1s 32us/sample - loss: 0.3780 - acc: 0.8807 - val_loss: 0.5019 - val_acc: 0.8474\n",
      "Epoch 78/100\n",
      "42000/42000 [==============================] - 1s 29us/sample - loss: 0.3741 - acc: 0.8813 - val_loss: 0.4329 - val_acc: 0.8713\n",
      "Epoch 79/100\n",
      "42000/42000 [==============================] - 1s 29us/sample - loss: 0.3686 - acc: 0.8828 - val_loss: 0.4347 - val_acc: 0.8714\n",
      "Epoch 80/100\n",
      "42000/42000 [==============================] - 1s 32us/sample - loss: 0.3624 - acc: 0.8852 - val_loss: 0.4339 - val_acc: 0.8716\n",
      "Epoch 81/100\n",
      "42000/42000 [==============================] - 1s 30us/sample - loss: 0.3730 - acc: 0.8813 - val_loss: 0.4617 - val_acc: 0.8615\n",
      "Epoch 82/100\n",
      "42000/42000 [==============================] - 1s 29us/sample - loss: 0.3621 - acc: 0.8837 - val_loss: 0.4089 - val_acc: 0.8799\n",
      "Epoch 83/100\n",
      "42000/42000 [==============================] - 1s 30us/sample - loss: 0.3633 - acc: 0.8843 - val_loss: 0.4048 - val_acc: 0.8813\n",
      "Epoch 84/100\n",
      "42000/42000 [==============================] - 1s 29us/sample - loss: 0.3598 - acc: 0.8852 - val_loss: 0.4693 - val_acc: 0.8583\n",
      "Epoch 85/100\n",
      "42000/42000 [==============================] - 1s 29us/sample - loss: 0.3580 - acc: 0.8858 - val_loss: 0.4362 - val_acc: 0.8702\n",
      "Epoch 86/100\n",
      "42000/42000 [==============================] - 1s 29us/sample - loss: 0.3572 - acc: 0.8849 - val_loss: 0.4603 - val_acc: 0.8621\n",
      "Epoch 87/100\n",
      "42000/42000 [==============================] - 1s 30us/sample - loss: 0.3524 - acc: 0.8885 - val_loss: 0.4158 - val_acc: 0.8780\n",
      "Epoch 88/100\n",
      "42000/42000 [==============================] - 1s 29us/sample - loss: 0.3495 - acc: 0.8895 - val_loss: 0.4046 - val_acc: 0.8816\n",
      "Epoch 89/100\n",
      "42000/42000 [==============================] - 1s 29us/sample - loss: 0.3430 - acc: 0.8909 - val_loss: 0.4195 - val_acc: 0.8769\n",
      "Epoch 90/100\n",
      "42000/42000 [==============================] - 1s 29us/sample - loss: 0.3433 - acc: 0.8904 - val_loss: 0.4739 - val_acc: 0.8565\n",
      "Epoch 91/100\n",
      "42000/42000 [==============================] - 1s 32us/sample - loss: 0.3410 - acc: 0.8909 - val_loss: 0.4222 - val_acc: 0.8758\n",
      "Epoch 92/100\n",
      "42000/42000 [==============================] - 1s 30us/sample - loss: 0.3433 - acc: 0.8912 - val_loss: 0.4033 - val_acc: 0.8818\n",
      "Epoch 93/100\n",
      "42000/42000 [==============================] - 1s 30us/sample - loss: 0.3392 - acc: 0.8909 - val_loss: 0.4610 - val_acc: 0.8605\n",
      "Epoch 94/100\n",
      "42000/42000 [==============================] - 1s 28us/sample - loss: 0.3302 - acc: 0.8946 - val_loss: 0.3992 - val_acc: 0.8845\n",
      "Epoch 95/100\n",
      "42000/42000 [==============================] - 1s 29us/sample - loss: 0.3377 - acc: 0.8926 - val_loss: 0.4248 - val_acc: 0.8755\n",
      "Epoch 96/100\n",
      "42000/42000 [==============================] - 1s 29us/sample - loss: 0.3321 - acc: 0.8932 - val_loss: 0.4212 - val_acc: 0.8764\n",
      "Epoch 97/100\n",
      "42000/42000 [==============================] - 1s 29us/sample - loss: 0.3279 - acc: 0.8958 - val_loss: 0.4042 - val_acc: 0.8802\n",
      "Epoch 98/100\n",
      "42000/42000 [==============================] - 1s 29us/sample - loss: 0.3348 - acc: 0.8917 - val_loss: 0.3966 - val_acc: 0.8849\n",
      "Epoch 99/100\n",
      "42000/42000 [==============================] - 1s 29us/sample - loss: 0.3188 - acc: 0.8980 - val_loss: 0.4341 - val_acc: 0.8735\n",
      "Epoch 100/100\n",
      "42000/42000 [==============================] - 1s 30us/sample - loss: 0.3311 - acc: 0.8932 - val_loss: 0.3852 - val_acc: 0.8892\n"
     ]
    }
   ],
   "source": [
    "# compiling the neural network classifier, adam optimizer\n",
    "adam = optimizers.Adam(lr = 0.001)\n",
    "model3.compile(optimizer = adam, loss = 'categorical_crossentropy', metrics = ['accuracy'])\n",
    "\n",
    "# Fitting the neural network for training\n",
    "history = model3.fit(X_train, y_train, validation_data = (X_val, y_val), batch_size = 200, epochs = 100, verbose = 1)"
   ]
  },
  {
   "cell_type": "code",
   "execution_count": 72,
   "metadata": {
    "colab": {
     "base_uri": "https://localhost:8080/",
     "height": 88
    },
    "colab_type": "code",
    "id": "2ao6j_Dl1I9j",
    "outputId": "2197768b-98ca-41a3-f096-158282390297"
   },
   "outputs": [
    {
     "name": "stdout",
     "output_type": "stream",
     "text": [
      "NN with batch normalization\n",
      "--------------------------------------------------------------------------------\n",
      "60000/60000 [==============================] - 3s 53us/sample - loss: 0.3852 - acc: 0.8892\n",
      "Validation accuracy: 88.92\n"
     ]
    }
   ],
   "source": [
    "print('NN with batch normalization'); print('--'*40)\n",
    "results3 = model3.evaluate(X_val, y_val)\n",
    "print('Validation accuracy: {}'.format(round(results3[1]*100, 2), '%'))"
   ]
  },
  {
   "cell_type": "code",
   "execution_count": 73,
   "metadata": {
    "colab": {
     "base_uri": "https://localhost:8080/",
     "height": 88
    },
    "colab_type": "code",
    "id": "2VfnxZqX1Mnm",
    "outputId": "f0a94d2e-950b-45ee-d164-5e7d93fc45a6"
   },
   "outputs": [
    {
     "name": "stdout",
     "output_type": "stream",
     "text": [
      "Testing the model on test dataset\n",
      "18000/18000 [==============================] - 1s 52us/sample - loss: 0.6316 - acc: 0.8357\n",
      "Test loss : 0.6316036958562004\n",
      "Test accuracy : 0.8357222\n"
     ]
    }
   ],
   "source": [
    "print('Testing the model on test dataset')\n",
    "predictions = model3.predict_classes(X_test)\n",
    "score = model3.evaluate(X_test, y_test)\n",
    "print('Test loss :', score[0])\n",
    "print('Test accuracy :', score[1])"
   ]
  },
  {
   "cell_type": "code",
   "execution_count": 74,
   "metadata": {
    "colab": {
     "base_uri": "https://localhost:8080/",
     "height": 355
    },
    "colab_type": "code",
    "id": "Zg8aVLVu1rkI",
    "outputId": "04585158-57c9-4abb-d75f-3e1a0bcbd051"
   },
   "outputs": [
    {
     "name": "stdout",
     "output_type": "stream",
     "text": [
      "Classification Report\n",
      "--------------------------------------------------------------------------------\n",
      "              precision    recall  f1-score   support\n",
      "\n",
      "           0       0.84      0.88      0.86      1814\n",
      "           1       0.85      0.86      0.86      1828\n",
      "           2       0.86      0.85      0.86      1803\n",
      "           3       0.79      0.79      0.79      1719\n",
      "           4       0.86      0.88      0.87      1812\n",
      "           5       0.76      0.83      0.80      1768\n",
      "           6       0.83      0.81      0.82      1832\n",
      "           7       0.91      0.85      0.88      1808\n",
      "           8       0.80      0.79      0.80      1812\n",
      "           9       0.84      0.82      0.83      1804\n",
      "\n",
      "    accuracy                           0.84     18000\n",
      "   macro avg       0.84      0.84      0.84     18000\n",
      "weighted avg       0.84      0.84      0.84     18000\n",
      "\n"
     ]
    }
   ],
   "source": [
    "print('Classification Report'); print('--'*40)\n",
    "print(classification_report(y_test_o, predictions))"
   ]
  },
  {
   "cell_type": "code",
   "execution_count": 75,
   "metadata": {
    "colab": {
     "base_uri": "https://localhost:8080/",
     "height": 472
    },
    "colab_type": "code",
    "id": "rTLDrm8u3KR0",
    "outputId": "feec8cdb-8b61-4280-f286-c5cfd29f4b68"
   },
   "outputs": [
    {
     "name": "stdout",
     "output_type": "stream",
     "text": [
      "Visualizing the confusion matrix\n"
     ]
    },
    {
     "data": {
      "text/plain": [
       "<matplotlib.axes._subplots.AxesSubplot at 0x7f7fa60fd0b8>"
      ]
     },
     "execution_count": 75,
     "metadata": {
      "tags": []
     },
     "output_type": "execute_result"
    },
    {
     "data": {
      "image/png": "[encoded data removed]",
      "text/plain": [
       "<Figure size 1080x518.4 with 2 Axes>"
      ]
     },
     "metadata": {
      "tags": []
     },
     "output_type": "display_data"
    }
   ],
   "source": [
    "print('Visualizing the confusion matrix')\n",
    "plt.figure(figsize = (15, 7.2))\n",
    "sns.heatmap(confusion_matrix(y_test_o, predictions), annot = True)"
   ]
  },
  {
   "cell_type": "code",
   "execution_count": 76,
   "metadata": {
    "colab": {
     "base_uri": "https://localhost:8080/",
     "height": 575
    },
    "colab_type": "code",
    "id": "91DnbyzFQCVg",
    "outputId": "82c28e5f-8009-4655-a542-d567a4c0d2d7"
   },
   "outputs": [
    {
     "data": {
      "image/png": "[encoded data removed]",
      "text/plain": [
       "<Figure size 432x288 with 1 Axes>"
      ]
     },
     "metadata": {
      "tags": []
     },
     "output_type": "display_data"
    },
    {
     "data": {
      "image/png": "[encoded data removed]",
      "text/plain": [
       "<Figure size 432x288 with 1 Axes>"
      ]
     },
     "metadata": {
      "tags": []
     },
     "output_type": "display_data"
    }
   ],
   "source": [
    "# summarize history for accuracy\n",
    "plt.plot(history.history['acc'])\n",
    "plt.plot(history.history['val_acc'])\n",
    "plt.title('Model3 Accuracy')\n",
    "plt.ylabel('accuracy')\n",
    "plt.xlabel('epoch')\n",
    "plt.legend(['Train', 'Validation'], loc = 'upper left')\n",
    "plt.show()\n",
    "# summarize history for loss\n",
    "plt.plot(history.history['loss'])\n",
    "plt.plot(history.history['val_loss'])\n",
    "plt.title('Model3 Loss')\n",
    "plt.ylabel('loss')\n",
    "plt.xlabel('epoch')\n",
    "plt.legend(['Train', 'Validation'], loc = 'upper left')\n",
    "plt.show()"
   ]
  },
  {
   "cell_type": "code",
   "execution_count": 77,
   "metadata": {
    "colab": {
     "base_uri": "https://localhost:8080/",
     "height": 35
    },
    "colab_type": "code",
    "id": "rX4gZs4YB3Kc",
    "outputId": "43ddc14c-8b2e-4de5-e0e0-e44017d97147"
   },
   "outputs": [
    {
     "data": {
      "text/plain": [
       "9"
      ]
     },
     "execution_count": 77,
     "metadata": {
      "tags": []
     },
     "output_type": "execute_result"
    }
   ],
   "source": [
    "model3.predict_classes(X_test)[5]"
   ]
  },
  {
   "cell_type": "code",
   "execution_count": 78,
   "metadata": {
    "colab": {
     "base_uri": "https://localhost:8080/",
     "height": 280
    },
    "colab_type": "code",
    "id": "8YADP-ZLB7HA",
    "outputId": "72b128ca-23b2-47cd-ed8b-c96c1967fc36"
   },
   "outputs": [
    {
     "data": {
      "text/plain": [
       "<matplotlib.image.AxesImage at 0x7f7f9f3c72b0>"
      ]
     },
     "execution_count": 78,
     "metadata": {
      "tags": []
     },
     "output_type": "execute_result"
    },
    {
     "data": {
      "image/png": "[encoded data removed]",
      "text/plain": [
       "<Figure size 432x288 with 1 Axes>"
      ]
     },
     "metadata": {
      "tags": []
     },
     "output_type": "display_data"
    }
   ],
   "source": [
    "#Showing the image\n",
    "plt.imshow(X_test[20].reshape(32, 32), cmap = 'gray')"
   ]
  },
  {
   "cell_type": "code",
   "execution_count": 79,
   "metadata": {
    "colab": {
     "base_uri": "https://localhost:8080/",
     "height": 35
    },
    "colab_type": "code",
    "id": "ZnPW2DeGCBf8",
    "outputId": "750a7e76-cbe8-4c4a-b03d-b64ae030cc8e"
   },
   "outputs": [
    {
     "data": {
      "text/plain": [
       "0"
      ]
     },
     "execution_count": 79,
     "metadata": {
      "tags": []
     },
     "output_type": "execute_result"
    }
   ],
   "source": [
    "model3.predict_classes(X_test)[20]"
   ]
  },
  {
   "cell_type": "code",
   "execution_count": 82,
   "metadata": {
    "colab": {
     "base_uri": "https://localhost:8080/",
     "height": 280
    },
    "colab_type": "code",
    "id": "SNYI3rhrCEVv",
    "outputId": "9a7b29ec-738a-4dcf-bc8a-8cab43f49509"
   },
   "outputs": [
    {
     "data": {
      "text/plain": [
       "<matplotlib.image.AxesImage at 0x7f7f9f2fd198>"
      ]
     },
     "execution_count": 82,
     "metadata": {
      "tags": []
     },
     "output_type": "execute_result"
    },
    {
     "data": {
      "image/png": "[encoded data removed]",
      "text/plain": [
       "<Figure size 432x288 with 1 Axes>"
      ]
     },
     "metadata": {
      "tags": []
     },
     "output_type": "display_data"
    }
   ],
   "source": [
    "plt.imshow(X_test[10].reshape(32, 32), cmap = 'gray')"
   ]
  },
  {
   "cell_type": "code",
   "execution_count": 83,
   "metadata": {
    "colab": {
     "base_uri": "https://localhost:8080/",
     "height": 35
    },
    "colab_type": "code",
    "id": "liZmu-GVCPoV",
    "outputId": "795f01e0-a6a2-4cec-8a9f-b4e0d55b3f49"
   },
   "outputs": [
    {
     "data": {
      "text/plain": [
       "9"
      ]
     },
     "execution_count": 83,
     "metadata": {
      "tags": []
     },
     "output_type": "execute_result"
    }
   ],
   "source": [
    "model3.predict_classes(X_test)[10]"
   ]
  },
  {
   "cell_type": "markdown",
   "metadata": {
    "colab_type": "text",
    "id": "k-nx-k4eMKAl"
   },
   "source": [
    "<a id='Conclusion'></a>\n",
    "### Conclusion\n",
    "Evaluated the accuracy using two methods i.e. baby sitting the NN and NN through API. Followed all the required steps starting with loading the datasets to performing hyperparameter optimization and running a finer search by using a finer range. Explored different options in optimizers, number of activators, learning rate and activation methods in NN through API. Found that baby sitting process achieved the best accuracy of 21% using hyper parameter optimization. It might have been further improved but that's the trade off vs time taken to run the script. NN through API method achieved best accuracy of 90% on validation set. Also printed the classification report, visualized the confusion matrix and summarized history for accuracy and loss."
   ]
  }
 ],
 "metadata": {
  "accelerator": "GPU",
  "colab": {
   "collapsed_sections": [],
   "name": "07_Neural Network.ipynb",
   "provenance": []
  },
  "kernelspec": {
   "display_name": "Python 3",
   "language": "python",
   "name": "python3"
  },
  "language_info": {
   "codemirror_mode": {
    "name": "ipython",
    "version": 3
   },
   "file_extension": ".py",
   "mimetype": "text/x-python",
   "name": "python",
   "nbconvert_exporter": "python",
   "pygments_lexer": "ipython3",
   "version": "3.7.6"
  }
 },
 "nbformat": 4,
 "nbformat_minor": 1
}
